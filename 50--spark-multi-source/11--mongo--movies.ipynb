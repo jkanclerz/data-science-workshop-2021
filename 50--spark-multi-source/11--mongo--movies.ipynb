{
  "cells": [
    {
      "cell_type": "markdown",
      "metadata": {
        "id": "lr67qqsr9ZzV"
      },
      "source": [
        "[![Open In Colab](https://colab.research.google.com/assets/colab-badge.svg)](https://githubtocolab.com/jkanclerz/data-science-workshop-2021/blob/main/50--spark-multi-source/11--mongo--movies.ipynb)\n",
        "\n"
      ]
    },
    {
      "cell_type": "code",
      "execution_count": 1,
      "metadata": {
        "colab": {
          "base_uri": "https://localhost:8080/"
        },
        "id": "CyzQ0Fs6X0u9",
        "outputId": "0ee10a45-b5b3-4798-b0c7-052059ac7c42"
      },
      "outputs": [
        {
          "output_type": "stream",
          "name": "stdout",
          "text": [
            "--2022-01-14 14:26:18--  https://dlcdn.apache.org/spark/spark-3.1.2/spark-3.1.2-bin-hadoop3.2.tgz\n",
            "Resolving dlcdn.apache.org (dlcdn.apache.org)... 151.101.2.132, 2a04:4e42::644\n",
            "Connecting to dlcdn.apache.org (dlcdn.apache.org)|151.101.2.132|:443... connected.\n",
            "HTTP request sent, awaiting response... 200 OK\n",
            "Length: 228834641 (218M) [application/x-gzip]\n",
            "Saving to: ‘spark-3.1.2-bin-hadoop3.2.tgz’\n",
            "\n",
            "spark-3.1.2-bin-had 100%[===================>] 218.23M   254MB/s    in 0.9s    \n",
            "\n",
            "2022-01-14 14:26:32 (254 MB/s) - ‘spark-3.1.2-bin-hadoop3.2.tgz’ saved [228834641/228834641]\n",
            "\n"
          ]
        }
      ],
      "source": [
        "!apt-get install openjdk-8-jdk-headless -qq > /dev/null\n",
        "!wget https://dlcdn.apache.org/spark/spark-3.1.2/spark-3.1.2-bin-hadoop3.2.tgz -O spark-3.1.2-bin-hadoop3.2.tgz\n",
        "!tar xf spark-3.1.2-bin-hadoop3.2.tgz"
      ]
    },
    {
      "cell_type": "code",
      "execution_count": 2,
      "metadata": {
        "colab": {
          "base_uri": "https://localhost:8080/"
        },
        "id": "WKMyiDrwX4Dr",
        "outputId": "9559e2cb-de88-47bd-ac79-b574ac08bb49"
      },
      "outputs": [
        {
          "output_type": "stream",
          "name": "stdout",
          "text": [
            "\u001b[K     |████████████████████████████████| 281.3 MB 38 kB/s \n",
            "\u001b[K     |████████████████████████████████| 198 kB 17.4 MB/s \n",
            "\u001b[?25h  Building wheel for pyspark (setup.py) ... \u001b[?25l\u001b[?25hdone\n"
          ]
        }
      ],
      "source": [
        "!pip install -q pyspark findspark"
      ]
    },
    {
      "cell_type": "code",
      "execution_count": 3,
      "metadata": {
        "id": "y2fMp3iBX47K"
      },
      "outputs": [],
      "source": [
        "import os\n",
        "os.environ[\"JAVA_HOME\"] = \"/usr/lib/jvm/java-8-openjdk-amd64\"\n",
        "os.environ[\"SPARK_HOME\"] = \"/content/spark-3.1.2-bin-hadoop3.2\""
      ]
    },
    {
      "cell_type": "code",
      "execution_count": 4,
      "metadata": {
        "colab": {
          "base_uri": "https://localhost:8080/"
        },
        "id": "hajj_2sdX5uB",
        "outputId": "d14c5bbe-fafa-4143-b44b-9b15a1de290a"
      },
      "outputs": [
        {
          "output_type": "stream",
          "name": "stdout",
          "text": [
            "Reading package lists... Done\n",
            "Building dependency tree       \n",
            "Reading state information... Done\n",
            "The following additional packages will be installed:\n",
            "  libpcap0.8 libstemmer0d libyaml-cpp0.5v5 mongo-tools mongodb-clients\n",
            "  mongodb-server mongodb-server-core\n",
            "The following NEW packages will be installed:\n",
            "  libpcap0.8 libstemmer0d libyaml-cpp0.5v5 mongo-tools mongodb mongodb-clients\n",
            "  mongodb-server mongodb-server-core\n",
            "0 upgraded, 8 newly installed, 0 to remove and 37 not upgraded.\n",
            "Need to get 53.1 MB of archives.\n",
            "After this operation, 215 MB of additional disk space will be used.\n",
            "Get:1 http://archive.ubuntu.com/ubuntu bionic-updates/main amd64 libpcap0.8 amd64 1.8.1-6ubuntu1.18.04.2 [118 kB]\n",
            "Get:2 http://archive.ubuntu.com/ubuntu bionic/main amd64 libstemmer0d amd64 0+svn585-1build1 [62.5 kB]\n",
            "Get:3 http://archive.ubuntu.com/ubuntu bionic/universe amd64 libyaml-cpp0.5v5 amd64 0.5.2-4ubuntu1 [150 kB]\n",
            "Get:4 http://archive.ubuntu.com/ubuntu bionic/universe amd64 mongo-tools amd64 3.6.3-0ubuntu1 [12.3 MB]\n",
            "Get:5 http://archive.ubuntu.com/ubuntu bionic-updates/universe amd64 mongodb-clients amd64 1:3.6.3-0ubuntu1.4 [20.2 MB]\n",
            "Get:6 http://archive.ubuntu.com/ubuntu bionic-updates/universe amd64 mongodb-server-core amd64 1:3.6.3-0ubuntu1.4 [20.3 MB]\n",
            "Get:7 http://archive.ubuntu.com/ubuntu bionic-updates/universe amd64 mongodb-server all 1:3.6.3-0ubuntu1.4 [12.6 kB]\n",
            "Get:8 http://archive.ubuntu.com/ubuntu bionic-updates/universe amd64 mongodb amd64 1:3.6.3-0ubuntu1.4 [10.2 kB]\n",
            "Fetched 53.1 MB in 5s (11.5 MB/s)\n",
            "debconf: unable to initialize frontend: Dialog\n",
            "debconf: (No usable dialog-like program is installed, so the dialog based frontend cannot be used. at /usr/share/perl5/Debconf/FrontEnd/Dialog.pm line 76, <> line 8.)\n",
            "debconf: falling back to frontend: Readline\n",
            "debconf: unable to initialize frontend: Readline\n",
            "debconf: (This frontend requires a controlling tty.)\n",
            "debconf: falling back to frontend: Teletype\n",
            "dpkg-preconfigure: unable to re-open stdin: \n",
            "Selecting previously unselected package libpcap0.8:amd64.\n",
            "(Reading database ... 155572 files and directories currently installed.)\n",
            "Preparing to unpack .../0-libpcap0.8_1.8.1-6ubuntu1.18.04.2_amd64.deb ...\n",
            "Unpacking libpcap0.8:amd64 (1.8.1-6ubuntu1.18.04.2) ...\n",
            "Selecting previously unselected package libstemmer0d:amd64.\n",
            "Preparing to unpack .../1-libstemmer0d_0+svn585-1build1_amd64.deb ...\n",
            "Unpacking libstemmer0d:amd64 (0+svn585-1build1) ...\n",
            "Selecting previously unselected package libyaml-cpp0.5v5:amd64.\n",
            "Preparing to unpack .../2-libyaml-cpp0.5v5_0.5.2-4ubuntu1_amd64.deb ...\n",
            "Unpacking libyaml-cpp0.5v5:amd64 (0.5.2-4ubuntu1) ...\n",
            "Selecting previously unselected package mongo-tools.\n",
            "Preparing to unpack .../3-mongo-tools_3.6.3-0ubuntu1_amd64.deb ...\n",
            "Unpacking mongo-tools (3.6.3-0ubuntu1) ...\n",
            "Selecting previously unselected package mongodb-clients.\n",
            "Preparing to unpack .../4-mongodb-clients_1%3a3.6.3-0ubuntu1.4_amd64.deb ...\n",
            "Unpacking mongodb-clients (1:3.6.3-0ubuntu1.4) ...\n",
            "Selecting previously unselected package mongodb-server-core.\n",
            "Preparing to unpack .../5-mongodb-server-core_1%3a3.6.3-0ubuntu1.4_amd64.deb ...\n",
            "Unpacking mongodb-server-core (1:3.6.3-0ubuntu1.4) ...\n",
            "Selecting previously unselected package mongodb-server.\n",
            "Preparing to unpack .../6-mongodb-server_1%3a3.6.3-0ubuntu1.4_all.deb ...\n",
            "Unpacking mongodb-server (1:3.6.3-0ubuntu1.4) ...\n",
            "Selecting previously unselected package mongodb.\n",
            "Preparing to unpack .../7-mongodb_1%3a3.6.3-0ubuntu1.4_amd64.deb ...\n",
            "Unpacking mongodb (1:3.6.3-0ubuntu1.4) ...\n",
            "Setting up libstemmer0d:amd64 (0+svn585-1build1) ...\n",
            "Setting up libyaml-cpp0.5v5:amd64 (0.5.2-4ubuntu1) ...\n",
            "Setting up mongodb-server-core (1:3.6.3-0ubuntu1.4) ...\n",
            "Setting up libpcap0.8:amd64 (1.8.1-6ubuntu1.18.04.2) ...\n",
            "Setting up mongodb-clients (1:3.6.3-0ubuntu1.4) ...\n",
            "Setting up mongodb-server (1:3.6.3-0ubuntu1.4) ...\n",
            "invoke-rc.d: could not determine current runlevel\n",
            "invoke-rc.d: policy-rc.d denied execution of start.\n",
            "Created symlink /etc/systemd/system/multi-user.target.wants/mongodb.service → /lib/systemd/system/mongodb.service.\n",
            "Setting up mongo-tools (3.6.3-0ubuntu1) ...\n",
            "Setting up mongodb (1:3.6.3-0ubuntu1.4) ...\n",
            "Processing triggers for systemd (237-3ubuntu10.53) ...\n",
            "Processing triggers for man-db (2.8.3-2ubuntu0.1) ...\n",
            "Processing triggers for libc-bin (2.27-3ubuntu1.3) ...\n",
            "/sbin/ldconfig.real: /usr/local/lib/python3.7/dist-packages/ideep4py/lib/libmkldnn.so.0 is not a symbolic link\n",
            "\n",
            " * Starting database mongodb\n",
            "   ...done.\n"
          ]
        }
      ],
      "source": [
        "!sudo apt install mongodb\n",
        "!sudo service mongodb start"
      ]
    },
    {
      "cell_type": "code",
      "source": [
        "!mkdir -p var\n",
        "!wget https://github.com/SouthbankSoftware/dbkoda-data/raw/master/SampleCollections/dump/SampleCollections/video_movies.bson -O var/video_movies.bson\n",
        "!wget https://github.com/SouthbankSoftware/dbkoda-data/raw/master/SampleCollections/dump/SampleCollections/video_movieDetails.bson -O var/video_movieDetails.bson\n",
        "!mongorestore --db datascience --drop --collection movies var/video_movieDetails.bson\n",
        "!mongorestore --db datascience --drop --collection films var/video_movies.bson"
      ],
      "metadata": {
        "colab": {
          "base_uri": "https://localhost:8080/"
        },
        "id": "qCLJAX87-4UU",
        "outputId": "2b31558d-391f-4c7b-9067-1ec24e5e2778"
      },
      "execution_count": 11,
      "outputs": [
        {
          "output_type": "stream",
          "name": "stdout",
          "text": [
            "--2022-01-14 14:29:15--  https://github.com/SouthbankSoftware/dbkoda-data/raw/master/SampleCollections/dump/SampleCollections/video_movies.bson\n",
            "Resolving github.com (github.com)... 140.82.112.4\n",
            "Connecting to github.com (github.com)|140.82.112.4|:443... connected.\n",
            "HTTP request sent, awaiting response... 302 Found\n",
            "Location: https://raw.githubusercontent.com/SouthbankSoftware/dbkoda-data/master/SampleCollections/dump/SampleCollections/video_movies.bson [following]\n",
            "--2022-01-14 14:29:15--  https://raw.githubusercontent.com/SouthbankSoftware/dbkoda-data/master/SampleCollections/dump/SampleCollections/video_movies.bson\n",
            "Resolving raw.githubusercontent.com (raw.githubusercontent.com)... 185.199.109.133, 185.199.108.133, 185.199.111.133, ...\n",
            "Connecting to raw.githubusercontent.com (raw.githubusercontent.com)|185.199.109.133|:443... connected.\n",
            "HTTP request sent, awaiting response... 200 OK\n",
            "Length: 343355 (335K) [application/octet-stream]\n",
            "Saving to: ‘var/video_movies.bson’\n",
            "\n",
            "var/video_movies.bs 100%[===================>] 335.31K  --.-KB/s    in 0.02s   \n",
            "\n",
            "2022-01-14 14:29:15 (14.4 MB/s) - ‘var/video_movies.bson’ saved [343355/343355]\n",
            "\n",
            "--2022-01-14 14:29:15--  https://github.com/SouthbankSoftware/dbkoda-data/raw/master/SampleCollections/dump/SampleCollections/video_movieDetails.bson\n",
            "Resolving github.com (github.com)... 140.82.112.4\n",
            "Connecting to github.com (github.com)|140.82.112.4|:443... connected.\n",
            "HTTP request sent, awaiting response... 302 Found\n",
            "Location: https://raw.githubusercontent.com/SouthbankSoftware/dbkoda-data/master/SampleCollections/dump/SampleCollections/video_movieDetails.bson [following]\n",
            "--2022-01-14 14:29:15--  https://raw.githubusercontent.com/SouthbankSoftware/dbkoda-data/master/SampleCollections/dump/SampleCollections/video_movieDetails.bson\n",
            "Resolving raw.githubusercontent.com (raw.githubusercontent.com)... 185.199.109.133, 185.199.108.133, 185.199.111.133, ...\n",
            "Connecting to raw.githubusercontent.com (raw.githubusercontent.com)|185.199.109.133|:443... connected.\n",
            "HTTP request sent, awaiting response... 200 OK\n",
            "Length: 1564249 (1.5M) [application/octet-stream]\n",
            "Saving to: ‘var/video_movieDetails.bson’\n",
            "\n",
            "var/video_movieDeta 100%[===================>]   1.49M  --.-KB/s    in 0.04s   \n",
            "\n",
            "2022-01-14 14:29:15 (42.1 MB/s) - ‘var/video_movieDetails.bson’ saved [1564249/1564249]\n",
            "\n",
            "2022-01-14T14:29:16.041+0000\tchecking for collection data in var/video_movieDetails.bson\n",
            "2022-01-14T14:29:16.075+0000\trestoring datascience.movies from var/video_movieDetails.bson\n",
            "2022-01-14T14:29:16.145+0000\tno indexes to restore\n",
            "2022-01-14T14:29:16.145+0000\tfinished restoring datascience.movies (2295 documents)\n",
            "2022-01-14T14:29:16.145+0000\tdone\n",
            "2022-01-14T14:29:16.255+0000\tchecking for collection data in var/video_movies.bson\n",
            "2022-01-14T14:29:16.279+0000\trestoring datascience.films from var/video_movies.bson\n",
            "2022-01-14T14:29:16.342+0000\tno indexes to restore\n",
            "2022-01-14T14:29:16.342+0000\tfinished restoring datascience.films (3365 documents)\n",
            "2022-01-14T14:29:16.342+0000\tdone\n"
          ]
        }
      ]
    },
    {
      "cell_type": "code",
      "execution_count": 12,
      "metadata": {
        "colab": {
          "base_uri": "https://localhost:8080/"
        },
        "id": "kPPTfVHWX-oJ",
        "outputId": "a4b83808-fe5e-4cfd-8541-1c4c866ec374"
      },
      "outputs": [
        {
          "output_type": "stream",
          "name": "stdout",
          "text": [
            "Requirement already satisfied: pymongo in /usr/local/lib/python3.7/dist-packages (4.0.1)\n"
          ]
        }
      ],
      "source": [
        "pip install pymongo"
      ]
    },
    {
      "cell_type": "code",
      "execution_count": 13,
      "metadata": {
        "id": "nPXDjmfGYAJX"
      },
      "outputs": [],
      "source": [
        "from pymongo import MongoClient\n",
        "from pprint import pprint as pp\n",
        "client = MongoClient('mongodb://localhost:27017')\n",
        "db = client.datascience"
      ]
    },
    {
      "cell_type": "code",
      "source": [
        "pp(list(db.movies.aggregate([\n",
        "    {\"$match\": {\"awards\": {\"$exists\": \"1\"}}},\n",
        "    {\"$match\": {\"awards.wins\": {\"$gt\": 0}, \"awards.nominations\": {\"$gt\": 0}}},\n",
        "    {\n",
        "        \"$project\": {\n",
        "            \"title\": 1,\n",
        "            \"awards\": 1,\n",
        "            'rating': '$imdb.rating',\n",
        "            \"ratio\": {\n",
        "                \"$divide\": ['$awards.wins', '$awards.nominations']\n",
        "            }\n",
        "        }\n",
        "    },\n",
        "    {\"$sort\": {\"ratio\": -1}},\n",
        "    {\"$limit\": 2}\n",
        "])))"
      ],
      "metadata": {
        "colab": {
          "base_uri": "https://localhost:8080/"
        },
        "id": "WH8-5cXw_aQr",
        "outputId": "7969edf9-a670-42b8-e707-4e4311579e09"
      },
      "execution_count": 15,
      "outputs": [
        {
          "output_type": "stream",
          "name": "stdout",
          "text": [
            "[{'_id': ObjectId('5692a53024de1e0ce2dfdca5'),\n",
            "  'awards': {'nominations': 1, 'text': '22 wins & 1 nomination.', 'wins': 22},\n",
            "  'rating': 7.6,\n",
            "  'ratio': 22.0,\n",
            "  'title': 'Au bout du monde'},\n",
            " {'_id': ObjectId('5692a47c24de1e0ce2dfdb63'),\n",
            "  'awards': {'nominations': 1, 'text': '22 wins & 1 nomination.', 'wins': 22},\n",
            "  'rating': 8.1,\n",
            "  'ratio': 22.0,\n",
            "  'title': 'Everything Will Be Ok'}]\n"
          ]
        }
      ]
    },
    {
      "cell_type": "code",
      "execution_count": 16,
      "metadata": {
        "colab": {
          "base_uri": "https://localhost:8080/"
        },
        "id": "7i-Gx-fOYrX-",
        "outputId": "18607d53-07af-4943-ad49-b46cbdef9f51"
      },
      "outputs": [
        {
          "output_type": "stream",
          "name": "stdout",
          "text": [
            "--2022-01-14 14:30:07--  https://repo1.maven.org/maven2/org/mongodb/spark/mongo-spark-connector_2.12/3.0.1/mongo-spark-connector_2.12-3.0.1-assembly.jar\n",
            "Resolving repo1.maven.org (repo1.maven.org)... 199.232.192.209, 199.232.196.209\n",
            "Connecting to repo1.maven.org (repo1.maven.org)|199.232.192.209|:443... connected.\n",
            "HTTP request sent, awaiting response... 200 OK\n",
            "Length: 2788378 (2.7M) [application/java-archive]\n",
            "Saving to: ‘/content/spark-3.1.2-bin-hadoop3.2/jars/mongo-spark-connector_2.12-3.0.1.jar’\n",
            "\n",
            "/content/spark-3.1. 100%[===================>]   2.66M  --.-KB/s    in 0.05s   \n",
            "\n",
            "2022-01-14 14:30:07 (52.6 MB/s) - ‘/content/spark-3.1.2-bin-hadoop3.2/jars/mongo-spark-connector_2.12-3.0.1.jar’ saved [2788378/2788378]\n",
            "\n",
            "--2022-01-14 14:30:07--  https://repo1.maven.org/maven2/org/mongodb/mongo-java-driver/3.12.10/mongo-java-driver-3.12.10.jar\n",
            "Resolving repo1.maven.org (repo1.maven.org)... 199.232.192.209, 199.232.196.209\n",
            "Connecting to repo1.maven.org (repo1.maven.org)|199.232.192.209|:443... connected.\n",
            "HTTP request sent, awaiting response... 200 OK\n",
            "Length: 2314569 (2.2M) [application/java-archive]\n",
            "Saving to: ‘/content/spark-3.1.2-bin-hadoop3.2/jars/mongo-java-driver-3.12.10.jar’\n",
            "\n",
            "/content/spark-3.1. 100%[===================>]   2.21M  --.-KB/s    in 0.05s   \n",
            "\n",
            "2022-01-14 14:30:07 (45.6 MB/s) - ‘/content/spark-3.1.2-bin-hadoop3.2/jars/mongo-java-driver-3.12.10.jar’ saved [2314569/2314569]\n",
            "\n"
          ]
        }
      ],
      "source": [
        "!wget https://repo1.maven.org/maven2/org/mongodb/spark/mongo-spark-connector_2.12/3.0.1/mongo-spark-connector_2.12-3.0.1-assembly.jar -O /content/spark-3.1.2-bin-hadoop3.2/jars/mongo-spark-connector_2.12-3.0.1.jar\n",
        "!wget https://repo1.maven.org/maven2/org/mongodb/mongo-java-driver/3.12.10/mongo-java-driver-3.12.10.jar -O /content/spark-3.1.2-bin-hadoop3.2/jars/mongo-java-driver-3.12.10.jar"
      ]
    },
    {
      "cell_type": "code",
      "execution_count": 17,
      "metadata": {
        "id": "zd_iUPa-YF3t"
      },
      "outputs": [],
      "source": [
        "from pyspark.sql import SparkSession\n",
        "\n",
        "spark = SparkSession.\\\n",
        "        builder.\\\n",
        "        appName(\"pyspark-with-mongo\").\\\n",
        "        master(\"local\").\\\n",
        "        config(\"spark.mongodb.input.uri\",\"mongodb://localhost:27017/datascience.movies\").\\\n",
        "        getOrCreate()\n",
        "\n",
        "sc = spark.sparkContext"
      ]
    },
    {
      "cell_type": "code",
      "execution_count": 18,
      "metadata": {
        "colab": {
          "base_uri": "https://localhost:8080/",
          "height": 219
        },
        "id": "g9jkXuoybcTs",
        "outputId": "dcadf778-3706-4023-c067-0aeed8c6414c"
      },
      "outputs": [
        {
          "output_type": "execute_result",
          "data": {
            "text/html": [
              "\n",
              "            <div>\n",
              "                <p><b>SparkSession - in-memory</b></p>\n",
              "                \n",
              "        <div>\n",
              "            <p><b>SparkContext</b></p>\n",
              "\n",
              "            <p><a href=\"http://b48250c53a85:4040\">Spark UI</a></p>\n",
              "\n",
              "            <dl>\n",
              "              <dt>Version</dt>\n",
              "                <dd><code>v3.1.2</code></dd>\n",
              "              <dt>Master</dt>\n",
              "                <dd><code>local</code></dd>\n",
              "              <dt>AppName</dt>\n",
              "                <dd><code>pyspark-with-mongo</code></dd>\n",
              "            </dl>\n",
              "        </div>\n",
              "        \n",
              "            </div>\n",
              "        "
            ],
            "text/plain": [
              "<pyspark.sql.session.SparkSession at 0x7f00bbf91f50>"
            ]
          },
          "metadata": {},
          "execution_count": 18
        }
      ],
      "source": [
        "spark"
      ]
    },
    {
      "cell_type": "code",
      "source": [
        "pipeline = [\n",
        "    {\"$match\": {\"awards\": {\"$exists\": \"1\"}}},\n",
        "    {\"$match\": {\"awards.wins\": {\"$gt\": 0}, \"awards.nominations\": {\"$gt\": 0}}},\n",
        "    {\n",
        "        \"$project\": {\n",
        "            \"title\": 1,\n",
        "            \"awards\": 1,\n",
        "            'rating': '$imdb.rating',\n",
        "            \"ratio\": {\n",
        "                \"$divide\": ['$awards.wins', '$awards.nominations']\n",
        "            }\n",
        "        }\n",
        "    },\n",
        "    {\"$sort\": {\"ratio\": -1}},\n",
        "]"
      ],
      "metadata": {
        "id": "nkKAz_S3AEw3"
      },
      "execution_count": 19,
      "outputs": []
    },
    {
      "cell_type": "code",
      "source": [
        "import json"
      ],
      "metadata": {
        "id": "CGCnMaqvANSa"
      },
      "execution_count": 20,
      "outputs": []
    },
    {
      "cell_type": "code",
      "execution_count": 23,
      "metadata": {
        "id": "FH6oWEZA7TDm"
      },
      "outputs": [],
      "source": [
        "df = (spark.read.format(\"mongo\")\n",
        "  .option(\"uri\",\"mongodb://127.0.0.1/datascience.movies\")\n",
        "  .option(\"pipeline\", json.dumps(pipeline))\n",
        "  .load())"
      ]
    },
    {
      "cell_type": "code",
      "execution_count": 24,
      "metadata": {
        "colab": {
          "base_uri": "https://localhost:8080/"
        },
        "id": "SQuOhHeW82zn",
        "outputId": "5a1e34a0-bd07-4672-97cc-f08148207371"
      },
      "outputs": [
        {
          "output_type": "stream",
          "name": "stdout",
          "text": [
            "+--------------------+--------------------+------+-----------------+--------------------+\n",
            "|                 _id|              awards|rating|            ratio|               title|\n",
            "+--------------------+--------------------+------+-----------------+--------------------+\n",
            "|{5692a47c24de1e0c...|{1.0, null, 22 wi...|   8.1|             22.0|Everything Will B...|\n",
            "|{5692a53024de1e0c...|{1.0, null, 22 wi...|   7.6|             22.0|    Au bout du monde|\n",
            "|{5692a3ce24de1e0c...|{1.0, null, 17 wi...|   4.8|             17.0|Oy Vey! My Son Is...|\n",
            "|{5692a4dc24de1e0c...|{1.0, null, 11 wi...|   7.2|             11.0|     Filler ve Çimen|\n",
            "|{5692a51724de1e0c...|{1.0, null, 8 win...|   7.3|              8.0|          I Am David|\n",
            "|{5692a14624de1e0c...|{2.0, null, Nomin...|   8.3|              6.0|   Wild Strawberries|\n",
            "|{5692a2b924de1e0c...|{1.0, null, 6 win...|   6.4|              6.0|           Eu Te Amo|\n",
            "|{5692a15624de1e0c...|{1.0, null, Nomin...|   8.6|              6.0|It's a Wonderful ...|\n",
            "|{5692a57024de1e0c...|{1.0, null, 6 win...|   7.5|              6.0|   Inochi bô ni furô|\n",
            "|{5692a2e124de1e0c...|{3.0, null, 15 wi...|   7.6|              5.0| The Story of Qiu Ju|\n",
            "|{5692a14924de1e0c...|{2.0, null, 10 wi...|   2.4|              5.0|   Battlefield Earth|\n",
            "|{5692a3e824de1e0c...|{1.0, null, Nomin...|   8.2|              5.0|  La Grande Illusion|\n",
            "|{5692a47524de1e0c...|{1.0, null, 5 win...|   8.3|              5.0|  My Neighbor Totoro|\n",
            "|{5692a47824de1e0c...|{1.0, null, 5 win...|   7.4|              5.0|Tro, håb og kærli...|\n",
            "|{5692a57524de1e0c...|{1.0, null, 5 win...|   7.2|              5.0|      Bu jian bu san|\n",
            "|{5692c90524de1e0c...|{1.0, null, 5 win...|   7.2|              5.0|Km. 0 - Kilometer...|\n",
            "|{5692a2aa24de1e0c...|{3.0, null, Nomin...|   7.7|4.666666666666667|    My Life as a Dog|\n",
            "|{5692a3ae24de1e0c...|{2.0, null, 9 win...|   7.8|              4.5|Il marchese del G...|\n",
            "|{5692a59524de1e0c...|{2.0, null, 9 win...|   6.5|              4.5|      Cuestión de fe|\n",
            "|{5692a13b24de1e0c...|{1.0, null, Nomin...|   8.0|              4.0|  Planet of the Apes|\n",
            "+--------------------+--------------------+------+-----------------+--------------------+\n",
            "only showing top 20 rows\n",
            "\n"
          ]
        }
      ],
      "source": [
        "df.show()"
      ]
    },
    {
      "cell_type": "code",
      "source": [
        "df.printSchema()"
      ],
      "metadata": {
        "colab": {
          "base_uri": "https://localhost:8080/"
        },
        "id": "38gtp7OLArLd",
        "outputId": "9b7d191f-0414-4465-bdf8-c8ffdbb7b39f"
      },
      "execution_count": 25,
      "outputs": [
        {
          "output_type": "stream",
          "name": "stdout",
          "text": [
            "root\n",
            " |-- _id: struct (nullable = true)\n",
            " |    |-- oid: string (nullable = true)\n",
            " |-- awards: struct (nullable = true)\n",
            " |    |-- nominations: double (nullable = true)\n",
            " |    |-- oscars: array (nullable = true)\n",
            " |    |    |-- element: struct (containsNull = true)\n",
            " |    |    |    |-- bestAnimatedFeature: string (nullable = true)\n",
            " |    |    |    |-- bestMusic: string (nullable = true)\n",
            " |    |    |    |-- bestPicture: string (nullable = true)\n",
            " |    |    |    |-- bestScreenplay: string (nullable = true)\n",
            " |    |    |    |-- bestSoundEditing: string (nullable = true)\n",
            " |    |-- text: string (nullable = true)\n",
            " |    |-- wins: double (nullable = true)\n",
            " |-- rating: double (nullable = true)\n",
            " |-- ratio: double (nullable = true)\n",
            " |-- title: string (nullable = true)\n",
            "\n"
          ]
        }
      ]
    },
    {
      "cell_type": "code",
      "source": [
        "from pyspark.sql import functions as F"
      ],
      "metadata": {
        "id": "qmeGrMLYAvCs"
      },
      "execution_count": 26,
      "outputs": []
    },
    {
      "cell_type": "code",
      "source": [
        "df.select(\n",
        "    F.col('title'),\n",
        "    F.col('awards.wins').alias('wins'),\n",
        "    F.col('rating')\n",
        ").show(5)"
      ],
      "metadata": {
        "colab": {
          "base_uri": "https://localhost:8080/"
        },
        "id": "dFjzJeC_BC8S",
        "outputId": "f7b3ee39-9138-4a4f-a131-496f24f50bf6"
      },
      "execution_count": 29,
      "outputs": [
        {
          "output_type": "stream",
          "name": "stdout",
          "text": [
            "+--------------------+----+------+\n",
            "|               title|wins|rating|\n",
            "+--------------------+----+------+\n",
            "|Everything Will B...|22.0|   8.1|\n",
            "|    Au bout du monde|22.0|   7.6|\n",
            "|Oy Vey! My Son Is...|17.0|   4.8|\n",
            "|     Filler ve Çimen|11.0|   7.2|\n",
            "|          I Am David| 8.0|   7.3|\n",
            "+--------------------+----+------+\n",
            "only showing top 5 rows\n",
            "\n"
          ]
        }
      ]
    },
    {
      "cell_type": "code",
      "source": [
        "df.registerTempTable('movies')"
      ],
      "metadata": {
        "colab": {
          "base_uri": "https://localhost:8080/"
        },
        "id": "mcoTtJzABYMv",
        "outputId": "1d42fe0b-e095-466c-86a8-62e58ba25ff6"
      },
      "execution_count": 30,
      "outputs": [
        {
          "output_type": "stream",
          "name": "stderr",
          "text": [
            "/usr/local/lib/python3.7/dist-packages/pyspark/sql/dataframe.py:140: FutureWarning: Deprecated in 2.0, use createOrReplaceTempView instead.\n",
            "  FutureWarning\n"
          ]
        }
      ]
    },
    {
      "cell_type": "code",
      "source": [
        "from pyspark.sql import SQLContext\n",
        "sqlContext = SQLContext(spark)"
      ],
      "metadata": {
        "colab": {
          "base_uri": "https://localhost:8080/"
        },
        "id": "aO_HeczmByvg",
        "outputId": "37a09f6a-c923-4eec-fd4c-7f82b36b1ab1"
      },
      "execution_count": 32,
      "outputs": [
        {
          "output_type": "stream",
          "name": "stderr",
          "text": [
            "/usr/local/lib/python3.7/dist-packages/pyspark/sql/context.py:79: FutureWarning: Deprecated in 3.0.0. Use SparkSession.builder.getOrCreate() instead.\n",
            "  FutureWarning\n"
          ]
        }
      ]
    },
    {
      "cell_type": "code",
      "source": [
        "sqlContext.sql(\"Select * from movies\").show(3)"
      ],
      "metadata": {
        "colab": {
          "base_uri": "https://localhost:8080/"
        },
        "id": "Hn0FXjwwB3H2",
        "outputId": "c26bda29-dbb7-4c2c-dce4-6af32e05ffd4"
      },
      "execution_count": 34,
      "outputs": [
        {
          "output_type": "stream",
          "name": "stdout",
          "text": [
            "+--------------------+--------------------+------+-----+--------------------+\n",
            "|                 _id|              awards|rating|ratio|               title|\n",
            "+--------------------+--------------------+------+-----+--------------------+\n",
            "|{5692a47c24de1e0c...|{1.0, null, 22 wi...|   8.1| 22.0|Everything Will B...|\n",
            "|{5692a53024de1e0c...|{1.0, null, 22 wi...|   7.6| 22.0|    Au bout du monde|\n",
            "|{5692a3ce24de1e0c...|{1.0, null, 17 wi...|   4.8| 17.0|Oy Vey! My Son Is...|\n",
            "+--------------------+--------------------+------+-----+--------------------+\n",
            "only showing top 3 rows\n",
            "\n"
          ]
        }
      ]
    },
    {
      "cell_type": "code",
      "source": [
        "sqlContext.sql(\"Select title, awards.wins as wins, rating from movies\").show(3)"
      ],
      "metadata": {
        "colab": {
          "base_uri": "https://localhost:8080/"
        },
        "id": "0UbpdvbWCIgm",
        "outputId": "408ebcd5-6078-4440-8910-4c2b09c2fa7d"
      },
      "execution_count": 36,
      "outputs": [
        {
          "output_type": "stream",
          "name": "stdout",
          "text": [
            "+--------------------+----+------+\n",
            "|               title|wins|rating|\n",
            "+--------------------+----+------+\n",
            "|Everything Will B...|22.0|   8.1|\n",
            "|    Au bout du monde|22.0|   7.6|\n",
            "|Oy Vey! My Son Is...|17.0|   4.8|\n",
            "+--------------------+----+------+\n",
            "only showing top 3 rows\n",
            "\n"
          ]
        }
      ]
    },
    {
      "cell_type": "code",
      "source": [
        "moviesDF = sqlContext.sql(\"Select title, awards.wins as wins, rating from movies\")"
      ],
      "metadata": {
        "id": "yVtnC6gYCROd"
      },
      "execution_count": 37,
      "outputs": []
    },
    {
      "cell_type": "markdown",
      "source": [
        "Save it to external storage"
      ],
      "metadata": {
        "id": "40_15NaECV0X"
      }
    },
    {
      "cell_type": "code",
      "source": [
        "moviesDF.write.csv('var/movies')"
      ],
      "metadata": {
        "id": "_wVY9eOwCUDq"
      },
      "execution_count": 40,
      "outputs": []
    },
    {
      "cell_type": "code",
      "source": [
        ""
      ],
      "metadata": {
        "id": "LLssfyvXDcOL"
      },
      "execution_count": null,
      "outputs": []
    },
    {
      "cell_type": "code",
      "source": [
        "from google.colab import drive\n",
        "drive.mount('/content/drive')"
      ],
      "metadata": {
        "colab": {
          "base_uri": "https://localhost:8080/"
        },
        "id": "Wed_IX9hDdRb",
        "outputId": "f63bcbef-9835-46a6-c0a4-21cc854dd6b3"
      },
      "execution_count": 41,
      "outputs": [
        {
          "output_type": "stream",
          "name": "stdout",
          "text": [
            "Mounted at /content/drive\n"
          ]
        }
      ]
    },
    {
      "cell_type": "code",
      "source": [
        "moviesDF.write.csv('drive/MyDrive/AA-movies')"
      ],
      "metadata": {
        "id": "nDa7dEUUDj9K"
      },
      "execution_count": 42,
      "outputs": []
    },
    {
      "cell_type": "code",
      "execution_count": 43,
      "metadata": {
        "id": "1jeE_nhVaDrn"
      },
      "outputs": [],
      "source": [
        "sc.stop()"
      ]
    },
    {
      "cell_type": "code",
      "execution_count": null,
      "metadata": {
        "id": "0CHkT9GT9ADr"
      },
      "outputs": [],
      "source": [
        ""
      ]
    }
  ],
  "metadata": {
    "colab": {
      "collapsed_sections": [],
      "name": "11--mongo--movies.ipynb",
      "provenance": []
    },
    "kernelspec": {
      "display_name": "Python 3",
      "name": "python3"
    },
    "language_info": {
      "name": "python"
    }
  },
  "nbformat": 4,
  "nbformat_minor": 0
}