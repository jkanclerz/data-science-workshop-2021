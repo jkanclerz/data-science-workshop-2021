{
 "cells": [
  {
   "cell_type": "code",
   "execution_count": null,
   "metadata": {},
   "outputs": [],
   "source": [
    "[![Open In Colab](https://colab.research.google.com/assets/colab-badge.svg)](https://githubtocolab.com/jkanclerz/data-science-workshop-2021/blob/main/99--exercises/30--mongo-skills.ipynb)"
   ]
  },
  {
   "cell_type": "code",
   "execution_count": null,
   "metadata": {},
   "outputs": [],
   "source": [
    "!sudo apt install mongodb\n",
    "!sudo service mongodb start\n"
   ]
  },
  {
   "cell_type": "code",
   "execution_count": 3,
   "metadata": {},
   "outputs": [
    {
     "name": "stdout",
     "output_type": "stream",
     "text": [
      "File ‘jobs.zip’ already there; not retrieving.\r\n",
      "\r\n"
     ]
    }
   ],
   "source": [
    "!mkdir -p var/\n",
    "!wget -nc https://s3.eu-central-1.amazonaws.com/jkan.pl/data-science/uek/jobs.zip"
   ]
  },
  {
   "cell_type": "code",
   "execution_count": 10,
   "metadata": {},
   "outputs": [
    {
     "name": "stdout",
     "output_type": "stream",
     "text": [
      "Archive:  jobs.zip\r\n"
     ]
    }
   ],
   "source": [
    "!unzip -u jobs.zip -d jobs_dataset"
   ]
  },
  {
   "cell_type": "code",
   "execution_count": 11,
   "metadata": {},
   "outputs": [],
   "source": [
    "import glob\n",
    "import itertools\n",
    "import json\n",
    "jsons = glob.glob('./jobs_dataset/*.json')"
   ]
  },
  {
   "cell_type": "code",
   "execution_count": 23,
   "metadata": {},
   "outputs": [],
   "source": [
    "files = (open(file_path, 'r') for file_path in jsons)"
   ]
  },
  {
   "cell_type": "code",
   "execution_count": 24,
   "metadata": {},
   "outputs": [],
   "source": [
    "dicts = (json.load(f) for f in files)"
   ]
  },
  {
   "cell_type": "code",
   "execution_count": 25,
   "metadata": {},
   "outputs": [
    {
     "name": "stdout",
     "output_type": "stream",
     "text": [
      "Requirement already satisfied: pymongo in /usr/local/lib/python3.7/dist-packages (3.11.2)\n",
      "Note: you may need to restart the kernel to use updated packages.\n"
     ]
    }
   ],
   "source": [
    "pip install pymongo"
   ]
  },
  {
   "cell_type": "code",
   "execution_count": 26,
   "metadata": {},
   "outputs": [],
   "source": [
    "from pymongo import MongoClient\n",
    "client = MongoClient('mongodb://mongodb:27017')"
   ]
  },
  {
   "cell_type": "code",
   "execution_count": 27,
   "metadata": {},
   "outputs": [],
   "source": [
    "db = client.datascience"
   ]
  },
  {
   "cell_type": "code",
   "execution_count": 28,
   "metadata": {},
   "outputs": [
    {
     "data": {
      "text/plain": [
       "<pymongo.results.DeleteResult at 0x7fb4c4b2ea08>"
      ]
     },
     "execution_count": 28,
     "metadata": {},
     "output_type": "execute_result"
    }
   ],
   "source": [
    "db.jobs.delete_many({})"
   ]
  },
  {
   "cell_type": "code",
   "execution_count": 29,
   "metadata": {},
   "outputs": [
    {
     "data": {
      "text/plain": [
       "<pymongo.results.InsertManyResult at 0x7fb4929d3548>"
      ]
     },
     "execution_count": 29,
     "metadata": {},
     "output_type": "execute_result"
    }
   ],
   "source": [
    "db.jobs.insert_many(dicts)"
   ]
  },
  {
   "cell_type": "code",
   "execution_count": 65,
   "metadata": {},
   "outputs": [],
   "source": [
    "c = db.jobs.find({}, {'basics.category': 1})"
   ]
  },
  {
   "cell_type": "code",
   "execution_count": 66,
   "metadata": {},
   "outputs": [
    {
     "data": {
      "text/plain": [
       "{'_id': ObjectId('60017dc755ec55eda0c59766'),\n",
       " 'basics': {'category': 'backend'}}"
      ]
     },
     "execution_count": 66,
     "metadata": {},
     "output_type": "execute_result"
    }
   ],
   "source": [
    "next(c)"
   ]
  },
  {
   "cell_type": "markdown",
   "metadata": {},
   "source": [
    "# Categories"
   ]
  },
  {
   "cell_type": "code",
   "execution_count": 52,
   "metadata": {},
   "outputs": [],
   "source": [
    "categories = db.jobs.distinct(\"basics.category\")"
   ]
  },
  {
   "cell_type": "code",
   "execution_count": 53,
   "metadata": {},
   "outputs": [
    {
     "data": {
      "text/plain": [
       "['backend',\n",
       " 'support',\n",
       " 'other',\n",
       " 'ux',\n",
       " 'testing',\n",
       " 'fullstack',\n",
       " 'embedded',\n",
       " 'devops',\n",
       " 'businessAnalyst',\n",
       " 'frontend',\n",
       " 'mobile',\n",
       " 'agile',\n",
       " 'businessIntelligence',\n",
       " 'bigData',\n",
       " 'projectManager',\n",
       " 'artificialIntelligence',\n",
       " 'itAdministrator',\n",
       " 'gaming',\n",
       " 'hr',\n",
       " 'productManagement',\n",
       " 'security',\n",
       " 'backoffice',\n",
       " 'sales',\n",
       " 'marketing']"
      ]
     },
     "execution_count": 53,
     "metadata": {},
     "output_type": "execute_result"
    }
   ],
   "source": [
    "categories"
   ]
  },
  {
   "cell_type": "code",
   "execution_count": 114,
   "metadata": {},
   "outputs": [],
   "source": [
    "advs = db.jobs.aggregate([\n",
    "    {\"$match\": {\n",
    "        \"basics.category\": {\n",
    "            \"$in\": [\n",
    "                'businessAnalyst',\n",
    "                'businessIntelligence',\n",
    "                'bigData',\n",
    "                'artificialIntelligence'\n",
    "            ]\n",
    "        }\n",
    "    }},\n",
    "    {\n",
    "        \"$project\": {\n",
    "            \"category\": \"$basics.category\"\n",
    "        }\n",
    "    },\n",
    "    {\n",
    "        \"$group\": {\n",
    "            \"_id\": \"$category\",\n",
    "            \"count\": {\"$sum\": 1}\n",
    "        }\n",
    "    },\n",
    "    {\n",
    "        \"$project\": {\n",
    "            \"_id\": 0,\n",
    "            \"category\": \"$_id\",\n",
    "            \"count\": 1\n",
    "        }\n",
    "    }\n",
    "])"
   ]
  },
  {
   "cell_type": "code",
   "execution_count": 115,
   "metadata": {},
   "outputs": [],
   "source": [
    "import pandas as pd"
   ]
  },
  {
   "cell_type": "code",
   "execution_count": 116,
   "metadata": {},
   "outputs": [],
   "source": [
    "by_category = pd.DataFrame(list(advs), columns=['category', 'count'])"
   ]
  },
  {
   "cell_type": "code",
   "execution_count": 117,
   "metadata": {},
   "outputs": [
    {
     "data": {
      "text/html": [
       "<div>\n",
       "<style scoped>\n",
       "    .dataframe tbody tr th:only-of-type {\n",
       "        vertical-align: middle;\n",
       "    }\n",
       "\n",
       "    .dataframe tbody tr th {\n",
       "        vertical-align: top;\n",
       "    }\n",
       "\n",
       "    .dataframe thead th {\n",
       "        text-align: right;\n",
       "    }\n",
       "</style>\n",
       "<table border=\"1\" class=\"dataframe\">\n",
       "  <thead>\n",
       "    <tr style=\"text-align: right;\">\n",
       "      <th></th>\n",
       "      <th>category</th>\n",
       "      <th>count</th>\n",
       "    </tr>\n",
       "  </thead>\n",
       "  <tbody>\n",
       "    <tr>\n",
       "      <th>0</th>\n",
       "      <td>artificialIntelligence</td>\n",
       "      <td>42</td>\n",
       "    </tr>\n",
       "    <tr>\n",
       "      <th>1</th>\n",
       "      <td>businessIntelligence</td>\n",
       "      <td>101</td>\n",
       "    </tr>\n",
       "    <tr>\n",
       "      <th>2</th>\n",
       "      <td>bigData</td>\n",
       "      <td>74</td>\n",
       "    </tr>\n",
       "    <tr>\n",
       "      <th>3</th>\n",
       "      <td>businessAnalyst</td>\n",
       "      <td>111</td>\n",
       "    </tr>\n",
       "  </tbody>\n",
       "</table>\n",
       "</div>"
      ],
      "text/plain": [
       "                 category  count\n",
       "0  artificialIntelligence     42\n",
       "1    businessIntelligence    101\n",
       "2                 bigData     74\n",
       "3         businessAnalyst    111"
      ]
     },
     "execution_count": 117,
     "metadata": {},
     "output_type": "execute_result"
    }
   ],
   "source": [
    "by_category"
   ]
  },
  {
   "cell_type": "code",
   "execution_count": 119,
   "metadata": {},
   "outputs": [
    {
     "data": {
      "text/plain": [
       "<AxesSubplot:xlabel='category'>"
      ]
     },
     "execution_count": 119,
     "metadata": {},
     "output_type": "execute_result"
    },
    {
     "data": {
      "image/png": "[encoded data removed]",
      "text/plain": [
       "<Figure size 432x288 with 1 Axes>"
      ]
     },
     "metadata": {
      "needs_background": "light"
     },
     "output_type": "display_data"
    }
   ],
   "source": [
    "by_category.plot.bar(x=\"category\", y=\"count\")"
   ]
  },
  {
   "cell_type": "code",
   "execution_count": 120,
   "metadata": {},
   "outputs": [
    {
     "data": {
      "text/plain": [
       "{'_id': ObjectId('60017dc755ec55eda0c59766'),\n",
       " 'id': 'WQ5OKM3N',\n",
       " 'apply': {'onlineInterviewAvailable': True},\n",
       " 'specs': {'details': {'custom': [], 'flexibleHours': True},\n",
       "  'dailyTasks': [],\n",
       "  'travelling': 'none',\n",
       "  'workProfile': {'type': 'mainlyFeatures'},\n",
       "  'referral': {'allowed': True}},\n",
       " 'title': 'Senior Backend Developer PHP',\n",
       " 'basics': {'category': 'backend',\n",
       "  'seniority': ['Senior', 'Expert'],\n",
       "  'technology': 'php'},\n",
       " 'company': {'url': 'investcore.pl',\n",
       "  'logo': 'companies/logos/jobs_details/investcorelogowhite_kwadrat_20201027_102742.png',\n",
       "  'name': 'Investcore Sp. z o.o. Sp. k.',\n",
       "  'size': '20+',\n",
       "  'consentsInfo': {'marketingInfo': False, 'termsAndConditions': True},\n",
       "  'additionalContactEmails': ['akoszala@investcore.pl']},\n",
       " 'details': {'quote': '',\n",
       "  'coverPhoto': '/upload/cover_Warszawa_20200701_134751.jpeg',\n",
       "  'description': '',\n",
       "  'quoteAuthor': ''},\n",
       " 'preview': '',\n",
       " 'benefits': {'benefits': ['Flat structure', 'Small teams'],\n",
       "  'equipment': {'computer': 'Workstation',\n",
       "   'monitors': 'Two',\n",
       "   'operatingSystems': {'lin': True, 'mac': False, 'win': True}},\n",
       "  'officePerks': ['Free coffee',\n",
       "   'Bike parking',\n",
       "   'Playroom',\n",
       "   'Shower',\n",
       "   'Mobile phone',\n",
       "   'Free parking',\n",
       "   'Startup atmosphere',\n",
       "   'No dress code']},\n",
       " 'consents': {'infoClause': 'The Controller of your personal data is Investcore Sp. z o.o. Sp. k., with registered office at 19A, Warszawa. Your data is processed for the purpose of the current recruitment process. Providing data is voluntary but necessary for this purpose. Processing your data is lawful because it is necessary in order to take steps at the request of the data subject prior to entering into a contract (article 6 point 1b of Regulation EU 2016/679 - GDPR). Your personal data will be deleted when the current recruitment process is finished, unless a separate consent is provided below. You have the right to access, correct, modify, update, rectify, request for the transfer or deletion of data, withdrawal of consent or objection.',\n",
       "  'currentConsent': True,\n",
       "  'currentConsentRequired': False,\n",
       "  'currentConsentLabel': 'Przetrzanie danych osobowych w tej rekrutacji',\n",
       "  'currentConsentMsg': 'I agree to the processing of my additional personal data by Investcore Sp. z o.o. Sp. k. located in Warszawa for the purpose of recruitment. This consent enables processing of any additional data provided in your application.',\n",
       "  'futureConsent': True,\n",
       "  'futureConsentRequired': False,\n",
       "  'futureConsentMsg': 'I agree to the processing of my personal data by Investcore Sp. z o.o. Sp. k. located in Warszawa for the purpose of future recruitment.',\n",
       "  'personalDataRequestLink': 'ksell@investcore.pl'},\n",
       " 'location': {'places': [{'city': 'Remote'},\n",
       "   {'country': {'code': 'POL', 'name': 'Poland'},\n",
       "    'city': 'Warszawa',\n",
       "    'street': '19A',\n",
       "    'postalCode': '02-677',\n",
       "    'geoLocation': {'latitude': 52.3291853, 'longitude': 20.9441964}}],\n",
       "  'remote': 5,\n",
       "  'multicityCount': 5,\n",
       "  'covidTimeRemotely': False,\n",
       "  'remoteFlexible': False},\n",
       " 'essentials': {'salary': {'types': {'b2b': {'range': [12000.0, 18000.0],\n",
       "     'period': 'Month',\n",
       "     'paidHoliday': False}},\n",
       "   'currency': 'PLN'},\n",
       "  'contract': {'start': 'ASAP', 'duration': {}}},\n",
       " 'methodology': [{'name': 'Integration tests',\n",
       "   'values': ['Reasonable coverage', 'API testing', 'Performance testing']},\n",
       "  {'name': 'Agile management', 'values': ['Scrum', 'Agile']},\n",
       "  {'name': 'Issue tracking tool', 'values': ['Redmine']},\n",
       "  {'name': 'Knowledge repository', 'values': ['Wiki', 'GitLab']},\n",
       "  {'name': 'Code reviews', 'values': []},\n",
       "  {'name': 'Version control system', 'values': ['GIT']},\n",
       "  {'name': 'Build server', 'values': ['Jenkins']}],\n",
       " 'oneTimeEdit': False,\n",
       " 'requirements': {'musts': [{'value': 'PHP', 'type': 'main'},\n",
       "   {'value': 'Symfony', 'type': 'main'},\n",
       "   {'value': 'REST', 'type': 'main'},\n",
       "   {'value': 'Team player', 'type': 'other'}],\n",
       "  'nices': [{'value': 'Docker', 'type': 'main'},\n",
       "   {'value': 'Critical thinking', 'type': 'other'},\n",
       "   {'value': 'Problem solving', 'type': 'other'},\n",
       "   {'value': 'Proactivity', 'type': 'other'}]},\n",
       " 'invalidSections': {},\n",
       " 'sectionsValidation': {'apply': True,\n",
       "  'terms': True,\n",
       "  'title': True,\n",
       "  'basics': True,\n",
       "  'company': True,\n",
       "  'contact': True,\n",
       "  'details': True,\n",
       "  'preview': True,\n",
       "  'benefits': True,\n",
       "  'consents': True,\n",
       "  'location': True,\n",
       "  'essentials': True,\n",
       "  'methodology': True,\n",
       "  'uniqueValue': True,\n",
       "  'requirements': True},\n",
       " 'posted': 1607003888019,\n",
       " 'status': 'PUBLISHED',\n",
       " 'postingUrl': 'senior-backend-developer-php-investcore-sp-k-remote-wq5okm3n',\n",
       " 'regions': ['pl'],\n",
       " 'meta': {'videosInCompanyProfileVisible': True},\n",
       " 'seo': {'title': 'Senior Backend Developer PHP @ Investcore Sp. z o.o. Sp. k.',\n",
       "  'description': 'Senior Backend Developer PHP @ Investcore Sp. z o.o. Sp. k. Fully remote job 12.0k-18.0k (B2B) PLN / month'}}"
      ]
     },
     "execution_count": 120,
     "metadata": {},
     "output_type": "execute_result"
    }
   ],
   "source": [
    "next(db.jobs.find({}))"
   ]
  },
  {
   "cell_type": "code",
   "execution_count": 247,
   "metadata": {},
   "outputs": [],
   "source": [
    "skills = db.jobs.aggregate([\n",
    "    {\"$match\": {\n",
    "        \"basics.category\": {\n",
    "            \"$in\": [\n",
    "                'businessAnalyst',\n",
    "                'businessIntelligence',\n",
    "                'bigData',\n",
    "                'artificialIntelligence'\n",
    "            ]\n",
    "        }\n",
    "    }},\n",
    "    {\n",
    "        \"$project\": {\n",
    "            \"must_have\": \"$requirements.musts\",\n",
    "        }\n",
    "    },\n",
    "    {\"$unwind\": \"$must_have\"},\n",
    "    {\n",
    "        \"$project\": {\n",
    "            \"skill\" : \"$must_have.value\",\n",
    "            \"type\" : \"$must_have.type\",\n",
    "        }\n",
    "    },\n",
    "    {\n",
    "        \"$group\": {\n",
    "            \"_id\": {\n",
    "                \"skill\": \"$skill\",\n",
    "                \"type\": \"$type\"\n",
    "            },\n",
    "            \"count\": {\"$sum\": 1}\n",
    "        }\n",
    "    },\n",
    "    {\n",
    "        \"$project\": {\n",
    "            \"_id\": 0,\n",
    "            \"skill\" : \"$_id.skill\",\n",
    "            \"type\" : \"$_id.type\",\n",
    "            \"count\" : \"$count\"\n",
    "        }\n",
    "    },\n",
    "    {\"$match\": {\"count\": {\"$gt\": 5}}},\n",
    "    {\"$sort\": {\"count\": -1}},\n",
    "])"
   ]
  },
  {
   "cell_type": "code",
   "execution_count": 248,
   "metadata": {},
   "outputs": [
    {
     "data": {
      "text/plain": [
       "{'skill': 'English', 'type': 'other', 'count': 192}"
      ]
     },
     "execution_count": 248,
     "metadata": {},
     "output_type": "execute_result"
    }
   ],
   "source": [
    "next(skills)"
   ]
  },
  {
   "cell_type": "code",
   "execution_count": 249,
   "metadata": {},
   "outputs": [],
   "source": [
    "mhSkills = pd.DataFrame(list(skills))"
   ]
  },
  {
   "cell_type": "code",
   "execution_count": 250,
   "metadata": {},
   "outputs": [],
   "source": [
    "mhSkills.set_index(['skill'], inplace=True)"
   ]
  },
  {
   "cell_type": "code",
   "execution_count": 251,
   "metadata": {},
   "outputs": [],
   "source": [
    "all_counted = sum((mhSkills['count']))"
   ]
  },
  {
   "cell_type": "code",
   "execution_count": 252,
   "metadata": {},
   "outputs": [],
   "source": [
    "mhSkills['percentage_of_all'] = mhSkills['count'].map(lambda x: x/all_counted)"
   ]
  },
  {
   "cell_type": "code",
   "execution_count": 283,
   "metadata": {},
   "outputs": [
    {
     "data": {
      "text/html": [
       "<div>\n",
       "<style scoped>\n",
       "    .dataframe tbody tr th:only-of-type {\n",
       "        vertical-align: middle;\n",
       "    }\n",
       "\n",
       "    .dataframe tbody tr th {\n",
       "        vertical-align: top;\n",
       "    }\n",
       "\n",
       "    .dataframe thead th {\n",
       "        text-align: right;\n",
       "    }\n",
       "</style>\n",
       "<table border=\"1\" class=\"dataframe\">\n",
       "  <thead>\n",
       "    <tr style=\"text-align: right;\">\n",
       "      <th></th>\n",
       "      <th>count</th>\n",
       "      <th>type</th>\n",
       "      <th>percentage_of_all</th>\n",
       "    </tr>\n",
       "    <tr>\n",
       "      <th>skill</th>\n",
       "      <th></th>\n",
       "      <th></th>\n",
       "      <th></th>\n",
       "    </tr>\n",
       "  </thead>\n",
       "  <tbody>\n",
       "    <tr>\n",
       "      <th>SQL</th>\n",
       "      <td>159</td>\n",
       "      <td>main</td>\n",
       "      <td>0.095210</td>\n",
       "    </tr>\n",
       "    <tr>\n",
       "      <th>Communication skills</th>\n",
       "      <td>143</td>\n",
       "      <td>other</td>\n",
       "      <td>0.085629</td>\n",
       "    </tr>\n",
       "    <tr>\n",
       "      <th>Problem solving</th>\n",
       "      <td>94</td>\n",
       "      <td>other</td>\n",
       "      <td>0.056287</td>\n",
       "    </tr>\n",
       "    <tr>\n",
       "      <th>Python</th>\n",
       "      <td>88</td>\n",
       "      <td>main</td>\n",
       "      <td>0.052695</td>\n",
       "    </tr>\n",
       "    <tr>\n",
       "      <th>Team player</th>\n",
       "      <td>87</td>\n",
       "      <td>other</td>\n",
       "      <td>0.052096</td>\n",
       "    </tr>\n",
       "    <tr>\n",
       "      <th>Proactivity</th>\n",
       "      <td>78</td>\n",
       "      <td>other</td>\n",
       "      <td>0.046707</td>\n",
       "    </tr>\n",
       "    <tr>\n",
       "      <th>Business analysis</th>\n",
       "      <td>67</td>\n",
       "      <td>main</td>\n",
       "      <td>0.040120</td>\n",
       "    </tr>\n",
       "    <tr>\n",
       "      <th>ETL</th>\n",
       "      <td>62</td>\n",
       "      <td>main</td>\n",
       "      <td>0.037126</td>\n",
       "    </tr>\n",
       "    <tr>\n",
       "      <th>Polish</th>\n",
       "      <td>49</td>\n",
       "      <td>other</td>\n",
       "      <td>0.029341</td>\n",
       "    </tr>\n",
       "    <tr>\n",
       "      <th>Critical thinking</th>\n",
       "      <td>45</td>\n",
       "      <td>other</td>\n",
       "      <td>0.026946</td>\n",
       "    </tr>\n",
       "  </tbody>\n",
       "</table>\n",
       "</div>"
      ],
      "text/plain": [
       "                      count   type  percentage_of_all\n",
       "skill                                                \n",
       "SQL                     159   main           0.095210\n",
       "Communication skills    143  other           0.085629\n",
       "Problem solving          94  other           0.056287\n",
       "Python                   88   main           0.052695\n",
       "Team player              87  other           0.052096\n",
       "Proactivity              78  other           0.046707\n",
       "Business analysis        67   main           0.040120\n",
       "ETL                      62   main           0.037126\n",
       "Polish                   49  other           0.029341\n",
       "Critical thinking        45  other           0.026946"
      ]
     },
     "execution_count": 283,
     "metadata": {},
     "output_type": "execute_result"
    }
   ],
   "source": [
    "mhSkills[:10]"
   ]
  },
  {
   "cell_type": "code",
   "execution_count": 254,
   "metadata": {},
   "outputs": [
    {
     "data": {
      "text/plain": [
       "[<matplotlib.patches.Polygon at 0x7fb498399160>]"
      ]
     },
     "execution_count": 254,
     "metadata": {},
     "output_type": "execute_result"
    },
    {
     "data": {
      "image/png": "[encoded data removed]",
      "text/plain": [
       "<Figure size 432x288 with 1 Axes>"
      ]
     },
     "metadata": {
      "needs_background": "dark"
     },
     "output_type": "display_data"
    }
   ],
   "source": [
    "# Libraries\n",
    "import matplotlib.pyplot as plt\n",
    "import pandas as pd\n",
    "from math import pi\n",
    " \n",
    "# Set data\n",
    "df = pd.DataFrame({\n",
    "'group': ['AA'],\n",
    "'var1': [38],\n",
    "'var2': [29],\n",
    "'var3': [8],\n",
    "'var4': [7],\n",
    "'var5': [28]\n",
    "})\n",
    " \n",
    "# number of variable\n",
    "categories=list(df)[1:]\n",
    "N = len(categories)\n",
    " \n",
    "# We are going to plot the first line of the data frame.\n",
    "# But we need to repeat the first value to close the circular graph:\n",
    "values=df.loc[0].drop('group').values.flatten().tolist()\n",
    "values += values[:1]\n",
    "values\n",
    " \n",
    "# What will be the angle of each axis in the plot? (we divide the plot / number of variable)\n",
    "angles = [n / float(N) * 2 * pi for n in range(N)]\n",
    "angles += angles[:1]\n",
    " \n",
    "# Initialise the spider plot\n",
    "ax = plt.subplot(111, polar=True)\n",
    " \n",
    "# Draw one axe per variable + add labels labels yet\n",
    "plt.xticks(angles[:-1], categories, color='grey', size=8)\n",
    " \n",
    "# Draw ylabels\n",
    "ax.set_rlabel_position(0)\n",
    "plt.yticks([10,20,30], [\"10\",\"20\",\"30\"], color=\"grey\", size=7)\n",
    "plt.ylim(0,40)\n",
    " \n",
    "# Plot data\n",
    "ax.plot(angles, values, linewidth=1, linestyle='solid')\n",
    " \n",
    "# Fill area\n",
    "ax.fill(angles, values, 'b', alpha=0.1)\n"
   ]
  },
  {
   "cell_type": "code",
   "execution_count": 255,
   "metadata": {},
   "outputs": [
    {
     "data": {
      "text/html": [
       "<div>\n",
       "<style scoped>\n",
       "    .dataframe tbody tr th:only-of-type {\n",
       "        vertical-align: middle;\n",
       "    }\n",
       "\n",
       "    .dataframe tbody tr th {\n",
       "        vertical-align: top;\n",
       "    }\n",
       "\n",
       "    .dataframe thead th {\n",
       "        text-align: right;\n",
       "    }\n",
       "</style>\n",
       "<table border=\"1\" class=\"dataframe\">\n",
       "  <thead>\n",
       "    <tr style=\"text-align: right;\">\n",
       "      <th></th>\n",
       "      <th>group</th>\n",
       "      <th>var1</th>\n",
       "      <th>var2</th>\n",
       "      <th>var3</th>\n",
       "      <th>var4</th>\n",
       "      <th>var5</th>\n",
       "    </tr>\n",
       "  </thead>\n",
       "  <tbody>\n",
       "    <tr>\n",
       "      <th>0</th>\n",
       "      <td>AA</td>\n",
       "      <td>38</td>\n",
       "      <td>29</td>\n",
       "      <td>8</td>\n",
       "      <td>7</td>\n",
       "      <td>28</td>\n",
       "    </tr>\n",
       "  </tbody>\n",
       "</table>\n",
       "</div>"
      ],
      "text/plain": [
       "  group  var1  var2  var3  var4  var5\n",
       "0    AA    38    29     8     7    28"
      ]
     },
     "execution_count": 255,
     "metadata": {},
     "output_type": "execute_result"
    }
   ],
   "source": [
    "df"
   ]
  },
  {
   "cell_type": "code",
   "execution_count": 275,
   "metadata": {},
   "outputs": [],
   "source": [
    "techSkills = mhSkills[mhSkills['type'].str.contains('main')][:15]"
   ]
  },
  {
   "cell_type": "code",
   "execution_count": 281,
   "metadata": {},
   "outputs": [],
   "source": [
    "df = techSkills[['count']].sort_index().transpose()"
   ]
  },
  {
   "cell_type": "code",
   "execution_count": 282,
   "metadata": {},
   "outputs": [
    {
     "data": {
      "text/plain": [
       "[<matplotlib.patches.Polygon at 0x7fb49894a438>]"
      ]
     },
     "execution_count": 282,
     "metadata": {},
     "output_type": "execute_result"
    },
    {
     "data": {
      "image/png": "[encoded data removed]",
      "text/plain": [
       "<Figure size 576x576 with 1 Axes>"
      ]
     },
     "metadata": {
      "needs_background": "dark"
     },
     "output_type": "display_data"
    }
   ],
   "source": [
    "# Libraries\n",
    "import matplotlib.pyplot as plt\n",
    "import pandas as pd\n",
    "from math import pi\n",
    "plt.figure(figsize=(8,8))\n",
    " \n",
    "# number of variable\n",
    "categories=list(df)\n",
    "N = len(categories)\n",
    "#display(categories)\n",
    "#display(N)\n",
    " \n",
    "# We are going to plot the first line of the data frame.\n",
    "# But we need to repeat the first value to close the circular graph:\n",
    "values=df.iloc[0].values.flatten().tolist()\n",
    "values += values[:1]\n",
    "values\n",
    " \n",
    "# What will be the angle of each axis in the plot? (we divide the plot / number of variable)\n",
    "angles = [n / float(N) * 2 * pi for n in range(N)]\n",
    "angles += angles[:1]\n",
    " \n",
    "# Initialise the spider plot\n",
    "ax = plt.subplot(111, polar=True)\n",
    "\n",
    "# Draw one axe per variable + add labels labels yet\n",
    "plt.xticks(angles[:-1], categories, color='grey', size=8)\n",
    "plt.title(\"\\\"Must have\\\" technical skills\")\n",
    "\n",
    "# Draw ylabels\n",
    "ax.set_rlabel_position(0)\n",
    "plt.yticks([10,100,200], [\"10\",\"100\",\"200\"], color=\"grey\", size=7)\n",
    "plt.ylim(0,200)\n",
    " \n",
    "# Plot data\n",
    "ax.plot(angles, values, linewidth=1, linestyle='solid')\n",
    " \n",
    "# Fill area\n",
    "ax.fill(angles, values, 'b', alpha=0.1)"
   ]
  }
 ],
 "metadata": {
  "kernelspec": {
   "display_name": "Python 3 (ipykernel)",
   "language": "python",
   "name": "python3"
  },
  "language_info": {
   "codemirror_mode": {
    "name": "ipython",
    "version": 3
   },
   "file_extension": ".py",
   "mimetype": "text/x-python",
   "name": "python",
   "nbconvert_exporter": "python",
   "pygments_lexer": "ipython3",
   "version": "3.9.8"
  }
 },
 "nbformat": 4,
 "nbformat_minor": 4
}
