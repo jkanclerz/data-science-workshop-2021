{
 "cells": [
  {
   "cell_type": "markdown",
   "metadata": {},
   "source": [
    "[![Open In Colab](https://colab.research.google.com/assets/colab-badge.svg)](https://githubtocolab.com/jkanclerz/data-science-workshop-2021/blob/main/99--exercises/21--csv__ecommerce.ipynb)"
   ]
  },
  {
   "cell_type": "markdown",
   "metadata": {},
   "source": [
    "# Ecommerce behaviour\n",
    "\n",
    "\n",
    "\n",
    "https://www.kaggle.com/mkechinov/ecommerce-behavior-data-from-multi-category-store\n",
    "\n",
    "## Pytania\n",
    "\n",
    "* Jaka jest średnia cena produktu w sklepie?\n",
    "* Jaki % przeglądających ostatecznie kupuje produkt?\n",
    "* Czy można strwierdzić że produkty drogie (cena > średnia) są oglądane cześciej a kupowane rzadziej niż produkty tanie (cena < średnia)\n"
   ]
  }
 ],
 "metadata": {
  "kernelspec": {
   "display_name": "Python 3 (ipykernel)",
   "language": "python",
   "name": "python3"
  },
  "language_info": {
   "codemirror_mode": {
    "name": "ipython",
    "version": 3
   },
   "file_extension": ".py",
   "mimetype": "text/x-python",
   "name": "python",
   "nbconvert_exporter": "python",
   "pygments_lexer": "ipython3",
   "version": "3.9.8"
  }
 },
 "nbformat": 4,
 "nbformat_minor": 4
}
