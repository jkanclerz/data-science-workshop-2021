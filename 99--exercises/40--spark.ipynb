{
 "cells": [
  {
   "cell_type": "markdown",
   "metadata": {},
   "source": [
    "[![Open In Colab](https://colab.research.google.com/assets/colab-badge.svg)](https://githubtocolab.com/jkanclerz/data-science-workshop-2021/blob/main/99--exercises/40--spark.ipynb)"
   ]
  },
  {
   "cell_type": "code",
   "execution_count": null,
   "metadata": {},
   "outputs": [],
   "source": [
    "!apt-get install openjdk-8-jdk-headless -qq > /dev/null\n",
    "!wget https://dlcdn.apache.org/spark/spark-3.2.0/spark-3.2.0-bin-hadoop3.2.tgz -O spark-3.2.0-bin-hadoop3.2.tgz\n",
    "!tar xf spark-3.2.0-bin-hadoop3.2.tgz"
   ]
  },
  {
   "cell_type": "code",
   "execution_count": 1,
   "metadata": {},
   "outputs": [],
   "source": [
    "!pip install -q pyspark findspark"
   ]
  },
  {
   "cell_type": "code",
   "execution_count": null,
   "metadata": {},
   "outputs": [],
   "source": [
    "import os\n",
    "os.environ[\"JAVA_HOME\"] = \"/usr/lib/jvm/java-8-openjdk-amd64\"\n",
    "os.environ[\"SPARK_HOME\"] = \"/content/spark-3.2.0-bin-hadoop3.2\""
   ]
  },
  {
   "cell_type": "code",
   "execution_count": 3,
   "metadata": {},
   "outputs": [],
   "source": [
    "from pyspark.sql import SparkSession\n",
    "\n",
    "spark = SparkSession.builder\\\n",
    "        .master(\"local\")\\\n",
    "        .appName(\"Test it\")\\\n",
    "        .config('spark.ui.port', '4050')\\\n",
    "        .getOrCreate()\n",
    "sc = spark.sparkContext"
   ]
  },
  {
   "cell_type": "code",
   "execution_count": 4,
   "metadata": {},
   "outputs": [
    {
     "name": "stderr",
     "output_type": "stream",
     "text": [
      "\r",
      "[Stage 0:>                                                          (0 + 1) / 1]\r"
     ]
    },
    {
     "name": "stdout",
     "output_type": "stream",
     "text": [
      "+-------+--------+------+\n",
      "|   kraj|  miasto|liczba|\n",
      "+-------+--------+------+\n",
      "| Polska|Warszawa|     1|\n",
      "| Polska|  Kraków|     2|\n",
      "| Niemcy|  Berlin|     1|\n",
      "| Niemcy| Hamburg|     3|\n",
      "| Czechy|   Praga|     1|\n",
      "|  Rosja|  Moskwa|     1|\n",
      "|Francja|    Lyon|     4|\n",
      "+-------+--------+------+\n",
      "\n"
     ]
    },
    {
     "name": "stderr",
     "output_type": "stream",
     "text": [
      "\r",
      "                                                                                \r"
     ]
    }
   ],
   "source": [
    "from pyspark.sql import SparkSession\n",
    " \n",
    "df_list = [('Polska', 'Warszawa', 1),\n",
    "           ('Polska', 'Kraków', 2),\n",
    "           ('Niemcy', 'Berlin', 1),\n",
    "           ('Niemcy', 'Hamburg', 3),\n",
    "           ('Czechy', 'Praga', 1),\n",
    "           ('Rosja', 'Moskwa', 1),\n",
    "           ('Francja', 'Lyon', 4)]\n",
    " \n",
    "df = spark.createDataFrame(df_list, ['kraj', 'miasto', 'liczba'])\n",
    "df.show()"
   ]
  },
  {
   "cell_type": "markdown",
   "metadata": {},
   "source": [
    "# select"
   ]
  },
  {
   "cell_type": "code",
   "execution_count": 5,
   "metadata": {},
   "outputs": [
    {
     "name": "stdout",
     "output_type": "stream",
     "text": [
      "+-------+--------+\n",
      "|   kraj|  miasto|\n",
      "+-------+--------+\n",
      "| Polska|Warszawa|\n",
      "| Polska|  Kraków|\n",
      "| Niemcy|  Berlin|\n",
      "| Niemcy| Hamburg|\n",
      "| Czechy|   Praga|\n",
      "|  Rosja|  Moskwa|\n",
      "|Francja|    Lyon|\n",
      "+-------+--------+\n",
      "\n"
     ]
    }
   ],
   "source": [
    "df.select(['kraj', 'miasto']).show()"
   ]
  },
  {
   "cell_type": "markdown",
   "metadata": {},
   "source": [
    "# where"
   ]
  },
  {
   "cell_type": "code",
   "execution_count": 6,
   "metadata": {},
   "outputs": [
    {
     "name": "stdout",
     "output_type": "stream",
     "text": [
      "+-------+-------+------+\n",
      "|   kraj| miasto|liczba|\n",
      "+-------+-------+------+\n",
      "| Polska| Kraków|     2|\n",
      "| Niemcy|Hamburg|     3|\n",
      "|Francja|   Lyon|     4|\n",
      "+-------+-------+------+\n",
      "\n"
     ]
    }
   ],
   "source": [
    "df.filter(df['liczba'] > 1).show()"
   ]
  },
  {
   "cell_type": "code",
   "execution_count": 7,
   "metadata": {},
   "outputs": [
    {
     "name": "stdout",
     "output_type": "stream",
     "text": [
      "+-------+-------+------+\n",
      "|   kraj| miasto|liczba|\n",
      "+-------+-------+------+\n",
      "| Polska| Kraków|     2|\n",
      "| Niemcy|Hamburg|     3|\n",
      "|Francja|   Lyon|     4|\n",
      "+-------+-------+------+\n",
      "\n"
     ]
    }
   ],
   "source": [
    "df.where(df['liczba'] > 1).show()"
   ]
  },
  {
   "cell_type": "code",
   "execution_count": 8,
   "metadata": {},
   "outputs": [
    {
     "name": "stdout",
     "output_type": "stream",
     "text": [
      "+-------+-------+------+\n",
      "|   kraj| miasto|liczba|\n",
      "+-------+-------+------+\n",
      "| Niemcy|Hamburg|     3|\n",
      "|Francja|   Lyon|     4|\n",
      "+-------+-------+------+\n",
      "\n"
     ]
    }
   ],
   "source": [
    "df.filter('(liczba > 1) AND (kraj != \"Polska\")').show()"
   ]
  },
  {
   "cell_type": "markdown",
   "metadata": {},
   "source": [
    "# sort"
   ]
  },
  {
   "cell_type": "code",
   "execution_count": 9,
   "metadata": {},
   "outputs": [
    {
     "name": "stdout",
     "output_type": "stream",
     "text": [
      "+-------+--------+------+\n",
      "|   kraj|  miasto|liczba|\n",
      "+-------+--------+------+\n",
      "| Czechy|   Praga|     1|\n",
      "|Francja|    Lyon|     4|\n",
      "| Niemcy|  Berlin|     1|\n",
      "| Niemcy| Hamburg|     3|\n",
      "| Polska|Warszawa|     1|\n",
      "| Polska|  Kraków|     2|\n",
      "|  Rosja|  Moskwa|     1|\n",
      "+-------+--------+------+\n",
      "\n"
     ]
    }
   ],
   "source": [
    "df.sort('kraj').show()"
   ]
  },
  {
   "cell_type": "code",
   "execution_count": 10,
   "metadata": {},
   "outputs": [],
   "source": [
    "from pyspark.sql.functions import *"
   ]
  },
  {
   "cell_type": "code",
   "execution_count": 11,
   "metadata": {},
   "outputs": [
    {
     "name": "stdout",
     "output_type": "stream",
     "text": [
      "+-------+--------+------+\n",
      "|   kraj|  miasto|liczba|\n",
      "+-------+--------+------+\n",
      "|  Rosja|  Moskwa|     1|\n",
      "| Polska|Warszawa|     1|\n",
      "| Polska|  Kraków|     2|\n",
      "| Niemcy| Hamburg|     3|\n",
      "| Niemcy|  Berlin|     1|\n",
      "|Francja|    Lyon|     4|\n",
      "| Czechy|   Praga|     1|\n",
      "+-------+--------+------+\n",
      "\n"
     ]
    }
   ],
   "source": [
    "df.sort(desc('kraj')).show()"
   ]
  },
  {
   "cell_type": "code",
   "execution_count": 12,
   "metadata": {},
   "outputs": [
    {
     "name": "stdout",
     "output_type": "stream",
     "text": [
      "+-------+--------+------+\n",
      "|   kraj|  miasto|liczba|\n",
      "+-------+--------+------+\n",
      "|  Rosja|  Moskwa|     1|\n",
      "| Polska|  Kraków|     2|\n",
      "| Polska|Warszawa|     1|\n",
      "| Niemcy|  Berlin|     1|\n",
      "| Niemcy| Hamburg|     3|\n",
      "|Francja|    Lyon|     4|\n",
      "| Czechy|   Praga|     1|\n",
      "+-------+--------+------+\n",
      "\n"
     ]
    }
   ],
   "source": [
    "df.sort(desc('kraj'), 'miasto').show()"
   ]
  },
  {
   "cell_type": "markdown",
   "metadata": {},
   "source": [
    "# groupBy"
   ]
  },
  {
   "cell_type": "code",
   "execution_count": 13,
   "metadata": {},
   "outputs": [
    {
     "name": "stdout",
     "output_type": "stream",
     "text": [
      "+-------+-----------+\n",
      "|   kraj|avg(liczba)|\n",
      "+-------+-----------+\n",
      "|  Rosja|        1.0|\n",
      "|Francja|        4.0|\n",
      "| Czechy|        1.0|\n",
      "| Niemcy|        2.0|\n",
      "| Polska|        1.5|\n",
      "+-------+-----------+\n",
      "\n"
     ]
    }
   ],
   "source": [
    "df.groupby('kraj').agg({\"liczba\": 'mean'}).show()"
   ]
  },
  {
   "cell_type": "markdown",
   "metadata": {},
   "source": [
    "https://spark.apache.org/docs/latest/api/python/pyspark.sql.html#module-pyspark.sql.functions"
   ]
  },
  {
   "cell_type": "code",
   "execution_count": 14,
   "metadata": {},
   "outputs": [],
   "source": [
    "from pyspark.sql import functions as F"
   ]
  },
  {
   "cell_type": "code",
   "execution_count": 15,
   "metadata": {},
   "outputs": [
    {
     "name": "stdout",
     "output_type": "stream",
     "text": [
      "+-------+-------+---+---+---+\n",
      "|   kraj|minimum|max|avg|sum|\n",
      "+-------+-------+---+---+---+\n",
      "|  Rosja|      1|  1|1.0|  1|\n",
      "|Francja|      4|  4|4.0|  4|\n",
      "| Czechy|      1|  1|1.0|  1|\n",
      "| Niemcy|      1|  3|2.0|  4|\n",
      "| Polska|      1|  2|1.5|  3|\n",
      "+-------+-------+---+---+---+\n",
      "\n"
     ]
    }
   ],
   "source": [
    "df.groupby('kraj')\\\n",
    "    .agg(\n",
    "        F.min('liczba').alias('minimum'),\n",
    "        F.max('liczba').alias('max'),\n",
    "        F.avg('liczba').alias('avg'),\n",
    "        F.sum('liczba').alias('sum'),\n",
    "    ).show()"
   ]
  },
  {
   "cell_type": "code",
   "execution_count": 16,
   "metadata": {},
   "outputs": [
    {
     "name": "stdout",
     "output_type": "stream",
     "text": [
      "+-------+--------+-------+---+---+---+\n",
      "|   kraj|  miasto|minimum|max|avg|sum|\n",
      "+-------+--------+-------+---+---+---+\n",
      "|Francja|    Lyon|      4|  4|4.0|  4|\n",
      "| Niemcy| Hamburg|      3|  3|3.0|  3|\n",
      "| Polska|  Kraków|      2|  2|2.0|  2|\n",
      "|  Rosja|  Moskwa|      1|  1|1.0|  1|\n",
      "| Polska|Warszawa|      1|  1|1.0|  1|\n",
      "| Niemcy|  Berlin|      1|  1|1.0|  1|\n",
      "| Czechy|   Praga|      1|  1|1.0|  1|\n",
      "+-------+--------+-------+---+---+---+\n",
      "\n"
     ]
    }
   ],
   "source": [
    "df.groupby('kraj', 'miasto')\\\n",
    "    .agg(\n",
    "        F.min('liczba').alias('minimum'),\n",
    "        F.max('liczba').alias('max'),\n",
    "        F.avg('liczba').alias('avg'),\n",
    "        F.sum('liczba').alias('sum'),\n",
    "    ).sort(F.desc('sum'), F.desc('kraj')).show()"
   ]
  },
  {
   "cell_type": "markdown",
   "metadata": {},
   "source": [
    "# SQL"
   ]
  },
  {
   "cell_type": "code",
   "execution_count": 17,
   "metadata": {},
   "outputs": [],
   "source": [
    "df_sql = df.createOrReplaceTempView(\"dane\")"
   ]
  },
  {
   "cell_type": "code",
   "execution_count": 18,
   "metadata": {},
   "outputs": [],
   "source": [
    "sql_results = spark.sql(\"SELECT * FROM dane\")"
   ]
  },
  {
   "cell_type": "code",
   "execution_count": 19,
   "metadata": {},
   "outputs": [
    {
     "data": {
      "text/plain": [
       "pyspark.sql.dataframe.DataFrame"
      ]
     },
     "execution_count": 19,
     "metadata": {},
     "output_type": "execute_result"
    }
   ],
   "source": [
    "type(sql_results)"
   ]
  },
  {
   "cell_type": "code",
   "execution_count": 20,
   "metadata": {},
   "outputs": [
    {
     "name": "stdout",
     "output_type": "stream",
     "text": [
      "+-------+--------+------+\n",
      "|   kraj|  miasto|liczba|\n",
      "+-------+--------+------+\n",
      "| Polska|Warszawa|     1|\n",
      "| Polska|  Kraków|     2|\n",
      "| Niemcy|  Berlin|     1|\n",
      "| Niemcy| Hamburg|     3|\n",
      "| Czechy|   Praga|     1|\n",
      "|  Rosja|  Moskwa|     1|\n",
      "|Francja|    Lyon|     4|\n",
      "+-------+--------+------+\n",
      "\n"
     ]
    }
   ],
   "source": [
    "sql_results.show()"
   ]
  },
  {
   "cell_type": "code",
   "execution_count": 21,
   "metadata": {},
   "outputs": [
    {
     "name": "stdout",
     "output_type": "stream",
     "text": [
      "+-------+------------+\n",
      "|   kraj|liczba_miast|\n",
      "+-------+------------+\n",
      "|  Rosja|           1|\n",
      "|Francja|           1|\n",
      "| Czechy|           1|\n",
      "| Niemcy|           2|\n",
      "| Polska|           2|\n",
      "+-------+------------+\n",
      "\n"
     ]
    }
   ],
   "source": [
    "spark.sql(\"SELECT kraj, COUNT(*) AS liczba_miast FROM dane GROUP BY kraj\").show()"
   ]
  },
  {
   "cell_type": "code",
   "execution_count": 22,
   "metadata": {},
   "outputs": [],
   "source": [
    "cities_count = spark\\\n",
    "    .sql(\"SELECT kraj, COUNT(*) AS liczba_miast FROM dane GROUP BY kraj\") \\\n",
    "    .toPandas()"
   ]
  },
  {
   "cell_type": "code",
   "execution_count": 23,
   "metadata": {},
   "outputs": [
    {
     "data": {
      "text/plain": [
       "pandas.core.frame.DataFrame"
      ]
     },
     "execution_count": 23,
     "metadata": {},
     "output_type": "execute_result"
    }
   ],
   "source": [
    "type(cities_count)"
   ]
  },
  {
   "cell_type": "code",
   "execution_count": 24,
   "metadata": {},
   "outputs": [],
   "source": [
    "cities_count.set_index(['kraj'], inplace=True)"
   ]
  },
  {
   "cell_type": "code",
   "execution_count": 25,
   "metadata": {},
   "outputs": [
    {
     "data": {
      "text/html": [
       "<div>\n",
       "<style scoped>\n",
       "    .dataframe tbody tr th:only-of-type {\n",
       "        vertical-align: middle;\n",
       "    }\n",
       "\n",
       "    .dataframe tbody tr th {\n",
       "        vertical-align: top;\n",
       "    }\n",
       "\n",
       "    .dataframe thead th {\n",
       "        text-align: right;\n",
       "    }\n",
       "</style>\n",
       "<table border=\"1\" class=\"dataframe\">\n",
       "  <thead>\n",
       "    <tr style=\"text-align: right;\">\n",
       "      <th></th>\n",
       "      <th>liczba_miast</th>\n",
       "    </tr>\n",
       "    <tr>\n",
       "      <th>kraj</th>\n",
       "      <th></th>\n",
       "    </tr>\n",
       "  </thead>\n",
       "  <tbody>\n",
       "    <tr>\n",
       "      <th>Rosja</th>\n",
       "      <td>1</td>\n",
       "    </tr>\n",
       "    <tr>\n",
       "      <th>Francja</th>\n",
       "      <td>1</td>\n",
       "    </tr>\n",
       "    <tr>\n",
       "      <th>Czechy</th>\n",
       "      <td>1</td>\n",
       "    </tr>\n",
       "    <tr>\n",
       "      <th>Niemcy</th>\n",
       "      <td>2</td>\n",
       "    </tr>\n",
       "    <tr>\n",
       "      <th>Polska</th>\n",
       "      <td>2</td>\n",
       "    </tr>\n",
       "  </tbody>\n",
       "</table>\n",
       "</div>"
      ],
      "text/plain": [
       "         liczba_miast\n",
       "kraj                 \n",
       "Rosja               1\n",
       "Francja             1\n",
       "Czechy              1\n",
       "Niemcy              2\n",
       "Polska              2"
      ]
     },
     "execution_count": 25,
     "metadata": {},
     "output_type": "execute_result"
    }
   ],
   "source": [
    "cities_count"
   ]
  },
  {
   "cell_type": "code",
   "execution_count": 26,
   "metadata": {},
   "outputs": [
    {
     "data": {
      "text/plain": [
       "<AxesSubplot:xlabel='kraj'>"
      ]
     },
     "execution_count": 26,
     "metadata": {},
     "output_type": "execute_result"
    },
    {
     "data": {
      "image/png": "[encoded data removed]",
      "text/plain": [
       "<Figure size 432x288 with 1 Axes>"
      ]
     },
     "metadata": {
      "needs_background": "light"
     },
     "output_type": "display_data"
    }
   ],
   "source": [
    "cities_count.plot.bar()"
   ]
  },
  {
   "cell_type": "code",
   "execution_count": 27,
   "metadata": {},
   "outputs": [],
   "source": [
    "sc.stop()"
   ]
  },
  {
   "cell_type": "code",
   "execution_count": null,
   "metadata": {},
   "outputs": [],
   "source": []
  }
 ],
 "metadata": {
  "kernelspec": {
   "display_name": "Python 3 (ipykernel)",
   "language": "python",
   "name": "python3"
  },
  "language_info": {
   "codemirror_mode": {
    "name": "ipython",
    "version": 3
   },
   "file_extension": ".py",
   "mimetype": "text/x-python",
   "name": "python",
   "nbconvert_exporter": "python",
   "pygments_lexer": "ipython3",
   "version": "3.9.8"
  }
 },
 "nbformat": 4,
 "nbformat_minor": 4
}
