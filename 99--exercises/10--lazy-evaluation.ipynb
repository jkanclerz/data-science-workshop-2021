{
 "cells": [
  {
   "cell_type": "markdown",
   "metadata": {},
   "source": [
    "[![Open In Colab](https://colab.research.google.com/assets/colab-badge.svg)](https://githubtocolab.com/jkanclerz/data-science-workshop-2021/blob/main/99--exercises/10--lazy-evaluation.ipynb)"
   ]
  },
  {
   "cell_type": "markdown",
   "metadata": {},
   "source": [
    "## Lazy Evaluation\n",
    "\n",
    "Strategia wykonywania wyrażenia polegająca na odroczeniu właściwego wykonania do czasu konieczności dostarczenia rezultatu."
   ]
  },
  {
   "cell_type": "code",
   "execution_count": 1,
   "metadata": {},
   "outputs": [
    {
     "name": "stdout",
     "output_type": "stream",
     "text": [
      "--2021-11-20 09:03:17--  https://wolnelektury.pl/media/book/txt/krzyzacy-tom-pierwszy.txt\n",
      "Resolving wolnelektury.pl (wolnelektury.pl)... 51.83.143.148\n",
      "Connecting to wolnelektury.pl (wolnelektury.pl)|51.83.143.148|:443... connected.\n",
      "HTTP request sent, awaiting response... 200 OK\n",
      "Length: 740054 (723K) [text/plain]\n",
      "Saving to: ‘var/krzyzacy-tom-pierwszy.txt’\n",
      "\n",
      "krzyzacy-tom-pierws 100%[===================>] 722.71K  4.40MB/s    in 0.2s    \n",
      "\n",
      "2021-11-20 09:03:17 (4.40 MB/s) - ‘var/krzyzacy-tom-pierwszy.txt’ saved [740054/740054]\n",
      "\n"
     ]
    }
   ],
   "source": [
    "!mkdir -p var\n",
    "!wget https://wolnelektury.pl/media/book/txt/krzyzacy-tom-pierwszy.txt -P var/"
   ]
  },
  {
   "cell_type": "code",
   "execution_count": 2,
   "metadata": {},
   "outputs": [
    {
     "name": "stdout",
     "output_type": "stream",
     "text": [
      "Requirement already satisfied: ipython-memory-usage in /Users/jkanclerz/myplace/dydaktyka/przetwarzanie-dokumnetow/data-science-workshop-2021/.venv/lib/python3.9/site-packages (1.7)\n",
      "Requirement already satisfied: IPython>=2.1 in /Users/jkanclerz/myplace/dydaktyka/przetwarzanie-dokumnetow/data-science-workshop-2021/.venv/lib/python3.9/site-packages (from ipython-memory-usage) (7.29.0)\n",
      "Requirement already satisfied: memory_profiler in /Users/jkanclerz/myplace/dydaktyka/przetwarzanie-dokumnetow/data-science-workshop-2021/.venv/lib/python3.9/site-packages (from ipython-memory-usage) (0.58.0)\n",
      "Requirement already satisfied: setuptools>=18.5 in /Users/jkanclerz/myplace/dydaktyka/przetwarzanie-dokumnetow/data-science-workshop-2021/.venv/lib/python3.9/site-packages (from IPython>=2.1->ipython-memory-usage) (58.5.3)\n",
      "Requirement already satisfied: pickleshare in /Users/jkanclerz/myplace/dydaktyka/przetwarzanie-dokumnetow/data-science-workshop-2021/.venv/lib/python3.9/site-packages (from IPython>=2.1->ipython-memory-usage) (0.7.5)\n",
      "Requirement already satisfied: prompt-toolkit!=3.0.0,!=3.0.1,<3.1.0,>=2.0.0 in /Users/jkanclerz/myplace/dydaktyka/przetwarzanie-dokumnetow/data-science-workshop-2021/.venv/lib/python3.9/site-packages (from IPython>=2.1->ipython-memory-usage) (3.0.22)\n",
      "Requirement already satisfied: backcall in /Users/jkanclerz/myplace/dydaktyka/przetwarzanie-dokumnetow/data-science-workshop-2021/.venv/lib/python3.9/site-packages (from IPython>=2.1->ipython-memory-usage) (0.2.0)\n",
      "Requirement already satisfied: pexpect>4.3 in /Users/jkanclerz/myplace/dydaktyka/przetwarzanie-dokumnetow/data-science-workshop-2021/.venv/lib/python3.9/site-packages (from IPython>=2.1->ipython-memory-usage) (4.8.0)\n",
      "Requirement already satisfied: traitlets>=4.2 in /Users/jkanclerz/myplace/dydaktyka/przetwarzanie-dokumnetow/data-science-workshop-2021/.venv/lib/python3.9/site-packages (from IPython>=2.1->ipython-memory-usage) (5.1.1)\n",
      "Requirement already satisfied: jedi>=0.16 in /Users/jkanclerz/myplace/dydaktyka/przetwarzanie-dokumnetow/data-science-workshop-2021/.venv/lib/python3.9/site-packages (from IPython>=2.1->ipython-memory-usage) (0.18.1)\n",
      "Requirement already satisfied: decorator in /Users/jkanclerz/myplace/dydaktyka/przetwarzanie-dokumnetow/data-science-workshop-2021/.venv/lib/python3.9/site-packages (from IPython>=2.1->ipython-memory-usage) (5.1.0)\n",
      "Requirement already satisfied: appnope in /Users/jkanclerz/myplace/dydaktyka/przetwarzanie-dokumnetow/data-science-workshop-2021/.venv/lib/python3.9/site-packages (from IPython>=2.1->ipython-memory-usage) (0.1.2)\n",
      "Requirement already satisfied: matplotlib-inline in /Users/jkanclerz/myplace/dydaktyka/przetwarzanie-dokumnetow/data-science-workshop-2021/.venv/lib/python3.9/site-packages (from IPython>=2.1->ipython-memory-usage) (0.1.3)\n",
      "Requirement already satisfied: pygments in /Users/jkanclerz/myplace/dydaktyka/przetwarzanie-dokumnetow/data-science-workshop-2021/.venv/lib/python3.9/site-packages (from IPython>=2.1->ipython-memory-usage) (2.10.0)\n",
      "Requirement already satisfied: psutil in /Users/jkanclerz/myplace/dydaktyka/przetwarzanie-dokumnetow/data-science-workshop-2021/.venv/lib/python3.9/site-packages (from memory_profiler->ipython-memory-usage) (5.8.0)\n",
      "Requirement already satisfied: parso<0.9.0,>=0.8.0 in /Users/jkanclerz/myplace/dydaktyka/przetwarzanie-dokumnetow/data-science-workshop-2021/.venv/lib/python3.9/site-packages (from jedi>=0.16->IPython>=2.1->ipython-memory-usage) (0.8.2)\n",
      "Requirement already satisfied: ptyprocess>=0.5 in /Users/jkanclerz/myplace/dydaktyka/przetwarzanie-dokumnetow/data-science-workshop-2021/.venv/lib/python3.9/site-packages (from pexpect>4.3->IPython>=2.1->ipython-memory-usage) (0.7.0)\n",
      "Requirement already satisfied: wcwidth in /Users/jkanclerz/myplace/dydaktyka/przetwarzanie-dokumnetow/data-science-workshop-2021/.venv/lib/python3.9/site-packages (from prompt-toolkit!=3.0.0,!=3.0.1,<3.1.0,>=2.0.0->IPython>=2.1->ipython-memory-usage) (0.2.5)\n",
      "Note: you may need to restart the kernel to use updated packages.\n"
     ]
    }
   ],
   "source": [
    "pip install ipython-memory-usage"
   ]
  },
  {
   "cell_type": "code",
   "execution_count": 3,
   "metadata": {},
   "outputs": [
    {
     "data": {
      "text/plain": [
       "'memory profile enabled'"
      ]
     },
     "execution_count": 3,
     "metadata": {},
     "output_type": "execute_result"
    },
    {
     "name": "stdout",
     "output_type": "stream",
     "text": [
      "In [3] used 0.0586 MiB RAM in 0.11s, peaked 0.00 MiB above current, total RAM usage 45.14 MiB\n"
     ]
    }
   ],
   "source": [
    "import ipython_memory_usage \n",
    "%ipython_memory_usage_start "
   ]
  },
  {
   "cell_type": "code",
   "execution_count": 17,
   "metadata": {},
   "outputs": [
    {
     "name": "stdout",
     "output_type": "stream",
     "text": [
      "7607\n",
      "In [17] used 0.0000 MiB RAM in 0.11s, peaked 0.00 MiB above current, total RAM usage 51.77 MiB\n"
     ]
    }
   ],
   "source": [
    "from functools import reduce\n",
    "with open('var/krzyzacy-tom-pierwszy.txt', 'r') as f:\n",
    "    lines = [line for line in f.readlines()]\n",
    "    count = reduce(lambda acc, i: acc + 1, lines, 0)\n",
    "    print(count)"
   ]
  },
  {
   "cell_type": "code",
   "execution_count": 18,
   "metadata": {},
   "outputs": [
    {
     "name": "stdout",
     "output_type": "stream",
     "text": [
      "7607\n",
      "In [18] used 0.0000 MiB RAM in 0.12s, peaked 0.00 MiB above current, total RAM usage 51.77 MiB\n"
     ]
    }
   ],
   "source": [
    "with open('var/krzyzacy-tom-pierwszy.txt', 'r') as f:\n",
    "    lines = (line for line in f)\n",
    "    count = reduce(lambda acc, i: acc + 1, lines, 0)\n",
    "    print(count)"
   ]
  },
  {
   "cell_type": "code",
   "execution_count": 19,
   "metadata": {},
   "outputs": [
    {
     "data": {
      "text/plain": [
       "'memory profile disabled'"
      ]
     },
     "execution_count": 19,
     "metadata": {},
     "output_type": "execute_result"
    }
   ],
   "source": [
    "%ipython_memory_usage_stop"
   ]
  },
  {
   "cell_type": "code",
   "execution_count": null,
   "metadata": {},
   "outputs": [],
   "source": []
  }
 ],
 "metadata": {
  "kernelspec": {
   "display_name": "Python 3 (ipykernel)",
   "language": "python",
   "name": "python3"
  },
  "language_info": {
   "codemirror_mode": {
    "name": "ipython",
    "version": 3
   },
   "file_extension": ".py",
   "mimetype": "text/x-python",
   "name": "python",
   "nbconvert_exporter": "python",
   "pygments_lexer": "ipython3",
   "version": "3.9.8"
  }
 },
 "nbformat": 4,
 "nbformat_minor": 4
}
