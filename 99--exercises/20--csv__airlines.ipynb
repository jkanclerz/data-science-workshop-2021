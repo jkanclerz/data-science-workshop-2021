{
 "cells": [
  {
   "cell_type": "markdown",
   "metadata": {},
   "source": [
    "[![Open In Colab](https://colab.research.google.com/assets/colab-badge.svg)](https://githubtocolab.com/jkanclerz/data-science-workshop-2021/blob/main/99--exercises/20--csv__airlines.ipynb)"
   ]
  },
  {
   "cell_type": "markdown",
   "metadata": {},
   "source": [
    "## Airlines\n",
    "\n",
    "https://www.kaggle.com/sherrytp/airline-delay-analysis\n",
    "https://www.kaggle.com/sherrytp/airline-delay-analysis/download\n",
    "\n",
    "\n",
    "### Pytania \n",
    "* ile wynosiło średnie opóźnienie\n",
    "* który przewoźnik spóźnia się średnio najwięcej? \n",
    "* czy jest trasa na której występują największe średnie opóźnienia?\n",
    "* jak zmieniają się opóźnienia na trasach względem roku?"
   ]
  },
  {
   "cell_type": "code",
   "execution_count": null,
   "metadata": {},
   "outputs": [],
   "source": []
  }
 ],
 "metadata": {
  "kernelspec": {
   "display_name": "Python 3 (ipykernel)",
   "language": "python",
   "name": "python3"
  },
  "language_info": {
   "codemirror_mode": {
    "name": "ipython",
    "version": 3
   },
   "file_extension": ".py",
   "mimetype": "text/x-python",
   "name": "python",
   "nbconvert_exporter": "python",
   "pygments_lexer": "ipython3",
   "version": "3.9.8"
  }
 },
 "nbformat": 4,
 "nbformat_minor": 4
}
