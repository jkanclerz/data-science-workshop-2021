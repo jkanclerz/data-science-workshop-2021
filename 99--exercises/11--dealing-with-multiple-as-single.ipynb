{
 "cells": [
  {
   "cell_type": "markdown",
   "metadata": {},
   "source": [
    "[![Open In Colab](https://colab.research.google.com/assets/colab-badge.svg)](https://githubtocolab.com/jkanclerz/data-science-workshop-2021/blob/main/99--exercises/11--dealing-with-multiple-as-single.ipynb)"
   ]
  },
  {
   "cell_type": "markdown",
   "metadata": {},
   "source": [
    "## Spłaszczanie struktur danych\n",
    "\n",
    "* Lista List -> transformacaja spłaszczenia -> Lista\n",
    "* List<List<Item>> -> flat -> List<Item>\n",
    "\n",
    "Upraszcza przetwarzanie jednostkowego rekordu\n",
    "\n",
    "Przykłady\n",
    "* wiersza / linnie w plikach kiedy operujemy na wielu plikach gdy chcemy dokonać manipulacji na wierszu\n",
    "    * [Lista Plików [Lista wierszy]] \n",
    "* Dane ze stronnicowanych źródeł gdy chcemy manipulować 1 rekordem\n",
    "    * [Lista Strona [Lista danych źródłowych]]\n"
   ]
  },
  {
   "cell_type": "markdown",
   "metadata": {},
   "source": [
    "### Struktura wejściowa"
   ]
  },
  {
   "cell_type": "code",
   "execution_count": 1,
   "metadata": {},
   "outputs": [],
   "source": [
    "x = [[1,2,3,4,5], [7,8,9], [10,11,12,13]]"
   ]
  },
  {
   "cell_type": "markdown",
   "metadata": {},
   "source": [
    "### Przekształcenie 1"
   ]
  },
  {
   "cell_type": "code",
   "execution_count": 2,
   "metadata": {},
   "outputs": [],
   "source": [
    "from functools import reduce"
   ]
  },
  {
   "cell_type": "code",
   "execution_count": 3,
   "metadata": {},
   "outputs": [],
   "source": [
    "as_single = reduce(lambda acc,i: acc + i, x)"
   ]
  },
  {
   "cell_type": "code",
   "execution_count": 4,
   "metadata": {},
   "outputs": [
    {
     "name": "stdout",
     "output_type": "stream",
     "text": [
      "[1, 2, 3, 4, 5, 7, 8, 9, 10, 11, 12, 13]\n"
     ]
    }
   ],
   "source": [
    "print(as_single)"
   ]
  },
  {
   "cell_type": "markdown",
   "metadata": {},
   "source": [
    "### Przekształcenie 2"
   ]
  },
  {
   "cell_type": "code",
   "execution_count": null,
   "metadata": {},
   "outputs": [],
   "source": [
    "from itertools import chain"
   ]
  },
  {
   "cell_type": "code",
   "execution_count": null,
   "metadata": {},
   "outputs": [],
   "source": [
    "single = chain.from_iterable(x)"
   ]
  },
  {
   "cell_type": "code",
   "execution_count": null,
   "metadata": {},
   "outputs": [],
   "source": [
    "print(list(single))"
   ]
  },
  {
   "cell_type": "markdown",
   "metadata": {},
   "source": [
    "## Usecase"
   ]
  },
  {
   "cell_type": "markdown",
   "metadata": {},
   "source": [
    "### nested data"
   ]
  },
  {
   "cell_type": "code",
   "execution_count": 6,
   "metadata": {},
   "outputs": [],
   "source": [
    "employees = [\n",
    "    {\n",
    "        'name': \"Jakub\",\n",
    "        'hobbies': ['diy', \"bike\", \"lego\"]\n",
    "    },\n",
    "    {\n",
    "        'name': \"Ola\",\n",
    "        'hobbies': ['lego', \"sport\", \"dance\"]\n",
    "    },\n",
    "    {\n",
    "        'name': \"Michał\",\n",
    "        'hobbies': ['gym', \"sport\", \"games\"]\n",
    "    }\n",
    "]"
   ]
  },
  {
   "cell_type": "code",
   "execution_count": 11,
   "metadata": {},
   "outputs": [],
   "source": [
    "from itertools import chain\n",
    "\n",
    "list_of_hobbies = map(lambda w: w['hobbies'], employees)\n",
    "as_iterable = chain.from_iterable(list_of_hobbies)\n",
    "just_unique = set(as_iterable)"
   ]
  },
  {
   "cell_type": "code",
   "execution_count": 12,
   "metadata": {},
   "outputs": [
    {
     "name": "stdout",
     "output_type": "stream",
     "text": [
      "{'games', 'gym', 'dance', 'bike', 'sport', 'lego', 'diy'}\n"
     ]
    }
   ],
   "source": [
    "print(just_unique)"
   ]
  },
  {
   "cell_type": "markdown",
   "metadata": {},
   "source": [
    "## multiple files\n"
   ]
  },
  {
   "cell_type": "code",
   "execution_count": 13,
   "metadata": {},
   "outputs": [
    {
     "name": "stdout",
     "output_type": "stream",
     "text": [
      "--2021-11-20 09:16:45--  https://uek-krakow.s3-eu-west-1.amazonaws.com/data-science/datasets/gpw_tweets.zip\n",
      "Resolving uek-krakow.s3-eu-west-1.amazonaws.com (uek-krakow.s3-eu-west-1.amazonaws.com)... 52.218.105.99\n",
      "Connecting to uek-krakow.s3-eu-west-1.amazonaws.com (uek-krakow.s3-eu-west-1.amazonaws.com)|52.218.105.99|:443... connected.\n",
      "HTTP request sent, awaiting response... 200 OK\n",
      "Length: 76214 (74K) [application/zip]\n",
      "Saving to: ‘var/gpw_tweets.zip’\n",
      "\n",
      "gpw_tweets.zip      100%[===================>]  74.43K   291KB/s    in 0.3s    \n",
      "\n",
      "2021-11-20 09:16:45 (291 KB/s) - ‘var/gpw_tweets.zip’ saved [76214/76214]\n",
      "\n"
     ]
    }
   ],
   "source": [
    "!mkdir -p var/\n",
    "!wget https://uek-krakow.s3-eu-west-1.amazonaws.com/data-science/datasets/gpw_tweets.zip -P var/"
   ]
  },
  {
   "cell_type": "code",
   "execution_count": 15,
   "metadata": {},
   "outputs": [
    {
     "name": "stdout",
     "output_type": "stream",
     "text": [
      "Archive:  var/gpw_tweets.zip\r\n",
      "   creating: var/tweets/\r\n",
      "  inflating: var/tweets/pknorlensa.list  \r\n",
      "  inflating: var/tweets/tauronpolskaenergiasa.list  \r\n",
      "  inflating: var/tweets/alior.list   \r\n",
      "  inflating: var/tweets/kghmpolskamiedz�?sa.list  \r\n",
      "  inflating: var/tweets/grupalotossa.list  \r\n",
      "  inflating: var/tweets/cdprojektsa.list  \r\n",
      "  inflating: var/tweets/dinopolskasa.list  \r\n",
      "  inflating: var/tweets/allegro.list  \r\n",
      "  inflating: var/tweets/cccsa.list   \r\n",
      "  inflating: var/tweets/cyfrowypolsatsa.list  \r\n",
      "  inflating: var/tweets/pkobpsa.list  \r\n",
      "  inflating: var/tweets/pgesa.list   \r\n",
      "  inflating: var/tweets/aliorbanksa.list  \r\n",
      "  inflating: var/tweets/orangepolskasa.list  \r\n",
      "  inflating: var/tweets/jastrzębskaspo�?�?kawęglowasa.list  \r\n",
      "  inflating: var/tweets/pzusa.list   \r\n",
      "  inflating: var/tweets/allegro.eusa.list  \r\n",
      "  inflating: var/tweets/playcommunicationssa.list  \r\n",
      "  inflating: var/tweets/santanderbankpolskasa.list  \r\n",
      "  inflating: var/tweets/pgnigsa.list  \r\n",
      "  inflating: var/tweets/bankpekaosa.list  \r\n",
      "  inflating: var/tweets/lppsa.list   \r\n"
     ]
    }
   ],
   "source": [
    "!unzip var/gpw_tweets.zip -d var/"
   ]
  },
  {
   "cell_type": "code",
   "execution_count": 18,
   "metadata": {},
   "outputs": [],
   "source": [
    "import glob\n",
    "import itertools\n",
    "import json\n",
    "files_paths = glob.glob('./var/tweets/*.list')"
   ]
  },
  {
   "cell_type": "markdown",
   "metadata": {},
   "source": [
    "<!--\n",
    "files = (open(file, 'r') for file in files_paths)\n",
    "files_lines = ((line for line in f) for f in files)\n",
    "lines = itertools.chain.from_iterable(files_lines)\n",
    "docs = (json.loads(line) for line in lines)\n",
    "users = (doc.get('user').get('screen_name') for doc in docs)\n",
    "\n",
    "from collections import Counter\n",
    "cnt = Counter(users)\n",
    "cnt.most_common(10)\n",
    "-->\n",
    "\n",
    "\n",
    "\n",
    "\n",
    "\n",
    "\n",
    "\n",
    "\n",
    "\n"
   ]
  },
  {
   "cell_type": "code",
   "execution_count": 19,
   "metadata": {},
   "outputs": [
    {
     "data": {
      "text/plain": [
       "['./var/tweets/pknorlensa.list', './var/tweets/tauronpolskaenergiasa.list']"
      ]
     },
     "execution_count": 19,
     "metadata": {},
     "output_type": "execute_result"
    }
   ],
   "source": [
    "files_paths[:2]"
   ]
  },
  {
   "cell_type": "code",
   "execution_count": 21,
   "metadata": {},
   "outputs": [
    {
     "name": "stdout",
     "output_type": "stream",
     "text": [
      "{\"created_at\": \"Fri Nov 20 05:02:08 +0000 2020\", \"id\": 1329651215110729728, \"id_str\": \"1329651215110729728\", \"text\": \"@DanielObajtek @PKN_ORLEN Wiezyczki tez s\\u0105?\", \"truncated\": false, \"entities\": {\"hashtags\": [], \"symbols\": [], \"user_mentions\": [{\"screen_name\": \"DanielObajtek\", \"name\": \"Daniel Obajtek\", \"id\": 978494421011501056, \"id_str\": \"978494421011501056\", \"indices\": [0, 14]}, {\"screen_name\": \"PKN_ORLEN\", \"name\": \"ORLEN\", \"id\": 1960449908, \"id_str\": \"1960449908\", \"indices\": [15, 25]}], \"urls\": []}, \"metadata\": {\"iso_language_code\": \"pl\", \"result_type\": \"recent\"}, \"source\": \"<a href=\\\"https://mobile.twitter.com\\\" rel=\\\"nofollow\\\">Twitter Web App</a>\", \"in_reply_to_status_id\": 1329410758086701058, \"in_reply_to_status_id_str\": \"1329410758086701058\", \"in_reply_to_user_id\": 978494421011501056, \"in_reply_to_user_id_str\": \"978494421011501056\", \"in_reply_to_screen_name\": \"DanielObajtek\", \"user\": {\"id\": 714340845273669633, \"id_str\": \"714340845273669633\", \"name\": \"iwona barczak\\u2764\\ud83c\\uddf5\\ud83c\\uddf1#BabiesLivesMatter\", \"screen_name\": \"piegusek1\", \"location\": \"\", \"description\": \"\\ud83c\\uddf5\\ud83c\\uddf1\\ud83d\\udcaf\", \"url\": null, \"entities\": {\"description\": {\"urls\": []}}, \"protected\": false, \"followers_count\": 303, \"friends_count\": 216, \"listed_count\": 0, \"created_at\": \"Mon Mar 28 06:38:24 +0000 2016\", \"favourites_count\": 8375, \"utc_offset\": null, \"time_zone\": null, \"geo_enabled\": false, \"verified\": false, \"statuses_count\": 9910, \"lang\": null, \"contributors_enabled\": false, \"is_translator\": false, \"is_translation_enabled\": false, \"profile_background_color\": \"000000\", \"profile_background_image_url\": \"http://abs.twimg.com/images/themes/theme1/bg.png\", \"profile_background_image_url_https\": \"https://abs.twimg.com/images/themes/theme1/bg.png\", \"profile_background_tile\": false, \"profile_image_url\": \"http://pbs.twimg.com/profile_images/851898394062794754/RgtHoYbx_normal.jpg\", \"profile_image_url_https\": \"https://pbs.twimg.com/profile_images/851898394062794754/RgtHoYbx_normal.jpg\", \"profile_banner_url\": \"https://pbs.twimg.com/profile_banners/714340845273669633/1580982390\", \"profile_link_color\": \"1B95E0\", \"profile_sidebar_border_color\": \"000000\", \"profile_sidebar_fill_color\": \"000000\", \"profile_text_color\": \"000000\", \"profile_use_background_image\": false, \"has_extended_profile\": false, \"default_profile\": false, \"default_profile_image\": false, \"following\": false, \"follow_request_sent\": false, \"notifications\": false, \"translator_type\": \"none\"}, \"geo\": null, \"coordinates\": null, \"place\": null, \"contributors\": null, \"is_quote_status\": false, \"retweet_count\": 0, \"favorite_count\": 0, \"favorited\": false, \"retweeted\": false, \"lang\": \"pl\"}\n",
      "\n"
     ]
    }
   ],
   "source": [
    "with open('./var/tweets/pknorlensa.list') as f:\n",
    "    print(f.readline())"
   ]
  },
  {
   "cell_type": "code",
   "execution_count": 52,
   "metadata": {},
   "outputs": [],
   "source": [
    "def file_lines(file_path):\n",
    "    with open(file_path) as f:\n",
    "        yield from f"
   ]
  },
  {
   "cell_type": "code",
   "execution_count": 53,
   "metadata": {},
   "outputs": [],
   "source": [
    "all_files_all_lines_nested = (file_lines(path) for path in files_paths)"
   ]
  },
  {
   "cell_type": "code",
   "execution_count": 54,
   "metadata": {},
   "outputs": [
    {
     "data": {
      "text/plain": [
       "<generator object file_lines at 0x105210510>"
      ]
     },
     "execution_count": 54,
     "metadata": {},
     "output_type": "execute_result"
    }
   ],
   "source": [
    "next(all_files_all_lines_nested)"
   ]
  },
  {
   "cell_type": "code",
   "execution_count": 55,
   "metadata": {},
   "outputs": [],
   "source": [
    "all_lines = chain.from_iterable(all_files_all_lines_nested)"
   ]
  },
  {
   "cell_type": "code",
   "execution_count": 56,
   "metadata": {},
   "outputs": [
    {
     "data": {
      "text/plain": [
       "'{\"created_at\": \"Fri Nov 20 08:34:13 +0000 2020\", \"id\": 1329704591219363841, \"id_str\": \"1329704591219363841\", \"text\": \"#PolskiKompas2020 Marcin #Chludzi\\\\u0144ski, prezes #KGHM Polska Mied\\\\u017a: W warunkach pandemii dzi\\\\u0119ki szybkiemu wdro\\\\u017ceniu z\\\\u2026 https://t.co/dgzepN64Nk\", \"truncated\": true, \"entities\": {\"hashtags\": [{\"text\": \"PolskiKompas2020\", \"indices\": [0, 17]}, {\"text\": \"Chludzi\\\\u0144ski\", \"indices\": [25, 37]}, {\"text\": \"KGHM\", \"indices\": [46, 51]}], \"symbols\": [], \"user_mentions\": [], \"urls\": [{\"url\": \"https://t.co/dgzepN64Nk\", \"expanded_url\": \"https://twitter.com/i/web/status/1329704591219363841\", \"display_url\": \"twitter.com/i/web/status/1\\\\u2026\", \"indices\": [117, 140]}]}, \"metadata\": {\"iso_language_code\": \"pl\", \"result_type\": \"recent\"}, \"source\": \"<a href=\\\\\"https://mobile.twitter.com\\\\\" rel=\\\\\"nofollow\\\\\">Twitter Web App</a>\", \"in_reply_to_status_id\": null, \"in_reply_to_status_id_str\": null, \"in_reply_to_user_id\": null, \"in_reply_to_user_id_str\": null, \"in_reply_to_screen_name\": null, \"user\": {\"id\": 469251331, \"id_str\": \"469251331\", \"name\": \"wGospodarce.pl\", \"screen_name\": \"wgospodarce\", \"location\": \"Polska\", \"description\": \"Informacje o stanie polskiej gospodarki\", \"url\": \"http://t.co/huHYY83gGQ\", \"entities\": {\"url\": {\"urls\": [{\"url\": \"http://t.co/huHYY83gGQ\", \"expanded_url\": \"http://wgospodarce.pl/\", \"display_url\": \"wgospodarce.pl\", \"indices\": [0, 22]}]}, \"description\": {\"urls\": []}}, \"protected\": false, \"followers_count\": 6494, \"friends_count\": 601, \"listed_count\": 129, \"created_at\": \"Fri Jan 20 11:51:27 +0000 2012\", \"favourites_count\": 1846, \"utc_offset\": null, \"time_zone\": null, \"geo_enabled\": false, \"verified\": false, \"statuses_count\": 80330, \"lang\": null, \"contributors_enabled\": false, \"is_translator\": false, \"is_translation_enabled\": false, \"profile_background_color\": \"000000\", \"profile_background_image_url\": \"http://abs.twimg.com/images/themes/theme1/bg.png\", \"profile_background_image_url_https\": \"https://abs.twimg.com/images/themes/theme1/bg.png\", \"profile_background_tile\": false, \"profile_image_url\": \"http://pbs.twimg.com/profile_images/900969626615529472/iphwFbxc_normal.jpg\", \"profile_image_url_https\": \"https://pbs.twimg.com/profile_images/900969626615529472/iphwFbxc_normal.jpg\", \"profile_banner_url\": \"https://pbs.twimg.com/profile_banners/469251331/1503642976\", \"profile_link_color\": \"3B94D9\", \"profile_sidebar_border_color\": \"000000\", \"profile_sidebar_fill_color\": \"000000\", \"profile_text_color\": \"000000\", \"profile_use_background_image\": false, \"has_extended_profile\": false, \"default_profile\": false, \"default_profile_image\": false, \"following\": false, \"follow_request_sent\": false, \"notifications\": false, \"translator_type\": \"none\"}, \"geo\": null, \"coordinates\": null, \"place\": null, \"contributors\": null, \"is_quote_status\": false, \"retweet_count\": 0, \"favorite_count\": 0, \"favorited\": false, \"retweeted\": false, \"possibly_sensitive\": false, \"lang\": \"pl\"}\\n'"
      ]
     },
     "execution_count": 56,
     "metadata": {},
     "output_type": "execute_result"
    }
   ],
   "source": [
    "next(all_lines)"
   ]
  },
  {
   "cell_type": "code",
   "execution_count": 57,
   "metadata": {},
   "outputs": [],
   "source": [
    "import json\n",
    "as_parsed_json = (json.loads(tweet_as_string) for tweet_as_string in all_lines)"
   ]
  },
  {
   "cell_type": "code",
   "execution_count": 59,
   "metadata": {},
   "outputs": [
    {
     "data": {
      "text/plain": [
       "'Trwa wideotransmisja z prezentacji przez Zarząd #KGHM ⚒️ Polska Miedź S.A. wyników Grupy KGHM za III kw. 2020 r. 📊… https://t.co/ELEEdQghle'"
      ]
     },
     "execution_count": 59,
     "metadata": {},
     "output_type": "execute_result"
    }
   ],
   "source": [
    "next(as_parsed_json)['text']"
   ]
  },
  {
   "cell_type": "code",
   "execution_count": null,
   "metadata": {},
   "outputs": [],
   "source": []
  }
 ],
 "metadata": {
  "kernelspec": {
   "display_name": "Python 3 (ipykernel)",
   "language": "python",
   "name": "python3"
  },
  "language_info": {
   "codemirror_mode": {
    "name": "ipython",
    "version": 3
   },
   "file_extension": ".py",
   "mimetype": "text/x-python",
   "name": "python",
   "nbconvert_exporter": "python",
   "pygments_lexer": "ipython3",
   "version": "3.9.8"
  }
 },
 "nbformat": 4,
 "nbformat_minor": 4
}
