{
 "cells": [
  {
   "cell_type": "markdown",
   "id": "65ccaaf3",
   "metadata": {},
   "source": [
    "[![Open In Colab](https://colab.research.google.com/assets/colab-badge.svg)](https://githubtocolab.com/jkanclerz/data-science-workshop-2021/blob/main/99--exercises/22--jobs-json.ipynb)"
   ]
  },
  {
   "cell_type": "markdown",
   "id": "fb24090b",
   "metadata": {},
   "source": [
    "## Jobs "
   ]
  },
  {
   "cell_type": "code",
   "execution_count": 9,
   "id": "442e4737",
   "metadata": {},
   "outputs": [
    {
     "name": "stdout",
     "output_type": "stream",
     "text": [
      "File ‘var/jobs.zip’ already there; not retrieving.\r\n",
      "\r\n"
     ]
    }
   ],
   "source": [
    "!mkdir -p var/\n",
    "!wget -nc https://s3.eu-central-1.amazonaws.com/jkan.pl/data-science/uek/jobs.zip -P var/"
   ]
  },
  {
   "cell_type": "code",
   "execution_count": 10,
   "id": "7ddbcf9a",
   "metadata": {},
   "outputs": [
    {
     "name": "stdout",
     "output_type": "stream",
     "text": [
      "Archive:  var/jobs.zip\r\n"
     ]
    }
   ],
   "source": [
    "!unzip -u var/jobs.zip -d var/jobs_dataset"
   ]
  },
  {
   "cell_type": "code",
   "execution_count": 11,
   "id": "e820a3e6",
   "metadata": {},
   "outputs": [],
   "source": [
    "import json"
   ]
  },
  {
   "cell_type": "code",
   "execution_count": 12,
   "id": "b5e9feb0",
   "metadata": {},
   "outputs": [],
   "source": [
    "example_job = json.load(open('var/jobs_dataset/0001.json', 'r'))"
   ]
  },
  {
   "cell_type": "code",
   "execution_count": 13,
   "id": "06e16782",
   "metadata": {},
   "outputs": [
    {
     "data": {
      "text/plain": [
       "{'id': 'BJ71EQKO',\n",
       " 'apply': {'url': 'https://system.erecruiter.pl/FormTemplates/RecruitmentForm.aspx?WebID=f5e71a6c800d400994a23d71cd05c44e',\n",
       "  'onlineInterviewAvailable': True},\n",
       " 'specs': {'details': {'custom': []},\n",
       "  'dailyTasks': ['#Udział w projektach w zakresie testów aplikacji opartych o technologie webowe oraz mobilne',\n",
       "   '#Projektowanie scenariuszy dla testów systemowych i integracyjnych',\n",
       "   '#Wspieranie programistów w analizie i naprawie defektów',\n",
       "   '#Przygotowywanie i prowadzenie testów UAT',\n",
       "   '#Konfigurowanie i utrzymanie środowiska testowego',\n",
       "   '#Przygotowywanie danych testowych',\n",
       "   '#Wspieranie Lidera Testów we wdrażaniu usprawnień',\n",
       "   '#Komunikacja z klientem wewnętrznym',\n",
       "   '#Uczestniczenie w cyklu rozwoju oprogramowania jako część zespołu Scrumowego'],\n",
       "  'travelling': 'none',\n",
       "  'workProfile': {'type': 'mainlyBugs'},\n",
       "  'referral': {'allowed': False}},\n",
       " 'title': 'Tester Systemów Informatycznych',\n",
       " 'basics': {'category': 'frontend',\n",
       "  'seniority': ['Mid'],\n",
       "  'technology': '.net'},\n",
       " 'company': {'logo': '/upload/posting/Benefit_Systems_SA_20191203_133907.jpeg',\n",
       "  'name': 'Benefit Systems',\n",
       "  'size': '40+',\n",
       "  'consentsInfo': {'marketingInfo': False, 'termsAndConditions': True},\n",
       "  'additionalContactEmails': ['']},\n",
       " 'details': {'quote': '',\n",
       "  'description': 'Masz doświadczenie w testowaniu aplikacji i raportowaniu błędów? \\nWspółpracowałeś/łaś z klientami wewnętrznymi/zewnętrznymi przy tworzeniu rozwiązań informatycznych?\\nZajmowałeś/aś się przeglądami wymagań i projektowaniem scenariuszy testowych?\\nMasz doświadczeniem w pracy z WebService,SoapUI,Postman?',\n",
       "  'quoteAuthor': ''},\n",
       " 'preview': '',\n",
       " 'benefits': {'benefits': [],\n",
       "  'equipment': {'computer': 'Notebook',\n",
       "   'monitors': 'If needed',\n",
       "   'operatingSystems': {'lin': False, 'mac': False, 'win': True}},\n",
       "  'officePerks': ['Gym',\n",
       "   'Free coffee',\n",
       "   'Bike parking',\n",
       "   'Shower',\n",
       "   'Startup atmosphere',\n",
       "   'No dress code']},\n",
       " 'location': {'places': [{'country': {'code': 'POL', 'name': 'Poland'},\n",
       "    'city': 'Warszawa',\n",
       "    'street': 'Plac Europejski 2',\n",
       "    'postalCode': '',\n",
       "    'geoLocation': {'latitude': 52.2325258, 'longitude': 20.9837043}}],\n",
       "  'remote': 0,\n",
       "  'multicityCount': 5,\n",
       "  'covidTimeRemotely': True,\n",
       "  'remoteFlexible': False},\n",
       " 'essentials': {'salary': {'types': {'b2b': {'range': [8000.0, 10000.0],\n",
       "     'period': 'Month',\n",
       "     'paidHoliday': False}},\n",
       "   'currency': 'PLN'},\n",
       "  'contract': {'start': 'ASAP',\n",
       "   'duration': {'length': 1.0, 'interval': 'years'}}},\n",
       " 'methodology': [{'name': 'Integration tests', 'values': ['API testing']},\n",
       "  {'name': 'Tester(s)', 'values': ['']},\n",
       "  {'name': 'Agile management', 'values': ['Agile']},\n",
       "  {'name': 'Knowledge repository', 'values': ['Confluence']}],\n",
       " 'oneTimeEdit': False,\n",
       " 'requirements': {'musts': [{'value': '.NET', 'type': 'main'},\n",
       "   {'value': 'webservice', 'type': 'main'},\n",
       "   {'value': 'soapui', 'type': 'main'},\n",
       "   {'value': 'postman', 'type': 'main'},\n",
       "   {'value': 'http', 'type': 'main'},\n",
       "   {'value': 'https', 'type': 'main'},\n",
       "   {'value': 'jira', 'type': 'main'},\n",
       "   {'value': 'UAT', 'type': 'main'}],\n",
       "  'nices': [{'value': 'php', 'type': 'main'},\n",
       "   {'value': 'zephyr', 'type': 'main'},\n",
       "   {'value': 'confluence', 'type': 'main'},\n",
       "   {'value': 'sql', 'type': 'main'}]},\n",
       " 'invalidSections': {'consents': {'infoClause': 'The Controller of your personal data is Benefit Systems, with registered office at Plac Europejski 2, Warszawa. Your data is processed for the purpose of the current recruitment process. Providing data is voluntary but necessary for this purpose. Processing your data is lawful because it is necessary in order to take steps at the request of the data subject prior to entering into a contract (article 6 point 1b of Regulation EU 2016/679 - GDPR). Your personal data will be deleted when the current recruitment process is finished, unless a separate consent is provided below. You have the right to access, correct, modify, update, rectify, request for the transfer or deletion of data, withdrawal of consent or objection.',\n",
       "   'consentsTags': {'city': 'Warszawa',\n",
       "    'street': 'Plac Europejski 2',\n",
       "    'companyName': 'Benefit Systems'},\n",
       "   'futureConsent': False,\n",
       "   'currentConsent': False,\n",
       "   'policyAccepted': True,\n",
       "   'futureConsentMsg': 'I agree to the processing of my personal data by Benefit Systems located in Warszawa for the purpose of future recruitment.',\n",
       "   'currentConsentMsg': 'I agree to the processing of my additional personal data by Benefit Systems located in Warszawa for the purpose of recruitment. This consent enables processing of any additional data provided in your application.',\n",
       "   'currentConsentLabel': 'Processing data in this recruitment',\n",
       "   'futureConsentRequired': False,\n",
       "   'currentConsentRequired': False,\n",
       "   'personalDataRequestLink': ''}},\n",
       " 'sectionsValidation': {'apply': True,\n",
       "  'terms': True,\n",
       "  'title': True,\n",
       "  'basics': True,\n",
       "  'company': True,\n",
       "  'contact': True,\n",
       "  'details': True,\n",
       "  'preview': True,\n",
       "  'benefits': True,\n",
       "  'consents': False,\n",
       "  'location': True,\n",
       "  'essentials': True,\n",
       "  'methodology': True,\n",
       "  'uniqueValue': True,\n",
       "  'requirements': True},\n",
       " 'posted': 1610708416870,\n",
       " 'status': 'PUBLISHED',\n",
       " 'postingUrl': 'tester-systemow-informatycznych-benefit-systems-warszawa-bj71eqko',\n",
       " 'regions': ['pl'],\n",
       " 'meta': {'videosInCompanyProfileVisible': True},\n",
       " 'companyUrl': '/company/benefit-systems-xnuhzrll',\n",
       " 'seo': {'title': 'Tester Systemów Informatycznych @ Benefit Systems',\n",
       "  'description': 'Tester Systemów Informatycznych @ Benefit Systems Warszawa POL 8.0k-10.0k (B2B) PLN / month'}}"
      ]
     },
     "execution_count": 13,
     "metadata": {},
     "output_type": "execute_result"
    }
   ],
   "source": [
    "example_job"
   ]
  },
  {
   "cell_type": "markdown",
   "id": "a0e0eb18",
   "metadata": {},
   "source": [
    "## Zadanie\n",
    "\n",
    "* Znajdź pozostałe wymagania na stanowiskach zawierających python jako jeden z wymogów.\n",
    "* Jakich benefitów można się spodziewać w miejsach pracy zw"
   ]
  }
 ],
 "metadata": {
  "kernelspec": {
   "display_name": "Python 3 (ipykernel)",
   "language": "python",
   "name": "python3"
  },
  "language_info": {
   "codemirror_mode": {
    "name": "ipython",
    "version": 3
   },
   "file_extension": ".py",
   "mimetype": "text/x-python",
   "name": "python",
   "nbconvert_exporter": "python",
   "pygments_lexer": "ipython3",
   "version": "3.9.8"
  }
 },
 "nbformat": 4,
 "nbformat_minor": 5
}
