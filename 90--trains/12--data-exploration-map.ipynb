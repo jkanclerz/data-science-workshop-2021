{
 "cells": [
  {
   "cell_type": "markdown",
   "metadata": {},
   "source": [
    "[![Open In Colab](https://colab.research.google.com/assets/colab-badge.svg)](https://githubtocolab.com/jkanclerz/data-science-workshop-2021/blob/main/90--trains/12--data-exploration-map.ipynb)\n",
    "\n",
    "\n"
   ]
  },
  {
   "cell_type": "code",
   "execution_count": null,
   "metadata": {},
   "outputs": [],
   "source": [
    "!apt-get install openjdk-8-jdk-headless -qq > /dev/null\n",
    "!wget https://dlcdn.apache.org/spark/spark-3.1.2/spark-3.1.2-bin-hadoop3.2.tgz -O spark-3.1.2-bin-hadoop3.2.tgz\n",
    "!tar xf spark-3.1.2-bin-hadoop3.2.tgz\n",
    "!pip install -q pyspark findspark"
   ]
  },
  {
   "cell_type": "code",
   "execution_count": 111,
   "metadata": {},
   "outputs": [],
   "source": [
    "from pyspark import SparkConf, SparkContext\n",
    "from pyspark.sql import SparkSession\n",
    "import os\n",
    "\n",
    "spark = SparkSession.builder \\\n",
    "    .master(\"local\") \\\n",
    "    .appName(\"Test it 2\") \\\n",
    "    .getOrCreate()\n",
    "sc = spark.sparkContext"
   ]
  },
  {
   "cell_type": "code",
   "execution_count": 112,
   "metadata": {},
   "outputs": [],
   "source": [
    "from pyspark.sql import types"
   ]
  },
  {
   "cell_type": "code",
   "execution_count": 113,
   "metadata": {},
   "outputs": [],
   "source": [
    "types.StructType?"
   ]
  },
  {
   "cell_type": "code",
   "execution_count": 114,
   "metadata": {},
   "outputs": [],
   "source": [
    "from pyspark.sql import types\n",
    "from pyspark.sql.types import StructType, LongType, StructField, TimestampType"
   ]
  },
  {
   "cell_type": "code",
   "execution_count": 115,
   "metadata": {},
   "outputs": [],
   "source": [
    "StructField?"
   ]
  },
  {
   "cell_type": "code",
   "execution_count": 116,
   "metadata": {},
   "outputs": [],
   "source": [
    "from pyspark.sql import types\n",
    "from pyspark.sql.types import StructType, LongType, StructField, TimestampType, StringType\n",
    "\n",
    "# root\n",
    "#  |-- train_id: long (nullable = true)\n",
    "#  |-- train_name: string (nullable = true)\n",
    "#  |-- schedule_date: timestamp (nullable = true)\n",
    "#  |-- schedule_id: long (nullable = true)\n",
    "#  |-- arrival_delay: long (nullable = true)\n",
    "#  |-- arrival_time: timestamp (nullable = true)\n",
    "#  |-- departure_delay: long (nullable = true)\n",
    "#  |-- departure_time: timestamp (nullable = true)\n",
    "#  |-- station_name: string (nullable = true)\n",
    "\n",
    "schema = StructType([\n",
    "        StructField('train_id', LongType()),\n",
    "        StructField('train_name', StringType()),\n",
    "        StructField('schedule_date', TimestampType()),\n",
    "        StructField('schedule_id', LongType()),\n",
    "        StructField('arrival_delay', LongType()),\n",
    "        StructField('arrival_time', TimestampType()),\n",
    "        StructField('departure_delay', LongType()),\n",
    "        StructField('departure_time', TimestampType()),\n",
    "        StructField('station_name', StringType())\n",
    "])\n",
    "    \n",
    "trains = spark.read.format(\"csv\")\\\n",
    "        .schema(schema)\\\n",
    "        .option(\"inferSchema\", \"true\")\\\n",
    "        .load(\"trains_sample.csv\")"
   ]
  },
  {
   "cell_type": "code",
   "execution_count": 119,
   "metadata": {},
   "outputs": [
    {
     "name": "stdout",
     "output_type": "stream",
     "text": [
      "root\n",
      " |-- train_id: long (nullable = true)\n",
      " |-- train_name: string (nullable = true)\n",
      " |-- schedule_date: timestamp (nullable = true)\n",
      " |-- schedule_id: long (nullable = true)\n",
      " |-- arrival_delay: long (nullable = true)\n",
      " |-- arrival_time: timestamp (nullable = true)\n",
      " |-- departure_delay: long (nullable = true)\n",
      " |-- departure_time: timestamp (nullable = true)\n",
      " |-- station_name: string (nullable = true)\n",
      "\n"
     ]
    }
   ],
   "source": [
    "trains.printSchema()"
   ]
  },
  {
   "cell_type": "code",
   "execution_count": 120,
   "metadata": {},
   "outputs": [],
   "source": [
    "from pyspark.sql import SQLContext\n",
    "sqlContext = SQLContext(sc)\n"
   ]
  },
  {
   "cell_type": "code",
   "execution_count": 121,
   "metadata": {},
   "outputs": [],
   "source": [
    "trains.registerTempTable(\"trains\")"
   ]
  },
  {
   "cell_type": "code",
   "execution_count": 122,
   "metadata": {},
   "outputs": [
    {
     "name": "stdout",
     "output_type": "stream",
     "text": [
      "Requirement already satisfied: requests in /usr/local/lib/python3.7/dist-packages (2.25.0)\n",
      "Requirement already satisfied: urllib3<1.27,>=1.21.1 in /usr/local/lib/python3.7/dist-packages (from requests) (1.26.2)\n",
      "Requirement already satisfied: idna<3,>=2.5 in /usr/local/lib/python3.7/dist-packages (from requests) (2.10)\n",
      "Requirement already satisfied: chardet<4,>=3.0.2 in /usr/local/lib/python3.7/dist-packages (from requests) (3.0.4)\n",
      "Requirement already satisfied: certifi>=2017.4.17 in /usr/local/lib/python3.7/dist-packages (from requests) (2020.11.8)\n",
      "Note: you may need to restart the kernel to use updated packages.\n"
     ]
    }
   ],
   "source": [
    "pip install requests"
   ]
  },
  {
   "cell_type": "code",
   "execution_count": 123,
   "metadata": {},
   "outputs": [],
   "source": [
    "LOCATION_URL = 'https://www.bazakolejowa.pl/index.php?dzial=stacje&id={}&ed=0&okno=polozenie'"
   ]
  },
  {
   "cell_type": "code",
   "execution_count": 124,
   "metadata": {},
   "outputs": [],
   "source": [
    "urls = [\n",
    "    LOCATION_URL.format(_id)\n",
    "    for _id in range(0, 40000)\n",
    "]"
   ]
  },
  {
   "cell_type": "code",
   "execution_count": 125,
   "metadata": {},
   "outputs": [],
   "source": [
    "urls = sc.parallelize(urls)"
   ]
  },
  {
   "cell_type": "code",
   "execution_count": 126,
   "metadata": {},
   "outputs": [],
   "source": [
    "import requests"
   ]
  },
  {
   "cell_type": "code",
   "execution_count": 127,
   "metadata": {},
   "outputs": [
    {
     "data": {
      "text/plain": [
       "['https://www.bazakolejowa.pl/index.php?dzial=stacje&id=0&ed=0&okno=polozenie',\n",
       " 'https://www.bazakolejowa.pl/index.php?dzial=stacje&id=1&ed=0&okno=polozenie']"
      ]
     },
     "execution_count": 127,
     "metadata": {},
     "output_type": "execute_result"
    }
   ],
   "source": [
    "urls.take(2)"
   ]
  },
  {
   "cell_type": "code",
   "execution_count": 128,
   "metadata": {},
   "outputs": [],
   "source": [
    "example = 'https://www.bazakolejowa.pl/index.php?dzial=stacje&id=20&ed=0&okno=polozenie'"
   ]
  },
  {
   "cell_type": "code",
   "execution_count": 129,
   "metadata": {},
   "outputs": [],
   "source": [
    "r = requests.get(example)"
   ]
  },
  {
   "cell_type": "code",
   "execution_count": 130,
   "metadata": {},
   "outputs": [],
   "source": [
    "example_coords_text = \"\"\"\n",
    "    <script>\n",
    "    mapInit(17.305097579956, 52.947267399096,9);\n",
    "        x = createStationMarker(17.305097579956, 52.947267399096,20, 'Gołańcz', 'wielkopolskie');\n",
    "        x.addTo(map); //.openPopup();\n",
    "            map.addLayer(osmGS)\n",
    "\n",
    "</script>\n",
    "\"\"\""
   ]
  },
  {
   "cell_type": "code",
   "execution_count": 147,
   "metadata": {},
   "outputs": [],
   "source": [
    "import re\n",
    "\n",
    "def extract_coords(text):\n",
    "\n",
    "    fn_match = re.search(r\"createStationMarker\\(.+\\)\", text)\n",
    "    try:\n",
    "        if fn_match:\n",
    "            text = fn_match[0]\n",
    "            text = text.replace('createStationMarker(', '',)[:-1]\n",
    "            parts = text.split(',')\n",
    "            parts = [part.strip() for part in parts]\n",
    "            parts = [part.replace(\"'\", \"\") for part in parts]\n",
    "            return (float(parts[0]), float(parts[1]), parts[3])\n",
    "    except ValueError as e:\n",
    "        return None\n",
    "    except Error as e:\n",
    "        return None\n",
    "\n",
    "assert (17.305097579956, 52.947267399096, 'Gołańcz') == extract_coords(example_coords_text)"
   ]
  },
  {
   "cell_type": "code",
   "execution_count": 148,
   "metadata": {},
   "outputs": [
    {
     "data": {
      "text/plain": [
       "[(17.734551429749, 52.849774139808, 'Żnin'),\n",
       " (17.4971, 52.843, 'Damasławek'),\n",
       " (17.2024, 52.8095, 'Wągrowiec'),\n",
       " (17.14403629303, 52.634000538908, 'Sława Wielkopolska'),\n",
       " (16.9112, 52.4013, 'Poznań Główny'),\n",
       " (18.244, 52.8049, 'Inowrocław'),\n",
       " (17.4856, 52.7556, 'Janowiec Wielkopolski'),\n",
       " (17.6047, 52.5296, 'Gniezno'),\n",
       " (17.946, 52.6582, 'Mogilno'),\n",
       " (16.8293, 52.6574, 'Oborniki Wielkopolskie')]"
      ]
     },
     "execution_count": 148,
     "metadata": {},
     "output_type": "execute_result"
    }
   ],
   "source": [
    "urls\\\n",
    "    .map(requests.get)\\\n",
    "    .filter(lambda r: r.status_code == 200)\\\n",
    "    .map(lambda r: r.text)\\\n",
    "    .map(extract_coords)\\\n",
    "    .filter(lambda x: x is not None)\\\n",
    "    .take(10)"
   ]
  },
  {
   "cell_type": "code",
   "execution_count": 149,
   "metadata": {},
   "outputs": [],
   "source": [
    "first_100 = urls\\\n",
    "    .map(requests.get)\\\n",
    "    .filter(lambda r: r.status_code == 200)\\\n",
    "    .map(lambda r: r.text)\\\n",
    "    .map(extract_coords)\\\n",
    "    .filter(lambda x: x is not None)\\\n",
    "    .take(1000)"
   ]
  },
  {
   "cell_type": "code",
   "execution_count": 150,
   "metadata": {},
   "outputs": [
    {
     "data": {
      "text/plain": [
       "list"
      ]
     },
     "execution_count": 150,
     "metadata": {},
     "output_type": "execute_result"
    }
   ],
   "source": [
    "type(first_100)"
   ]
  },
  {
   "cell_type": "code",
   "execution_count": 151,
   "metadata": {},
   "outputs": [
    {
     "data": {
      "text/plain": [
       "[(17.734551429749, 52.849774139808, 'Żnin'),\n",
       " (17.4971, 52.843, 'Damasławek'),\n",
       " (17.2024, 52.8095, 'Wągrowiec'),\n",
       " (17.14403629303, 52.634000538908, 'Sława Wielkopolska'),\n",
       " (16.9112, 52.4013, 'Poznań Główny'),\n",
       " (18.244, 52.8049, 'Inowrocław'),\n",
       " (17.4856, 52.7556, 'Janowiec Wielkopolski'),\n",
       " (17.6047, 52.5296, 'Gniezno'),\n",
       " (17.946, 52.6582, 'Mogilno'),\n",
       " (16.8293, 52.6574, 'Oborniki Wielkopolskie')]"
      ]
     },
     "execution_count": 151,
     "metadata": {},
     "output_type": "execute_result"
    }
   ],
   "source": [
    "first_100[:10]"
   ]
  },
  {
   "cell_type": "code",
   "execution_count": null,
   "metadata": {},
   "outputs": [],
   "source": [
    "DF = sqlContext.createDataFrame(first_100, ['lat', 'lng', 'station_name'])"
   ]
  },
  {
   "cell_type": "code",
   "execution_count": null,
   "metadata": {},
   "outputs": [],
   "source": [
    "DF.printSchema()"
   ]
  },
  {
   "cell_type": "code",
   "execution_count": null,
   "metadata": {},
   "outputs": [],
   "source": [
    "DF.registerTempTable('stations')"
   ]
  },
  {
   "cell_type": "code",
   "execution_count": null,
   "metadata": {},
   "outputs": [],
   "source": [
    "sqlContext.sql(\"\"\"\n",
    "    Select * from stations LIMIT 5\n",
    "\"\"\").show()"
   ]
  },
  {
   "cell_type": "code",
   "execution_count": null,
   "metadata": {},
   "outputs": [],
   "source": [
    "sqlContext.sql('''\n",
    "    Select * from trains t\n",
    "    JOIN stations s\n",
    "    ON s.station_name = t.station_name\n",
    "    limit 4\n",
    "''').show()"
   ]
  },
  {
   "cell_type": "markdown",
   "metadata": {},
   "source": [
    "\n",
    "### pozostaje narysować mapę najbardziej opóźnionych stacji, połączeń, siatki połączęń itp "
   ]
  },
  {
   "cell_type": "code",
   "execution_count": null,
   "metadata": {},
   "outputs": [],
   "source": [
    "import pandas as pd\n",
    "import matplotlib.pyplot as plt\n",
    "import geopandas as gpd\n",
    "import folium"
   ]
  },
  {
   "cell_type": "code",
   "execution_count": 109,
   "metadata": {},
   "outputs": [
    {
     "name": "stdout",
     "output_type": "stream",
     "text": [
      "File ‘file’ already there; not retrieving.\r\n",
      "\r\n"
     ]
    }
   ],
   "source": [
    "!wget -nc https://www.eea.europa.eu/data-and-maps/data/eea-reference-grids-2/gis-files/poland-shapefile/at_download/file"
   ]
  },
  {
   "cell_type": "code",
   "execution_count": 6,
   "metadata": {},
   "outputs": [
    {
     "name": "stdout",
     "output_type": "stream",
     "text": [
      "Archive:  file\n",
      "  inflating: poland/pl_100km.png     \n",
      "  inflating: poland/pl_100km.dbf     \n",
      "  inflating: poland/pl_100km.prj     \n",
      "  inflating: poland/pl_100km.shp     \n",
      "  inflating: poland/pl_100km.shx     \n",
      "  inflating: poland/pl_10km.png      \n",
      "  inflating: poland/pl_10km.dbf      \n",
      "  inflating: poland/pl_10km.prj      \n",
      "  inflating: poland/pl_10km.shp      \n",
      "  inflating: poland/pl_10km.shx      \n",
      "  inflating: poland/pl_1km.png       \n",
      "  inflating: poland/pl_1km.dbf       \n",
      "  inflating: poland/pl_1km.prj       \n",
      "  inflating: poland/pl_1km.shp       \n",
      "  inflating: poland/pl_1km.shx       \n"
     ]
    }
   ],
   "source": [
    "!unzip file -d poland"
   ]
  },
  {
   "cell_type": "code",
   "execution_count": 152,
   "metadata": {},
   "outputs": [],
   "source": [
    "stations_coords = first_100"
   ]
  },
  {
   "cell_type": "code",
   "execution_count": 153,
   "metadata": {},
   "outputs": [],
   "source": [
    "pl_map = gpd.read_file('./poland/pl_10km.shp')"
   ]
  },
  {
   "cell_type": "code",
   "execution_count": 154,
   "metadata": {},
   "outputs": [],
   "source": [
    "from shapely.geometry import Point"
   ]
  },
  {
   "cell_type": "code",
   "execution_count": 155,
   "metadata": {},
   "outputs": [],
   "source": [
    "df = pd.DataFrame(stations_coords, columns=['longitude', 'latitude', 'station'])"
   ]
  },
  {
   "cell_type": "code",
   "execution_count": 156,
   "metadata": {},
   "outputs": [
    {
     "data": {
      "text/html": [
       "<div>\n",
       "<style scoped>\n",
       "    .dataframe tbody tr th:only-of-type {\n",
       "        vertical-align: middle;\n",
       "    }\n",
       "\n",
       "    .dataframe tbody tr th {\n",
       "        vertical-align: top;\n",
       "    }\n",
       "\n",
       "    .dataframe thead th {\n",
       "        text-align: right;\n",
       "    }\n",
       "</style>\n",
       "<table border=\"1\" class=\"dataframe\">\n",
       "  <thead>\n",
       "    <tr style=\"text-align: right;\">\n",
       "      <th></th>\n",
       "      <th>longitude</th>\n",
       "      <th>latitude</th>\n",
       "      <th>station</th>\n",
       "    </tr>\n",
       "  </thead>\n",
       "  <tbody>\n",
       "    <tr>\n",
       "      <th>0</th>\n",
       "      <td>17.734551</td>\n",
       "      <td>52.849774</td>\n",
       "      <td>Żnin</td>\n",
       "    </tr>\n",
       "    <tr>\n",
       "      <th>1</th>\n",
       "      <td>17.497100</td>\n",
       "      <td>52.843000</td>\n",
       "      <td>Damasławek</td>\n",
       "    </tr>\n",
       "    <tr>\n",
       "      <th>2</th>\n",
       "      <td>17.202400</td>\n",
       "      <td>52.809500</td>\n",
       "      <td>Wągrowiec</td>\n",
       "    </tr>\n",
       "    <tr>\n",
       "      <th>3</th>\n",
       "      <td>17.144036</td>\n",
       "      <td>52.634001</td>\n",
       "      <td>Sława Wielkopolska</td>\n",
       "    </tr>\n",
       "    <tr>\n",
       "      <th>4</th>\n",
       "      <td>16.911200</td>\n",
       "      <td>52.401300</td>\n",
       "      <td>Poznań Główny</td>\n",
       "    </tr>\n",
       "    <tr>\n",
       "      <th>5</th>\n",
       "      <td>18.244000</td>\n",
       "      <td>52.804900</td>\n",
       "      <td>Inowrocław</td>\n",
       "    </tr>\n",
       "    <tr>\n",
       "      <th>6</th>\n",
       "      <td>17.485600</td>\n",
       "      <td>52.755600</td>\n",
       "      <td>Janowiec Wielkopolski</td>\n",
       "    </tr>\n",
       "    <tr>\n",
       "      <th>7</th>\n",
       "      <td>17.604700</td>\n",
       "      <td>52.529600</td>\n",
       "      <td>Gniezno</td>\n",
       "    </tr>\n",
       "    <tr>\n",
       "      <th>8</th>\n",
       "      <td>17.946000</td>\n",
       "      <td>52.658200</td>\n",
       "      <td>Mogilno</td>\n",
       "    </tr>\n",
       "    <tr>\n",
       "      <th>9</th>\n",
       "      <td>16.829300</td>\n",
       "      <td>52.657400</td>\n",
       "      <td>Oborniki Wielkopolskie</td>\n",
       "    </tr>\n",
       "  </tbody>\n",
       "</table>\n",
       "</div>"
      ],
      "text/plain": [
       "   longitude   latitude                 station\n",
       "0  17.734551  52.849774                    Żnin\n",
       "1  17.497100  52.843000              Damasławek\n",
       "2  17.202400  52.809500               Wągrowiec\n",
       "3  17.144036  52.634001      Sława Wielkopolska\n",
       "4  16.911200  52.401300           Poznań Główny\n",
       "5  18.244000  52.804900              Inowrocław\n",
       "6  17.485600  52.755600   Janowiec Wielkopolski\n",
       "7  17.604700  52.529600                 Gniezno\n",
       "8  17.946000  52.658200                 Mogilno\n",
       "9  16.829300  52.657400  Oborniki Wielkopolskie"
      ]
     },
     "execution_count": 156,
     "metadata": {},
     "output_type": "execute_result"
    }
   ],
   "source": [
    "df[:10]"
   ]
  },
  {
   "cell_type": "code",
   "execution_count": 157,
   "metadata": {},
   "outputs": [],
   "source": [
    "geometry=[Point(xy) for xy in zip(df['longitude'], df['latitude'])]"
   ]
  },
  {
   "cell_type": "code",
   "execution_count": 165,
   "metadata": {},
   "outputs": [],
   "source": [
    "geo_df = gpd.GeoDataFrame(df, geometry=geometry, crs=pl_map.crs)"
   ]
  },
  {
   "cell_type": "code",
   "execution_count": 166,
   "metadata": {},
   "outputs": [
    {
     "data": {
      "text/html": [
       "<div>\n",
       "<style scoped>\n",
       "    .dataframe tbody tr th:only-of-type {\n",
       "        vertical-align: middle;\n",
       "    }\n",
       "\n",
       "    .dataframe tbody tr th {\n",
       "        vertical-align: top;\n",
       "    }\n",
       "\n",
       "    .dataframe thead th {\n",
       "        text-align: right;\n",
       "    }\n",
       "</style>\n",
       "<table border=\"1\" class=\"dataframe\">\n",
       "  <thead>\n",
       "    <tr style=\"text-align: right;\">\n",
       "      <th></th>\n",
       "      <th>longitude</th>\n",
       "      <th>latitude</th>\n",
       "      <th>station</th>\n",
       "      <th>geometry</th>\n",
       "    </tr>\n",
       "  </thead>\n",
       "  <tbody>\n",
       "    <tr>\n",
       "      <th>0</th>\n",
       "      <td>17.734551</td>\n",
       "      <td>52.849774</td>\n",
       "      <td>Żnin</td>\n",
       "      <td>POINT (17.734551429749 52.849774139808)</td>\n",
       "    </tr>\n",
       "    <tr>\n",
       "      <th>1</th>\n",
       "      <td>17.497100</td>\n",
       "      <td>52.843000</td>\n",
       "      <td>Damasławek</td>\n",
       "      <td>POINT (17.4971 52.843)</td>\n",
       "    </tr>\n",
       "    <tr>\n",
       "      <th>2</th>\n",
       "      <td>17.202400</td>\n",
       "      <td>52.809500</td>\n",
       "      <td>Wągrowiec</td>\n",
       "      <td>POINT (17.2024 52.8095)</td>\n",
       "    </tr>\n",
       "    <tr>\n",
       "      <th>3</th>\n",
       "      <td>17.144036</td>\n",
       "      <td>52.634001</td>\n",
       "      <td>Sława Wielkopolska</td>\n",
       "      <td>POINT (17.14403629303 52.634000538908)</td>\n",
       "    </tr>\n",
       "    <tr>\n",
       "      <th>4</th>\n",
       "      <td>16.911200</td>\n",
       "      <td>52.401300</td>\n",
       "      <td>Poznań Główny</td>\n",
       "      <td>POINT (16.9112 52.4013)</td>\n",
       "    </tr>\n",
       "    <tr>\n",
       "      <th>5</th>\n",
       "      <td>18.244000</td>\n",
       "      <td>52.804900</td>\n",
       "      <td>Inowrocław</td>\n",
       "      <td>POINT (18.244 52.8049)</td>\n",
       "    </tr>\n",
       "    <tr>\n",
       "      <th>6</th>\n",
       "      <td>17.485600</td>\n",
       "      <td>52.755600</td>\n",
       "      <td>Janowiec Wielkopolski</td>\n",
       "      <td>POINT (17.4856 52.7556)</td>\n",
       "    </tr>\n",
       "    <tr>\n",
       "      <th>7</th>\n",
       "      <td>17.604700</td>\n",
       "      <td>52.529600</td>\n",
       "      <td>Gniezno</td>\n",
       "      <td>POINT (17.6047 52.5296)</td>\n",
       "    </tr>\n",
       "    <tr>\n",
       "      <th>8</th>\n",
       "      <td>17.946000</td>\n",
       "      <td>52.658200</td>\n",
       "      <td>Mogilno</td>\n",
       "      <td>POINT (17.946 52.6582)</td>\n",
       "    </tr>\n",
       "    <tr>\n",
       "      <th>9</th>\n",
       "      <td>16.829300</td>\n",
       "      <td>52.657400</td>\n",
       "      <td>Oborniki Wielkopolskie</td>\n",
       "      <td>POINT (16.8293 52.6574)</td>\n",
       "    </tr>\n",
       "  </tbody>\n",
       "</table>\n",
       "</div>"
      ],
      "text/plain": [
       "   longitude   latitude                 station  \\\n",
       "0  17.734551  52.849774                    Żnin   \n",
       "1  17.497100  52.843000              Damasławek   \n",
       "2  17.202400  52.809500               Wągrowiec   \n",
       "3  17.144036  52.634001      Sława Wielkopolska   \n",
       "4  16.911200  52.401300           Poznań Główny   \n",
       "5  18.244000  52.804900              Inowrocław   \n",
       "6  17.485600  52.755600   Janowiec Wielkopolski   \n",
       "7  17.604700  52.529600                 Gniezno   \n",
       "8  17.946000  52.658200                 Mogilno   \n",
       "9  16.829300  52.657400  Oborniki Wielkopolskie   \n",
       "\n",
       "                                  geometry  \n",
       "0  POINT (17.734551429749 52.849774139808)  \n",
       "1                   POINT (17.4971 52.843)  \n",
       "2                  POINT (17.2024 52.8095)  \n",
       "3   POINT (17.14403629303 52.634000538908)  \n",
       "4                  POINT (16.9112 52.4013)  \n",
       "5                   POINT (18.244 52.8049)  \n",
       "6                  POINT (17.4856 52.7556)  \n",
       "7                  POINT (17.6047 52.5296)  \n",
       "8                   POINT (17.946 52.6582)  \n",
       "9                  POINT (16.8293 52.6574)  "
      ]
     },
     "execution_count": 166,
     "metadata": {},
     "output_type": "execute_result"
    }
   ],
   "source": [
    "geo_df[:10]"
   ]
  },
  {
   "cell_type": "code",
   "execution_count": 176,
   "metadata": {},
   "outputs": [
    {
     "data": {
      "text/plain": [
       "<AxesSubplot:>"
      ]
     },
     "execution_count": 176,
     "metadata": {},
     "output_type": "execute_result"
    },
    {
     "data": {
      "image/png": "[encoded data removed]",
      "text/plain": [
       "<Figure size 1080x1080 with 1 Axes>"
      ]
     },
     "metadata": {
      "needs_background": "light"
     },
     "output_type": "display_data"
    }
   ],
   "source": [
    "fig,ax = plt.subplots(figsize=(15,15))\n",
    "ax.set_aspect('equal')\n",
    "geo_df.plot(ax=ax, color='red', marker=\"o\", markersize=20)"
   ]
  },
  {
   "cell_type": "markdown",
   "metadata": {},
   "source": [
    "\n",
    "### jak wyglada relacja przykładowego pociagu"
   ]
  },
  {
   "cell_type": "code",
   "execution_count": 53,
   "metadata": {},
   "outputs": [
    {
     "name": "stdout",
     "output_type": "stream",
     "text": [
      "+--------+--------------------+-------+-------+\n",
      "|train_id|        station_name|    lat|    lng|\n",
      "+--------+--------------------+-------+-------+\n",
      "|    2523|       Poznań Główny|16.9112|52.4013|\n",
      "|    2523|         Poznań Wola|   null|   null|\n",
      "|    2523|              Kiekrz|   null|   null|\n",
      "|    2523|          Rokietnica|16.7539|52.5119|\n",
      "|    2523|          Pamiątkowo|   null|   null|\n",
      "|    2523|           Baborówko|   null|   null|\n",
      "|    2523|           Szamotuły|16.5853|52.6034|\n",
      "|    2523|             Pęckowo|   null|   null|\n",
      "|    2523|              Wronki|16.3855|52.7051|\n",
      "|    2523|               Mokrz|   null|   null|\n",
      "|    2523|               Miały|   null|   null|\n",
      "|    2523|        Drawski Młyn|16.0943|52.8599|\n",
      "|    2523|               Krzyż|16.0176|52.8772|\n",
      "|    2523|             Drawiny|   null|   null|\n",
      "|    2523|           Podlesiec|   null|   null|\n",
      "|    2523|Mierzęcin Strzelecki|   null|   null|\n",
      "|    2523|          Dobiegniew|   null|   null|\n",
      "|    2523|           Bierzwnik|   null|   null|\n",
      "|    2523|              Rębusz|   null|   null|\n",
      "|    2523|             Słonice|   null|   null|\n",
      "+--------+--------------------+-------+-------+\n",
      "only showing top 20 rows\n",
      "\n"
     ]
    }
   ],
   "source": [
    "sqlContext.sql(\"\"\"\n",
    "    Select train_id, t.station_name, lat, lng from trains t\n",
    "    LEFT JOIN stations s\n",
    "    ON s.station_name = t.station_name\n",
    "    WHERE train_id = 2523\n",
    "    AND schedule_id = 50110944\n",
    "    ORDER by arrival_time ASC\n",
    "\"\"\").show()"
   ]
  },
  {
   "cell_type": "code",
   "execution_count": 177,
   "metadata": {},
   "outputs": [],
   "source": [
    "sc.stop()"
   ]
  },
  {
   "cell_type": "code",
   "execution_count": null,
   "metadata": {},
   "outputs": [],
   "source": []
  }
 ],
 "metadata": {
  "kernelspec": {
   "display_name": "Python 3",
   "language": "python",
   "name": "python3"
  },
  "language_info": {
   "codemirror_mode": {
    "name": "ipython",
    "version": 3
   },
   "file_extension": ".py",
   "mimetype": "text/x-python",
   "name": "python",
   "nbconvert_exporter": "python",
   "pygments_lexer": "ipython3",
   "version": "3.7.3"
  }
 },
 "nbformat": 4,
 "nbformat_minor": 4
}
