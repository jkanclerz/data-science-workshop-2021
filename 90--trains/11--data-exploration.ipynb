{
 "cells": [
  {
   "cell_type": "markdown",
   "metadata": {},
   "source": [
    "[![Open In Colab](https://colab.research.google.com/assets/colab-badge.svg)](https://githubtocolab.com/jkanclerz/data-science-workshop-2021/blob/main/90--trains/11--data-exploration.ipynb)\n",
    "\n",
    "\n",
    "\n"
   ]
  },
  {
   "cell_type": "code",
   "execution_count": null,
   "metadata": {},
   "outputs": [],
   "source": [
    "!apt-get install openjdk-8-jdk-headless -qq > /dev/null\n",
    "!wget https://dlcdn.apache.org/spark/spark-3.1.2/spark-3.1.2-bin-hadoop3.2.tgz -O spark-3.1.2-bin-hadoop3.2.tgz\n",
    "!tar xf spark-3.1.2-bin-hadoop3.2.tgz\n",
    "!pip install -q pyspark findspark"
   ]
  },
  {
   "cell_type": "code",
   "execution_count": 85,
   "metadata": {},
   "outputs": [],
   "source": [
    "from pyspark import SparkConf, SparkContext\n",
    "from pyspark.sql import SparkSession\n",
    "import os\n",
    "\n",
    "spark = SparkSession.builder \\\n",
    "    .master(\"local\") \\\n",
    "    .appName(\"Test it 2\") \\\n",
    "    .getOrCreate()\n",
    "sc = spark.sparkContext"
   ]
  },
  {
   "cell_type": "code",
   "execution_count": 86,
   "metadata": {},
   "outputs": [],
   "source": [
    "from pyspark.sql import types"
   ]
  },
  {
   "cell_type": "code",
   "execution_count": 87,
   "metadata": {},
   "outputs": [],
   "source": [
    "types.StructType?"
   ]
  },
  {
   "cell_type": "code",
   "execution_count": 88,
   "metadata": {},
   "outputs": [],
   "source": [
    "from pyspark.sql import types\n",
    "from pyspark.sql.types import StructType, LongType, StructField, TimestampType"
   ]
  },
  {
   "cell_type": "code",
   "execution_count": 89,
   "metadata": {},
   "outputs": [],
   "source": [
    "StructField?"
   ]
  },
  {
   "cell_type": "code",
   "execution_count": 90,
   "metadata": {},
   "outputs": [],
   "source": [
    "from pyspark.sql import types\n",
    "from pyspark.sql.types import StructType, LongType, StructField, TimestampType, StringType\n",
    "\n",
    "# root\n",
    "#  |-- train_id: long (nullable = true)\n",
    "#  |-- train_name: string (nullable = true)\n",
    "#  |-- schedule_date: timestamp (nullable = true)\n",
    "#  |-- schedule_id: long (nullable = true)\n",
    "#  |-- arrival_delay: long (nullable = true)\n",
    "#  |-- arrival_time: timestamp (nullable = true)\n",
    "#  |-- departure_delay: long (nullable = true)\n",
    "#  |-- departure_time: timestamp (nullable = true)\n",
    "#  |-- station_name: string (nullable = true)\n",
    "\n",
    "schema = StructType([\n",
    "        StructField('train_id', LongType(), nullable=False),\n",
    "        StructField('train_name', StringType(), nullable=False),\n",
    "        StructField('schedule_date', TimestampType(), nullable=False),\n",
    "        StructField('schedule_id', LongType(), nullable=False),\n",
    "        StructField('arrival_delay', LongType()),\n",
    "        StructField('arrival_time', TimestampType()),\n",
    "        StructField('departure_delay', LongType()),\n",
    "        StructField('departure_time', TimestampType()),\n",
    "        StructField('station_name', StringType(), nullable=False)\n",
    "])\n",
    "    \n",
    "trains = spark.read.format(\"csv\")\\\n",
    "        .schema(schema)\\\n",
    "        .load(\"trains_sample.csv\")"
   ]
  },
  {
   "cell_type": "code",
   "execution_count": 91,
   "metadata": {},
   "outputs": [
    {
     "name": "stdout",
     "output_type": "stream",
     "text": [
      "root\n",
      " |-- train_id: long (nullable = true)\n",
      " |-- train_name: string (nullable = true)\n",
      " |-- schedule_date: timestamp (nullable = true)\n",
      " |-- schedule_id: long (nullable = true)\n",
      " |-- arrival_delay: long (nullable = true)\n",
      " |-- arrival_time: timestamp (nullable = true)\n",
      " |-- departure_delay: long (nullable = true)\n",
      " |-- departure_time: timestamp (nullable = true)\n",
      " |-- station_name: string (nullable = true)\n",
      "\n"
     ]
    }
   ],
   "source": [
    "trains.printSchema()"
   ]
  },
  {
   "cell_type": "code",
   "execution_count": 92,
   "metadata": {},
   "outputs": [],
   "source": [
    "from pyspark.sql import SQLContext\n",
    "sqlContext = SQLContext(sc)"
   ]
  },
  {
   "cell_type": "code",
   "execution_count": 93,
   "metadata": {},
   "outputs": [],
   "source": [
    "trains.registerTempTable(\"trains\")"
   ]
  },
  {
   "cell_type": "code",
   "execution_count": 94,
   "metadata": {},
   "outputs": [
    {
     "name": "stdout",
     "output_type": "stream",
     "text": [
      "+--------+----------+-------------------+-----------+-------------+-------------------+---------------+-------------------+---------------+\n",
      "|train_id|train_name|      schedule_date|schedule_id|arrival_delay|       arrival_time|departure_delay|     departure_time|   station_name|\n",
      "+--------+----------+-------------------+-----------+-------------+-------------------+---------------+-------------------+---------------+\n",
      "|     261|   32314/5|2018-12-08 00:00:00|   53468349|         null|               null|              0|2018-12-08 14:07:00|  Kraków Główny|\n",
      "|     261|   32314/5|2018-12-08 00:00:00|   53468349|            0|2018-12-08 14:12:30|              0|2018-12-08 14:13:00|Kraków Batowice|\n",
      "|     261|   32314/5|2018-12-08 00:00:00|   53468349|            0|2018-12-08 14:20:30|              0|2018-12-08 14:21:00|         Zastów|\n",
      "|     261|   32314/5|2018-12-08 00:00:00|   53468349|            0|2018-12-08 14:24:18|              0|2018-12-08 14:24:48|      Baranówka|\n",
      "|     261|   32314/5|2018-12-08 00:00:00|   53468349|            0|2018-12-08 14:27:24|              0|2018-12-08 14:27:54|        Łuczyce|\n",
      "+--------+----------+-------------------+-----------+-------------+-------------------+---------------+-------------------+---------------+\n",
      "\n"
     ]
    }
   ],
   "source": [
    "sqlContext.sql(\"\"\"\n",
    "    Select * from trains LIMIT 5\n",
    "\"\"\").show()"
   ]
  },
  {
   "cell_type": "markdown",
   "metadata": {},
   "source": [
    "## Czy w weekendy pociągi sppózniaja sie bardziej?"
   ]
  },
  {
   "cell_type": "code",
   "execution_count": 95,
   "metadata": {},
   "outputs": [],
   "source": [
    "import pyspark.sql.functions as F"
   ]
  },
  {
   "cell_type": "code",
   "execution_count": 96,
   "metadata": {},
   "outputs": [],
   "source": [
    "DELAY_BY_DAY = trains\\\n",
    "    .select(\n",
    "        F.dayofweek(F.col('arrival_time')).alias('day'),\n",
    "        F.col('arrival_delay').alias('arrival_delay'),\n",
    "    )\\\n",
    "    .filter(\n",
    "        F.col('day').isNotNull()\n",
    "    )\\\n",
    "    .groupBy(\n",
    "        F.col('day')\n",
    "    )\\\n",
    "    .agg(\n",
    "        F.avg(F.col(\"arrival_delay\")).alias('avg_delay'),\n",
    "        F.min(F.col(\"arrival_delay\")).alias('min_delay'),\n",
    "        F.max(F.col(\"arrival_delay\")).alias('max_delay'),\n",
    "        F.stddev(F.col(\"arrival_delay\")).alias('stddev_delay'),\n",
    "    ) \\\n",
    "    .sort(\n",
    "        F.col('day').asc()\n",
    "    )"
   ]
  },
  {
   "cell_type": "code",
   "execution_count": 97,
   "metadata": {},
   "outputs": [
    {
     "name": "stdout",
     "output_type": "stream",
     "text": [
      "+---+------------------+---------+---------+------------------+\n",
      "|day|         avg_delay|min_delay|max_delay|      stddev_delay|\n",
      "+---+------------------+---------+---------+------------------+\n",
      "|  1|1.7518981141317658|       -4|      210|7.3786559668596805|\n",
      "|  2| 3.023520549091822|       -6|      144| 9.537322557941811|\n",
      "|  3| 3.335285384361597|       -7|      105| 8.357160022522594|\n",
      "|  4|  3.40817843866171|       -3|      129| 9.388605748780208|\n",
      "|  5| 3.659818285994925|       -5|      217|13.736058017098612|\n",
      "|  6| 2.908450704225352|       -6|       56| 5.772482501678014|\n",
      "|  7|3.1962864721485413|       -3|      153|10.279880251106581|\n",
      "+---+------------------+---------+---------+------------------+\n",
      "\n"
     ]
    }
   ],
   "source": [
    "DELAY_BY_DAY.show()"
   ]
  },
  {
   "cell_type": "code",
   "execution_count": 98,
   "metadata": {},
   "outputs": [],
   "source": [
    "plt_data = DELAY_BY_DAY.toPandas()\n"
   ]
  },
  {
   "cell_type": "code",
   "execution_count": 99,
   "metadata": {},
   "outputs": [
    {
     "data": {
      "text/html": [
       "<div>\n",
       "<style scoped>\n",
       "    .dataframe tbody tr th:only-of-type {\n",
       "        vertical-align: middle;\n",
       "    }\n",
       "\n",
       "    .dataframe tbody tr th {\n",
       "        vertical-align: top;\n",
       "    }\n",
       "\n",
       "    .dataframe thead th {\n",
       "        text-align: right;\n",
       "    }\n",
       "</style>\n",
       "<table border=\"1\" class=\"dataframe\">\n",
       "  <thead>\n",
       "    <tr style=\"text-align: right;\">\n",
       "      <th></th>\n",
       "      <th>day</th>\n",
       "      <th>avg_delay</th>\n",
       "      <th>min_delay</th>\n",
       "      <th>max_delay</th>\n",
       "      <th>stddev_delay</th>\n",
       "    </tr>\n",
       "  </thead>\n",
       "  <tbody>\n",
       "    <tr>\n",
       "      <th>0</th>\n",
       "      <td>1</td>\n",
       "      <td>1.751898</td>\n",
       "      <td>-4</td>\n",
       "      <td>210</td>\n",
       "      <td>7.378656</td>\n",
       "    </tr>\n",
       "    <tr>\n",
       "      <th>1</th>\n",
       "      <td>2</td>\n",
       "      <td>3.023521</td>\n",
       "      <td>-6</td>\n",
       "      <td>144</td>\n",
       "      <td>9.537323</td>\n",
       "    </tr>\n",
       "    <tr>\n",
       "      <th>2</th>\n",
       "      <td>3</td>\n",
       "      <td>3.335285</td>\n",
       "      <td>-7</td>\n",
       "      <td>105</td>\n",
       "      <td>8.357160</td>\n",
       "    </tr>\n",
       "    <tr>\n",
       "      <th>3</th>\n",
       "      <td>4</td>\n",
       "      <td>3.408178</td>\n",
       "      <td>-3</td>\n",
       "      <td>129</td>\n",
       "      <td>9.388606</td>\n",
       "    </tr>\n",
       "    <tr>\n",
       "      <th>4</th>\n",
       "      <td>5</td>\n",
       "      <td>3.659818</td>\n",
       "      <td>-5</td>\n",
       "      <td>217</td>\n",
       "      <td>13.736058</td>\n",
       "    </tr>\n",
       "    <tr>\n",
       "      <th>5</th>\n",
       "      <td>6</td>\n",
       "      <td>2.908451</td>\n",
       "      <td>-6</td>\n",
       "      <td>56</td>\n",
       "      <td>5.772483</td>\n",
       "    </tr>\n",
       "    <tr>\n",
       "      <th>6</th>\n",
       "      <td>7</td>\n",
       "      <td>3.196286</td>\n",
       "      <td>-3</td>\n",
       "      <td>153</td>\n",
       "      <td>10.279880</td>\n",
       "    </tr>\n",
       "  </tbody>\n",
       "</table>\n",
       "</div>"
      ],
      "text/plain": [
       "   day  avg_delay  min_delay  max_delay  stddev_delay\n",
       "0    1   1.751898         -4        210      7.378656\n",
       "1    2   3.023521         -6        144      9.537323\n",
       "2    3   3.335285         -7        105      8.357160\n",
       "3    4   3.408178         -3        129      9.388606\n",
       "4    5   3.659818         -5        217     13.736058\n",
       "5    6   2.908451         -6         56      5.772483\n",
       "6    7   3.196286         -3        153     10.279880"
      ]
     },
     "execution_count": 99,
     "metadata": {},
     "output_type": "execute_result"
    }
   ],
   "source": [
    "plt_data"
   ]
  },
  {
   "cell_type": "code",
   "execution_count": 100,
   "metadata": {},
   "outputs": [],
   "source": [
    "plt_data.plot?"
   ]
  },
  {
   "cell_type": "code",
   "execution_count": 101,
   "metadata": {},
   "outputs": [
    {
     "data": {
      "text/plain": [
       "<AxesSubplot:title={'center':'Delay by day'}, xlabel='day'>"
      ]
     },
     "execution_count": 101,
     "metadata": {},
     "output_type": "execute_result"
    },
    {
     "data": {
      "image/png": "[encoded data removed]",
      "text/plain": [
       "<Figure size 432x288 with 1 Axes>"
      ]
     },
     "metadata": {
      "needs_background": "light"
     },
     "output_type": "display_data"
    }
   ],
   "source": [
    "plt_data.plot(kind='bar', x='day', y=\"avg_delay\", title=\"Delay by day\", color=\"blue\")"
   ]
  },
  {
   "cell_type": "code",
   "execution_count": 102,
   "metadata": {},
   "outputs": [],
   "source": [
    "DELAY_BY_MONTH = trains\\\n",
    "    .select(\n",
    "        F.month(F.col('arrival_time')).alias('month'),\n",
    "        F.col('arrival_delay').alias('arrival_delay'),\n",
    "    )\\\n",
    "    .filter(\n",
    "        F.col('month').isNotNull()\n",
    "    )\\\n",
    "    .groupBy(\n",
    "        F.col('month')\n",
    "    )\\\n",
    "    .agg(\n",
    "        F.avg(F.col(\"arrival_delay\")).alias('avg_delay'),\n",
    "        F.min(F.col(\"arrival_delay\")).alias('min_delay'),\n",
    "        F.max(F.col(\"arrival_delay\")).alias('max_delay'),\n",
    "        F.stddev(F.col(\"arrival_delay\")).alias('stddev_delay'),\n",
    "    ) \\\n",
    "    .sort(\n",
    "        F.col('month').asc()\n",
    "    )"
   ]
  },
  {
   "cell_type": "code",
   "execution_count": 103,
   "metadata": {},
   "outputs": [
    {
     "name": "stdout",
     "output_type": "stream",
     "text": [
      "+-----+------------------+---------+---------+------------------+\n",
      "|month|         avg_delay|min_delay|max_delay|      stddev_delay|\n",
      "+-----+------------------+---------+---------+------------------+\n",
      "|    1| 2.291463064098879|       -3|       45| 5.380730969112602|\n",
      "|    2| 1.711704080192009|       -3|       43|4.5957032676920635|\n",
      "|    3| 1.886346004654771|       -3|       56|3.9293366888957415|\n",
      "|    4| 2.066736869817033|       -3|       83| 4.883977258428644|\n",
      "|    5|2.4783734783734785|       -4|       43| 5.788090622487138|\n",
      "|    6|2.6023268853378188|       -3|      104| 7.796540061031733|\n",
      "|    7| 4.658628841607565|       -4|      129|13.937600706046675|\n",
      "|    8| 4.099151406878071|       -7|      153|14.632443154466882|\n",
      "|    9| 4.464003387916431|       -4|      217|17.823415051014937|\n",
      "|   10|3.5203774617067833|       -6|       86| 7.202533063266867|\n",
      "|   11|4.0176211453744495|       -6|      210|10.190062871321532|\n",
      "|   12| 3.120684292379471|       -5|       72|  6.33728641424266|\n",
      "+-----+------------------+---------+---------+------------------+\n",
      "\n"
     ]
    }
   ],
   "source": [
    "DELAY_BY_MONTH.show()"
   ]
  },
  {
   "cell_type": "code",
   "execution_count": 104,
   "metadata": {},
   "outputs": [
    {
     "data": {
      "text/plain": [
       "<AxesSubplot:title={'center':'Delay by month'}, xlabel='month'>"
      ]
     },
     "execution_count": 104,
     "metadata": {},
     "output_type": "execute_result"
    },
    {
     "data": {
      "image/png": "[encoded data removed]",
      "text/plain": [
       "<Figure size 432x288 with 1 Axes>"
      ]
     },
     "metadata": {
      "needs_background": "light"
     },
     "output_type": "display_data"
    }
   ],
   "source": [
    "plt_data = DELAY_BY_MONTH.toPandas()\n",
    "plt_data[['month', 'avg_delay']].plot(kind='bar', x='month', title=\"Delay by month\")"
   ]
  },
  {
   "cell_type": "code",
   "execution_count": 132,
   "metadata": {},
   "outputs": [],
   "source": [
    "DELAY_BY_DAY_MONTH = trains\\\n",
    "    .select(\n",
    "        F.to_date(F.date_format('arrival_time','yyyy-MM-dd'), 'yyyy-MM-dd').alias('day'),\n",
    "        F.col('arrival_delay').alias('arrival_delay'),\n",
    "    )\\\n",
    "    .filter(\n",
    "        F.col('day').isNotNull()\n",
    "    )\\\n",
    "    .groupBy(\n",
    "        F.col('day').alias('day'),\n",
    "    )\\\n",
    "    .agg(\n",
    "        F.avg(F.col(\"arrival_delay\")).alias('avg_delay')\n",
    "    ) \\\n",
    "    .sort(\n",
    "        F.col('avg_delay').asc()\n",
    "    )"
   ]
  },
  {
   "cell_type": "code",
   "execution_count": 133,
   "metadata": {},
   "outputs": [
    {
     "name": "stdout",
     "output_type": "stream",
     "text": [
      "root\n",
      " |-- day: date (nullable = true)\n",
      " |-- avg_delay: double (nullable = true)\n",
      "\n"
     ]
    }
   ],
   "source": [
    "DELAY_BY_DAY_MONTH.printSchema()"
   ]
  },
  {
   "cell_type": "code",
   "execution_count": 138,
   "metadata": {},
   "outputs": [],
   "source": [
    "plt_data = DELAY_BY_DAY_MONTH.toPandas()"
   ]
  },
  {
   "cell_type": "code",
   "execution_count": 139,
   "metadata": {},
   "outputs": [],
   "source": [
    "plt_data.set_index(['day'], inplace=True)"
   ]
  },
  {
   "cell_type": "code",
   "execution_count": 150,
   "metadata": {},
   "outputs": [],
   "source": [
    "import matplotlib.pyplot as plt\n",
    "plt.rcParams[\"figure.figsize\"]=18,9"
   ]
  },
  {
   "cell_type": "code",
   "execution_count": 156,
   "metadata": {},
   "outputs": [],
   "source": [
    "plt_data = plt_data.sort_index()"
   ]
  },
  {
   "cell_type": "code",
   "execution_count": 162,
   "metadata": {},
   "outputs": [],
   "source": [
    "plt_data['rolling'] = plt_data.rolling(15).mean()"
   ]
  },
  {
   "cell_type": "code",
   "execution_count": 163,
   "metadata": {},
   "outputs": [
    {
     "data": {
      "text/plain": [
       "<AxesSubplot:xlabel='day'>"
      ]
     },
     "execution_count": 163,
     "metadata": {},
     "output_type": "execute_result"
    },
    {
     "data": {
      "image/png": "[encoded data removed]",
      "text/plain": [
       "<Figure size 1296x648 with 1 Axes>"
      ]
     },
     "metadata": {
      "needs_background": "light"
     },
     "output_type": "display_data"
    }
   ],
   "source": [
    "plt_data.plot.line()"
   ]
  },
  {
   "cell_type": "markdown",
   "metadata": {},
   "source": [
    "## Czy jest jakiś czarny punk stacja??"
   ]
  },
  {
   "cell_type": "code",
   "execution_count": 78,
   "metadata": {},
   "outputs": [],
   "source": [
    "DELAY_BY_STATION = trains\\\n",
    "    .select(\n",
    "        col('station_name'),\n",
    "        col('arrival_delay').alias('avg_delay'),\n",
    "    )\\\n",
    "    .groupBy(col('station_name'))\\\n",
    "    .avg() \\\n",
    "    .dropna() \\\n",
    "    .sort(col('avg(avg_delay)').asc()) \\\n",
    "    .cache()"
   ]
  },
  {
   "cell_type": "code",
   "execution_count": 79,
   "metadata": {},
   "outputs": [],
   "source": [
    "DELAY_BY_STATION.createTempView('delay_by_station')"
   ]
  },
  {
   "cell_type": "code",
   "execution_count": 82,
   "metadata": {},
   "outputs": [],
   "source": [
    "by_stations = sqlContext.sql(\"\"\"\n",
    "    Select * from delay_by_station order by `avg(avg_delay)` DESC LIMIT 20\n",
    "\"\"\")"
   ]
  },
  {
   "cell_type": "code",
   "execution_count": 83,
   "metadata": {},
   "outputs": [
    {
     "data": {
      "text/html": [
       "<div>\n",
       "<style scoped>\n",
       "    .dataframe tbody tr th:only-of-type {\n",
       "        vertical-align: middle;\n",
       "    }\n",
       "\n",
       "    .dataframe tbody tr th {\n",
       "        vertical-align: top;\n",
       "    }\n",
       "\n",
       "    .dataframe thead th {\n",
       "        text-align: right;\n",
       "    }\n",
       "</style>\n",
       "<table border=\"1\" class=\"dataframe\">\n",
       "  <thead>\n",
       "    <tr style=\"text-align: right;\">\n",
       "      <th></th>\n",
       "      <th>station_name</th>\n",
       "      <th>avg(avg_delay)</th>\n",
       "    </tr>\n",
       "  </thead>\n",
       "  <tbody>\n",
       "    <tr>\n",
       "      <th>0</th>\n",
       "      <td>Kraków Płaszów</td>\n",
       "      <td>58.000000</td>\n",
       "    </tr>\n",
       "    <tr>\n",
       "      <th>1</th>\n",
       "      <td>Wrocław Nadodrze</td>\n",
       "      <td>7.120448</td>\n",
       "    </tr>\n",
       "    <tr>\n",
       "      <th>2</th>\n",
       "      <td>Wrocław Sołtysowice</td>\n",
       "      <td>6.834734</td>\n",
       "    </tr>\n",
       "    <tr>\n",
       "      <th>3</th>\n",
       "      <td>Wrocław Psie Pole</td>\n",
       "      <td>6.773109</td>\n",
       "    </tr>\n",
       "    <tr>\n",
       "      <th>4</th>\n",
       "      <td>Borowa Oleśnicka</td>\n",
       "      <td>6.680672</td>\n",
       "    </tr>\n",
       "    <tr>\n",
       "      <th>5</th>\n",
       "      <td>Długołęka</td>\n",
       "      <td>6.414566</td>\n",
       "    </tr>\n",
       "    <tr>\n",
       "      <th>6</th>\n",
       "      <td>Twardogóra</td>\n",
       "      <td>6.362069</td>\n",
       "    </tr>\n",
       "    <tr>\n",
       "      <th>7</th>\n",
       "      <td>Oleśnica Rataje</td>\n",
       "      <td>6.146893</td>\n",
       "    </tr>\n",
       "    <tr>\n",
       "      <th>8</th>\n",
       "      <td>Dąbrowa Oleśnicka</td>\n",
       "      <td>6.146067</td>\n",
       "    </tr>\n",
       "    <tr>\n",
       "      <th>9</th>\n",
       "      <td>Wrocław Mikołajów</td>\n",
       "      <td>6.022409</td>\n",
       "    </tr>\n",
       "    <tr>\n",
       "      <th>10</th>\n",
       "      <td>Dobroszyce</td>\n",
       "      <td>5.626404</td>\n",
       "    </tr>\n",
       "    <tr>\n",
       "      <th>11</th>\n",
       "      <td>Grabowno Wielkie</td>\n",
       "      <td>5.507042</td>\n",
       "    </tr>\n",
       "    <tr>\n",
       "      <th>12</th>\n",
       "      <td>Wrocław Główny</td>\n",
       "      <td>5.363128</td>\n",
       "    </tr>\n",
       "    <tr>\n",
       "      <th>13</th>\n",
       "      <td>Stary Klukom</td>\n",
       "      <td>4.897887</td>\n",
       "    </tr>\n",
       "    <tr>\n",
       "      <th>14</th>\n",
       "      <td>Kraków Główny</td>\n",
       "      <td>4.814085</td>\n",
       "    </tr>\n",
       "    <tr>\n",
       "      <th>15</th>\n",
       "      <td>Ziemomyśl</td>\n",
       "      <td>4.728873</td>\n",
       "    </tr>\n",
       "    <tr>\n",
       "      <th>16</th>\n",
       "      <td>Słonice</td>\n",
       "      <td>4.661972</td>\n",
       "    </tr>\n",
       "    <tr>\n",
       "      <th>17</th>\n",
       "      <td>Choszczno</td>\n",
       "      <td>4.658451</td>\n",
       "    </tr>\n",
       "    <tr>\n",
       "      <th>18</th>\n",
       "      <td>Wolin</td>\n",
       "      <td>4.553030</td>\n",
       "    </tr>\n",
       "    <tr>\n",
       "      <th>19</th>\n",
       "      <td>Warnowo</td>\n",
       "      <td>4.411972</td>\n",
       "    </tr>\n",
       "  </tbody>\n",
       "</table>\n",
       "</div>"
      ],
      "text/plain": [
       "           station_name  avg(avg_delay)\n",
       "0        Kraków Płaszów       58.000000\n",
       "1      Wrocław Nadodrze        7.120448\n",
       "2   Wrocław Sołtysowice        6.834734\n",
       "3     Wrocław Psie Pole        6.773109\n",
       "4      Borowa Oleśnicka        6.680672\n",
       "5             Długołęka        6.414566\n",
       "6            Twardogóra        6.362069\n",
       "7       Oleśnica Rataje        6.146893\n",
       "8     Dąbrowa Oleśnicka        6.146067\n",
       "9     Wrocław Mikołajów        6.022409\n",
       "10           Dobroszyce        5.626404\n",
       "11     Grabowno Wielkie        5.507042\n",
       "12       Wrocław Główny        5.363128\n",
       "13         Stary Klukom        4.897887\n",
       "14        Kraków Główny        4.814085\n",
       "15            Ziemomyśl        4.728873\n",
       "16              Słonice        4.661972\n",
       "17            Choszczno        4.658451\n",
       "18                Wolin        4.553030\n",
       "19              Warnowo        4.411972"
      ]
     },
     "execution_count": 83,
     "metadata": {},
     "output_type": "execute_result"
    }
   ],
   "source": [
    "by_stations.toPandas()"
   ]
  },
  {
   "cell_type": "code",
   "execution_count": 164,
   "metadata": {},
   "outputs": [],
   "source": [
    "sc.stop()"
   ]
  },
  {
   "cell_type": "code",
   "execution_count": null,
   "metadata": {},
   "outputs": [],
   "source": []
  }
 ],
 "metadata": {
  "kernelspec": {
   "display_name": "Python 3",
   "language": "python",
   "name": "python3"
  },
  "language_info": {
   "codemirror_mode": {
    "name": "ipython",
    "version": 3
   },
   "file_extension": ".py",
   "mimetype": "text/x-python",
   "name": "python",
   "nbconvert_exporter": "python",
   "pygments_lexer": "ipython3",
   "version": "3.7.3"
  }
 },
 "nbformat": 4,
 "nbformat_minor": 4
}
