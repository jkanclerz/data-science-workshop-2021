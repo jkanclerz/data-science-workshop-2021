{
 "cells": [
  {
   "cell_type": "markdown",
   "metadata": {},
   "source": [
    "# Non relational data model\n",
    "\n",
    "http://ds.edu.jkan.pl/_static/downloads/10gen_Top_5_NoSQL_Considerations.pdf\n",
    "\n",
    "## no relation so what\n",
    "\n",
    "### Document Model ex (json like)\n",
    "    \n",
    "**Applications** \n",
    "    \n",
    "    Document databases are general purpose natural mapping of the document data model to objects in modern programming languages.\n",
    "   \n",
    "**Examples**\n",
    "\n",
    "    * MongoDB\n",
    "    * CouchDB\n",
    "    * AWS Dynamo DB\n",
    "    * AWS Document DB\n",
    "\n",
    "\n",
    "### Graph Model\n",
    "    \n",
    "**Applications** \n",
    "    \n",
    "     Graph databases are useful in cases where traversing relationships are core to the application\n",
    "   \n",
    "**Examples**\n",
    "\n",
    "    * Neo4j\n",
    "    * AWS Neptune.\n",
    "    \n",
    "    \n",
    "\n",
    "    \n",
    "### Key Value store ex\n",
    "    \n",
    "**Applications** \n",
    "    \n",
    "    applications that only query data by a single key value.\n",
    "   \n",
    "**Examples**\n",
    "\n",
    "    * Redis\n",
    "    * HBase\n",
    "    * Cassandra\n",
    "    \n",
    "![db matrix](nosql.png \"DB models\")"
   ]
  },
  {
   "cell_type": "code",
   "execution_count": null,
   "metadata": {},
   "outputs": [],
   "source": []
  }
 ],
 "metadata": {
  "kernelspec": {
   "display_name": "Python 3",
   "language": "python",
   "name": "python3"
  },
  "language_info": {
   "codemirror_mode": {
    "name": "ipython",
    "version": 3
   },
   "file_extension": ".py",
   "mimetype": "text/x-python",
   "name": "python",
   "nbconvert_exporter": "python",
   "pygments_lexer": "ipython3",
   "version": "3.8.5"
  }
 },
 "nbformat": 4,
 "nbformat_minor": 2
}
