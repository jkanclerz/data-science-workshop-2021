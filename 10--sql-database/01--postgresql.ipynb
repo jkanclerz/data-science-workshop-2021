{
 "cells": [
  {
   "cell_type": "markdown",
   "metadata": {
    "id": "zzoZX9kWhYh2"
   },
   "source": [
    "[![Open In Colab](https://colab.research.google.com/assets/colab-badge.svg)](https://githubtocolab.com/jkanclerz/data-science-workshop-2021/blob/main/10--sql-database/01--postgresql.ipynb)"
   ]
  },
  {
   "cell_type": "markdown",
   "metadata": {
    "id": "ZsMik6LdhcyC"
   },
   "source": [
    "## Instalacja PostgreSQL"
   ]
  },
  {
   "cell_type": "code",
   "execution_count": 1,
   "metadata": {
    "colab": {
     "base_uri": "https://localhost:8080/"
    },
    "id": "VPV5aF2lhYh6",
    "outputId": "396657b7-6e77-4d1b-d118-fb4088e8f5e0"
   },
   "outputs": [
    {
     "name": "stdout",
     "output_type": "stream",
     "text": [
      "debconf: unable to initialize frontend: Dialog\n",
      "debconf: (No usable dialog-like program is installed, so the dialog based frontend cannot be used. at /usr/share/perl5/Debconf/FrontEnd/Dialog.pm line 76, <> line 10.)\n",
      "debconf: falling back to frontend: Readline\n",
      "debconf: unable to initialize frontend: Readline\n",
      "debconf: (This frontend requires a controlling tty.)\n",
      "debconf: falling back to frontend: Teletype\n",
      "dpkg-preconfigure: unable to re-open stdin: \n",
      "Selecting previously unselected package cron.\n",
      "(Reading database ... 155222 files and directories currently installed.)\n",
      "Preparing to unpack .../0-cron_3.0pl1-128.1ubuntu1_amd64.deb ...\n",
      "Unpacking cron (3.0pl1-128.1ubuntu1) ...\n",
      "Selecting previously unselected package logrotate.\n",
      "Preparing to unpack .../1-logrotate_3.11.0-0.1ubuntu1_amd64.deb ...\n",
      "Unpacking logrotate (3.11.0-0.1ubuntu1) ...\n",
      "Selecting previously unselected package netbase.\n",
      "Preparing to unpack .../2-netbase_5.4_all.deb ...\n",
      "Unpacking netbase (5.4) ...\n",
      "Selecting previously unselected package postgresql-client-common.\n",
      "Preparing to unpack .../3-postgresql-client-common_190ubuntu0.1_all.deb ...\n",
      "Unpacking postgresql-client-common (190ubuntu0.1) ...\n",
      "Selecting previously unselected package postgresql-client-10.\n",
      "Preparing to unpack .../4-postgresql-client-10_10.19-0ubuntu0.18.04.1_amd64.deb ...\n",
      "Unpacking postgresql-client-10 (10.19-0ubuntu0.18.04.1) ...\n",
      "Selecting previously unselected package ssl-cert.\n",
      "Preparing to unpack .../5-ssl-cert_1.0.39_all.deb ...\n",
      "Unpacking ssl-cert (1.0.39) ...\n",
      "Selecting previously unselected package postgresql-common.\n",
      "Preparing to unpack .../6-postgresql-common_190ubuntu0.1_all.deb ...\n",
      "Adding 'diversion of /usr/bin/pg_config to /usr/bin/pg_config.libpq-dev by postgresql-common'\n",
      "Unpacking postgresql-common (190ubuntu0.1) ...\n",
      "Selecting previously unselected package postgresql-10.\n",
      "Preparing to unpack .../7-postgresql-10_10.19-0ubuntu0.18.04.1_amd64.deb ...\n",
      "Unpacking postgresql-10 (10.19-0ubuntu0.18.04.1) ...\n",
      "Selecting previously unselected package postgresql.\n",
      "Preparing to unpack .../8-postgresql_10+190ubuntu0.1_all.deb ...\n",
      "Unpacking postgresql (10+190ubuntu0.1) ...\n",
      "Selecting previously unselected package sysstat.\n",
      "Preparing to unpack .../9-sysstat_11.6.1-1ubuntu0.1_amd64.deb ...\n",
      "Unpacking sysstat (11.6.1-1ubuntu0.1) ...\n",
      "Setting up sysstat (11.6.1-1ubuntu0.1) ...\n",
      "debconf: unable to initialize frontend: Dialog\n",
      "debconf: (No usable dialog-like program is installed, so the dialog based frontend cannot be used. at /usr/share/perl5/Debconf/FrontEnd/Dialog.pm line 76.)\n",
      "debconf: falling back to frontend: Readline\n",
      "\n",
      "Creating config file /etc/default/sysstat with new version\n",
      "update-alternatives: using /usr/bin/sar.sysstat to provide /usr/bin/sar (sar) in auto mode\n",
      "Created symlink /etc/systemd/system/multi-user.target.wants/sysstat.service → /lib/systemd/system/sysstat.service.\n",
      "Setting up ssl-cert (1.0.39) ...\n",
      "debconf: unable to initialize frontend: Dialog\n",
      "debconf: (No usable dialog-like program is installed, so the dialog based frontend cannot be used. at /usr/share/perl5/Debconf/FrontEnd/Dialog.pm line 76.)\n",
      "debconf: falling back to frontend: Readline\n",
      "Setting up cron (3.0pl1-128.1ubuntu1) ...\n",
      "Adding group `crontab' (GID 110) ...\n",
      "Done.\n",
      "Created symlink /etc/systemd/system/multi-user.target.wants/cron.service → /lib/systemd/system/cron.service.\n",
      "update-rc.d: warning: start and stop actions are no longer supported; falling back to defaults\n",
      "invoke-rc.d: could not determine current runlevel\n",
      "invoke-rc.d: policy-rc.d denied execution of start.\n",
      "Setting up logrotate (3.11.0-0.1ubuntu1) ...\n",
      "Setting up netbase (5.4) ...\n",
      "Setting up postgresql-client-common (190ubuntu0.1) ...\n",
      "Setting up postgresql-common (190ubuntu0.1) ...\n",
      "debconf: unable to initialize frontend: Dialog\n",
      "debconf: (No usable dialog-like program is installed, so the dialog based frontend cannot be used. at /usr/share/perl5/Debconf/FrontEnd/Dialog.pm line 76.)\n",
      "debconf: falling back to frontend: Readline\n",
      "Adding user postgres to group ssl-cert\n",
      "\n",
      "Creating config file /etc/postgresql-common/createcluster.conf with new version\n",
      "Building PostgreSQL dictionaries from installed myspell/hunspell packages...\n",
      "Removing obsolete dictionary files:\n",
      "Created symlink /etc/systemd/system/multi-user.target.wants/postgresql.service → /lib/systemd/system/postgresql.service.\n",
      "invoke-rc.d: could not determine current runlevel\n",
      "invoke-rc.d: policy-rc.d denied execution of start.\n",
      "Setting up postgresql-client-10 (10.19-0ubuntu0.18.04.1) ...\n",
      "update-alternatives: using /usr/share/postgresql/10/man/man1/psql.1.gz to provide /usr/share/man/man1/psql.1.gz (psql.1.gz) in auto mode\n",
      "Setting up postgresql-10 (10.19-0ubuntu0.18.04.1) ...\n",
      "debconf: unable to initialize frontend: Dialog\n",
      "debconf: (No usable dialog-like program is installed, so the dialog based frontend cannot be used. at /usr/share/perl5/Debconf/FrontEnd/Dialog.pm line 76.)\n",
      "debconf: falling back to frontend: Readline\n",
      "Creating new PostgreSQL cluster 10/main ...\n",
      "/usr/lib/postgresql/10/bin/initdb -D /var/lib/postgresql/10/main --auth-local peer --auth-host md5\n",
      "The files belonging to this database system will be owned by user \"postgres\".\n",
      "This user must also own the server process.\n",
      "\n",
      "The database cluster will be initialized with locale \"en_US.UTF-8\".\n",
      "The default database encoding has accordingly been set to \"UTF8\".\n",
      "The default text search configuration will be set to \"english\".\n",
      "\n",
      "Data page checksums are disabled.\n",
      "\n",
      "fixing permissions on existing directory /var/lib/postgresql/10/main ... ok\n",
      "creating subdirectories ... ok\n",
      "selecting default max_connections ... 100\n",
      "selecting default shared_buffers ... 128MB\n",
      "selecting default timezone ... Etc/UTC\n",
      "selecting dynamic shared memory implementation ... posix\n",
      "creating configuration files ... ok\n",
      "running bootstrap script ... ok\n",
      "performing post-bootstrap initialization ... ok\n",
      "syncing data to disk ... ok\n",
      "\n",
      "Success. You can now start the database server using:\n",
      "\n",
      "    /usr/lib/postgresql/10/bin/pg_ctl -D /var/lib/postgresql/10/main -l logfile start\n",
      "\n",
      "Ver Cluster Port Status Owner    Data directory              Log file\n",
      "\u001b[31m10  main    5432 down   postgres /var/lib/postgresql/10/main /var/log/postgresql/postgresql-10-main.log\u001b[0m\n",
      "update-alternatives: using /usr/share/postgresql/10/man/man1/postmaster.1.gz to provide /usr/share/man/man1/postmaster.1.gz (postmaster.1.gz) in auto mode\n",
      "invoke-rc.d: could not determine current runlevel\n",
      "invoke-rc.d: policy-rc.d denied execution of start.\n",
      "Setting up postgresql (10+190ubuntu0.1) ...\n",
      "Processing triggers for man-db (2.8.3-2ubuntu0.1) ...\n",
      "Processing triggers for systemd (237-3ubuntu10.52) ...\n",
      " * Starting PostgreSQL 10 database server\n",
      "   ...done.\n"
     ]
    }
   ],
   "source": [
    "!sudo apt-get -y -qq update\n",
    "!sudo apt-get -y -qq install postgresql\n",
    "!sudo service postgresql start"
   ]
  },
  {
   "cell_type": "code",
   "execution_count": null,
   "metadata": {
    "id": "zTjJObckhuBC"
   },
   "outputs": [],
   "source": [
    "## "
   ]
  },
  {
   "cell_type": "markdown",
   "metadata": {
    "id": "JJDjPrbAhvUQ"
   },
   "source": [
    "### Tworzenie użytkownika, bazy oraz przyznawanie uprawnień"
   ]
  },
  {
   "cell_type": "code",
   "execution_count": 69,
   "metadata": {
    "colab": {
     "base_uri": "https://localhost:8080/"
    },
    "id": "DVN2WtRYstqE",
    "outputId": "49d439c8-8b2e-4937-f0fa-50908d958318"
   },
   "outputs": [
    {
     "name": "stdout",
     "output_type": "stream",
     "text": [
      "ERROR:  role \"datascience\" already exists\n"
     ]
    }
   ],
   "source": [
    "!sudo -u postgres psql -c \"create user datascience WITH encrypted password 'datascience'\""
   ]
  },
  {
   "cell_type": "code",
   "execution_count": 39,
   "metadata": {
    "colab": {
     "base_uri": "https://localhost:8080/"
    },
    "id": "0GayCtBQiueX",
    "outputId": "6702d68e-2ef2-4d0e-9af7-a777e77ff9d7"
   },
   "outputs": [
    {
     "name": "stdout",
     "output_type": "stream",
     "text": [
      "DROP DATABASE\n",
      "CREATE DATABASE\n",
      "GRANT\n"
     ]
    }
   ],
   "source": [
    "!sudo -u postgres psql -c \"DROP database IF EXISTS datascience\"\n",
    "!sudo -u postgres psql -c \"create database datascience with OWNER datascience\"\n",
    "!sudo -u postgres psql datascience -c \"GRANT ALL PRIVILEGES ON ALL TABLES IN SCHEMA public TO datascience\""
   ]
  },
  {
   "cell_type": "markdown",
   "metadata": {
    "id": "sBfQsh7fjmW7"
   },
   "source": []
  },
  {
   "cell_type": "code",
   "execution_count": 22,
   "metadata": {
    "colab": {
     "base_uri": "https://localhost:8080/"
    },
    "id": "9PYx4KjThYh7",
    "outputId": "51d407a5-61f9-47b1-b540-561242abb7de"
   },
   "outputs": [
    {
     "name": "stdout",
     "output_type": "stream",
     "text": [
      "Requirement already satisfied: psycopg2 in /usr/local/lib/python3.7/dist-packages (2.7.6.1)\n"
     ]
    }
   ],
   "source": [
    "!pip install psycopg2"
   ]
  },
  {
   "cell_type": "code",
   "execution_count": 23,
   "metadata": {
    "id": "T0zKgAQOhYh8"
   },
   "outputs": [],
   "source": [
    "import psycopg2"
   ]
  },
  {
   "cell_type": "code",
   "execution_count": 24,
   "metadata": {
    "id": "O3hcqg0mhYh9"
   },
   "outputs": [],
   "source": [
    "connection = psycopg2.connect(user=\"datascience\",\n",
    "                                  password=\"datascience\",\n",
    "                                  host=\"127.0.0.1\",\n",
    "                                  port=\"5432\",\n",
    "                                  database=\"datascience\")"
   ]
  },
  {
   "cell_type": "code",
   "execution_count": 25,
   "metadata": {
    "id": "4DW42VKbhYh9"
   },
   "outputs": [],
   "source": [
    "# Print PostgreSQL version\n",
    "cursor = connection.cursor()\n",
    "cursor.execute(\"SELECT version();\")\n",
    "record = cursor.fetchone()"
   ]
  },
  {
   "cell_type": "code",
   "execution_count": 26,
   "metadata": {
    "colab": {
     "base_uri": "https://localhost:8080/"
    },
    "id": "AcQ1B2t6hYh-",
    "outputId": "1bb5c272-f14a-438a-b977-4d8b9475c8bb"
   },
   "outputs": [
    {
     "name": "stdout",
     "output_type": "stream",
     "text": [
      "('PostgreSQL 10.19 (Ubuntu 10.19-0ubuntu0.18.04.1) on x86_64-pc-linux-gnu, compiled by gcc (Ubuntu 7.5.0-3ubuntu1~18.04) 7.5.0, 64-bit',)\n"
     ]
    }
   ],
   "source": [
    "print(record)"
   ]
  },
  {
   "cell_type": "code",
   "execution_count": 27,
   "metadata": {
    "id": "9aUwe92XhYh-"
   },
   "outputs": [],
   "source": [
    "create_table = '''\n",
    "DROP TABLE IF EXISTS Employee;\n",
    "CREATE TABLE IF NOT EXISTS Employee (\n",
    "  id SERIAL PRIMARY KEY,\n",
    "  name text NOT NULL,\n",
    "  sallary money NOT NULL\n",
    ")\n",
    "'''"
   ]
  },
  {
   "cell_type": "code",
   "execution_count": 28,
   "metadata": {
    "id": "GCLx8OGhhYh_"
   },
   "outputs": [],
   "source": [
    "def connect_db():\n",
    "    connection = psycopg2.connect(user=\"datascience\",\n",
    "                                  password=\"datascience\",\n",
    "                                  host=\"127.0.0.1\",\n",
    "                                  port=\"5432\",\n",
    "                                  database=\"datascience\")\n",
    "    return connection"
   ]
  },
  {
   "cell_type": "code",
   "execution_count": 29,
   "metadata": {
    "colab": {
     "base_uri": "https://localhost:8080/"
    },
    "id": "nCjyU7LehYiA",
    "outputId": "0b3a9a7e-8aa4-47f2-a662-2344484b8476"
   },
   "outputs": [
    {
     "name": "stdout",
     "output_type": "stream",
     "text": [
      "PostgreSQL connection is closed\n"
     ]
    }
   ],
   "source": [
    "try:\n",
    "    connection = connect_db()\n",
    "    cursor = connection.cursor()\n",
    "    cursor.execute(create_table)\n",
    "    connection.commit()\n",
    "except (Exception, psycopg2.DataError) as error:\n",
    "    print (\"Error while creating PostgreSQL table\", error)\n",
    "finally:\n",
    "    if(connection):\n",
    "        cursor.close()\n",
    "        connection.close()\n",
    "        print(\"PostgreSQL connection is closed\")"
   ]
  },
  {
   "cell_type": "code",
   "execution_count": 30,
   "metadata": {
    "colab": {
     "base_uri": "https://localhost:8080/"
    },
    "id": "5jyWVEUzhYiA",
    "outputId": "7f64e42b-eeae-48c6-f463-27fb5d104a3e"
   },
   "outputs": [
    {
     "name": "stdout",
     "output_type": "stream",
     "text": [
      "PostgreSQL connection is closed\n"
     ]
    }
   ],
   "source": [
    "insert_sql = '''\n",
    "INSERT INTO Employee (name, sallary) VALUES (%s,%s)\n",
    "''';\n",
    "\n",
    "try:\n",
    "    connection = connect_db()\n",
    "    cursor = connection.cursor()\n",
    "    cursor.execute(insert_sql, (\"jakub\", 2500.00))\n",
    "    connection.commit()\n",
    "except (Exception, psycopg2.DataError) as error:\n",
    "    print (\"Error while inserting\", error)\n",
    "finally:\n",
    "    #closing database connection.\n",
    "    if(connection):\n",
    "        cursor.close()\n",
    "        connection.close()\n",
    "        print(\"PostgreSQL connection is closed\")"
   ]
  },
  {
   "cell_type": "code",
   "execution_count": 31,
   "metadata": {
    "colab": {
     "base_uri": "https://localhost:8080/"
    },
    "id": "mMj_Yh_3hYiB",
    "outputId": "6f5e05c6-5542-4cab-91f3-4e23f3463338"
   },
   "outputs": [
    {
     "name": "stdout",
     "output_type": "stream",
     "text": [
      "PostgreSQL connection is closed\n"
     ]
    }
   ],
   "source": [
    "select = '''\n",
    "    select * from Employee;\n",
    "'''\n",
    "\n",
    "try:\n",
    "    connection = connect_db()\n",
    "    cursor = connection.cursor()\n",
    "    cursor.execute(select)\n",
    "    records = cursor.fetchall()\n",
    "except (Exception, psycopg2.DataError) as error:\n",
    "    print (\"Error while inserting\", error)\n",
    "finally:\n",
    "    #closing database connection.\n",
    "    if(connection):\n",
    "        cursor.close()\n",
    "        connection.close()\n",
    "        print(\"PostgreSQL connection is closed\")"
   ]
  },
  {
   "cell_type": "code",
   "execution_count": 32,
   "metadata": {
    "colab": {
     "base_uri": "https://localhost:8080/"
    },
    "id": "1OhRbcGwhYiC",
    "outputId": "c8cab22f-709a-4d40-ce12-9f6b525059f2"
   },
   "outputs": [
    {
     "name": "stdout",
     "output_type": "stream",
     "text": [
      "[(1, 'jakub', '$2,500.00')]\n"
     ]
    }
   ],
   "source": [
    "print(records)"
   ]
  },
  {
   "cell_type": "markdown",
   "metadata": {
    "id": "JPqYdFvqnXPh"
   },
   "source": [
    "## Zadanie\n",
    "Wykonaj eksplorację danych dotyczących zbioru ``iris_dataset``\n",
    "Policz takie parametry jak:\n",
    "* średnią wartość\n",
    "* max wartość\n",
    "* minimalną wartość\n",
    "* 99 percentyl\n",
    "* odchylenie standardowe\n",
    "\n",
    "dla parametrów:\n",
    "* sepal_l\n",
    "* sepal_w\n",
    "* petal_l\n",
    "* petal_w\n",
    "\n",
    "według klasy oraz dla całej populacji\n",
    "\n",
    "### Sql\n",
    "\n",
    "* Czy da się powyższe zadanie wykonać 1 zapytaniem?\n",
    "\n"
   ]
  },
  {
   "cell_type": "code",
   "execution_count": 33,
   "metadata": {
    "colab": {
     "base_uri": "https://localhost:8080/"
    },
    "id": "_pfrgvs7nG2Q",
    "outputId": "e77dd9b7-b613-4264-e7b2-790b82f4552a"
   },
   "outputs": [
    {
     "name": "stdout",
     "output_type": "stream",
     "text": [
      "--2021-11-20 09:42:23--  https://gist.githubusercontent.com/faustofjunqueira/ba97008616148653a9c633c066edaba9/raw/d05a7e8f3568e456417a3f781fbbd35213e529ac/iris-dataset-postgres\n",
      "Resolving gist.githubusercontent.com (gist.githubusercontent.com)... 185.199.111.133, 185.199.108.133, 185.199.110.133, ...\n",
      "Connecting to gist.githubusercontent.com (gist.githubusercontent.com)|185.199.111.133|:443... connected.\n",
      "HTTP request sent, awaiting response... 200 OK\n",
      "Length: 15489 (15K) [text/plain]\n",
      "Saving to: ‘var/iris.sql’\n",
      "\n",
      "\r",
      "var/iris.sql          0%[                    ]       0  --.-KB/s               \r",
      "var/iris.sql        100%[===================>]  15.13K  --.-KB/s    in 0.001s  \n",
      "\n",
      "2021-11-20 09:42:23 (22.4 MB/s) - ‘var/iris.sql’ saved [15489/15489]\n",
      "\n"
     ]
    }
   ],
   "source": [
    "!wget https://gist.githubusercontent.com/faustofjunqueira/ba97008616148653a9c633c066edaba9/raw/d05a7e8f3568e456417a3f781fbbd35213e529ac/iris-dataset-postgres -O var/iris.sql"
   ]
  },
  {
   "cell_type": "code",
   "execution_count": 44,
   "metadata": {
    "colab": {
     "base_uri": "https://localhost:8080/"
    },
    "id": "BGPwwORLlNJb",
    "outputId": "435cc12c-05e9-4a22-cc15-cbad763104f0"
   },
   "outputs": [
    {
     "name": "stdout",
     "output_type": "stream",
     "text": [
      "GRANT\n"
     ]
    }
   ],
   "source": [
    "!sudo -u postgres psql datascience < var/iris.sql > /dev/null\n",
    "!sudo -u postgres psql datascience -c \"GRANT ALL PRIVILEGES ON ALL TABLES IN SCHEMA public TO datascience\""
   ]
  },
  {
   "cell_type": "code",
   "execution_count": 45,
   "metadata": {
    "id": "0UEhWGabrljY"
   },
   "outputs": [],
   "source": [
    "!sudo -u postgres psql datascience -c \"select * from iris limit 2\" > var/output.txt"
   ]
  },
  {
   "cell_type": "code",
   "execution_count": 46,
   "metadata": {
    "colab": {
     "base_uri": "https://localhost:8080/"
    },
    "id": "je74uUUguPDA",
    "outputId": "57100446-b7eb-4c6a-f464-45fb7e61f905"
   },
   "outputs": [
    {
     "name": "stdout",
     "output_type": "stream",
     "text": [
      " sepal_l | sepal_w | petal_l | petal_w |    class    \n",
      "---------+---------+---------+---------+-------------\n",
      "     5.1 |     3.5 |     1.4 |     0.2 | Iris-setosa\n",
      "     4.9 |       3 |     1.4 |     0.2 | Iris-setosa\n",
      "(2 rows)\n",
      "\n"
     ]
    }
   ],
   "source": [
    "!sudo cat var/output.txt"
   ]
  },
  {
   "cell_type": "code",
   "execution_count": 47,
   "metadata": {
    "colab": {
     "base_uri": "https://localhost:8080/"
    },
    "id": "HcbgSX4tnKw_",
    "outputId": "f35683f1-6022-43e5-9c48-bf08ba5528b4"
   },
   "outputs": [
    {
     "name": "stdout",
     "output_type": "stream",
     "text": [
      "[(5.1, 3.5, 1.4, 0.2, 'Iris-setosa'), (4.9, 3.0, 1.4, 0.2, 'Iris-setosa'), (4.7, 3.2, 1.3, 0.2, 'Iris-setosa'), (4.6, 3.1, 1.5, 0.2, 'Iris-setosa'), (5.0, 3.6, 1.4, 0.2, 'Iris-setosa'), (5.4, 3.9, 1.7, 0.4, 'Iris-setosa'), (4.6, 3.4, 1.4, 0.3, 'Iris-setosa'), (5.0, 3.4, 1.5, 0.2, 'Iris-setosa'), (4.4, 2.9, 1.4, 0.2, 'Iris-setosa'), (4.9, 3.1, 1.5, 0.1, 'Iris-setosa'), (5.4, 3.7, 1.5, 0.2, 'Iris-setosa'), (4.8, 3.4, 1.6, 0.2, 'Iris-setosa'), (4.8, 3.0, 1.4, 0.1, 'Iris-setosa'), (4.3, 3.0, 1.1, 0.1, 'Iris-setosa'), (5.8, 4.0, 1.2, 0.2, 'Iris-setosa'), (5.7, 4.4, 1.5, 0.4, 'Iris-setosa'), (5.4, 3.9, 1.3, 0.4, 'Iris-setosa'), (5.1, 3.5, 1.4, 0.3, 'Iris-setosa'), (5.7, 3.8, 1.7, 0.3, 'Iris-setosa'), (5.1, 3.8, 1.5, 0.3, 'Iris-setosa'), (5.4, 3.4, 1.7, 0.2, 'Iris-setosa'), (5.1, 3.7, 1.5, 0.4, 'Iris-setosa'), (4.6, 3.6, 1.0, 0.2, 'Iris-setosa'), (5.1, 3.3, 1.7, 0.5, 'Iris-setosa'), (4.8, 3.4, 1.9, 0.2, 'Iris-setosa'), (5.0, 3.0, 1.6, 0.2, 'Iris-setosa'), (5.0, 3.4, 1.6, 0.4, 'Iris-setosa'), (5.2, 3.5, 1.5, 0.2, 'Iris-setosa'), (5.2, 3.4, 1.4, 0.2, 'Iris-setosa'), (4.7, 3.2, 1.6, 0.2, 'Iris-setosa'), (4.8, 3.1, 1.6, 0.2, 'Iris-setosa'), (5.4, 3.4, 1.5, 0.4, 'Iris-setosa'), (5.2, 4.1, 1.5, 0.1, 'Iris-setosa'), (5.5, 4.2, 1.4, 0.2, 'Iris-setosa'), (4.9, 3.1, 1.5, 0.1, 'Iris-setosa'), (5.0, 3.2, 1.2, 0.2, 'Iris-setosa'), (5.5, 3.5, 1.3, 0.2, 'Iris-setosa'), (4.9, 3.1, 1.5, 0.1, 'Iris-setosa'), (4.4, 3.0, 1.3, 0.2, 'Iris-setosa'), (5.1, 3.4, 1.5, 0.2, 'Iris-setosa'), (5.0, 3.5, 1.3, 0.3, 'Iris-setosa'), (4.5, 2.3, 1.3, 0.3, 'Iris-setosa'), (4.4, 3.2, 1.3, 0.2, 'Iris-setosa'), (5.0, 3.5, 1.6, 0.6, 'Iris-setosa'), (5.1, 3.8, 1.9, 0.4, 'Iris-setosa'), (4.8, 3.0, 1.4, 0.3, 'Iris-setosa'), (5.1, 3.8, 1.6, 0.2, 'Iris-setosa'), (4.6, 3.2, 1.4, 0.2, 'Iris-setosa'), (5.3, 3.7, 1.5, 0.2, 'Iris-setosa'), (5.0, 3.3, 1.4, 0.2, 'Iris-setosa'), (7.0, 3.2, 4.7, 1.4, 'Iris-versicolor'), (6.4, 3.2, 4.5, 1.5, 'Iris-versicolor'), (6.9, 3.1, 4.9, 1.5, 'Iris-versicolor'), (5.5, 2.3, 4.0, 1.3, 'Iris-versicolor'), (6.5, 2.8, 4.6, 1.5, 'Iris-versicolor'), (5.7, 2.8, 4.5, 1.3, 'Iris-versicolor'), (6.3, 3.3, 4.7, 1.6, 'Iris-versicolor'), (4.9, 2.4, 3.3, 1.0, 'Iris-versicolor'), (6.6, 2.9, 4.6, 1.3, 'Iris-versicolor'), (5.2, 2.7, 3.9, 1.4, 'Iris-versicolor'), (5.0, 2.0, 3.5, 1.0, 'Iris-versicolor'), (5.9, 3.0, 4.2, 1.5, 'Iris-versicolor'), (6.0, 2.2, 4.0, 1.0, 'Iris-versicolor'), (6.1, 2.9, 4.7, 1.4, 'Iris-versicolor'), (5.6, 2.9, 3.6, 1.3, 'Iris-versicolor'), (6.7, 3.1, 4.4, 1.4, 'Iris-versicolor'), (5.6, 3.0, 4.5, 1.5, 'Iris-versicolor'), (5.8, 2.7, 4.1, 1.0, 'Iris-versicolor'), (6.2, 2.2, 4.5, 1.5, 'Iris-versicolor'), (5.6, 2.5, 3.9, 1.1, 'Iris-versicolor'), (5.9, 3.2, 4.8, 1.8, 'Iris-versicolor'), (6.1, 2.8, 4.0, 1.3, 'Iris-versicolor'), (6.3, 2.5, 4.9, 1.5, 'Iris-versicolor'), (6.1, 2.8, 4.7, 1.2, 'Iris-versicolor'), (6.4, 2.9, 4.3, 1.3, 'Iris-versicolor'), (6.6, 3.0, 4.4, 1.4, 'Iris-versicolor'), (6.8, 2.8, 4.8, 1.4, 'Iris-versicolor'), (6.7, 3.0, 5.0, 1.7, 'Iris-versicolor'), (6.0, 2.9, 4.5, 1.5, 'Iris-versicolor'), (5.7, 2.6, 3.5, 1.0, 'Iris-versicolor'), (5.5, 2.4, 3.8, 1.1, 'Iris-versicolor'), (5.5, 2.4, 3.7, 1.0, 'Iris-versicolor'), (5.8, 2.7, 3.9, 1.2, 'Iris-versicolor'), (6.0, 2.7, 5.1, 1.6, 'Iris-versicolor'), (5.4, 3.0, 4.5, 1.5, 'Iris-versicolor'), (6.0, 3.4, 4.5, 1.6, 'Iris-versicolor'), (6.7, 3.1, 4.7, 1.5, 'Iris-versicolor'), (6.3, 2.3, 4.4, 1.3, 'Iris-versicolor'), (5.6, 3.0, 4.1, 1.3, 'Iris-versicolor'), (5.5, 2.5, 4.0, 1.3, 'Iris-versicolor'), (5.5, 2.6, 4.4, 1.2, 'Iris-versicolor'), (6.1, 3.0, 4.6, 1.4, 'Iris-versicolor'), (5.8, 2.6, 4.0, 1.2, 'Iris-versicolor'), (5.0, 2.3, 3.3, 1.0, 'Iris-versicolor'), (5.6, 2.7, 4.2, 1.3, 'Iris-versicolor'), (5.7, 3.0, 4.2, 1.2, 'Iris-versicolor'), (5.7, 2.9, 4.2, 1.3, 'Iris-versicolor'), (6.2, 2.9, 4.3, 1.3, 'Iris-versicolor'), (5.1, 2.5, 3.0, 1.1, 'Iris-versicolor'), (5.7, 2.8, 4.1, 1.3, 'Iris-versicolor'), (6.3, 3.3, 6.0, 2.5, 'Iris-virginica'), (5.8, 2.7, 5.1, 1.9, 'Iris-virginica'), (7.1, 3.0, 5.9, 2.1, 'Iris-virginica'), (6.3, 2.9, 5.6, 1.8, 'Iris-virginica'), (6.5, 3.0, 5.8, 2.2, 'Iris-virginica'), (7.6, 3.0, 6.6, 2.1, 'Iris-virginica'), (4.9, 2.5, 4.5, 1.7, 'Iris-virginica'), (7.3, 2.9, 6.3, 1.8, 'Iris-virginica'), (6.7, 2.5, 5.8, 1.8, 'Iris-virginica'), (7.2, 3.6, 6.1, 2.5, 'Iris-virginica'), (6.5, 3.2, 5.1, 2.0, 'Iris-virginica'), (6.4, 2.7, 5.3, 1.9, 'Iris-virginica'), (6.8, 3.0, 5.5, 2.1, 'Iris-virginica'), (5.7, 2.5, 5.0, 2.0, 'Iris-virginica'), (5.8, 2.8, 5.1, 2.4, 'Iris-virginica'), (6.4, 3.2, 5.3, 2.3, 'Iris-virginica'), (6.5, 3.0, 5.5, 1.8, 'Iris-virginica'), (7.7, 3.8, 6.7, 2.2, 'Iris-virginica'), (7.7, 2.6, 6.9, 2.3, 'Iris-virginica'), (6.0, 2.2, 5.0, 1.5, 'Iris-virginica'), (6.9, 3.2, 5.7, 2.3, 'Iris-virginica'), (5.6, 2.8, 4.9, 2.0, 'Iris-virginica'), (7.7, 2.8, 6.7, 2.0, 'Iris-virginica'), (6.3, 2.7, 4.9, 1.8, 'Iris-virginica'), (6.7, 3.3, 5.7, 2.1, 'Iris-virginica'), (7.2, 3.2, 6.0, 1.8, 'Iris-virginica'), (6.2, 2.8, 4.8, 1.8, 'Iris-virginica'), (6.1, 3.0, 4.9, 1.8, 'Iris-virginica'), (6.4, 2.8, 5.6, 2.1, 'Iris-virginica'), (7.2, 3.0, 5.8, 1.6, 'Iris-virginica'), (7.4, 2.8, 6.1, 1.9, 'Iris-virginica'), (7.9, 3.8, 6.4, 2.0, 'Iris-virginica'), (6.4, 2.8, 5.6, 2.2, 'Iris-virginica'), (6.3, 2.8, 5.1, 1.5, 'Iris-virginica'), (6.1, 2.6, 5.6, 1.4, 'Iris-virginica'), (7.7, 3.0, 6.1, 2.3, 'Iris-virginica'), (6.3, 3.4, 5.6, 2.4, 'Iris-virginica'), (6.4, 3.1, 5.5, 1.8, 'Iris-virginica'), (6.0, 3.0, 4.8, 1.8, 'Iris-virginica'), (6.9, 3.1, 5.4, 2.1, 'Iris-virginica'), (6.7, 3.1, 5.6, 2.4, 'Iris-virginica'), (6.9, 3.1, 5.1, 2.3, 'Iris-virginica'), (5.8, 2.7, 5.1, 1.9, 'Iris-virginica'), (6.8, 3.2, 5.9, 2.3, 'Iris-virginica'), (6.7, 3.3, 5.7, 2.5, 'Iris-virginica'), (6.7, 3.0, 5.2, 2.3, 'Iris-virginica'), (6.3, 2.5, 5.0, 1.9, 'Iris-virginica'), (6.5, 3.0, 5.2, 2.0, 'Iris-virginica'), (6.2, 3.4, 5.4, 2.3, 'Iris-virginica'), (5.9, 3.0, 5.1, 1.8, 'Iris-virginica')]\n",
      "PostgreSQL connection is closed\n"
     ]
    }
   ],
   "source": [
    "select = '''\n",
    "    select * from iris;\n",
    "'''\n",
    "\n",
    "try:\n",
    "    connection = connect_db()\n",
    "    cursor = connection.cursor()\n",
    "    cursor.execute(select)\n",
    "    records = cursor.fetchall()\n",
    "    print(records)\n",
    "except (Exception, psycopg2.DataError) as error:\n",
    "    print (\"Error while inserting\", error)\n",
    "finally:\n",
    "    #closing database connection.\n",
    "    if(connection):\n",
    "        cursor.close()\n",
    "        connection.close()\n",
    "        print(\"PostgreSQL connection is closed\")"
   ]
  },
  {
   "cell_type": "code",
   "execution_count": null,
   "metadata": {
    "id": "_DlfgEoGoqKc"
   },
   "outputs": [],
   "source": []
  }
 ],
 "metadata": {
  "colab": {
   "name": "01--postgresql.ipynb",
   "provenance": []
  },
  "kernelspec": {
   "display_name": "Python 3 (ipykernel)",
   "language": "python",
   "name": "python3"
  },
  "language_info": {
   "codemirror_mode": {
    "name": "ipython",
    "version": 3
   },
   "file_extension": ".py",
   "mimetype": "text/x-python",
   "name": "python",
   "nbconvert_exporter": "python",
   "pygments_lexer": "ipython3",
   "version": "3.9.8"
  }
 },
 "nbformat": 4,
 "nbformat_minor": 1
}
