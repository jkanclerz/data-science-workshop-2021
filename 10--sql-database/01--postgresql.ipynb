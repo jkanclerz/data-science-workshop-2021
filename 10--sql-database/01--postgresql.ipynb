{
 "cells": [
  {
   "cell_type": "markdown",
   "metadata": {},
   "source": [
    "[![Open In Colab](https://colab.research.google.com/assets/colab-badge.svg)](https://githubtocolab.com/jkanclerz/data-science-workshop-2021/blob/main/10--sql-database/01--postgresql.ipynb)"
   ]
  },
  {
   "cell_type": "code",
   "execution_count": null,
   "metadata": {},
   "outputs": [],
   "source": []
  },
  {
   "cell_type": "code",
   "execution_count": null,
   "metadata": {},
   "outputs": [],
   "source": [
    "!pip install psycopg2"
   ]
  },
  {
   "cell_type": "code",
   "execution_count": null,
   "metadata": {},
   "outputs": [],
   "source": [
    "import psycopg2"
   ]
  },
  {
   "cell_type": "code",
   "execution_count": null,
   "metadata": {},
   "outputs": [],
   "source": [
    "connection = psycopg2.connect(user=\"datascience\",\n",
    "                                  password=\"datascience\",\n",
    "                                  host=\"127.0.0.1\",\n",
    "                                  port=\"5432\",\n",
    "                                  database=\"datascience\")"
   ]
  },
  {
   "cell_type": "code",
   "execution_count": null,
   "metadata": {},
   "outputs": [],
   "source": [
    "\n"
   ]
  },
  {
   "cell_type": "code",
   "execution_count": null,
   "metadata": {},
   "outputs": [],
   "source": [
    "# Print PostgreSQL version\n",
    "cursor = connection.cursor()\n",
    "cursor.execute(\"SELECT version();\")\n",
    "record = cursor.fetchone()"
   ]
  },
  {
   "cell_type": "code",
   "execution_count": null,
   "metadata": {},
   "outputs": [],
   "source": [
    "print(record)"
   ]
  },
  {
   "cell_type": "code",
   "execution_count": null,
   "metadata": {},
   "outputs": [],
   "source": [
    "create_table = '''\n",
    "DROP TABLE Employee;\n",
    "CREATE TABLE IF NOT EXISTS Employee (\n",
    "  id SERIAL PRIMARY KEY,\n",
    "  name text NOT NULL,\n",
    "  sallary money NOT NULL\n",
    ")\n",
    "'''"
   ]
  },
  {
   "cell_type": "code",
   "execution_count": null,
   "metadata": {},
   "outputs": [],
   "source": [
    "def connect_db():\n",
    "    connection = psycopg2.connect(user=\"datascience\",\n",
    "                                  password=\"datascience\",\n",
    "                                  host=\"127.0.0.1\",\n",
    "                                  port=\"5432\",\n",
    "                                  database=\"datascience\")\n",
    "    return connection"
   ]
  },
  {
   "cell_type": "code",
   "execution_count": null,
   "metadata": {},
   "outputs": [],
   "source": [
    "try:\n",
    "    connection = connect_db()\n",
    "    cursor = connection.cursor()\n",
    "    cursor.execute(create_table)\n",
    "    connection.commit()\n",
    "except (Exception, psycopg2.DataError) as error:\n",
    "    print (\"Error while creating PostgreSQL table\", error)\n",
    "finally:\n",
    "    #closing database connection.\n",
    "    if(connection):\n",
    "        cursor.close()\n",
    "        connection.close()\n",
    "        print(\"PostgreSQL connection is closed\")"
   ]
  },
  {
   "cell_type": "code",
   "execution_count": null,
   "metadata": {},
   "outputs": [],
   "source": [
    "insert_sql = '''\n",
    "INSERT INTO Employee (name, sallary) VALUES (%s,%s)\n",
    "''';\n",
    "\n",
    "try:\n",
    "    connection = connect_db()\n",
    "    cursor = connection.cursor()\n",
    "    cursor.execute(insert_sql, (\"jakub\", 2500.00))\n",
    "    connection.commit()\n",
    "except (Exception, psycopg2.DataError) as error:\n",
    "    print (\"Error while inserting\", error)\n",
    "finally:\n",
    "    #closing database connection.\n",
    "    if(connection):\n",
    "        cursor.close()\n",
    "        connection.close()\n",
    "        print(\"PostgreSQL connection is closed\")"
   ]
  },
  {
   "cell_type": "code",
   "execution_count": null,
   "metadata": {},
   "outputs": [],
   "source": [
    "select = '''\n",
    "    select * from Employee;\n",
    "'''\n",
    "\n",
    "try:\n",
    "    connection = connect_db()\n",
    "    cursor = connection.cursor()\n",
    "    cursor.execute(select)\n",
    "    records = cursor.fetchall()\n",
    "except (Exception, psycopg2.DataError) as error:\n",
    "    print (\"Error while inserting\", error)\n",
    "finally:\n",
    "    #closing database connection.\n",
    "    if(connection):\n",
    "        cursor.close()\n",
    "        connection.close()\n",
    "        print(\"PostgreSQL connection is closed\")"
   ]
  },
  {
   "cell_type": "code",
   "execution_count": null,
   "metadata": {},
   "outputs": [],
   "source": [
    "print(records)"
   ]
  },
  {
   "cell_type": "markdown",
   "metadata": {},
   "source": [
    "## Play with events sale system\n",
    "\n",
    "```python\n",
    "def connect_db():\n",
    "    connection = psycopg2.connect(user=\"datascience\",\n",
    "                                  password=\"datascience\",\n",
    "                                  host=\"127.0.0.1\",\n",
    "                                  port=\"5432\",\n",
    "                                  database=\"warehouse\")\n",
    "    return connection\n",
    "```\n",
    "\n",
    "```\n",
    "http://{virtual_machine_ip}:8080\n",
    "user: datascience\n",
    "password: datascience\n",
    "database: warehouse\n",
    "```\n"
   ]
  },
  {
   "cell_type": "code",
   "execution_count": null,
   "metadata": {},
   "outputs": [],
   "source": []
  }
 ],
 "metadata": {
  "kernelspec": {
   "display_name": "Python 3 (ipykernel)",
   "language": "python",
   "name": "python3"
  },
  "language_info": {
   "codemirror_mode": {
    "name": "ipython",
    "version": 3
   },
   "file_extension": ".py",
   "mimetype": "text/x-python",
   "name": "python",
   "nbconvert_exporter": "python",
   "pygments_lexer": "ipython3",
   "version": "3.8.5"
  }
 },
 "nbformat": 4,
 "nbformat_minor": 2
}
