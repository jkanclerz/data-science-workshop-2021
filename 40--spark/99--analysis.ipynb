{
 "cells": [
  {
   "cell_type": "markdown",
   "metadata": {},
   "source": [
    "\n",
    "[![Open In Colab](https://colab.research.google.com/assets/colab-badge.svg)](https://githubtocolab.com/jkanclerz/data-science-workshop-2021/blob/main/40--spark/99--analysis.ipynb)"
   ]
  },
  {
   "cell_type": "code",
   "execution_count": null,
   "metadata": {},
   "outputs": [],
   "source": [
    "!apt-get install openjdk-8-jdk-headless -qq > /dev/null\n",
    "!wget https://dlcdn.apache.org/spark/spark-3.2.0/spark-3.2.0-bin-hadoop3.2.tgz -O spark-3.2.0-bin-hadoop3.2.tgz\n",
    "!tar xf spark-3.2.0-bin-hadoop3.2.tgz"
   ]
  },
  {
   "cell_type": "code",
   "execution_count": 1,
   "metadata": {},
   "outputs": [],
   "source": [
    "!pip install -q pyspark findspark"
   ]
  },
  {
   "cell_type": "code",
   "execution_count": null,
   "metadata": {},
   "outputs": [],
   "source": [
    "import os\n",
    "os.environ[\"JAVA_HOME\"] = \"/usr/lib/jvm/java-8-openjdk-amd64\"\n",
    "os.environ[\"SPARK_HOME\"] = \"/content/spark-3.2.0-bin-hadoop3.2\""
   ]
  },
  {
   "cell_type": "code",
   "execution_count": 2,
   "metadata": {},
   "outputs": [
    {
     "name": "stderr",
     "output_type": "stream",
     "text": [
      "21/12/11 07:36:53 WARN Utils: Your hostname, Jakubs-MacBook-Pro.local resolves to a loopback address: 127.0.0.1; using 192.168.8.8 instead (on interface en0)\n",
      "21/12/11 07:36:53 WARN Utils: Set SPARK_LOCAL_IP if you need to bind to another address\n",
      "WARNING: An illegal reflective access operation has occurred\n",
      "WARNING: Illegal reflective access by org.apache.spark.unsafe.Platform (file:/Users/jkanclerz/myplace/dydaktyka/przetwarzanie-dokumnetow/data-science-workshop-2021/40--spark/spark-3.2.0-bin-hadoop3.2/jars/spark-unsafe_2.12-3.2.0.jar) to constructor java.nio.DirectByteBuffer(long,int)\n",
      "WARNING: Please consider reporting this to the maintainers of org.apache.spark.unsafe.Platform\n",
      "WARNING: Use --illegal-access=warn to enable warnings of further illegal reflective access operations\n",
      "WARNING: All illegal access operations will be denied in a future release\n",
      "Using Spark's default log4j profile: org/apache/spark/log4j-defaults.properties\n",
      "Setting default log level to \"WARN\".\n",
      "To adjust logging level use sc.setLogLevel(newLevel). For SparkR, use setLogLevel(newLevel).\n",
      "21/12/11 07:36:54 WARN NativeCodeLoader: Unable to load native-hadoop library for your platform... using builtin-java classes where applicable\n",
      "21/12/11 07:36:55 WARN Utils: Service 'SparkUI' could not bind on port 4050. Attempting port 4051.\n"
     ]
    }
   ],
   "source": [
    "from pyspark.sql import SparkSession\n",
    "\n",
    "spark = SparkSession.builder\\\n",
    "        .master(\"local\")\\\n",
    "        .appName(\"Spark dataframe\")\\\n",
    "        .config('spark.ui.port', '4050')\\\n",
    "        .getOrCreate()\n",
    "sc = spark.sparkContext"
   ]
  },
  {
   "cell_type": "code",
   "execution_count": 3,
   "metadata": {},
   "outputs": [
    {
     "data": {
      "text/html": [
       "\n",
       "            <div>\n",
       "                <p><b>SparkSession - in-memory</b></p>\n",
       "                \n",
       "        <div>\n",
       "            <p><b>SparkContext</b></p>\n",
       "\n",
       "            <p><a href=\"http://192.168.8.8:4051\">Spark UI</a></p>\n",
       "\n",
       "            <dl>\n",
       "              <dt>Version</dt>\n",
       "                <dd><code>v3.2.0</code></dd>\n",
       "              <dt>Master</dt>\n",
       "                <dd><code>local</code></dd>\n",
       "              <dt>AppName</dt>\n",
       "                <dd><code>Spark dataframe</code></dd>\n",
       "            </dl>\n",
       "        </div>\n",
       "        \n",
       "            </div>\n",
       "        "
      ],
      "text/plain": [
       "<pyspark.sql.session.SparkSession at 0x118739af0>"
      ]
     },
     "execution_count": 3,
     "metadata": {},
     "output_type": "execute_result"
    }
   ],
   "source": [
    "spark"
   ]
  },
  {
   "cell_type": "markdown",
   "metadata": {},
   "source": [
    "Once we have our RDD of Row we can infer and register the schema."
   ]
  },
  {
   "cell_type": "code",
   "execution_count": 4,
   "metadata": {},
   "outputs": [
    {
     "name": "stderr",
     "output_type": "stream",
     "text": [
      "/Users/jkanclerz/myplace/dydaktyka/przetwarzanie-dokumnetow/data-science-workshop-2021/.venv/lib/python3.9/site-packages/pyspark/sql/context.py:77: FutureWarning: Deprecated in 3.0.0. Use SparkSession.builder.getOrCreate() instead.\n",
      "  warnings.warn(\n"
     ]
    }
   ],
   "source": [
    "from pyspark.sql import SQLContext\n",
    "sqlContext = SQLContext(sc)"
   ]
  },
  {
   "cell_type": "markdown",
   "metadata": {},
   "source": [
    "https://spark.apache.org/docs/latest/sql-data-sources-load-save-functions.html"
   ]
  },
  {
   "cell_type": "code",
   "execution_count": 5,
   "metadata": {},
   "outputs": [
    {
     "name": "stdout",
     "output_type": "stream",
     "text": [
      "--2021-12-11 07:37:35--  https://s3.eu-central-1.amazonaws.com/jkan.pl/data-science/uek/otomoto.csv\n",
      "Resolving s3.eu-central-1.amazonaws.com (s3.eu-central-1.amazonaws.com)... 52.219.168.151\n",
      "Connecting to s3.eu-central-1.amazonaws.com (s3.eu-central-1.amazonaws.com)|52.219.168.151|:443... connected.\n",
      "HTTP request sent, awaiting response... 416 Requested Range Not Satisfiable\n",
      "\n",
      "    The file is already fully retrieved; nothing to do.\n",
      "\n"
     ]
    }
   ],
   "source": [
    "!mkdir -p var\n",
    "!wget -c https://s3.eu-central-1.amazonaws.com/jkan.pl/data-science/uek/otomoto.csv -O var/otomoto.csv"
   ]
  },
  {
   "cell_type": "code",
   "execution_count": 6,
   "metadata": {},
   "outputs": [
    {
     "name": "stderr",
     "output_type": "stream",
     "text": [
      "\r",
      "[Stage 1:>                                                          (0 + 1) / 1]\r",
      "\r",
      "                                                                                \r"
     ]
    }
   ],
   "source": [
    "DF = spark.read.load(\"var/otomoto.csv\", format=\"csv\", sep=\";\", inferSchema=\"true\", header=\"true\")"
   ]
  },
  {
   "cell_type": "code",
   "execution_count": 8,
   "metadata": {},
   "outputs": [],
   "source": [
    "DF.createOrReplaceTempView(\"cars\")"
   ]
  },
  {
   "cell_type": "code",
   "execution_count": 9,
   "metadata": {},
   "outputs": [],
   "source": [
    "all_cars = sqlContext.sql(\"\"\"\n",
    "    Select przebieg from cars\n",
    "\"\"\")"
   ]
  },
  {
   "cell_type": "code",
   "execution_count": 10,
   "metadata": {},
   "outputs": [
    {
     "data": {
      "text/plain": [
       "pyspark.sql.dataframe.DataFrame"
      ]
     },
     "execution_count": 10,
     "metadata": {},
     "output_type": "execute_result"
    }
   ],
   "source": [
    "type(all_cars)"
   ]
  },
  {
   "cell_type": "markdown",
   "metadata": {},
   "source": [
    "* https://spark.apache.org/docs/latest/api/java/org/apache/spark/sql/functions.html\n",
    "* https://spark.apache.org/docs/2.1.0/api/python/pyspark.sql.html#module-pyspark.sql.functions\n",
    "* "
   ]
  },
  {
   "cell_type": "code",
   "execution_count": 11,
   "metadata": {},
   "outputs": [],
   "source": [
    "from pyspark.sql.functions import *"
   ]
  },
  {
   "cell_type": "code",
   "execution_count": 12,
   "metadata": {},
   "outputs": [],
   "source": [
    "CARS = DF.select('id','Marka pojazdu', \"Model pojazdu\", \"przebieg\", \"price\", \"rok produkcji\")\n",
    "CARS = CARS.dropna()\n",
    "CARS = CARS.withColumn(\"przebieg\", regexp_replace(CARS['przebieg'], '\\s', ''))\n",
    "CARS = CARS.withColumn(\"przebieg\", regexp_replace(CARS['przebieg'], 'km', ''))\n",
    "CARS = CARS.withColumn(\"przebieg\", CARS['przebieg'].cast('int'))\n"
   ]
  },
  {
   "cell_type": "code",
   "execution_count": 13,
   "metadata": {},
   "outputs": [
    {
     "data": {
      "text/plain": [
       "[Row(id=6039269187, Marka pojazdu='Renault', Model pojazdu='Fluence', przebieg=172000, price=25900.0, rok produkcji=2013),\n",
       " Row(id=6034090022, Marka pojazdu='Mercedes-Benz', Model pojazdu='Klasa G', przebieg=52904, price=434900.0, rok produkcji=2016),\n",
       " Row(id=6039268812, Marka pojazdu='Audi', Model pojazdu='A5', przebieg=56000, price=41900.0, rok produkcji=2011),\n",
       " Row(id=6039269107, Marka pojazdu='Volkswagen', Model pojazdu='Polo', przebieg=88000, price=14900.0, rok produkcji=2007),\n",
       " Row(id=6038674457, Marka pojazdu='Peugeot', Model pojazdu='206 CC', przebieg=176000, price=5900.0, rok produkcji=2001),\n",
       " Row(id=6033752462, Marka pojazdu='Volkswagen', Model pojazdu='Bora', przebieg=300000, price=7900.0, rok produkcji=2003),\n",
       " Row(id=6035637917, Marka pojazdu='BMW', Model pojazdu='Seria 5', przebieg=301000, price=9800.0, rok produkcji=2002),\n",
       " Row(id=6038678372, Marka pojazdu='Audi', Model pojazdu='Q5', przebieg=155400, price=98900.0, rok produkcji=2013),\n",
       " Row(id=6039268967, Marka pojazdu='Hyundai', Model pojazdu='Santa Fe', przebieg=124500, price=14480.0, rok produkcji=2004),\n",
       " Row(id=6039268802, Marka pojazdu='Volkswagen', Model pojazdu='Golf', przebieg=95100, price=64900.0, rok produkcji=2014)]"
      ]
     },
     "execution_count": 13,
     "metadata": {},
     "output_type": "execute_result"
    }
   ],
   "source": [
    "CARS.take(10)"
   ]
  },
  {
   "cell_type": "code",
   "execution_count": 14,
   "metadata": {},
   "outputs": [
    {
     "name": "stdout",
     "output_type": "stream",
     "text": [
      "+----------+-------------+--------------+--------+--------+-------------+\n",
      "|        id|Marka pojazdu| Model pojazdu|przebieg|   price|rok produkcji|\n",
      "+----------+-------------+--------------+--------+--------+-------------+\n",
      "|6039269187|      Renault|       Fluence|  172000| 25900.0|         2013|\n",
      "|6034090022|Mercedes-Benz|       Klasa G|   52904|434900.0|         2016|\n",
      "|6039268812|         Audi|            A5|   56000| 41900.0|         2011|\n",
      "|6039269107|   Volkswagen|          Polo|   88000| 14900.0|         2007|\n",
      "|6038674457|      Peugeot|        206 CC|  176000|  5900.0|         2001|\n",
      "|6033752462|   Volkswagen|          Bora|  300000|  7900.0|         2003|\n",
      "|6035637917|          BMW|       Seria 5|  301000|  9800.0|         2002|\n",
      "|6038678372|         Audi|            Q5|  155400| 98900.0|         2013|\n",
      "|6039268967|      Hyundai|      Santa Fe|  124500| 14480.0|         2004|\n",
      "|6039268802|   Volkswagen|          Golf|   95100| 64900.0|         2014|\n",
      "|6039266742|         Jeep|Grand Cherokee|  268000| 37000.0|         2006|\n",
      "|6037921412|       Nissan|       Qashqai|   42000| 66500.0|         2014|\n",
      "|6039268842|       Toyota|       Avensis|  215896| 18500.0|         2007|\n",
      "|6034072207|   Volkswagen|        Passat|  178000| 37900.0|         2012|\n",
      "|6037838512|         Audi|            A4|  240000| 35000.0|         2008|\n",
      "|6039268727|         Opel|         Astra|   52900| 43900.0|         2015|\n",
      "|6039268722|       Nissan|       Qashqai|  122900| 24900.0|         2007|\n",
      "|6024045957|       Nissan|         Micra|   72686| 14900.0|         2006|\n",
      "|6036986467|         Ford|         S-Max|   94805| 68000.0|         2014|\n",
      "|6038678092|         Opel|         Corsa|  153000| 13400.0|         2006|\n",
      "+----------+-------------+--------------+--------+--------+-------------+\n",
      "only showing top 20 rows\n",
      "\n"
     ]
    }
   ],
   "source": [
    "CARS.show()"
   ]
  },
  {
   "cell_type": "code",
   "execution_count": 15,
   "metadata": {},
   "outputs": [
    {
     "name": "stdout",
     "output_type": "stream",
     "text": [
      "root\n",
      " |-- id: long (nullable = true)\n",
      " |-- Marka pojazdu: string (nullable = true)\n",
      " |-- Model pojazdu: string (nullable = true)\n",
      " |-- przebieg: integer (nullable = true)\n",
      " |-- price: double (nullable = true)\n",
      " |-- rok produkcji: integer (nullable = true)\n",
      "\n"
     ]
    }
   ],
   "source": [
    "CARS.printSchema()"
   ]
  },
  {
   "cell_type": "code",
   "execution_count": 16,
   "metadata": {},
   "outputs": [],
   "source": [
    "from pyspark.sql.functions import udf\n",
    "udf?"
   ]
  },
  {
   "cell_type": "code",
   "execution_count": 18,
   "metadata": {},
   "outputs": [],
   "source": [
    "lowercase_name = udf(lambda x: x.lower(), \"string\")"
   ]
  },
  {
   "cell_type": "code",
   "execution_count": 19,
   "metadata": {},
   "outputs": [],
   "source": [
    "CARS = CARS.withColumn(\"Marka pojazdu\", lowercase_name(CARS[\"Marka pojazdu\"]))\n",
    "CARS = CARS.withColumn(\"Model pojazdu\", lowercase_name(CARS[\"Model pojazdu\"]))"
   ]
  },
  {
   "cell_type": "code",
   "execution_count": 20,
   "metadata": {},
   "outputs": [],
   "source": [
    "CARS = CARS.withColumnRenamed(\"Marka pojazdu\", 'marka') \\\n",
    "    .withColumnRenamed(\"Model pojazdu\", 'model') \\\n",
    "    .withColumnRenamed(\"rok produkcji\", 'rok')"
   ]
  },
  {
   "cell_type": "code",
   "execution_count": 21,
   "metadata": {},
   "outputs": [
    {
     "name": "stderr",
     "output_type": "stream",
     "text": [
      "\r",
      "[Stage 4:>                                                          (0 + 1) / 1]\r",
      "\r",
      "                                                                                \r",
      "Traceback (most recent call last):\n",
      "  File \"/Users/jkanclerz/myplace/dydaktyka/przetwarzanie-dokumnetow/data-science-workshop-2021/40--spark/spark-3.2.0-bin-hadoop3.2/python/lib/pyspark.zip/pyspark/daemon.py\", line 186, in manager\n",
      "  File \"/Users/jkanclerz/myplace/dydaktyka/przetwarzanie-dokumnetow/data-science-workshop-2021/40--spark/spark-3.2.0-bin-hadoop3.2/python/lib/pyspark.zip/pyspark/daemon.py\", line 74, in worker\n",
      "  File \"/Users/jkanclerz/myplace/dydaktyka/przetwarzanie-dokumnetow/data-science-workshop-2021/40--spark/spark-3.2.0-bin-hadoop3.2/python/lib/pyspark.zip/pyspark/worker.py\", line 663, in main\n",
      "    if read_int(infile) == SpecialLengths.END_OF_STREAM:\n",
      "  File \"/Users/jkanclerz/myplace/dydaktyka/przetwarzanie-dokumnetow/data-science-workshop-2021/40--spark/spark-3.2.0-bin-hadoop3.2/python/lib/pyspark.zip/pyspark/serializers.py\", line 564, in read_int\n",
      "    raise EOFError\n",
      "EOFError\n"
     ]
    },
    {
     "data": {
      "text/plain": [
       "[Row(id=6039269187, marka='renault', model='fluence', przebieg=172000, price=25900.0, rok=2013),\n",
       " Row(id=6034090022, marka='mercedes-benz', model='klasa g', przebieg=52904, price=434900.0, rok=2016),\n",
       " Row(id=6039268812, marka='audi', model='a5', przebieg=56000, price=41900.0, rok=2011),\n",
       " Row(id=6039269107, marka='volkswagen', model='polo', przebieg=88000, price=14900.0, rok=2007),\n",
       " Row(id=6038674457, marka='peugeot', model='206 cc', przebieg=176000, price=5900.0, rok=2001),\n",
       " Row(id=6033752462, marka='volkswagen', model='bora', przebieg=300000, price=7900.0, rok=2003),\n",
       " Row(id=6035637917, marka='bmw', model='seria 5', przebieg=301000, price=9800.0, rok=2002),\n",
       " Row(id=6038678372, marka='audi', model='q5', przebieg=155400, price=98900.0, rok=2013),\n",
       " Row(id=6039268967, marka='hyundai', model='santa fe', przebieg=124500, price=14480.0, rok=2004),\n",
       " Row(id=6039268802, marka='volkswagen', model='golf', przebieg=95100, price=64900.0, rok=2014)]"
      ]
     },
     "execution_count": 21,
     "metadata": {},
     "output_type": "execute_result"
    }
   ],
   "source": [
    "CARS.take(10)"
   ]
  },
  {
   "cell_type": "code",
   "execution_count": 22,
   "metadata": {},
   "outputs": [],
   "source": [
    "price_millage = CARS.select(\"rok\", \"przebieg\").toPandas()"
   ]
  },
  {
   "cell_type": "code",
   "execution_count": 23,
   "metadata": {},
   "outputs": [
    {
     "data": {
      "text/plain": [
       "<AxesSubplot:>"
      ]
     },
     "execution_count": 23,
     "metadata": {},
     "output_type": "execute_result"
    },
    {
     "data": {
      "image/png": "[encoded data removed]",
      "text/plain": [
       "<Figure size 432x288 with 1 Axes>"
      ]
     },
     "metadata": {
      "needs_background": "light"
     },
     "output_type": "display_data"
    }
   ],
   "source": [
    "(price_millage['przebieg']/1000).plot.box()"
   ]
  },
  {
   "cell_type": "code",
   "execution_count": 26,
   "metadata": {},
   "outputs": [],
   "source": [
    "years = CARS.select(\"rok\").toPandas()"
   ]
  },
  {
   "cell_type": "code",
   "execution_count": 27,
   "metadata": {},
   "outputs": [
    {
     "data": {
      "text/plain": [
       "<AxesSubplot:ylabel='Frequency'>"
      ]
     },
     "execution_count": 27,
     "metadata": {},
     "output_type": "execute_result"
    },
    {
     "data": {
      "image/png": "[encoded data removed]",
      "text/plain": [
       "<Figure size 432x288 with 1 Axes>"
      ]
     },
     "metadata": {
      "needs_background": "light"
     },
     "output_type": "display_data"
    }
   ],
   "source": [
    "years['rok'].sort_values() \\\n",
    "    .plot(kind='hist', bins = 100)"
   ]
  },
  {
   "cell_type": "code",
   "execution_count": 28,
   "metadata": {},
   "outputs": [],
   "source": [
    "by_brand = CARS.select(\"marka\").groupBy(\"marka\").count().toPandas()"
   ]
  },
  {
   "cell_type": "code",
   "execution_count": 29,
   "metadata": {},
   "outputs": [
    {
     "data": {
      "text/plain": [
       "pandas.core.frame.DataFrame"
      ]
     },
     "execution_count": 29,
     "metadata": {},
     "output_type": "execute_result"
    }
   ],
   "source": [
    "type(by_brand)"
   ]
  },
  {
   "cell_type": "code",
   "execution_count": 30,
   "metadata": {},
   "outputs": [
    {
     "data": {
      "text/plain": [
       "87"
      ]
     },
     "execution_count": 30,
     "metadata": {},
     "output_type": "execute_result"
    }
   ],
   "source": [
    "len(by_brand)"
   ]
  },
  {
   "cell_type": "code",
   "execution_count": 31,
   "metadata": {},
   "outputs": [
    {
     "data": {
      "text/plain": [
       "50610"
      ]
     },
     "execution_count": 31,
     "metadata": {},
     "output_type": "execute_result"
    }
   ],
   "source": [
    "CARS.count()"
   ]
  },
  {
   "cell_type": "code",
   "execution_count": 32,
   "metadata": {},
   "outputs": [],
   "source": [
    "CARS_S = CARS.sample(True, 0.1)"
   ]
  },
  {
   "cell_type": "code",
   "execution_count": 33,
   "metadata": {},
   "outputs": [
    {
     "data": {
      "text/plain": [
       "4989"
      ]
     },
     "execution_count": 33,
     "metadata": {},
     "output_type": "execute_result"
    }
   ],
   "source": [
    "CARS_S.count()"
   ]
  },
  {
   "cell_type": "code",
   "execution_count": 34,
   "metadata": {},
   "outputs": [
    {
     "data": {
      "text/plain": [
       "<AxesSubplot:ylabel='marka'>"
      ]
     },
     "execution_count": 34,
     "metadata": {},
     "output_type": "execute_result"
    },
    {
     "data": {
      "image/png": "[encoded data removed]",
      "text/plain": [
       "<Figure size 432x288 with 1 Axes>"
      ]
     },
     "metadata": {
      "needs_background": "light"
     },
     "output_type": "display_data"
    }
   ],
   "source": [
    "by_brand.index = by_brand['marka']\n",
    "by_brand.sort_values(by='count', ascending=False)[:15].plot.barh()"
   ]
  },
  {
   "cell_type": "code",
   "execution_count": 35,
   "metadata": {},
   "outputs": [],
   "source": [
    "przebieg_data = CARS.select('przebieg').toPandas()"
   ]
  },
  {
   "cell_type": "code",
   "execution_count": 36,
   "metadata": {},
   "outputs": [],
   "source": [
    "przebieg_data['przebieg'] = przebieg_data['przebieg'] / 1000"
   ]
  },
  {
   "cell_type": "code",
   "execution_count": 37,
   "metadata": {},
   "outputs": [
    {
     "data": {
      "text/html": [
       "<div>\n",
       "<style scoped>\n",
       "    .dataframe tbody tr th:only-of-type {\n",
       "        vertical-align: middle;\n",
       "    }\n",
       "\n",
       "    .dataframe tbody tr th {\n",
       "        vertical-align: top;\n",
       "    }\n",
       "\n",
       "    .dataframe thead th {\n",
       "        text-align: right;\n",
       "    }\n",
       "</style>\n",
       "<table border=\"1\" class=\"dataframe\">\n",
       "  <thead>\n",
       "    <tr style=\"text-align: right;\">\n",
       "      <th></th>\n",
       "      <th>przebieg</th>\n",
       "    </tr>\n",
       "  </thead>\n",
       "  <tbody>\n",
       "    <tr>\n",
       "      <th>count</th>\n",
       "      <td>50610.000000</td>\n",
       "    </tr>\n",
       "    <tr>\n",
       "      <th>mean</th>\n",
       "      <td>134.374310</td>\n",
       "    </tr>\n",
       "    <tr>\n",
       "      <th>std</th>\n",
       "      <td>119.935487</td>\n",
       "    </tr>\n",
       "    <tr>\n",
       "      <th>min</th>\n",
       "      <td>0.001000</td>\n",
       "    </tr>\n",
       "    <tr>\n",
       "      <th>25%</th>\n",
       "      <td>39.763250</td>\n",
       "    </tr>\n",
       "    <tr>\n",
       "      <th>50%</th>\n",
       "      <td>143.000000</td>\n",
       "    </tr>\n",
       "    <tr>\n",
       "      <th>75%</th>\n",
       "      <td>200.000000</td>\n",
       "    </tr>\n",
       "    <tr>\n",
       "      <th>max</th>\n",
       "      <td>9999.999000</td>\n",
       "    </tr>\n",
       "  </tbody>\n",
       "</table>\n",
       "</div>"
      ],
      "text/plain": [
       "           przebieg\n",
       "count  50610.000000\n",
       "mean     134.374310\n",
       "std      119.935487\n",
       "min        0.001000\n",
       "25%       39.763250\n",
       "50%      143.000000\n",
       "75%      200.000000\n",
       "max     9999.999000"
      ]
     },
     "execution_count": 37,
     "metadata": {},
     "output_type": "execute_result"
    }
   ],
   "source": [
    "przebieg_data.describe()"
   ]
  },
  {
   "cell_type": "code",
   "execution_count": 38,
   "metadata": {},
   "outputs": [],
   "source": [
    "przebieg_data = przebieg_data[przebieg_data['przebieg'] < 500]"
   ]
  },
  {
   "cell_type": "code",
   "execution_count": 39,
   "metadata": {},
   "outputs": [
    {
     "data": {
      "text/html": [
       "<div>\n",
       "<style scoped>\n",
       "    .dataframe tbody tr th:only-of-type {\n",
       "        vertical-align: middle;\n",
       "    }\n",
       "\n",
       "    .dataframe tbody tr th {\n",
       "        vertical-align: top;\n",
       "    }\n",
       "\n",
       "    .dataframe thead th {\n",
       "        text-align: right;\n",
       "    }\n",
       "</style>\n",
       "<table border=\"1\" class=\"dataframe\">\n",
       "  <thead>\n",
       "    <tr style=\"text-align: right;\">\n",
       "      <th></th>\n",
       "      <th>przebieg</th>\n",
       "    </tr>\n",
       "  </thead>\n",
       "  <tbody>\n",
       "    <tr>\n",
       "      <th>count</th>\n",
       "      <td>50541.000000</td>\n",
       "    </tr>\n",
       "    <tr>\n",
       "      <th>mean</th>\n",
       "      <td>132.634068</td>\n",
       "    </tr>\n",
       "    <tr>\n",
       "      <th>std</th>\n",
       "      <td>94.311727</td>\n",
       "    </tr>\n",
       "    <tr>\n",
       "      <th>min</th>\n",
       "      <td>0.001000</td>\n",
       "    </tr>\n",
       "    <tr>\n",
       "      <th>25%</th>\n",
       "      <td>39.460000</td>\n",
       "    </tr>\n",
       "    <tr>\n",
       "      <th>50%</th>\n",
       "      <td>142.642000</td>\n",
       "    </tr>\n",
       "    <tr>\n",
       "      <th>75%</th>\n",
       "      <td>200.000000</td>\n",
       "    </tr>\n",
       "    <tr>\n",
       "      <th>max</th>\n",
       "      <td>499.011000</td>\n",
       "    </tr>\n",
       "  </tbody>\n",
       "</table>\n",
       "</div>"
      ],
      "text/plain": [
       "           przebieg\n",
       "count  50541.000000\n",
       "mean     132.634068\n",
       "std       94.311727\n",
       "min        0.001000\n",
       "25%       39.460000\n",
       "50%      142.642000\n",
       "75%      200.000000\n",
       "max      499.011000"
      ]
     },
     "execution_count": 39,
     "metadata": {},
     "output_type": "execute_result"
    }
   ],
   "source": [
    "przebieg_data.describe()"
   ]
  },
  {
   "cell_type": "code",
   "execution_count": 40,
   "metadata": {},
   "outputs": [
    {
     "data": {
      "text/plain": [
       "0        172.000\n",
       "1         52.904\n",
       "2         56.000\n",
       "3         88.000\n",
       "4        176.000\n",
       "          ...   \n",
       "50605    230.000\n",
       "50606    160.700\n",
       "50607    128.486\n",
       "50608      0.005\n",
       "50609    139.000\n",
       "Name: przebieg, Length: 50541, dtype: float64"
      ]
     },
     "execution_count": 40,
     "metadata": {},
     "output_type": "execute_result"
    }
   ],
   "source": [
    "przebieg_data['przebieg']"
   ]
  },
  {
   "cell_type": "code",
   "execution_count": 41,
   "metadata": {},
   "outputs": [
    {
     "data": {
      "image/png": "[encoded data removed]",
      "text/plain": [
       "<Figure size 432x288 with 1 Axes>"
      ]
     },
     "metadata": {
      "needs_background": "light"
     },
     "output_type": "display_data"
    }
   ],
   "source": [
    "import matplotlib.pyplot as plt\n",
    "import numpy as np\n",
    "plt_data = przebieg_data['przebieg']\n",
    "H, xedges, yedges = plt.hist(plt_data, bins=40, color='green', edgecolor='k', alpha=0.65)\n",
    "\n",
    "av_line = plt.axvline(plt_data.mean(), color='k', linestyle=':', linewidth=1)\n",
    "med_line = plt.axvline(plt_data.median(), color='red', linestyle='-.', linewidth=1)\n",
    "\n",
    "plt.legend([av_line, med_line], [\"średnia {0:.2f}k\".format(plt_data.mean()), \"mediana {0:.2f}k\".format(plt_data.median())])\n",
    "\n",
    "xlabels = map(lambda x: \"{}k\".format(int(x/1000)) ,np.arange(0, 500000, 50000))\n",
    "plt.xticks(np.arange(0, 500000, 50000)/1000, xlabels)\n",
    "\n",
    "plt.show()"
   ]
  },
  {
   "cell_type": "code",
   "execution_count": 42,
   "metadata": {},
   "outputs": [],
   "source": [
    "top_marki = CARS.select(\"marka\").groupBy(\"marka\").count()\\\n",
    "    .sort(\"count\", ascending=False)\\\n",
    "    .limit(12) \\\n",
    "    .collect()"
   ]
  },
  {
   "cell_type": "code",
   "execution_count": 43,
   "metadata": {},
   "outputs": [],
   "source": [
    "top_marki = [row.marka for row in top_marki]"
   ]
  },
  {
   "cell_type": "code",
   "execution_count": 44,
   "metadata": {},
   "outputs": [
    {
     "data": {
      "text/plain": [
       "['volkswagen',\n",
       " 'opel',\n",
       " 'bmw',\n",
       " 'audi',\n",
       " 'ford',\n",
       " 'mercedes-benz',\n",
       " 'renault',\n",
       " 'toyota',\n",
       " 'škoda',\n",
       " 'peugeot',\n",
       " 'citroën',\n",
       " 'seat']"
      ]
     },
     "execution_count": 44,
     "metadata": {},
     "output_type": "execute_result"
    }
   ],
   "source": [
    "top_marki"
   ]
  },
  {
   "cell_type": "code",
   "execution_count": 45,
   "metadata": {},
   "outputs": [],
   "source": [
    "CARS = CARS.withColumn('przebieg_k', CARS['przebieg'] / 1000)"
   ]
  },
  {
   "cell_type": "code",
   "execution_count": 46,
   "metadata": {},
   "outputs": [
    {
     "data": {
      "text/plain": [
       "[Row(id=6039269187, marka='renault', model='fluence', przebieg=172000, price=25900.0, rok=2013, przebieg_k=172.0),\n",
       " Row(id=6034090022, marka='mercedes-benz', model='klasa g', przebieg=52904, price=434900.0, rok=2016, przebieg_k=52.904),\n",
       " Row(id=6039268812, marka='audi', model='a5', przebieg=56000, price=41900.0, rok=2011, przebieg_k=56.0),\n",
       " Row(id=6039269107, marka='volkswagen', model='polo', przebieg=88000, price=14900.0, rok=2007, przebieg_k=88.0),\n",
       " Row(id=6038674457, marka='peugeot', model='206 cc', przebieg=176000, price=5900.0, rok=2001, przebieg_k=176.0),\n",
       " Row(id=6033752462, marka='volkswagen', model='bora', przebieg=300000, price=7900.0, rok=2003, przebieg_k=300.0),\n",
       " Row(id=6035637917, marka='bmw', model='seria 5', przebieg=301000, price=9800.0, rok=2002, przebieg_k=301.0),\n",
       " Row(id=6038678372, marka='audi', model='q5', przebieg=155400, price=98900.0, rok=2013, przebieg_k=155.4),\n",
       " Row(id=6039268967, marka='hyundai', model='santa fe', przebieg=124500, price=14480.0, rok=2004, przebieg_k=124.5),\n",
       " Row(id=6039268802, marka='volkswagen', model='golf', przebieg=95100, price=64900.0, rok=2014, przebieg_k=95.1)]"
      ]
     },
     "execution_count": 46,
     "metadata": {},
     "output_type": "execute_result"
    }
   ],
   "source": [
    "CARS.take(10)"
   ]
  },
  {
   "cell_type": "code",
   "execution_count": 47,
   "metadata": {
    "scrolled": true
   },
   "outputs": [
    {
     "data": {
      "image/png": "[encoded data removed]",
      "text/plain": [
       "<Figure size 1440x1440 with 12 Axes>"
      ]
     },
     "metadata": {
      "needs_background": "light"
     },
     "output_type": "display_data"
    }
   ],
   "source": [
    "%matplotlib inline\n",
    "import matplotlib\n",
    "import matplotlib.pyplot as plt\n",
    "import matplotlib.pylab as pylab\n",
    "from matplotlib import cm\n",
    "\n",
    "pylab.rcParams['figure.figsize'] = 30, 20 \n",
    "\n",
    "import math\n",
    "from itertools import chain\n",
    "\n",
    "def get_df_for_brand(brand):\n",
    "    return CARS.select('przebieg') \\\n",
    "        .filter(CARS['marka'] == brand)\\\n",
    "        .toPandas()['przebieg']\n",
    "\n",
    "fig, axes = plt.subplots(math.ceil(len(top_marki) / 3), 3, figsize=(20, 20))\n",
    "fig.subplots_adjust(hspace=0.3)\n",
    "\n",
    "draws = chain.from_iterable(axes)\n",
    "datas = map(lambda marka: (marka, get_df_for_brand(marka)), top_marki)\n",
    "NUM_COLORS = len(top_marki)\n",
    "cm = pylab.get_cmap('gist_rainbow')\n",
    "cgen = (cm(1.*i/NUM_COLORS) for i in range(NUM_COLORS))\n",
    "\n",
    "for marka, data_przebiegi in datas:\n",
    "    try:\n",
    "        ax = next(draws)\n",
    "\n",
    "        ax.hist(data_przebiegi, bins=40, color=next(cgen), edgecolor='k', alpha=0.65)\n",
    "        \n",
    "        xes = np.arange(0, 500000, 50000)\n",
    "        xlabels = list(map(lambda x: \"{0:.0f}k\".format(x/1000) , xes))\n",
    "        ax.set_xticks(xes)\n",
    "        ax.set_xticklabels(xlabels)\n",
    "\n",
    "        av_line = ax.axvline(data_przebiegi.mean(), color='k', linestyle=':', linewidth=1)\n",
    "        med_line = ax.axvline(data_przebiegi.median(), color='red', linestyle='-.', linewidth=1)\n",
    "        \n",
    "        ax.legend([av_line, med_line], [\"średnia {0:.0f}k\".format(data_przebiegi.mean()/1000), \"mediana {0:.0f}k\".format(data_przebiegi.median()/1000)])\n",
    "        ax.set_title(marka)\n",
    "        \n",
    "    except StopIteration as e:\n",
    "        break\n",
    "\n",
    "while True:\n",
    "    try:\n",
    "        ax = next(draws)\n",
    "        ax.set_visible(False)\n",
    "    except StopIteration as e:\n",
    "        break\n",
    "\n",
    "plt.show()"
   ]
  },
  {
   "cell_type": "code",
   "execution_count": 48,
   "metadata": {},
   "outputs": [],
   "source": [
    "sc.stop()"
   ]
  },
  {
   "cell_type": "code",
   "execution_count": null,
   "metadata": {},
   "outputs": [],
   "source": []
  }
 ],
 "metadata": {
  "kernelspec": {
   "display_name": "Python 3 (ipykernel)",
   "language": "python",
   "name": "python3"
  },
  "language_info": {
   "codemirror_mode": {
    "name": "ipython",
    "version": 3
   },
   "file_extension": ".py",
   "mimetype": "text/x-python",
   "name": "python",
   "nbconvert_exporter": "python",
   "pygments_lexer": "ipython3",
   "version": "3.9.8"
  }
 },
 "nbformat": 4,
 "nbformat_minor": 4
}
