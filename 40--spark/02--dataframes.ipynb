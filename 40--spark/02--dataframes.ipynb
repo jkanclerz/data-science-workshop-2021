{
 "cells": [
  {
   "cell_type": "markdown",
   "metadata": {},
   "source": [
    "\n",
    "[![Open In Colab](https://colab.research.google.com/assets/colab-badge.svg)](https://githubtocolab.com/jkanclerz/data-science-workshop-2021/blob/main/40--spark/02--dataframes.ipynb)"
   ]
  },
  {
   "cell_type": "code",
   "execution_count": 1,
   "metadata": {},
   "outputs": [
    {
     "name": "stdout",
     "output_type": "stream",
     "text": [
      "Requirement already satisfied: pyspark in /usr/local/lib/python3.7/dist-packages (3.0.0)\r\n",
      "Requirement already satisfied: py4j==0.10.9 in /usr/local/lib/python3.7/dist-packages (from pyspark) (0.10.9)\r\n"
     ]
    }
   ],
   "source": [
    "!pip3 install pyspark"
   ]
  },
  {
   "cell_type": "code",
   "execution_count": 1,
   "metadata": {},
   "outputs": [
    {
     "name": "stdout",
     "output_type": "stream",
     "text": [
      "/usr/local/bin/bash: line 1: apt-get: command not found\n",
      "--2021-12-11 07:18:10--  https://dlcdn.apache.org/spark/spark-3.2.0/spark-3.2.0-bin-hadoop3.2.tgz\n",
      "Resolving dlcdn.apache.org (dlcdn.apache.org)... 151.101.2.132\n",
      "Connecting to dlcdn.apache.org (dlcdn.apache.org)|151.101.2.132|:443... connected.\n",
      "HTTP request sent, awaiting response... 200 OK\n",
      "Length: 300965906 (287M) [application/x-gzip]\n",
      "Saving to: ‘spark-3.2.0-bin-hadoop3.2.tgz’\n",
      "\n",
      "spark-3.2.0-bin-had 100%[===================>] 287.02M  32.9MB/s    in 8.5s    \n",
      "\n",
      "2021-12-11 07:18:19 (33.7 MB/s) - ‘spark-3.2.0-bin-hadoop3.2.tgz’ saved [300965906/300965906]\n",
      "\n"
     ]
    }
   ],
   "source": [
    "!apt-get install openjdk-8-jdk-headless -qq > /dev/null\n",
    "!wget https://dlcdn.apache.org/spark/spark-3.2.0/spark-3.2.0-bin-hadoop3.2.tgz -O spark-3.2.0-bin-hadoop3.2.tgz\n",
    "!tar xf spark-3.2.0-bin-hadoop3.2.tgz"
   ]
  },
  {
   "cell_type": "code",
   "execution_count": 2,
   "metadata": {},
   "outputs": [],
   "source": [
    "!pip install -q pyspark findspark"
   ]
  },
  {
   "cell_type": "code",
   "execution_count": 3,
   "metadata": {},
   "outputs": [],
   "source": [
    "import os\n",
    "os.environ[\"JAVA_HOME\"] = \"/usr/lib/jvm/java-8-openjdk-amd64\"\n",
    "os.environ[\"SPARK_HOME\"] = \"/content/spark-3.2.0-bin-hadoop3.2\""
   ]
  },
  {
   "cell_type": "code",
   "execution_count": 2,
   "metadata": {},
   "outputs": [],
   "source": [
    "from pyspark.sql import SparkSession\n",
    "\n",
    "spark = SparkSession.builder\\\n",
    "        .master(\"local\")\\\n",
    "        .appName(\"Spark dataframe\")\\\n",
    "        .config('spark.ui.port', '4050')\\\n",
    "        .getOrCreate()"
   ]
  },
  {
   "cell_type": "code",
   "execution_count": 3,
   "metadata": {},
   "outputs": [
    {
     "data": {
      "text/html": [
       "\n",
       "            <div>\n",
       "                <p><b>SparkSession - in-memory</b></p>\n",
       "                \n",
       "        <div>\n",
       "            <p><b>SparkContext</b></p>\n",
       "\n",
       "            <p><a href=\"http://192.168.8.8:4050\">Spark UI</a></p>\n",
       "\n",
       "            <dl>\n",
       "              <dt>Version</dt>\n",
       "                <dd><code>v3.2.0</code></dd>\n",
       "              <dt>Master</dt>\n",
       "                <dd><code>local</code></dd>\n",
       "              <dt>AppName</dt>\n",
       "                <dd><code>Test it</code></dd>\n",
       "            </dl>\n",
       "        </div>\n",
       "        \n",
       "            </div>\n",
       "        "
      ],
      "text/plain": [
       "<pyspark.sql.session.SparkSession at 0x1143178e0>"
      ]
     },
     "execution_count": 3,
     "metadata": {},
     "output_type": "execute_result"
    }
   ],
   "source": [
    "spark"
   ]
  },
  {
   "cell_type": "markdown",
   "metadata": {},
   "source": [
    "### DataFrames\n",
    "\n",
    "DataFrames gives a schema view of data basically, it is an abstraction. In dataframes, view of data is organized as columns with column name and types info. In addition, we can say data in dataframe is as same as the table in relational database.\n",
    "\n",
    "### DataSets\n",
    "\n",
    "In Spark, datasets are an extension of dataframes. Basically, it earns two different APIs characteristics, such as strongly typed and untyped. Datasets are by default a collection of strongly typed JVM objects"
   ]
  },
  {
   "cell_type": "markdown",
   "metadata": {},
   "source": [
    "**data frames** allow to deal with data in structured way. We will see how the data frame abstraction, very popular in other data analytics ecosystems (e.g. R and Python/Pandas), it is very powerful when performing exploratory data analysis. In fact, it is very easy to express data queries when used together with the SQL language"
   ]
  },
  {
   "cell_type": "markdown",
   "metadata": {},
   "source": [
    "#### Creating a RDD from a file\n",
    "The most common way of creating an RDD is to load it from a file. Notice that Spark's textFile can handle compressed files directly."
   ]
  },
  {
   "cell_type": "code",
   "execution_count": 4,
   "metadata": {},
   "outputs": [],
   "source": [
    "rdd = spark.sparkContext.parallelize([\n",
    "    (1, 2., 'Jakub'),\n",
    "    (2, 3., 'Michał'),\n",
    "    (3, 4., 'Aga')\n",
    "])\n"
   ]
  },
  {
   "cell_type": "code",
   "execution_count": 5,
   "metadata": {},
   "outputs": [
    {
     "data": {
      "text/plain": [
       "[(1, 2.0, 'Jakub'), (2, 3.0, 'Michał'), (3, 4.0, 'Aga')]"
      ]
     },
     "execution_count": 5,
     "metadata": {},
     "output_type": "execute_result"
    }
   ],
   "source": [
    "rdd.collect()"
   ]
  },
  {
   "cell_type": "code",
   "execution_count": 6,
   "metadata": {},
   "outputs": [],
   "source": [
    "df = spark.createDataFrame(rdd, schema=['a', 'b', 'name'])"
   ]
  },
  {
   "cell_type": "code",
   "execution_count": 7,
   "metadata": {},
   "outputs": [
    {
     "data": {
      "text/plain": [
       "DataFrame[a: bigint, b: double, name: string]"
      ]
     },
     "execution_count": 7,
     "metadata": {},
     "output_type": "execute_result"
    }
   ],
   "source": [
    "df"
   ]
  },
  {
   "cell_type": "code",
   "execution_count": 8,
   "metadata": {},
   "outputs": [
    {
     "data": {
      "text/html": [
       "<div>\n",
       "<style scoped>\n",
       "    .dataframe tbody tr th:only-of-type {\n",
       "        vertical-align: middle;\n",
       "    }\n",
       "\n",
       "    .dataframe tbody tr th {\n",
       "        vertical-align: top;\n",
       "    }\n",
       "\n",
       "    .dataframe thead th {\n",
       "        text-align: right;\n",
       "    }\n",
       "</style>\n",
       "<table border=\"1\" class=\"dataframe\">\n",
       "  <thead>\n",
       "    <tr style=\"text-align: right;\">\n",
       "      <th></th>\n",
       "      <th>a</th>\n",
       "      <th>b</th>\n",
       "      <th>name</th>\n",
       "    </tr>\n",
       "  </thead>\n",
       "  <tbody>\n",
       "    <tr>\n",
       "      <th>0</th>\n",
       "      <td>1</td>\n",
       "      <td>2.0</td>\n",
       "      <td>Jakub</td>\n",
       "    </tr>\n",
       "    <tr>\n",
       "      <th>1</th>\n",
       "      <td>2</td>\n",
       "      <td>3.0</td>\n",
       "      <td>Michał</td>\n",
       "    </tr>\n",
       "    <tr>\n",
       "      <th>2</th>\n",
       "      <td>3</td>\n",
       "      <td>4.0</td>\n",
       "      <td>Aga</td>\n",
       "    </tr>\n",
       "  </tbody>\n",
       "</table>\n",
       "</div>"
      ],
      "text/plain": [
       "   a    b    name\n",
       "0  1  2.0   Jakub\n",
       "1  2  3.0  Michał\n",
       "2  3  4.0     Aga"
      ]
     },
     "execution_count": 8,
     "metadata": {},
     "output_type": "execute_result"
    }
   ],
   "source": [
    "df.toPandas()"
   ]
  },
  {
   "cell_type": "code",
   "execution_count": 9,
   "metadata": {},
   "outputs": [
    {
     "name": "stdout",
     "output_type": "stream",
     "text": [
      "+---+---+------+\n",
      "|  a|  b|  name|\n",
      "+---+---+------+\n",
      "|  1|2.0| Jakub|\n",
      "|  2|3.0|Michał|\n",
      "|  3|4.0|   Aga|\n",
      "+---+---+------+\n",
      "\n"
     ]
    }
   ],
   "source": [
    "df.show()"
   ]
  },
  {
   "cell_type": "code",
   "execution_count": 10,
   "metadata": {},
   "outputs": [
    {
     "name": "stdout",
     "output_type": "stream",
     "text": [
      "root\n",
      " |-- a: long (nullable = true)\n",
      " |-- b: double (nullable = true)\n",
      " |-- name: string (nullable = true)\n",
      "\n"
     ]
    }
   ],
   "source": [
    "df.printSchema()"
   ]
  },
  {
   "cell_type": "code",
   "execution_count": 12,
   "metadata": {},
   "outputs": [
    {
     "name": "stdout",
     "output_type": "stream",
     "text": [
      "--2021-12-11 07:22:02--  https://s3.eu-central-1.amazonaws.com/jkan.pl/data-science/uek/otomoto.csv\n",
      "Resolving s3.eu-central-1.amazonaws.com (s3.eu-central-1.amazonaws.com)... 52.219.171.1\n",
      "Connecting to s3.eu-central-1.amazonaws.com (s3.eu-central-1.amazonaws.com)|52.219.171.1|:443... connected.\n",
      "HTTP request sent, awaiting response... 200 OK\n",
      "Length: 20920699 (20M) [text/csv]\n",
      "Saving to: ‘var/otomoto.csv’\n",
      "\n",
      "var/otomoto.csv     100%[===================>]  19.95M  18.6MB/s    in 1.1s    \n",
      "\n",
      "2021-12-11 07:22:04 (18.6 MB/s) - ‘var/otomoto.csv’ saved [20920699/20920699]\n",
      "\n"
     ]
    }
   ],
   "source": [
    "!mkdir -p var\n",
    "!wget -c https://s3.eu-central-1.amazonaws.com/jkan.pl/data-science/uek/otomoto.csv -O var/otomoto.csv"
   ]
  },
  {
   "cell_type": "code",
   "execution_count": 14,
   "metadata": {},
   "outputs": [],
   "source": [
    "sc = spark.sparkContext"
   ]
  },
  {
   "cell_type": "code",
   "execution_count": 15,
   "metadata": {},
   "outputs": [],
   "source": [
    "raw_data = sc.textFile('otomoto.csv')\n",
    "csv_data = (raw_data\n",
    "            .map(lambda l: l.split(\";\"))\n",
    ")\n"
   ]
  },
  {
   "cell_type": "code",
   "execution_count": 17,
   "metadata": {},
   "outputs": [
    {
     "data": {
      "text/plain": [
       "PythonRDD[13] at RDD at PythonRDD.scala:53"
      ]
     },
     "execution_count": 17,
     "metadata": {},
     "output_type": "execute_result"
    }
   ],
   "source": [
    "header = csv_data.first()\n",
    "data = csv_data.filter(lambda r: r != header)\n",
    "data.cache()"
   ]
  },
  {
   "cell_type": "code",
   "execution_count": 20,
   "metadata": {},
   "outputs": [
    {
     "data": {
      "text/plain": [
       "[['\"6039269187\"',\n",
       "  '\"https://www.otomoto.pl/oferta/renault-fluence-bezwypadkowy-instalacja-gazowa-ID6AI9Nx.html\"',\n",
       "  '\"\"',\n",
       "  '\"Renault\"',\n",
       "  '\"Fluence\"',\n",
       "  '\"Osobowe\"',\n",
       "  '\"1 600 cm3\"',\n",
       "  '\"5\"',\n",
       "  '\"\"',\n",
       "  '\"\"',\n",
       "  '\"Sedan\"',\n",
       "  '\"2013\"',\n",
       "  '\"\"',\n",
       "  '\"\"',\n",
       "  '\"\"',\n",
       "  '\"\"',\n",
       "  '\"\"',\n",
       "  '\"Tak\"',\n",
       "  '\"\"',\n",
       "  '\"Benzyna+LPG\"',\n",
       "  '\"\"',\n",
       "  '\"Czechy\"',\n",
       "  '\"\"',\n",
       "  '\"Tak\"',\n",
       "  '\"Używane\"',\n",
       "  '\"8 listopad 2013\"',\n",
       "  '\"Renault Fluence\"',\n",
       "  '\"25900.0\"',\n",
       "  '\"Manualna\"',\n",
       "  '\"\"',\n",
       "  '\"\"',\n",
       "  '\"4\"',\n",
       "  '\"\"',\n",
       "  '\"172 000 km\"',\n",
       "  '\"Tak\"',\n",
       "  '\"\"',\n",
       "  '\"\"',\n",
       "  '\"Osoby prywatnej\"',\n",
       "  '\"\"',\n",
       "  '\"Biały\"',\n",
       "  '\"Na przednie koła\"',\n",
       "  '\"110 KM\"'],\n",
       " ['\"6034090022\"',\n",
       "  '\"https://www.otomoto.pl/oferta/mercedes-benz-klasa-g-350d-pakiet-amg-designo-manufaktur-edition-ID6AmqsC.html\"',\n",
       "  '\"Tak\"',\n",
       "  '\"Mercedes-Benz\"',\n",
       "  '\"Klasa G\"',\n",
       "  '\"Osobowe\"',\n",
       "  '\"2 987 cm3\"',\n",
       "  '\"5\"',\n",
       "  '\"Tak\"',\n",
       "  '\"W463 (1992-)\"',\n",
       "  '\"SUV\"',\n",
       "  '\"2016\"',\n",
       "  '\"Tak\"',\n",
       "  '\"\"',\n",
       "  '\"WDB4633481X263455\"',\n",
       "  '\"\"',\n",
       "  '\"\"',\n",
       "  '\"Tak\"',\n",
       "  '\"Tak\"',\n",
       "  '\"Diesel\"',\n",
       "  '\"261 g/km\"',\n",
       "  '\"Polska\"',\n",
       "  '\"DSR40090\"',\n",
       "  '\"Tak\"',\n",
       "  '\"Używane\"',\n",
       "  '\"\"',\n",
       "  '\"Mercedes-Benz Klasa G W463\"',\n",
       "  '\"434900.0\"',\n",
       "  '\"Automatyczna hydrauliczna (klasyczna)\"',\n",
       "  '\"\"',\n",
       "  '\"\"',\n",
       "  '\"5\"',\n",
       "  '\"Tak\"',\n",
       "  '\"52 904 km\"',\n",
       "  '\"\"',\n",
       "  '\"Tak\"',\n",
       "  '\"\"',\n",
       "  '\"Firmy\"',\n",
       "  '\"G 350\"',\n",
       "  '\"Szary\"',\n",
       "  '\"4x4 (stały)\"',\n",
       "  '\"245 KM\"']]"
      ]
     },
     "execution_count": 20,
     "metadata": {},
     "output_type": "execute_result"
    }
   ],
   "source": [
    "data.take(2)"
   ]
  },
  {
   "cell_type": "code",
   "execution_count": 21,
   "metadata": {},
   "outputs": [
    {
     "data": {
      "text/plain": [
       "[(0, '\"id\"'),\n",
       " (1, '\"url\"'),\n",
       " (2, '\"Faktura VAT\"'),\n",
       " (3, '\"Marka pojazdu\"'),\n",
       " (4, '\"Model pojazdu\"'),\n",
       " (5, '\"Kategoria\"'),\n",
       " (6, '\"Pojemność skokowa\"'),\n",
       " (7, '\"Liczba miejsc\"'),\n",
       " (8, '\"Zarejestrowany w Polsce\"'),\n",
       " (9, '\"Wersja\"'),\n",
       " (10, '\"Typ\"'),\n",
       " (11, '\"Rok produkcji\"'),\n",
       " (12, '\"Serwisowany w ASO\"'),\n",
       " (13, '\"Leasing\"'),\n",
       " (14, '\"VIN\"'),\n",
       " (15, '\"Homologacja ciężarowa\"'),\n",
       " (16, '\"VAT marża\"'),\n",
       " (17, '\"Pierwszy właściciel\"'),\n",
       " (18, '\"Filtr cząstek stałych\"'),\n",
       " (19, '\"Rodzaj paliwa\"'),\n",
       " (20, '\"Emisja CO2\"'),\n",
       " (21, '\"Kraj pochodzenia\"'),\n",
       " (22, '\"Numer rejestracyjny pojazdu\"'),\n",
       " (23, '\"Bezwypadkowy\"'),\n",
       " (24, '\"Stan\"'),\n",
       " (25, '\"Pierwsza rejestracja\"'),\n",
       " (26, '\"title\"'),\n",
       " (27, '\"price\"'),\n",
       " (28, '\"Skrzynia biegów\"'),\n",
       " (29, '\"Perłowy\"'),\n",
       " (30, '\"Kierownica po prawej (Anglik)\"'),\n",
       " (31, '\"Liczba drzwi\"'),\n",
       " (32, '\"Metalik\"'),\n",
       " (33, '\"Przebieg\"'),\n",
       " (34, '\"Akryl (niemetalizowany)\"'),\n",
       " (35, '\"Możliwość finansowania\"'),\n",
       " (36, '\"Uszkodzony\"'),\n",
       " (37, '\"Oferta od\"'),\n",
       " (38, '\"Kod Silnika\"'),\n",
       " (39, '\"Kolor\"'),\n",
       " (40, '\"Napęd\"'),\n",
       " (41, '\"Moc\"')]"
      ]
     },
     "execution_count": 21,
     "metadata": {},
     "output_type": "execute_result"
    }
   ],
   "source": [
    "list(enumerate(header))"
   ]
  },
  {
   "cell_type": "code",
   "execution_count": 22,
   "metadata": {},
   "outputs": [],
   "source": [
    "from pyspark.sql import Row\n",
    "row_data = (data\n",
    "    .map(lambda p: Row(\n",
    "        _id=(p[0]),\n",
    "        marka=(p[3]),\n",
    "        model=(p[4]),\n",
    "        price=(p[27]),\n",
    "        przebieg=(p[33])\n",
    "    )\n",
    "))"
   ]
  },
  {
   "cell_type": "markdown",
   "metadata": {},
   "source": [
    "Once we have our RDD of Row we can infer and register the schema."
   ]
  },
  {
   "cell_type": "code",
   "execution_count": 23,
   "metadata": {},
   "outputs": [
    {
     "name": "stderr",
     "output_type": "stream",
     "text": [
      "/Users/jkanclerz/myplace/dydaktyka/przetwarzanie-dokumnetow/data-science-workshop-2021/.venv/lib/python3.9/site-packages/pyspark/sql/context.py:77: FutureWarning: Deprecated in 3.0.0. Use SparkSession.builder.getOrCreate() instead.\n",
      "  warnings.warn(\n"
     ]
    }
   ],
   "source": [
    "from pyspark.sql import SQLContext\n",
    "sqlContext = SQLContext(sc)"
   ]
  },
  {
   "cell_type": "code",
   "execution_count": 24,
   "metadata": {},
   "outputs": [],
   "source": [
    "DF = sqlContext.createDataFrame(row_data)"
   ]
  },
  {
   "cell_type": "code",
   "execution_count": 25,
   "metadata": {},
   "outputs": [
    {
     "data": {
      "text/plain": [
       "[Row(_id='\"6039269187\"', marka='\"Renault\"', model='\"Fluence\"', price='\"25900.0\"', przebieg='\"172 000 km\"')]"
      ]
     },
     "execution_count": 25,
     "metadata": {},
     "output_type": "execute_result"
    }
   ],
   "source": [
    "DF.take(1)"
   ]
  },
  {
   "cell_type": "code",
   "execution_count": 26,
   "metadata": {},
   "outputs": [],
   "source": [
    "DF.select(\"marka\", \"model\", \"przebieg\", \"price\")\\\n",
    "    .write\\\n",
    "    .format('csv') \\\n",
    "    .mode(\"overwrite\") \\\n",
    "    .options(delimiter=\";\")\\\n",
    "    .save(\"adv_model_przebieg\")"
   ]
  },
  {
   "cell_type": "code",
   "execution_count": 27,
   "metadata": {},
   "outputs": [],
   "source": [
    "import pandas as pd"
   ]
  },
  {
   "cell_type": "code",
   "execution_count": 28,
   "metadata": {},
   "outputs": [],
   "source": [
    "import glob\n",
    "all_files = glob.glob('./adv_model_przebieg/*.csv')\n",
    "df_from_each_file = (pd.read_csv(f, delimiter=\";\") for f in all_files)\n",
    "concatenated_df   = pd.concat(df_from_each_file, ignore_index=True)"
   ]
  },
  {
   "cell_type": "code",
   "execution_count": 29,
   "metadata": {},
   "outputs": [
    {
     "data": {
      "text/html": [
       "<div>\n",
       "<style scoped>\n",
       "    .dataframe tbody tr th:only-of-type {\n",
       "        vertical-align: middle;\n",
       "    }\n",
       "\n",
       "    .dataframe tbody tr th {\n",
       "        vertical-align: top;\n",
       "    }\n",
       "\n",
       "    .dataframe thead th {\n",
       "        text-align: right;\n",
       "    }\n",
       "</style>\n",
       "<table border=\"1\" class=\"dataframe\">\n",
       "  <thead>\n",
       "    <tr style=\"text-align: right;\">\n",
       "      <th></th>\n",
       "      <th>\\Renault\\\"\"</th>\n",
       "      <th>\\Fluence\\\"\"</th>\n",
       "      <th>\\172 000 km\\\"\"</th>\n",
       "      <th>\\25900.0\\\"\"</th>\n",
       "    </tr>\n",
       "  </thead>\n",
       "  <tbody>\n",
       "    <tr>\n",
       "      <th>0</th>\n",
       "      <td>\\Mercedes-Benz\\\"\"</td>\n",
       "      <td>\\Klasa G\\\"\"</td>\n",
       "      <td>\\52 904 km\\\"\"</td>\n",
       "      <td>\\434900.0\\\"\"</td>\n",
       "    </tr>\n",
       "    <tr>\n",
       "      <th>1</th>\n",
       "      <td>\\Audi\\\"\"</td>\n",
       "      <td>\\A5\\\"\"</td>\n",
       "      <td>\\56 000 km\\\"\"</td>\n",
       "      <td>\\41900.0\\\"\"</td>\n",
       "    </tr>\n",
       "    <tr>\n",
       "      <th>2</th>\n",
       "      <td>\\Volkswagen\\\"\"</td>\n",
       "      <td>\\Polo\\\"\"</td>\n",
       "      <td>\\88 000 km\\\"\"</td>\n",
       "      <td>\\14900.0\\\"\"</td>\n",
       "    </tr>\n",
       "    <tr>\n",
       "      <th>3</th>\n",
       "      <td>\\Peugeot\\\"\"</td>\n",
       "      <td>\\206 CC\\\"\"</td>\n",
       "      <td>\\176 000 km\\\"\"</td>\n",
       "      <td>\\5900.0\\\"\"</td>\n",
       "    </tr>\n",
       "    <tr>\n",
       "      <th>4</th>\n",
       "      <td>\\Volkswagen\\\"\"</td>\n",
       "      <td>\\Bora\\\"\"</td>\n",
       "      <td>\\300 000 km\\\"\"</td>\n",
       "      <td>\\7900.0\\\"\"</td>\n",
       "    </tr>\n",
       "    <tr>\n",
       "      <th>...</th>\n",
       "      <td>...</td>\n",
       "      <td>...</td>\n",
       "      <td>...</td>\n",
       "      <td>...</td>\n",
       "    </tr>\n",
       "    <tr>\n",
       "      <th>51180</th>\n",
       "      <td>\\Mazda\\\"\"</td>\n",
       "      <td>\\6\\\"\"</td>\n",
       "      <td>\\160 700 km\\\"\"</td>\n",
       "      <td>\\13555.0\\\"\"</td>\n",
       "    </tr>\n",
       "    <tr>\n",
       "      <th>51181</th>\n",
       "      <td>\\Land Rover\\\"\"</td>\n",
       "      <td>\\Range Rover Sport\\\"\"</td>\n",
       "      <td>\\128 486 km\\\"\"</td>\n",
       "      <td>\\136000.0\\\"\"</td>\n",
       "    </tr>\n",
       "    <tr>\n",
       "      <th>51182</th>\n",
       "      <td>\\Hyundai\\\"\"</td>\n",
       "      <td>\\ix20\\\"\"</td>\n",
       "      <td>\\5 km\\\"\"</td>\n",
       "      <td>\\54900.0\\\"\"</td>\n",
       "    </tr>\n",
       "    <tr>\n",
       "      <th>51183</th>\n",
       "      <td>\\Ford\\\"\"</td>\n",
       "      <td>\\Fiesta\\\"\"</td>\n",
       "      <td>\\139 000 km\\\"\"</td>\n",
       "      <td>\\15900.0\\\"\"</td>\n",
       "    </tr>\n",
       "    <tr>\n",
       "      <th>51184</th>\n",
       "      <td>\\\\\"\"</td>\n",
       "      <td>\\\\\"\"</td>\n",
       "      <td>\\\\\"\"</td>\n",
       "      <td>\\0.0\\\"\"</td>\n",
       "    </tr>\n",
       "  </tbody>\n",
       "</table>\n",
       "<p>51185 rows × 4 columns</p>\n",
       "</div>"
      ],
      "text/plain": [
       "             \\Renault\\\"\"            \\Fluence\\\"\"  \\172 000 km\\\"\"   \\25900.0\\\"\"\n",
       "0      \\Mercedes-Benz\\\"\"            \\Klasa G\\\"\"   \\52 904 km\\\"\"  \\434900.0\\\"\"\n",
       "1               \\Audi\\\"\"                 \\A5\\\"\"   \\56 000 km\\\"\"   \\41900.0\\\"\"\n",
       "2         \\Volkswagen\\\"\"               \\Polo\\\"\"   \\88 000 km\\\"\"   \\14900.0\\\"\"\n",
       "3            \\Peugeot\\\"\"             \\206 CC\\\"\"  \\176 000 km\\\"\"    \\5900.0\\\"\"\n",
       "4         \\Volkswagen\\\"\"               \\Bora\\\"\"  \\300 000 km\\\"\"    \\7900.0\\\"\"\n",
       "...                  ...                    ...             ...           ...\n",
       "51180          \\Mazda\\\"\"                  \\6\\\"\"  \\160 700 km\\\"\"   \\13555.0\\\"\"\n",
       "51181     \\Land Rover\\\"\"  \\Range Rover Sport\\\"\"  \\128 486 km\\\"\"  \\136000.0\\\"\"\n",
       "51182        \\Hyundai\\\"\"               \\ix20\\\"\"        \\5 km\\\"\"   \\54900.0\\\"\"\n",
       "51183           \\Ford\\\"\"             \\Fiesta\\\"\"  \\139 000 km\\\"\"   \\15900.0\\\"\"\n",
       "51184               \\\\\"\"                   \\\\\"\"            \\\\\"\"       \\0.0\\\"\"\n",
       "\n",
       "[51185 rows x 4 columns]"
      ]
     },
     "execution_count": 29,
     "metadata": {},
     "output_type": "execute_result"
    }
   ],
   "source": [
    "concatenated_df"
   ]
  },
  {
   "cell_type": "markdown",
   "metadata": {},
   "source": [
    "https://spark.apache.org/docs/latest/sql-data-sources-load-save-functions.html"
   ]
  },
  {
   "cell_type": "code",
   "execution_count": 30,
   "metadata": {},
   "outputs": [
    {
     "name": "stderr",
     "output_type": "stream",
     "text": [
      "\r",
      "[Stage 12:>                                                         (0 + 1) / 1]\r",
      "\r",
      "                                                                                \r"
     ]
    }
   ],
   "source": [
    "DF = spark.read.load(\"var/otomoto.csv\", format=\"csv\", sep=\";\", inferSchema=\"true\", header=\"true\")"
   ]
  },
  {
   "cell_type": "code",
   "execution_count": 31,
   "metadata": {},
   "outputs": [
    {
     "name": "stderr",
     "output_type": "stream",
     "text": [
      "21/12/11 07:26:26 WARN package: Truncated the string representation of a plan since it was too large. This behavior can be adjusted by setting 'spark.sql.debug.maxToStringFields'.\n"
     ]
    },
    {
     "data": {
      "text/plain": [
       "[Row(id=6039269187, url='https://www.otomoto.pl/oferta/renault-fluence-bezwypadkowy-instalacja-gazowa-ID6AI9Nx.html', Faktura VAT=None, Marka pojazdu='Renault', Model pojazdu='Fluence', Kategoria='Osobowe', Pojemność skokowa='1 600 cm3', Liczba miejsc=5, Zarejestrowany w Polsce=None, Wersja=None, Typ='Sedan', Rok produkcji=2013, Serwisowany w ASO=None, Leasing=None, VIN=None, Homologacja ciężarowa=None, VAT marża=None, Pierwszy właściciel='Tak', Filtr cząstek stałych=None, Rodzaj paliwa='Benzyna+LPG', Emisja CO2=None, Kraj pochodzenia='Czechy', Numer rejestracyjny pojazdu=None, Bezwypadkowy='Tak', Stan='Używane', Pierwsza rejestracja='8 listopad 2013', title='Renault Fluence', price=25900.0, Skrzynia biegów='Manualna', Perłowy=None, Kierownica po prawej (Anglik)=None, Liczba drzwi=4, Metalik=None, Przebieg='172 000 km', Akryl (niemetalizowany)='Tak', Możliwość finansowania=None, Uszkodzony=None, Oferta od='Osoby prywatnej', Kod Silnika=None, Kolor='Biały', Napęd='Na przednie koła', Moc='110 KM')]"
      ]
     },
     "execution_count": 31,
     "metadata": {},
     "output_type": "execute_result"
    }
   ],
   "source": [
    "DF.take(1)"
   ]
  },
  {
   "cell_type": "code",
   "execution_count": 32,
   "metadata": {},
   "outputs": [
    {
     "data": {
      "text/plain": [
       "pyspark.sql.dataframe.DataFrame"
      ]
     },
     "execution_count": 32,
     "metadata": {},
     "output_type": "execute_result"
    }
   ],
   "source": [
    "type(DF)"
   ]
  },
  {
   "cell_type": "code",
   "execution_count": 33,
   "metadata": {},
   "outputs": [
    {
     "name": "stderr",
     "output_type": "stream",
     "text": [
      "/Users/jkanclerz/myplace/dydaktyka/przetwarzanie-dokumnetow/data-science-workshop-2021/.venv/lib/python3.9/site-packages/pyspark/sql/dataframe.py:138: FutureWarning: Deprecated in 2.0, use createOrReplaceTempView instead.\n",
      "  warnings.warn(\n"
     ]
    }
   ],
   "source": [
    "DF.registerTempTable(\"cars\")"
   ]
  },
  {
   "cell_type": "code",
   "execution_count": 34,
   "metadata": {},
   "outputs": [],
   "source": [
    "volvos = sqlContext.sql(\"\"\"\n",
    "    Select `Marka pojazdu` as marka, `Model pojazdu` as model, `price`, `przebieg`, `Rok produkcji` as rok  from cars \n",
    "    WHERE `Marka pojazdu` = \"Volvo\"\n",
    "    AND `Model pojazdu` = \"XC 60\"\n",
    "\"\"\")"
   ]
  },
  {
   "cell_type": "code",
   "execution_count": 35,
   "metadata": {},
   "outputs": [
    {
     "data": {
      "text/plain": [
       "pyspark.sql.dataframe.DataFrame"
      ]
     },
     "execution_count": 35,
     "metadata": {},
     "output_type": "execute_result"
    }
   ],
   "source": [
    "type(volvos)"
   ]
  },
  {
   "cell_type": "markdown",
   "metadata": {},
   "source": [
    "The results of SQL queries are RDDs and support all the normal RDD operations."
   ]
  },
  {
   "cell_type": "code",
   "execution_count": 36,
   "metadata": {},
   "outputs": [
    {
     "data": {
      "text/plain": [
       "[Row(marka='Volvo', model='XC 60', price=89900.0, przebieg='132 789 km', rok=2016)]"
      ]
     },
     "execution_count": 36,
     "metadata": {},
     "output_type": "execute_result"
    }
   ],
   "source": [
    "volvos.take(1)"
   ]
  },
  {
   "cell_type": "code",
   "execution_count": 37,
   "metadata": {},
   "outputs": [
    {
     "name": "stdout",
     "output_type": "stream",
     "text": [
      "+-----+-----+--------+----------+----+\n",
      "|marka|model|   price|  przebieg| rok|\n",
      "+-----+-----+--------+----------+----+\n",
      "|Volvo|XC 60| 89900.0|132 789 km|2016|\n",
      "|Volvo|XC 60|121951.0| 25 236 km|2016|\n",
      "|Volvo|XC 60| 54900.0|221 000 km|2012|\n",
      "|Volvo|XC 60| 79999.0|140 515 km|2012|\n",
      "|Volvo|XC 60| 89900.0|159 900 km|2012|\n",
      "|Volvo|XC 60| 98900.0| 22 739 km|2016|\n",
      "|Volvo|XC 60| 79555.0| 62 321 km|2012|\n",
      "|Volvo|XC 60| 52900.0| 60 000 km|2014|\n",
      "|Volvo|XC 60| 66900.0| 15 000 km|2015|\n",
      "|Volvo|XC 60| 59900.0|183 000 km|2010|\n",
      "|Volvo|XC 60|112800.0| 32 000 km|2016|\n",
      "|Volvo|XC 60|123000.0| 21 000 km|2016|\n",
      "|Volvo|XC 60| 87000.0|144 000 km|2015|\n",
      "|Volvo|XC 60| 88900.0| 66 200 km|2014|\n",
      "|Volvo|XC 60|185900.0|  3 000 km|2017|\n",
      "|Volvo|XC 60| 75900.0|132 000 km|2014|\n",
      "|Volvo|XC 60| 43500.0|205 500 km|2010|\n",
      "|Volvo|XC 60| 68000.0|110 094 km|2014|\n",
      "|Volvo|XC 60|122900.0| 13 000 km|2017|\n",
      "|Volvo|XC 60| 79900.0|145 000 km|2016|\n",
      "+-----+-----+--------+----------+----+\n",
      "only showing top 20 rows\n",
      "\n"
     ]
    }
   ],
   "source": [
    "volvos.show()"
   ]
  },
  {
   "cell_type": "code",
   "execution_count": 38,
   "metadata": {},
   "outputs": [
    {
     "name": "stdout",
     "output_type": "stream",
     "text": [
      "XC 60 for 89900.0 with millage 132 789 km\n",
      "XC 60 for 121951.0 with millage 25 236 km\n",
      "XC 60 for 54900.0 with millage 221 000 km\n",
      "XC 60 for 79999.0 with millage 140 515 km\n",
      "XC 60 for 89900.0 with millage 159 900 km\n",
      "XC 60 for 98900.0 with millage 22 739 km\n",
      "XC 60 for 79555.0 with millage 62 321 km\n",
      "XC 60 for 52900.0 with millage 60 000 km\n",
      "XC 60 for 66900.0 with millage 15 000 km\n",
      "XC 60 for 59900.0 with millage 183 000 km\n",
      "XC 60 for 112800.0 with millage 32 000 km\n",
      "XC 60 for 123000.0 with millage 21 000 km\n",
      "XC 60 for 87000.0 with millage 144 000 km\n",
      "XC 60 for 88900.0 with millage 66 200 km\n",
      "XC 60 for 185900.0 with millage 3 000 km\n",
      "XC 60 for 75900.0 with millage 132 000 km\n",
      "XC 60 for 43500.0 with millage 205 500 km\n",
      "XC 60 for 68000.0 with millage 110 094 km\n",
      "XC 60 for 122900.0 with millage 13 000 km\n",
      "XC 60 for 79900.0 with millage 145 000 km\n",
      "XC 60 for 94900.0 with millage 124 999 km\n",
      "XC 60 for 54000.0 with millage 290 000 km\n",
      "XC 60 for 71900.0 with millage 97 100 km\n",
      "XC 60 for 87500.0 with millage 163 000 km\n",
      "XC 60 for 109900.0 with millage 57 000 km\n",
      "XC 60 for 89900.0 with millage 106 000 km\n",
      "XC 60 for 154900.0 with millage 28 414 km\n",
      "XC 60 for 57900.0 with millage 229 000 km\n",
      "XC 60 for 58000.0 with millage 299 356 km\n",
      "XC 60 for 92000.0 with millage 104 000 km\n",
      "XC 60 for 79500.0 with millage 130 000 km\n",
      "XC 60 for 59990.0 with millage 195 000 km\n",
      "XC 60 for 66900.0 with millage 257 000 km\n",
      "XC 60 for 128000.0 with millage 40 000 km\n",
      "XC 60 for 49890.0 with millage 171 000 km\n",
      "XC 60 for 147955.0 with millage 27 000 km\n",
      "XC 60 for 47900.0 with millage 174 000 km\n",
      "XC 60 for 78900.0 with millage 159 820 km\n",
      "XC 60 for 77000.0 with millage 195 000 km\n",
      "XC 60 for 82900.0 with millage 99 529 km\n",
      "XC 60 for 93900.0 with millage 92 487 km\n",
      "XC 60 for 92900.0 with millage 141 000 km\n",
      "XC 60 for 37700.0 with millage 306 000 km\n",
      "XC 60 for 81900.0 with millage 67 000 km\n",
      "XC 60 for 137900.0 with millage 79 410 km\n",
      "XC 60 for 149900.0 with millage 30 712 km\n",
      "XC 60 for 156900.0 with millage 17 531 km\n",
      "XC 60 for 84900.0 with millage 164 000 km\n",
      "XC 60 for 89400.0 with millage 162 000 km\n",
      "XC 60 for 81300.0 with millage 75 250 km\n",
      "XC 60 for 57900.0 with millage 108 400 km\n",
      "XC 60 for 60900.0 with millage 210 000 km\n",
      "XC 60 for 159900.0 with millage 24 200 km\n",
      "XC 60 for 64900.0 with millage 155 569 km\n",
      "XC 60 for 83300.0 with millage 116 000 km\n",
      "XC 60 for 156900.0 with millage 10 km\n",
      "XC 60 for 108900.0 with millage 78 000 km\n",
      "XC 60 for 56900.0 with millage 169 000 km\n",
      "XC 60 for 89900.0 with millage 82 000 km\n",
      "XC 60 for 64800.0 with millage 158 000 km\n",
      "XC 60 for 97900.0 with millage 80 000 km\n",
      "XC 60 for 88417.0 with millage 88 417 km\n",
      "XC 60 for 183000.0 with millage 16 000 km\n",
      "XC 60 for 82900.0 with millage 105 000 km\n",
      "XC 60 for 158000.0 with millage 69 km\n",
      "XC 60 for 74800.0 with millage 176 000 km\n",
      "XC 60 for 45500.0 with millage 267 500 km\n",
      "XC 60 for 59900.0 with millage 107 000 km\n",
      "XC 60 for 266990.0 with millage 5 km\n",
      "XC 60 for 149900.0 with millage 29 996 km\n",
      "XC 60 for 212790.0 with millage 5 km\n",
      "XC 60 for 218220.0 with millage 5 km\n",
      "XC 60 for 249120.0 with millage 5 km\n",
      "XC 60 for 134900.0 with millage 23 656 km\n",
      "XC 60 for 69500.0 with millage 117 000 km\n",
      "XC 60 for 149900.0 with millage 25 626 km\n",
      "XC 60 for 68888.0 with millage 191 000 km\n",
      "XC 60 for 105000.0 with millage 78 000 km\n",
      "XC 60 for 70900.0 with millage 148 200 km\n",
      "XC 60 for 66500.0 with millage 160 000 km\n",
      "XC 60 for 49900.0 with millage 180 144 km\n",
      "XC 60 for 52600.0 with millage 13 364 km\n",
      "XC 60 for 30000.0 with millage 230 000 km\n",
      "XC 60 for 121900.0 with millage 28 000 km\n",
      "XC 60 for 89900.0 with millage 113 173 km\n",
      "XC 60 for 78900.0 with millage 90 523 km\n",
      "XC 60 for 47900.0 with millage 204 000 km\n",
      "XC 60 for 191430.0 with millage 2 km\n",
      "XC 60 for 199850.0 with millage 2 km\n",
      "XC 60 for 218400.0 with millage 2 km\n",
      "XC 60 for 55550.0 with millage 180 000 km\n",
      "XC 60 for 169900.0 with millage 19 520 km\n",
      "XC 60 for 59900.0 with millage 239 000 km\n",
      "XC 60 for 164900.0 with millage 10 km\n",
      "XC 60 for 152900.0 with millage 33 100 km\n",
      "XC 60 for 47900.0 with millage 180 000 km\n",
      "XC 60 for 125000.0 with millage 148 141 km\n",
      "XC 60 for 174227.0 with millage 1 km\n",
      "XC 60 for 81799.0 with millage 94 082 km\n",
      "XC 60 for 53999.0 with millage 235 000 km\n",
      "XC 60 for 190244.0 with millage 1 km\n",
      "XC 60 for 75900.0 with millage 168 750 km\n",
      "XC 60 for 89900.0 with millage 107 820 km\n",
      "XC 60 for 106900.0 with millage 80 050 km\n",
      "XC 60 for 57900.0 with millage 172 000 km\n",
      "XC 60 for 199900.0 with millage 8 000 km\n",
      "XC 60 for 67900.0 with millage 197 858 km\n",
      "XC 60 for 178160.0 with millage 10 km\n",
      "XC 60 for 153900.0 with millage 20 000 km\n",
      "XC 60 for 54900.0 with millage 195 422 km\n",
      "XC 60 for 169660.0 with millage 10 km\n",
      "XC 60 for 199900.0 with millage 20 000 km\n",
      "XC 60 for 129900.0 with millage 7 km\n",
      "XC 60 for 164900.0 with millage 50 km\n",
      "XC 60 for 199600.0 with millage 1 km\n",
      "XC 60 for 199910.0 with millage 1 km\n",
      "XC 60 for 178862.0 with millage 1 km\n",
      "XC 60 for 35900.0 with millage 138 120 km\n",
      "XC 60 for 131900.0 with millage 19 130 km\n",
      "XC 60 for 72900.0 with millage 147 000 km\n",
      "XC 60 for 163000.0 with millage 23 810 km\n",
      "XC 60 for 57700.0 with millage 66 000 km\n",
      "XC 60 for 190808.0 with millage 10 km\n",
      "XC 60 for 99900.0 with millage 152 330 km\n",
      "XC 60 for 71900.0 with millage 128 000 km\n",
      "XC 60 for 51900.0 with millage 244 500 km\n",
      "XC 60 for 174900.0 with millage 21 km\n",
      "XC 60 for 119999.0 with millage 30 000 km\n",
      "XC 60 for 179000.0 with millage 19 000 km\n",
      "XC 60 for 169900.0 with millage 35 km\n",
      "XC 60 for 74900.0 with millage 89 000 km\n",
      "XC 60 for 157846.0 with millage 1 km\n",
      "XC 60 for 80000.0 with millage 142 000 km\n",
      "XC 60 for 61000.0 with millage 206 400 km\n",
      "XC 60 for 99900.0 with millage 29 643 km\n",
      "XC 60 for 59800.0 with millage 152 000 km\n",
      "XC 60 for 77967.0 with millage 84 000 km\n",
      "XC 60 for 139900.0 with millage 43 684 km\n",
      "XC 60 for 179900.0 with millage 16 109 km\n",
      "XC 60 for 99999.0 with millage 125 000 km\n",
      "XC 60 for 95900.0 with millage 54 000 km\n",
      "XC 60 for 49500.0 with millage 312 000 km\n",
      "XC 60 for 130000.0 with millage 29 400 km\n",
      "XC 60 for 131900.0 with millage 11 088 km\n",
      "XC 60 for 118000.0 with millage 50 000 km\n",
      "XC 60 for 81900.0 with millage 139 000 km\n",
      "XC 60 for 169000.0 with millage 17 848 km\n",
      "XC 60 for 211900.0 with millage 5 900 km\n",
      "XC 60 for 84900.0 with millage 179 000 km\n",
      "XC 60 for 235000.0 with millage 5 km\n",
      "XC 60 for 104900.0 with millage 101 202 km\n",
      "XC 60 for 151000.0 with millage 28 500 km\n",
      "XC 60 for 321500.0 with millage 5 km\n",
      "XC 60 for 150000.0 with millage 21 760 km\n",
      "XC 60 for 149900.0 with millage 18 km\n",
      "XC 60 for 40000.0 with millage 322 000 km\n",
      "XC 60 for 54600.0 with millage 188 148 km\n",
      "XC 60 for 58500.0 with millage 197 000 km\n",
      "XC 60 for 79900.0 with millage 114 000 km\n",
      "XC 60 for 79900.0 with millage 114 000 km\n",
      "XC 60 for 61900.0 with millage 157 000 km\n",
      "XC 60 for 64900.0 with millage 150 000 km\n",
      "XC 60 for 51900.0 with millage 249 000 km\n",
      "XC 60 for 59900.0 with millage 157 630 km\n",
      "XC 60 for 59900.0 with millage 266 000 km\n",
      "XC 60 for 149900.0 with millage 26 846 km\n",
      "XC 60 for 149900.0 with millage 35 405 km\n",
      "XC 60 for 92900.0 with millage 110 660 km\n",
      "XC 60 for 44500.0 with millage 199 900 km\n",
      "XC 60 for 119900.0 with millage 1 km\n",
      "XC 60 for 60900.0 with millage 142 600 km\n",
      "XC 60 for 85900.0 with millage 197 500 km\n",
      "XC 60 for 61900.0 with millage 122 000 km\n",
      "XC 60 for 59900.0 with millage 215 000 km\n",
      "XC 60 for 69900.0 with millage 54 890 km\n",
      "XC 60 for 119900.0 with millage 27 600 km\n",
      "XC 60 for 96900.0 with millage 136 000 km\n",
      "XC 60 for 57500.0 with millage 202 000 km\n",
      "XC 60 for 69900.0 with millage 116 000 km\n",
      "XC 60 for 69900.0 with millage 116 000 km\n",
      "XC 60 for 92000.0 with millage 147 814 km\n",
      "XC 60 for 84900.0 with millage 150 000 km\n",
      "XC 60 for 127000.0 with millage 8 000 km\n",
      "XC 60 for 226330.0 with millage 1 km\n",
      "XC 60 for 62900.0 with millage 170 000 km\n",
      "XC 60 for 52990.0 with millage 204 000 km\n",
      "XC 60 for 220420.0 with millage 1 km\n",
      "XC 60 for 66900.0 with millage 137 000 km\n",
      "XC 60 for 44900.0 with millage 239 000 km\n",
      "XC 60 for 66600.0 with millage 175 000 km\n",
      "XC 60 for 57000.0 with millage 182 000 km\n",
      "XC 60 for 64900.0 with millage 167 000 km\n",
      "XC 60 for 199100.0 with millage 1 km\n",
      "XC 60 for 71463.0 with millage 102 000 km\n",
      "XC 60 for 78999.0 with millage 221 000 km\n",
      "XC 60 for 222900.0 with millage 1 km\n",
      "XC 60 for 126900.0 with millage 32 843 km\n",
      "XC 60 for 167000.0 with millage 1 km\n",
      "XC 60 for 89900.0 with millage 138 800 km\n",
      "XC 60 for 139890.0 with millage 10 km\n",
      "XC 60 for 139890.0 with millage 10 km\n",
      "XC 60 for 62900.0 with millage 174 070 km\n",
      "XC 60 for 154900.0 with millage 29 900 km\n",
      "XC 60 for 149900.0 with millage 17 728 km\n",
      "XC 60 for 74900.0 with millage 109 200 km\n",
      "XC 60 for 74444.0 with millage 111 111 km\n",
      "XC 60 for 67900.0 with millage 122 840 km\n",
      "XC 60 for 43800.0 with millage 235 000 km\n",
      "XC 60 for 173900.0 with millage 31 km\n",
      "XC 60 for 59500.0 with millage 156 465 km\n",
      "XC 60 for 124700.0 with millage 125 000 km\n",
      "XC 60 for 129700.0 with millage 86 000 km\n",
      "XC 60 for 65900.0 with millage 123 700 km\n",
      "XC 60 for 99900.0 with millage 109 000 km\n",
      "XC 60 for 54900.0 with millage 143 000 km\n",
      "XC 60 for 60000.0 with millage 159 000 km\n",
      "XC 60 for 276000.0 with millage 11 km\n",
      "XC 60 for 104900.0 with millage 121 035 km\n",
      "XC 60 for 63000.0 with millage 190 000 km\n"
     ]
    }
   ],
   "source": [
    "for volvo in volvos.collect():\n",
    "    print(\"{} for {} with millage {}\".format(volvo.model, volvo.price, volvo.przebieg))"
   ]
  },
  {
   "cell_type": "code",
   "execution_count": 39,
   "metadata": {},
   "outputs": [
    {
     "name": "stdout",
     "output_type": "stream",
     "text": [
      "root\n",
      " |-- id: long (nullable = true)\n",
      " |-- url: string (nullable = true)\n",
      " |-- Faktura VAT: string (nullable = true)\n",
      " |-- Marka pojazdu: string (nullable = true)\n",
      " |-- Model pojazdu: string (nullable = true)\n",
      " |-- Kategoria: string (nullable = true)\n",
      " |-- Pojemność skokowa: string (nullable = true)\n",
      " |-- Liczba miejsc: integer (nullable = true)\n",
      " |-- Zarejestrowany w Polsce: string (nullable = true)\n",
      " |-- Wersja: string (nullable = true)\n",
      " |-- Typ: string (nullable = true)\n",
      " |-- Rok produkcji: integer (nullable = true)\n",
      " |-- Serwisowany w ASO: string (nullable = true)\n",
      " |-- Leasing: string (nullable = true)\n",
      " |-- VIN: string (nullable = true)\n",
      " |-- Homologacja ciężarowa: string (nullable = true)\n",
      " |-- VAT marża: string (nullable = true)\n",
      " |-- Pierwszy właściciel: string (nullable = true)\n",
      " |-- Filtr cząstek stałych: string (nullable = true)\n",
      " |-- Rodzaj paliwa: string (nullable = true)\n",
      " |-- Emisja CO2: string (nullable = true)\n",
      " |-- Kraj pochodzenia: string (nullable = true)\n",
      " |-- Numer rejestracyjny pojazdu: string (nullable = true)\n",
      " |-- Bezwypadkowy: string (nullable = true)\n",
      " |-- Stan: string (nullable = true)\n",
      " |-- Pierwsza rejestracja: string (nullable = true)\n",
      " |-- title: string (nullable = true)\n",
      " |-- price: double (nullable = true)\n",
      " |-- Skrzynia biegów: string (nullable = true)\n",
      " |-- Perłowy: string (nullable = true)\n",
      " |-- Kierownica po prawej (Anglik): string (nullable = true)\n",
      " |-- Liczba drzwi: integer (nullable = true)\n",
      " |-- Metalik: string (nullable = true)\n",
      " |-- Przebieg: string (nullable = true)\n",
      " |-- Akryl (niemetalizowany): string (nullable = true)\n",
      " |-- Możliwość finansowania: string (nullable = true)\n",
      " |-- Uszkodzony: string (nullable = true)\n",
      " |-- Oferta od: string (nullable = true)\n",
      " |-- Kod Silnika: string (nullable = true)\n",
      " |-- Kolor: string (nullable = true)\n",
      " |-- Napęd: string (nullable = true)\n",
      " |-- Moc: string (nullable = true)\n",
      "\n"
     ]
    }
   ],
   "source": [
    "DF.printSchema()"
   ]
  },
  {
   "cell_type": "markdown",
   "metadata": {},
   "source": [
    "### Queries as DataFrame operations\n"
   ]
  },
  {
   "cell_type": "code",
   "execution_count": 40,
   "metadata": {},
   "outputs": [
    {
     "name": "stdout",
     "output_type": "stream",
     "text": [
      "+-------------+-----+\n",
      "|Marka pojazdu|count|\n",
      "+-------------+-----+\n",
      "|   Volkswagen| 5598|\n",
      "|   Oldsmobile|    1|\n",
      "|     Infiniti|   91|\n",
      "|      Peugeot| 1906|\n",
      "|          NSU|    1|\n",
      "|        Lexus|  252|\n",
      "|       Jaguar|  215|\n",
      "|       Saturn|    1|\n",
      "|          Żuk|    1|\n",
      "|     Maserati|   43|\n",
      "|        Rover|   32|\n",
      "|        Aixam|   37|\n",
      "|         Tata|    2|\n",
      "|         Jeep|  426|\n",
      "|       Lancia|   64|\n",
      "|   Mitsubishi|  533|\n",
      "|         Mini|  495|\n",
      "|          Kia| 1061|\n",
      "|    Chevrolet|  352|\n",
      "|      Piaggio|    1|\n",
      "+-------------+-----+\n",
      "only showing top 20 rows\n",
      "\n"
     ]
    }
   ],
   "source": [
    "(DF\n",
    "     .select(\"Marka pojazdu\")\n",
    "     .groupBy(\"Marka pojazdu\")\n",
    "     .count()\n",
    "     .show()\n",
    ")"
   ]
  },
  {
   "cell_type": "code",
   "execution_count": 41,
   "metadata": {},
   "outputs": [
    {
     "name": "stdout",
     "output_type": "stream",
     "text": [
      "+-------------+-----+\n",
      "|Model pojazdu|count|\n",
      "+-------------+-----+\n",
      "|          S60|  130|\n",
      "|          V90|   31|\n",
      "|          850|    4|\n",
      "|    Seria 400|    1|\n",
      "|          V60|  112|\n",
      "|          S80|   59|\n",
      "|          745|    1|\n",
      "|          S90|   48|\n",
      "|          C30|   45|\n",
      "|          V70|   74|\n",
      "|        XC 40|   10|\n",
      "|          V50|  147|\n",
      "|          S40|   73|\n",
      "|        XC 70|   37|\n",
      "|    Seria 700|    1|\n",
      "|        XC 60|  219|\n",
      "|         Inny|    1|\n",
      "|          C70|   10|\n",
      "|    Seria 200|    1|\n",
      "|          V40|  151|\n",
      "+-------------+-----+\n",
      "only showing top 20 rows\n",
      "\n"
     ]
    }
   ],
   "source": [
    "DF.select(DF[\"Model pojazdu\"]) \\\n",
    "    .filter(DF[\"Marka pojazdu\"]==\"Volvo\") \\\n",
    "    .groupBy(\"Model pojazdu\") \\\n",
    "    .count().show()"
   ]
  }
 ],
 "metadata": {
  "kernelspec": {
   "display_name": "Python 3 (ipykernel)",
   "language": "python",
   "name": "python3"
  },
  "language_info": {
   "codemirror_mode": {
    "name": "ipython",
    "version": 3
   },
   "file_extension": ".py",
   "mimetype": "text/x-python",
   "name": "python",
   "nbconvert_exporter": "python",
   "pygments_lexer": "ipython3",
   "version": "3.9.8"
  }
 },
 "nbformat": 4,
 "nbformat_minor": 4
}
