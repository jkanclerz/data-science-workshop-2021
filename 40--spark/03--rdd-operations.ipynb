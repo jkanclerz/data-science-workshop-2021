{
 "cells": [
  {
   "cell_type": "markdown",
   "metadata": {},
   "source": [
    "[![Open In Colab](https://colab.research.google.com/assets/colab-badge.svg)](https://githubtocolab.com/jkanclerz/data-science-workshop-2021/blob/main/40--spark/03--rdd-operations.ipynb)"
   ]
  },
  {
   "cell_type": "code",
   "execution_count": null,
   "metadata": {},
   "outputs": [],
   "source": [
    "!apt-get install openjdk-8-jdk-headless -qq > /dev/null\n",
    "!wget https://dlcdn.apache.org/spark/spark-3.2.0/spark-3.2.0-bin-hadoop3.2.tgz -O spark-3.2.0-bin-hadoop3.2.tgz\n",
    "!tar xf spark-3.2.0-bin-hadoop3.2.tgz"
   ]
  },
  {
   "cell_type": "code",
   "execution_count": null,
   "metadata": {},
   "outputs": [],
   "source": [
    "!pip install -q pyspark findspark"
   ]
  },
  {
   "cell_type": "code",
   "execution_count": null,
   "metadata": {},
   "outputs": [],
   "source": [
    "import os\n",
    "os.environ[\"JAVA_HOME\"] = \"/usr/lib/jvm/java-8-openjdk-amd64\"\n",
    "os.environ[\"SPARK_HOME\"] = \"/content/spark-3.2.0-bin-hadoop3.2\""
   ]
  },
  {
   "cell_type": "code",
   "execution_count": 1,
   "metadata": {},
   "outputs": [
    {
     "name": "stderr",
     "output_type": "stream",
     "text": [
      "21/12/11 07:28:40 WARN Utils: Your hostname, Jakubs-MacBook-Pro.local resolves to a loopback address: 127.0.0.1; using 192.168.8.8 instead (on interface en0)\n",
      "21/12/11 07:28:40 WARN Utils: Set SPARK_LOCAL_IP if you need to bind to another address\n",
      "WARNING: An illegal reflective access operation has occurred\n",
      "WARNING: Illegal reflective access by org.apache.spark.unsafe.Platform (file:/Users/jkanclerz/myplace/dydaktyka/przetwarzanie-dokumnetow/data-science-workshop-2021/40--spark/spark-3.2.0-bin-hadoop3.2/jars/spark-unsafe_2.12-3.2.0.jar) to constructor java.nio.DirectByteBuffer(long,int)\n",
      "WARNING: Please consider reporting this to the maintainers of org.apache.spark.unsafe.Platform\n",
      "WARNING: Use --illegal-access=warn to enable warnings of further illegal reflective access operations\n",
      "WARNING: All illegal access operations will be denied in a future release\n",
      "Using Spark's default log4j profile: org/apache/spark/log4j-defaults.properties\n",
      "Setting default log level to \"WARN\".\n",
      "To adjust logging level use sc.setLogLevel(newLevel). For SparkR, use setLogLevel(newLevel).\n",
      "21/12/11 07:28:40 WARN NativeCodeLoader: Unable to load native-hadoop library for your platform... using builtin-java classes where applicable\n",
      "21/12/11 07:28:41 WARN Utils: Service 'SparkUI' could not bind on port 4050. Attempting port 4051.\n"
     ]
    }
   ],
   "source": [
    "from pyspark.sql import SparkSession\n",
    "\n",
    "spark = SparkSession.builder\\\n",
    "        .master(\"local\")\\\n",
    "        .appName(\"RDD Operations\")\\\n",
    "        .config('spark.ui.port', '4050')\\\n",
    "        .getOrCreate()"
   ]
  },
  {
   "cell_type": "code",
   "execution_count": 4,
   "metadata": {},
   "outputs": [
    {
     "data": {
      "text/html": [
       "\n",
       "            <div>\n",
       "                <p><b>SparkSession - in-memory</b></p>\n",
       "                \n",
       "        <div>\n",
       "            <p><b>SparkContext</b></p>\n",
       "\n",
       "            <p><a href=\"http://6c951c9a7480:4040\">Spark UI</a></p>\n",
       "\n",
       "            <dl>\n",
       "              <dt>Version</dt>\n",
       "                <dd><code>v3.0.0</code></dd>\n",
       "              <dt>Master</dt>\n",
       "                <dd><code>spark://spark-master:7077</code></dd>\n",
       "              <dt>AppName</dt>\n",
       "                <dd><code>Spark dataframe 2</code></dd>\n",
       "            </dl>\n",
       "        </div>\n",
       "        \n",
       "            </div>\n",
       "        "
      ],
      "text/plain": [
       "<pyspark.sql.session.SparkSession at 0x7f8341532b70>"
      ]
     },
     "execution_count": 4,
     "metadata": {},
     "output_type": "execute_result"
    }
   ],
   "source": [
    "spark"
   ]
  },
  {
   "cell_type": "code",
   "execution_count": 2,
   "metadata": {},
   "outputs": [],
   "source": [
    "sc = spark.sparkContext"
   ]
  },
  {
   "cell_type": "markdown",
   "metadata": {},
   "source": [
    "### The filter transformation"
   ]
  },
  {
   "cell_type": "code",
   "execution_count": 4,
   "metadata": {},
   "outputs": [
    {
     "name": "stdout",
     "output_type": "stream",
     "text": [
      "--2021-12-11 07:29:52--  https://wolnelektury.pl/media/book/txt/krzyzacy-tom-pierwszy.txt\n",
      "Resolving wolnelektury.pl (wolnelektury.pl)... 51.83.143.148\n",
      "Connecting to wolnelektury.pl (wolnelektury.pl)|51.83.143.148|:443... connected.\n",
      "HTTP request sent, awaiting response... 200 OK\n",
      "Length: 740054 (723K) [text/plain]\n",
      "Saving to: ‘var/krzyzacy-1.txt’\n",
      "\n",
      "var/krzyzacy-1.txt  100%[===================>] 722.71K  --.-KB/s    in 0.07s   \n",
      "\n",
      "2021-12-11 07:29:52 (10.8 MB/s) - ‘var/krzyzacy-1.txt’ saved [740054/740054]\n",
      "\n"
     ]
    }
   ],
   "source": [
    "!mkdir -p var\n",
    "!wget https://wolnelektury.pl/media/book/txt/krzyzacy-tom-pierwszy.txt -O var/krzyzacy-1.txt"
   ]
  },
  {
   "cell_type": "code",
   "execution_count": 5,
   "metadata": {},
   "outputs": [],
   "source": [
    "raw_data = sc.textFile(\"var/krzyzacy*\")"
   ]
  },
  {
   "cell_type": "code",
   "execution_count": 6,
   "metadata": {},
   "outputs": [
    {
     "name": "stderr",
     "output_type": "stream",
     "text": [
      "\r",
      "[Stage 0:>                                                          (0 + 1) / 2]\r",
      "\r",
      "                                                                                \r"
     ]
    },
    {
     "data": {
      "text/plain": [
       "15477"
      ]
     },
     "execution_count": 6,
     "metadata": {},
     "output_type": "execute_result"
    }
   ],
   "source": [
    "raw_data.count()"
   ]
  },
  {
   "cell_type": "code",
   "execution_count": 7,
   "metadata": {},
   "outputs": [],
   "source": [
    "sentences = raw_data.filter(lambda x: \"\" != x)"
   ]
  },
  {
   "cell_type": "code",
   "execution_count": 8,
   "metadata": {},
   "outputs": [
    {
     "data": {
      "text/plain": [
       "7654"
      ]
     },
     "execution_count": 8,
     "metadata": {},
     "output_type": "execute_result"
    }
   ],
   "source": [
    "sentences.count()"
   ]
  },
  {
   "cell_type": "markdown",
   "metadata": {},
   "source": [
    "### Map transformation"
   ]
  },
  {
   "cell_type": "code",
   "execution_count": 9,
   "metadata": {},
   "outputs": [],
   "source": [
    "words_batch = sentences.map(lambda x: x.split(\" \"))"
   ]
  },
  {
   "cell_type": "code",
   "execution_count": 10,
   "metadata": {},
   "outputs": [
    {
     "data": {
      "text/plain": [
       "[['Henryk', 'Sienkiewicz'],\n",
       " ['Krzyżacy'],\n",
       " ['Tom', 'I'],\n",
       " ['ISBN', '978-83-288-2813-1'],\n",
       " ['Rozdział', 'pierwszy'],\n",
       " ['W',\n",
       "  'Tyńcu,',\n",
       "  'w',\n",
       "  'gospodzie',\n",
       "  '„Pod',\n",
       "  'Lutym',\n",
       "  'Turem”,',\n",
       "  'należącej',\n",
       "  'do',\n",
       "  'opactwa,',\n",
       "  'siedziało',\n",
       "  'kilku',\n",
       "  'ludzi,',\n",
       "  'słuchając',\n",
       "  'opowiadania',\n",
       "  'wojaka',\n",
       "  'bywalca,',\n",
       "  'który',\n",
       "  'z',\n",
       "  'dalekich',\n",
       "  'stron',\n",
       "  'przybywszy,',\n",
       "  'prawił',\n",
       "  'im',\n",
       "  'o',\n",
       "  'przygodach,',\n",
       "  'jakich',\n",
       "  'na',\n",
       "  'wojnie',\n",
       "  'i',\n",
       "  'w',\n",
       "  'czasie',\n",
       "  'podróży',\n",
       "  'doznał.',\n",
       "  'Człek',\n",
       "  'był',\n",
       "  'brodaty,',\n",
       "  'w',\n",
       "  'sile',\n",
       "  'wieku,',\n",
       "  'pleczysty,',\n",
       "  'prawie',\n",
       "  'ogromny,',\n",
       "  'ale',\n",
       "  'wychudły;',\n",
       "  'włosy',\n",
       "  'nosił',\n",
       "  'ujęte',\n",
       "  'w',\n",
       "  'pątlik,',\n",
       "  'czyli',\n",
       "  'w',\n",
       "  'siatkę',\n",
       "  'naszywaną',\n",
       "  'paciorkami;',\n",
       "  'na',\n",
       "  'sobie',\n",
       "  'miał',\n",
       "  'skórzany',\n",
       "  'kubrak',\n",
       "  'z',\n",
       "  'pręgami',\n",
       "  'wyciśniętymi',\n",
       "  'przez',\n",
       "  'pancerz,',\n",
       "  'na',\n",
       "  'nim',\n",
       "  'pas,',\n",
       "  'cały',\n",
       "  'z',\n",
       "  'miedzianych',\n",
       "  'klamr;',\n",
       "  'za',\n",
       "  'pasem',\n",
       "  'nóż',\n",
       "  'w',\n",
       "  'rogowej',\n",
       "  'pochwie,',\n",
       "  'przy',\n",
       "  'boku',\n",
       "  'zaś',\n",
       "  'krótki',\n",
       "  'kord',\n",
       "  'podróżny.'],\n",
       " ['Tuż',\n",
       "  'przy',\n",
       "  'nim',\n",
       "  'za',\n",
       "  'stołem',\n",
       "  'siedział',\n",
       "  'młodzieńczyk',\n",
       "  'o',\n",
       "  'długich',\n",
       "  'włosach',\n",
       "  'i',\n",
       "  'wesołym',\n",
       "  'spojrzeniu,',\n",
       "  'widocznie',\n",
       "  'jego',\n",
       "  'towarzysz',\n",
       "  'lub',\n",
       "  'może',\n",
       "  'giermek,',\n",
       "  'bo',\n",
       "  'przybrany',\n",
       "  'także',\n",
       "  'po',\n",
       "  'podróżnemu,',\n",
       "  'w',\n",
       "  'taki',\n",
       "  'sam',\n",
       "  'powyciskany',\n",
       "  'od',\n",
       "  'zbroicy',\n",
       "  'skórzany',\n",
       "  'kubrak.',\n",
       "  'Resztę',\n",
       "  'towarzystwa',\n",
       "  'stanowiło',\n",
       "  'dwóch',\n",
       "  'ziemian',\n",
       "  'z',\n",
       "  'okolic',\n",
       "  'Krakowa',\n",
       "  'i',\n",
       "  'trzech',\n",
       "  'mieszczan',\n",
       "  'w',\n",
       "  'czerwonych',\n",
       "  'składanych',\n",
       "  'czapkach,',\n",
       "  'których',\n",
       "  'cienkie',\n",
       "  'końce',\n",
       "  'zwieszały',\n",
       "  'się',\n",
       "  'im',\n",
       "  'z',\n",
       "  'boku',\n",
       "  'aż',\n",
       "  'na',\n",
       "  'łokcie.'],\n",
       " ['Gospodarz',\n",
       "  'Niemiec,',\n",
       "  'w',\n",
       "  'płowym',\n",
       "  'kapturze',\n",
       "  'z',\n",
       "  'kołnierzem',\n",
       "  'wycinanym',\n",
       "  'w',\n",
       "  'zęby,',\n",
       "  'lał',\n",
       "  'im',\n",
       "  'z',\n",
       "  'konwi',\n",
       "  'sytne',\n",
       "  'piwo',\n",
       "  'do',\n",
       "  'glinianych',\n",
       "  'stągiewek',\n",
       "  'i',\n",
       "  'nasłuchiwał',\n",
       "  'ciekawie',\n",
       "  'przygód',\n",
       "  'wojennych.'],\n",
       " ['Jeszcze',\n",
       "  'ciekawiej',\n",
       "  'jednak',\n",
       "  'słuchali',\n",
       "  'mieszczanie.',\n",
       "  'W',\n",
       "  'owych',\n",
       "  'czasach',\n",
       "  'nienawiść,',\n",
       "  'jaka',\n",
       "  'dzieliła',\n",
       "  'za',\n",
       "  'czasów',\n",
       "  'Łokietkowych',\n",
       "  'miasto',\n",
       "  'od',\n",
       "  'rycerskiego',\n",
       "  'ziemiaństwa,',\n",
       "  'znacznie',\n",
       "  'już',\n",
       "  'była',\n",
       "  'przygasła,',\n",
       "  'mieszczaństwo',\n",
       "  'zaś',\n",
       "  'nosiło',\n",
       "  'głowy',\n",
       "  'górniej',\n",
       "  'niż',\n",
       "  'w',\n",
       "  'wiekach',\n",
       "  'późniejszych.',\n",
       "  'Jeszcze',\n",
       "  'ceniono',\n",
       "  'ich',\n",
       "  'gotowość',\n",
       "  'ad',\n",
       "  'concessionem',\n",
       "  'pecuniarum;',\n",
       "  'dlatego',\n",
       "  'też',\n",
       "  'nieraz',\n",
       "  'zdarzało',\n",
       "  'się',\n",
       "  'widzieć',\n",
       "  'w',\n",
       "  'gospodach',\n",
       "  'kupców',\n",
       "  'pijących',\n",
       "  'za',\n",
       "  'pan',\n",
       "  'brat',\n",
       "  'ze',\n",
       "  'szlachtą.',\n",
       "  'Widziano',\n",
       "  'ich',\n",
       "  'nawet',\n",
       "  'chętnie,',\n",
       "  'bo',\n",
       "  'jako',\n",
       "  'ludzie,',\n",
       "  'u',\n",
       "  'których',\n",
       "  'o',\n",
       "  'gotowy',\n",
       "  'grosz',\n",
       "  'łatwiej,',\n",
       "  'płacili',\n",
       "  'zwykle',\n",
       "  'za',\n",
       "  'herbowych.'],\n",
       " ['Tak',\n",
       "  'więc',\n",
       "  'siedzieli',\n",
       "  'teraz',\n",
       "  'i',\n",
       "  'rozmawiali,',\n",
       "  'mrugając',\n",
       "  'od',\n",
       "  'czasu',\n",
       "  'do',\n",
       "  'czasu',\n",
       "  'na',\n",
       "  'gospodarza,',\n",
       "  'aby',\n",
       "  'napełniał',\n",
       "  'stągiewki.']]"
      ]
     },
     "execution_count": 10,
     "metadata": {},
     "output_type": "execute_result"
    }
   ],
   "source": [
    "words_batch.take(10)"
   ]
  },
  {
   "cell_type": "markdown",
   "metadata": {},
   "source": [
    "### flatMap transformation"
   ]
  },
  {
   "cell_type": "code",
   "execution_count": 11,
   "metadata": {},
   "outputs": [],
   "source": [
    "words = sentences.flatMap(lambda x: x.split(\" \"))\n",
    "words = words.map(lambda x: x.lower())"
   ]
  },
  {
   "cell_type": "code",
   "execution_count": 12,
   "metadata": {},
   "outputs": [],
   "source": [
    "words_occurence = words.map(lambda word: (word, 1))"
   ]
  },
  {
   "cell_type": "code",
   "execution_count": 13,
   "metadata": {},
   "outputs": [],
   "source": [
    "wordCounts = words_occurence.reduceByKey(lambda a,b: a + b)"
   ]
  },
  {
   "cell_type": "code",
   "execution_count": 14,
   "metadata": {},
   "outputs": [
    {
     "data": {
      "text/plain": [
       "[(9473, 'i'), (8339, '—'), (5262, 'się'), (4782, 'nie'), (4748, 'w')]"
      ]
     },
     "execution_count": 14,
     "metadata": {},
     "output_type": "execute_result"
    }
   ],
   "source": [
    "wordCounts.map(lambda x: (x[1], x[0])) \\\n",
    "    .sortByKey(ascending=False) \\\n",
    "    .take(5)"
   ]
  },
  {
   "cell_type": "code",
   "execution_count": 15,
   "metadata": {},
   "outputs": [
    {
     "name": "stdout",
     "output_type": "stream",
     "text": [
      "--2021-12-11 07:32:31--  https://raw.githubusercontent.com/bieli/stopwords/master/polish.stopwords.txt\n",
      "Resolving raw.githubusercontent.com (raw.githubusercontent.com)... 185.199.108.133, 185.199.109.133, 185.199.110.133, ...\n",
      "Connecting to raw.githubusercontent.com (raw.githubusercontent.com)|185.199.108.133|:443... connected.\n",
      "HTTP request sent, awaiting response... 200 OK\n",
      "Length: 2016 (2.0K) [text/plain]\n",
      "Saving to: ‘var/stopwords.txt’\n",
      "\n",
      "var/stopwords.txt   100%[===================>]   1.97K  --.-KB/s    in 0s      \n",
      "\n",
      "2021-12-11 07:32:31 (9.11 MB/s) - ‘var/stopwords.txt’ saved [2016/2016]\n",
      "\n"
     ]
    }
   ],
   "source": [
    "!wget https://raw.githubusercontent.com/bieli/stopwords/master/polish.stopwords.txt -O var/stopwords.txt"
   ]
  },
  {
   "cell_type": "code",
   "execution_count": 16,
   "metadata": {},
   "outputs": [],
   "source": [
    "stop_words = sc.textFile(\"var/stopwords.txt\").collect()"
   ]
  },
  {
   "cell_type": "code",
   "execution_count": 17,
   "metadata": {},
   "outputs": [
    {
     "data": {
      "text/plain": [
       "['a',\n",
       " 'aby',\n",
       " 'ach',\n",
       " 'acz',\n",
       " 'aczkolwiek',\n",
       " 'aj',\n",
       " 'albo',\n",
       " 'ale',\n",
       " 'alez',\n",
       " 'ależ',\n",
       " 'ani',\n",
       " 'az',\n",
       " 'aż',\n",
       " 'bardziej',\n",
       " 'bardzo',\n",
       " 'beda',\n",
       " 'bedzie',\n",
       " 'bez',\n",
       " 'deda',\n",
       " 'będą',\n",
       " 'bede',\n",
       " 'będę',\n",
       " 'będzie',\n",
       " 'bo',\n",
       " 'bowiem',\n",
       " 'by',\n",
       " 'byc',\n",
       " 'być',\n",
       " 'byl',\n",
       " 'byla',\n",
       " 'byli',\n",
       " 'bylo',\n",
       " 'byly',\n",
       " 'był',\n",
       " 'była',\n",
       " 'było',\n",
       " 'były',\n",
       " 'bynajmniej',\n",
       " 'cala',\n",
       " 'cali',\n",
       " 'caly',\n",
       " 'cała',\n",
       " 'cały',\n",
       " 'ci',\n",
       " 'cie',\n",
       " 'ciebie',\n",
       " 'cię',\n",
       " 'co',\n",
       " 'cokolwiek',\n",
       " 'cos',\n",
       " 'coś',\n",
       " 'czasami',\n",
       " 'czasem',\n",
       " 'czemu',\n",
       " 'czy',\n",
       " 'czyli',\n",
       " 'daleko',\n",
       " 'dla',\n",
       " 'dlaczego',\n",
       " 'dlatego',\n",
       " 'do',\n",
       " 'dobrze',\n",
       " 'dokad',\n",
       " 'dokąd',\n",
       " 'dosc',\n",
       " 'dość',\n",
       " 'duzo',\n",
       " 'dużo',\n",
       " 'dwa',\n",
       " 'dwaj',\n",
       " 'dwie',\n",
       " 'dwoje',\n",
       " 'dzis',\n",
       " 'dzisiaj',\n",
       " 'dziś',\n",
       " 'gdy',\n",
       " 'gdyby',\n",
       " 'gdyz',\n",
       " 'gdyż',\n",
       " 'gdzie',\n",
       " 'gdziekolwiek',\n",
       " 'gdzies',\n",
       " 'gdzieś',\n",
       " 'go',\n",
       " 'i',\n",
       " 'ich',\n",
       " 'ile',\n",
       " 'im',\n",
       " 'inna',\n",
       " 'inne',\n",
       " 'inny',\n",
       " 'innych',\n",
       " 'iz',\n",
       " 'iż',\n",
       " 'ja',\n",
       " 'jak',\n",
       " 'jakas',\n",
       " 'jakaś',\n",
       " 'jakby',\n",
       " 'jaki',\n",
       " 'jakichs',\n",
       " 'jakichś',\n",
       " 'jakie',\n",
       " 'jakis',\n",
       " 'jakiś',\n",
       " 'jakiz',\n",
       " 'jakiż',\n",
       " 'jakkolwiek',\n",
       " 'jako',\n",
       " 'jakos',\n",
       " 'jakoś',\n",
       " 'ją',\n",
       " 'je',\n",
       " 'jeden',\n",
       " 'jedna',\n",
       " 'jednak',\n",
       " 'jednakze',\n",
       " 'jednakże',\n",
       " 'jedno',\n",
       " 'jego',\n",
       " 'jej',\n",
       " 'jemu',\n",
       " 'jesli',\n",
       " 'jest',\n",
       " 'jestem',\n",
       " 'jeszcze',\n",
       " 'jeśli',\n",
       " 'jezeli',\n",
       " 'jeżeli',\n",
       " 'juz',\n",
       " 'już',\n",
       " 'kazdy',\n",
       " 'każdy',\n",
       " 'kiedy',\n",
       " 'kilka',\n",
       " 'kims',\n",
       " 'kimś',\n",
       " 'kto',\n",
       " 'ktokolwiek',\n",
       " 'ktora',\n",
       " 'ktore',\n",
       " 'ktorego',\n",
       " 'ktorej',\n",
       " 'ktory',\n",
       " 'ktorych',\n",
       " 'ktorym',\n",
       " 'ktorzy',\n",
       " 'ktos',\n",
       " 'ktoś',\n",
       " 'która',\n",
       " 'które',\n",
       " 'którego',\n",
       " 'której',\n",
       " 'który',\n",
       " 'których',\n",
       " 'którym',\n",
       " 'którzy',\n",
       " 'ku',\n",
       " 'lat',\n",
       " 'lecz',\n",
       " 'lub',\n",
       " 'ma',\n",
       " 'mają',\n",
       " 'mało',\n",
       " 'mam',\n",
       " 'mi',\n",
       " 'miedzy',\n",
       " 'między',\n",
       " 'mimo',\n",
       " 'mna',\n",
       " 'mną',\n",
       " 'mnie',\n",
       " 'moga',\n",
       " 'mogą',\n",
       " 'moi',\n",
       " 'moim',\n",
       " 'moj',\n",
       " 'moja',\n",
       " 'moje',\n",
       " 'moze',\n",
       " 'mozliwe',\n",
       " 'mozna',\n",
       " 'może',\n",
       " 'możliwe',\n",
       " 'można',\n",
       " 'mój',\n",
       " 'mu',\n",
       " 'musi',\n",
       " 'my',\n",
       " 'na',\n",
       " 'nad',\n",
       " 'nam',\n",
       " 'nami',\n",
       " 'nas',\n",
       " 'nasi',\n",
       " 'nasz',\n",
       " 'nasza',\n",
       " 'nasze',\n",
       " 'naszego',\n",
       " 'naszych',\n",
       " 'natomiast',\n",
       " 'natychmiast',\n",
       " 'nawet',\n",
       " 'nia',\n",
       " 'nią',\n",
       " 'nic',\n",
       " 'nich',\n",
       " 'nie',\n",
       " 'niech',\n",
       " 'niego',\n",
       " 'niej',\n",
       " 'niemu',\n",
       " 'nigdy',\n",
       " 'nim',\n",
       " 'nimi',\n",
       " 'niz',\n",
       " 'niż',\n",
       " 'no',\n",
       " 'o',\n",
       " 'obok',\n",
       " 'od',\n",
       " 'około',\n",
       " 'on',\n",
       " 'ona',\n",
       " 'one',\n",
       " 'oni',\n",
       " 'ono',\n",
       " 'oraz',\n",
       " 'oto',\n",
       " 'owszem',\n",
       " 'pan',\n",
       " 'pana',\n",
       " 'pani',\n",
       " 'po',\n",
       " 'pod',\n",
       " 'podczas',\n",
       " 'pomimo',\n",
       " 'ponad',\n",
       " 'poniewaz',\n",
       " 'ponieważ',\n",
       " 'powinien',\n",
       " 'powinna',\n",
       " 'powinni',\n",
       " 'powinno',\n",
       " 'poza',\n",
       " 'prawie',\n",
       " 'przeciez',\n",
       " 'przecież',\n",
       " 'przed',\n",
       " 'przede',\n",
       " 'przedtem',\n",
       " 'przez',\n",
       " 'przy',\n",
       " 'roku',\n",
       " 'rowniez',\n",
       " 'również',\n",
       " 'sam',\n",
       " 'sama',\n",
       " 'są',\n",
       " 'sie',\n",
       " 'się',\n",
       " 'skad',\n",
       " 'skąd',\n",
       " 'soba',\n",
       " 'sobą',\n",
       " 'sobie',\n",
       " 'sposob',\n",
       " 'sposób',\n",
       " 'swoje',\n",
       " 'ta',\n",
       " 'tak',\n",
       " 'taka',\n",
       " 'taki',\n",
       " 'takie',\n",
       " 'takze',\n",
       " 'także',\n",
       " 'tam',\n",
       " 'te',\n",
       " 'tego',\n",
       " 'tej',\n",
       " 'ten',\n",
       " 'teraz',\n",
       " 'też',\n",
       " 'to',\n",
       " 'toba',\n",
       " 'tobą',\n",
       " 'tobie',\n",
       " 'totez',\n",
       " 'toteż',\n",
       " 'totobą',\n",
       " 'trzeba',\n",
       " 'tu',\n",
       " 'tutaj',\n",
       " 'twoi',\n",
       " 'twoim',\n",
       " 'twoj',\n",
       " 'twoja',\n",
       " 'twoje',\n",
       " 'twój',\n",
       " 'twym',\n",
       " 'ty',\n",
       " 'tych',\n",
       " 'tylko',\n",
       " 'tym',\n",
       " 'u',\n",
       " 'w',\n",
       " 'wam',\n",
       " 'wami',\n",
       " 'was',\n",
       " 'wasz',\n",
       " 'wasza',\n",
       " 'wasze',\n",
       " 'we',\n",
       " 'według',\n",
       " 'wiele',\n",
       " 'wielu',\n",
       " 'więc',\n",
       " 'więcej',\n",
       " 'wlasnie',\n",
       " 'właśnie',\n",
       " 'wszyscy',\n",
       " 'wszystkich',\n",
       " 'wszystkie',\n",
       " 'wszystkim',\n",
       " 'wszystko',\n",
       " 'wtedy',\n",
       " 'wy',\n",
       " 'z',\n",
       " 'za',\n",
       " 'zaden',\n",
       " 'zadna',\n",
       " 'zadne',\n",
       " 'zadnych',\n",
       " 'zapewne',\n",
       " 'zawsze',\n",
       " 'ze',\n",
       " 'zeby',\n",
       " 'zeznowu',\n",
       " 'zł',\n",
       " 'znow',\n",
       " 'znowu',\n",
       " 'znów',\n",
       " 'zostal',\n",
       " 'został',\n",
       " 'żaden',\n",
       " 'żadna',\n",
       " 'żadne',\n",
       " 'żadnych',\n",
       " 'że',\n",
       " 'żeby']"
      ]
     },
     "execution_count": 17,
     "metadata": {},
     "output_type": "execute_result"
    }
   ],
   "source": [
    "stop_words"
   ]
  },
  {
   "cell_type": "code",
   "execution_count": 18,
   "metadata": {},
   "outputs": [],
   "source": [
    "counter = wordCounts.map(lambda x: (x[1], x[0])) \\\n",
    "    .filter(lambda x: x[1] not in stop_words) \\\n",
    "    .sortByKey(ascending=False)"
   ]
  },
  {
   "cell_type": "code",
   "execution_count": 19,
   "metadata": {},
   "outputs": [
    {
     "data": {
      "text/plain": [
       "[(8339, '—'),\n",
       " (616, 'zbyszko'),\n",
       " (602, 'zaś'),\n",
       " (455, 'rzekł'),\n",
       " (415, 'maćko'),\n",
       " (360, 'się,'),\n",
       " (346, 'począł'),\n",
       " (336, 'rzekł:'),\n",
       " (329, 'jeno'),\n",
       " (316, 'czym'),\n",
       " (303, 'chwili'),\n",
       " (280, 'de'),\n",
       " (260, 'bóg'),\n",
       " (249, 'miał'),\n",
       " (242, 'zaraz')]"
      ]
     },
     "execution_count": 19,
     "metadata": {},
     "output_type": "execute_result"
    }
   ],
   "source": [
    "counter.take(15)"
   ]
  },
  {
   "cell_type": "markdown",
   "metadata": {},
   "source": [
    "#### Creating a RDD from a file\n",
    "The most common way of creating an RDD is to load it from a file. Notice that Spark's textFile can handle compressed files directly."
   ]
  },
  {
   "cell_type": "markdown",
   "metadata": {},
   "source": [
    "### The collect action\n",
    "\n",
    "Basically it will get all the elements in the RDD into memory for us to work with them. For this reason it has to be used with care, specially when working with large RDDs."
   ]
  },
  {
   "cell_type": "code",
   "execution_count": 20,
   "metadata": {},
   "outputs": [],
   "source": [
    "counted_words = counter.collect()"
   ]
  },
  {
   "cell_type": "code",
   "execution_count": 21,
   "metadata": {},
   "outputs": [
    {
     "data": {
      "text/plain": [
       "[(8339, '—'),\n",
       " (616, 'zbyszko'),\n",
       " (602, 'zaś'),\n",
       " (455, 'rzekł'),\n",
       " (415, 'maćko'),\n",
       " (360, 'się,'),\n",
       " (346, 'począł'),\n",
       " (336, 'rzekł:'),\n",
       " (329, 'jeno'),\n",
       " (316, 'czym'),\n",
       " (303, 'chwili'),\n",
       " (280, 'de'),\n",
       " (260, 'bóg'),\n",
       " (249, 'miał'),\n",
       " (242, 'zaraz'),\n",
       " (239, 'ni'),\n",
       " (236, 'potem'),\n",
       " (214, 'stary'),\n",
       " (204, 'jurand'),\n",
       " (203, 'mógł')]"
      ]
     },
     "execution_count": 21,
     "metadata": {},
     "output_type": "execute_result"
    }
   ],
   "source": [
    "counted_words[:20]"
   ]
  },
  {
   "cell_type": "code",
   "execution_count": 22,
   "metadata": {},
   "outputs": [],
   "source": [
    "sc.stop()"
   ]
  },
  {
   "cell_type": "code",
   "execution_count": null,
   "metadata": {},
   "outputs": [],
   "source": []
  }
 ],
 "metadata": {
  "kernelspec": {
   "display_name": "Python 3 (ipykernel)",
   "language": "python",
   "name": "python3"
  },
  "language_info": {
   "codemirror_mode": {
    "name": "ipython",
    "version": 3
   },
   "file_extension": ".py",
   "mimetype": "text/x-python",
   "name": "python",
   "nbconvert_exporter": "python",
   "pygments_lexer": "ipython3",
   "version": "3.9.8"
  }
 },
 "nbformat": 4,
 "nbformat_minor": 4
}
