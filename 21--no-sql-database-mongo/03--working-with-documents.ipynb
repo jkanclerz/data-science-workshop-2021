{
 "cells": [
  {
   "cell_type": "markdown",
   "metadata": {},
   "source": [
    "[![Open In Colab](https://colab.research.google.com/assets/colab-badge.svg)](https://githubtocolab.com/jkanclerz/data-science-workshop-2021/blob/main/21--no-sql-database-mongo/03--working-with-documents.ipynb)"
   ]
  },
  {
   "cell_type": "markdown",
   "metadata": {},
   "source": [
    "## Docs\n",
    "\n",
    "https://pymongo.readthedocs.io/en/stable/tutorial.html\n",
    "\n",
    "* https://docs.mongodb.com/manual/crud/\n",
    "* https://docs.mongodb.com/manual/aggregation/\n",
    "* https://docs.mongodb.com/manual/reference/operator/query/\n"
   ]
  },
  {
   "cell_type": "code",
   "execution_count": 2,
   "metadata": {},
   "outputs": [
    {
     "name": "stdout",
     "output_type": "stream",
     "text": [
      "Collecting pymongo\n",
      "  Downloading pymongo-3.12.1-cp39-cp39-macosx_10_9_x86_64.whl (395 kB)\n",
      "     |████████████████████████████████| 395 kB 2.2 MB/s            \n",
      "\u001b[?25hInstalling collected packages: pymongo\n",
      "Successfully installed pymongo-3.12.1\n",
      "Note: you may need to restart the kernel to use updated packages.\n"
     ]
    }
   ],
   "source": [
    "pip install pymongo"
   ]
  },
  {
   "cell_type": "code",
   "execution_count": 4,
   "metadata": {},
   "outputs": [],
   "source": [
    "from pymongo import MongoClient\n",
    "from pprint import pprint as pp\n",
    "client = MongoClient('mongodb://localhost:27017')"
   ]
  },
  {
   "cell_type": "code",
   "execution_count": 7,
   "metadata": {},
   "outputs": [
    {
     "data": {
      "text/plain": [
       "<pymongo.results.DeleteResult at 0x107888c80>"
      ]
     },
     "execution_count": 7,
     "metadata": {},
     "output_type": "execute_result"
    }
   ],
   "source": [
    "db = client.ecommerce\n",
    "db.inventory.delete_many({})"
   ]
  },
  {
   "cell_type": "markdown",
   "metadata": {},
   "source": [
    "## create"
   ]
  },
  {
   "cell_type": "code",
   "execution_count": 21,
   "metadata": {},
   "outputs": [],
   "source": [
    "res = db.inventory.insert_one(\n",
    "    {\n",
    "        \"Item\": \"Ruler\",\n",
    "        \"Colors\": [\"Red\",\"Green\",\"Blue\",\"Clear\",\"Yellow\"],\n",
    "        \"Inventory\": {\n",
    "            \"OnHand\": 47,\n",
    "            \"MinOnHand\": 40\n",
    "        },\n",
    "        \"UnitPrice\": 0.89\n",
    "    }\n",
    ")"
   ]
  },
  {
   "cell_type": "code",
   "execution_count": 22,
   "metadata": {},
   "outputs": [],
   "source": [
    "from pprint import pprint as pp"
   ]
  },
  {
   "cell_type": "code",
   "execution_count": 23,
   "metadata": {},
   "outputs": [
    {
     "name": "stdout",
     "output_type": "stream",
     "text": [
      "ObjectId('5fb7ccfc8637a5bca777605d')\n"
     ]
    }
   ],
   "source": [
    "pp(res.inserted_id)"
   ]
  },
  {
   "cell_type": "markdown",
   "metadata": {},
   "source": [
    "## many"
   ]
  },
  {
   "cell_type": "code",
   "execution_count": 24,
   "metadata": {},
   "outputs": [],
   "source": [
    "res = db.inventory.insert_many(\n",
    "    [\n",
    "        {\n",
    "            \"Item\": \"Pen\",\n",
    "            \"Colors\": [\"Red\",\"Green\",\"Blue\",\"Black\"],\n",
    "            \"Inventory\": {\n",
    "                \"OnHand\": 244,\n",
    "                \"MinOnHand\": 72 \n",
    "            }\n",
    "        },\n",
    "        {\n",
    "            \"Item\": \"Poster Paint\",\n",
    "            \"Colors\": [\"Red\",\"Green\",\"Blue\",\"Black\",\"White\"],\n",
    "            \"Inventory\": {\n",
    "                \"OnHand\": 47,\n",
    "                \"MinOnHand\": 50 \n",
    "            }\n",
    "        },\n",
    "        {\n",
    "            \"Item\": \"Spray Paint\",\n",
    "            \"Colors\": [\"Black\",\"Red\",\"Green\",\"Blue\"],\n",
    "            \"Inventory\": {\n",
    "                \"OnHand\": 47,\n",
    "                \"MinOnHand\": 50,\n",
    "                \"OrderQnty\": 36\n",
    "            }\n",
    "        }    \n",
    "    ]\n",
    ")"
   ]
  },
  {
   "cell_type": "code",
   "execution_count": 29,
   "metadata": {},
   "outputs": [
    {
     "name": "stdout",
     "output_type": "stream",
     "text": [
      "[ObjectId('5fb7ccfe8637a5bca777605e'),\n",
      " ObjectId('5fb7ccfe8637a5bca777605f'),\n",
      " ObjectId('5fb7ccfe8637a5bca7776060')]\n",
      "True\n"
     ]
    },
    {
     "data": {
      "text/plain": [
       "(None, None)"
      ]
     },
     "execution_count": 29,
     "metadata": {},
     "output_type": "execute_result"
    }
   ],
   "source": [
    "pp(res.inserted_ids), pp(res.acknowledged)"
   ]
  },
  {
   "cell_type": "markdown",
   "metadata": {},
   "source": [
    "## query"
   ]
  },
  {
   "cell_type": "code",
   "execution_count": 35,
   "metadata": {},
   "outputs": [
    {
     "name": "stdout",
     "output_type": "stream",
     "text": [
      "[{'Colors': ['Red', 'Green', 'Blue', 'Black'],\n",
      "  'Inventory': {'MinOnHand': 72, 'OnHand': 244},\n",
      "  'Item': 'Pen',\n",
      "  '_id': ObjectId('5fb7ccd98637a5bca7776057')},\n",
      " {'Colors': ['Red', 'Green', 'Blue', 'Black'],\n",
      "  'Inventory': {'MinOnHand': 72, 'OnHand': 244},\n",
      "  'Item': 'Pen',\n",
      "  '_id': ObjectId('5fb7ccec8637a5bca777605a')},\n",
      " {'Colors': ['Red', 'Green', 'Blue', 'Black'],\n",
      "  'Inventory': {'MinOnHand': 72, 'OnHand': 244},\n",
      "  'Item': 'Pen',\n",
      "  '_id': ObjectId('5fb7ccfe8637a5bca777605e')}]\n"
     ]
    }
   ],
   "source": [
    "c = db.inventory.find( { \"Item\": \"Pen\" } )\n",
    "pp(list(c))"
   ]
  },
  {
   "cell_type": "markdown",
   "metadata": {},
   "source": [
    "## matching nested"
   ]
  },
  {
   "cell_type": "code",
   "execution_count": 36,
   "metadata": {},
   "outputs": [
    {
     "name": "stdout",
     "output_type": "stream",
     "text": [
      "[{'Colors': ['Red', 'Green', 'Blue', 'Black', 'White'],\n",
      "  'Inventory': {'MinOnHand': 50, 'OnHand': 47},\n",
      "  'Item': 'Poster Paint',\n",
      "  '_id': ObjectId('5fb7ccd98637a5bca7776058')},\n",
      " {'Colors': ['Red', 'Green', 'Blue', 'Black', 'White'],\n",
      "  'Inventory': {'MinOnHand': 50, 'OnHand': 47},\n",
      "  'Item': 'Poster Paint',\n",
      "  '_id': ObjectId('5fb7ccec8637a5bca777605b')},\n",
      " {'Colors': ['Red', 'Green', 'Blue', 'Black', 'White'],\n",
      "  'Inventory': {'MinOnHand': 50, 'OnHand': 47},\n",
      "  'Item': 'Poster Paint',\n",
      "  '_id': ObjectId('5fb7ccfe8637a5bca777605f')}]\n"
     ]
    }
   ],
   "source": [
    "c = db.inventory.find( {\"Inventory\": {\n",
    "    \"OnHand\": 47,\n",
    "    \"MinOnHand\": 50 } } )\n",
    "pp(list(c))"
   ]
  },
  {
   "cell_type": "markdown",
   "metadata": {},
   "source": [
    "## matching nested values"
   ]
  },
  {
   "cell_type": "code",
   "execution_count": 37,
   "metadata": {},
   "outputs": [
    {
     "name": "stdout",
     "output_type": "stream",
     "text": [
      "[{'Colors': ['Red', 'Green', 'Blue', 'Black', 'White'],\n",
      "  'Inventory': {'MinOnHand': 50, 'OnHand': 47},\n",
      "  'Item': 'Poster Paint',\n",
      "  '_id': ObjectId('5fb7ccd98637a5bca7776058')},\n",
      " {'Colors': ['Black', 'Red', 'Green', 'Blue'],\n",
      "  'Inventory': {'MinOnHand': 50, 'OnHand': 47, 'OrderQnty': 36},\n",
      "  'Item': 'Spray Paint',\n",
      "  '_id': ObjectId('5fb7ccd98637a5bca7776059')},\n",
      " {'Colors': ['Red', 'Green', 'Blue', 'Black', 'White'],\n",
      "  'Inventory': {'MinOnHand': 50, 'OnHand': 47},\n",
      "  'Item': 'Poster Paint',\n",
      "  '_id': ObjectId('5fb7ccec8637a5bca777605b')},\n",
      " {'Colors': ['Black', 'Red', 'Green', 'Blue'],\n",
      "  'Inventory': {'MinOnHand': 50, 'OnHand': 47, 'OrderQnty': 36},\n",
      "  'Item': 'Spray Paint',\n",
      "  '_id': ObjectId('5fb7ccec8637a5bca777605c')},\n",
      " {'Colors': ['Red', 'Green', 'Blue', 'Black', 'White'],\n",
      "  'Inventory': {'MinOnHand': 50, 'OnHand': 47},\n",
      "  'Item': 'Poster Paint',\n",
      "  '_id': ObjectId('5fb7ccfe8637a5bca777605f')},\n",
      " {'Colors': ['Black', 'Red', 'Green', 'Blue'],\n",
      "  'Inventory': {'MinOnHand': 50, 'OnHand': 47, 'OrderQnty': 36},\n",
      "  'Item': 'Spray Paint',\n",
      "  '_id': ObjectId('5fb7ccfe8637a5bca7776060')}]\n"
     ]
    }
   ],
   "source": [
    "c = db.inventory.find( {\"Inventory.OnHand\": 47, \"Inventory.MinOnHand\": 50 } )\n",
    "pp(list(c))"
   ]
  },
  {
   "cell_type": "markdown",
   "metadata": {},
   "source": [
    "## updates"
   ]
  },
  {
   "cell_type": "code",
   "execution_count": 39,
   "metadata": {},
   "outputs": [
    {
     "name": "stderr",
     "output_type": "stream",
     "text": [
      "<ipython-input-39-e16f66cf0c77>:1: DeprecationWarning: update is deprecated. Use replace_one, update_one or update_many instead.\n",
      "  db.inventory.update(\n"
     ]
    },
    {
     "data": {
      "text/plain": [
       "{'n': 1, 'nModified': 1, 'ok': 1.0, 'updatedExisting': True}"
      ]
     },
     "execution_count": 39,
     "metadata": {},
     "output_type": "execute_result"
    }
   ],
   "source": [
    "db.inventory.update(\n",
    "    { \"Item\" : \"Pen\" },\n",
    "    { \"$set\": { \"Item\": \"Gel Pen\" } }\n",
    ")"
   ]
  },
  {
   "cell_type": "code",
   "execution_count": null,
   "metadata": {},
   "outputs": [],
   "source": []
  }
 ],
 "metadata": {
  "kernelspec": {
   "display_name": "Python 3 (ipykernel)",
   "language": "python",
   "name": "python3"
  },
  "language_info": {
   "codemirror_mode": {
    "name": "ipython",
    "version": 3
   },
   "file_extension": ".py",
   "mimetype": "text/x-python",
   "name": "python",
   "nbconvert_exporter": "python",
   "pygments_lexer": "ipython3",
   "version": "3.9.8"
  }
 },
 "nbformat": 4,
 "nbformat_minor": 4
}
