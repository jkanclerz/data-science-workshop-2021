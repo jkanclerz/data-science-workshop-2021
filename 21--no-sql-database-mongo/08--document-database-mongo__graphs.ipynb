{
 "cells": [
  {
   "cell_type": "markdown",
   "metadata": {},
   "source": [
    "[![Open In Colab](https://colab.research.google.com/assets/colab-badge.svg)](https://githubtocolab.com/jkanclerz/data-science-workshop-2021/blob/main/21--no-sql-database-mongo/08--document-database-mongo__graphs.ipynb)"
   ]
  },
  {
   "cell_type": "code",
   "execution_count": null,
   "metadata": {},
   "outputs": [],
   "source": [
    "!sudo apt install mongodb\n",
    "!sudo service mongodb start"
   ]
  },
  {
   "cell_type": "markdown",
   "metadata": {},
   "source": [
    "```json\n",
    "{\n",
    "     \"_id\" : ObjectId(\"5b107bec1d2952d0da904dd7\"),\n",
    "     \"title\" : \"Titan A.E.\",\n",
    "     \"year\" : 2000,\n",
    "     \"rated\" : \"PG\",\n",
    "     \"runtime\" : 94,\n",
    "     \"countries\" : [\n",
    "             \"USA\"\n",
    "     ],\n",
    "     \"genres\" : [\n",
    "             \"Animation\",\n",
    "             \"Action\",\n",
    "             \"Adventure\"\n",
    "     ],\n",
    "     \"director\" : \"Don Bluth, Gary Goldman, Art Vitello\",\n",
    "     \"writers\" : [\n",
    "             \"Hans Bauer\",\n",
    "             \"Randall McCormick\",\n",
    "             \"Ben Edlund\",\n",
    "             \"John August\",\n",
    "             \"Joss Whedon\"\n",
    "     ],\n",
    "     \"actors\" : [\n",
    "             \"Matt Damon\",\n",
    "             \"Bill Pullman\",\n",
    "             \"John Leguizamo\",\n",
    "             \"Nathan Lane\"\n",
    "     ],\n",
    "     \"plot\" : \"A young man learns that he has to find a hidden Earth ship before an enemy alien species does in order to secure the survival of humanity.\",\n",
    "     \"poster\" : \"http://ia.media-imdb.com/images/M/MV5BMjE0NTU0ODg4NV5BMl5BanBnXkFtZTcwNzY3MTQyMQ@@._V1_SX300.jpg\",\n",
    "     \"imdb\" : {\n",
    "             \"id\" : \"tt0120913\",\n",
    "             \"rating\" : 6.6,\n",
    "             \"votes\" : 50875\n",
    "     },\n",
    "     \"tomato\" : {\n",
    "             \"meter\" : 52,\n",
    "             \"image\" : \"rotten\",\n",
    "             \"rating\" : 5.7,\n",
    "             \"reviews\" : 99,\n",
    "             \"fresh\" : 51,\n",
    "             \"consensus\" : \"Great visuals, but the story feels like a cut-and-paste job of other sci-fi movies.\",\n",
    "             \"userMeter\" : 60,\n",
    "             \"userRating\" : 3.2,\n",
    "             \"userReviews\" : 69055\n",
    "     },\n",
    "     \"metacritic\" : 48,\n",
    "     \"awards\" : {\n",
    "             \"wins\" : 1,\n",
    "             \"nominations\" : 7,\n",
    "             \"text\" : \"1 win & 7 nominations.\"\n",
    "     },\n",
    "     \"type\" : \"movie\"\n",
    "}\n",
    "```"
   ]
  },
  {
   "cell_type": "code",
   "execution_count": null,
   "metadata": {},
   "outputs": [],
   "source": [
    "!mkdir -p var\n",
    "!wget https://github.com/SouthbankSoftware/dbkoda-data/raw/master/SampleCollections/dump/SampleCollections/video_movies.bson -O var/video_movies.bson\n",
    "!wget https://github.com/SouthbankSoftware/dbkoda-data/raw/master/SampleCollections/dump/SampleCollections/video_movieDetails.bson -O var/video_movieDetails.bson\n",
    "!mongorestore --db datascience --drop --collection movies var/video_movieDetails.bson\n",
    "!mongorestore --db datascience --drop --collection films var/video_movies.bson\n"
   ]
  },
  {
   "cell_type": "code",
   "execution_count": null,
   "metadata": {},
   "outputs": [],
   "source": [
    "import seaborn as sns\n",
    "import matplotlib.pyplot as plt\n",
    "from pprint import pprint as pp\n",
    "%matplotlib inline"
   ]
  },
  {
   "cell_type": "code",
   "execution_count": null,
   "metadata": {},
   "outputs": [],
   "source": [
    "tips = sns.load_dataset(\"tips\")\n",
    "sns.relplot(x=\"total_bill\", y=\"tip\", data=tips);"
   ]
  },
  {
   "cell_type": "code",
   "execution_count": null,
   "metadata": {},
   "outputs": [],
   "source": [
    "pp(type(tips))"
   ]
  },
  {
   "cell_type": "code",
   "execution_count": null,
   "metadata": {},
   "outputs": [],
   "source": [
    "pip install pymongo"
   ]
  },
  {
   "cell_type": "code",
   "execution_count": null,
   "metadata": {},
   "outputs": [],
   "source": [
    "import pandas as pd\n",
    "from pymongo import MongoClient"
   ]
  },
  {
   "cell_type": "code",
   "execution_count": null,
   "metadata": {},
   "outputs": [],
   "source": [
    "client = MongoClient('mongodb://localhost:27017')"
   ]
  },
  {
   "cell_type": "code",
   "execution_count": null,
   "metadata": {},
   "outputs": [],
   "source": [
    "db = client.datascience"
   ]
  },
  {
   "cell_type": "code",
   "execution_count": null,
   "metadata": {},
   "outputs": [],
   "source": [
    "data = list(db.movies.aggregate([\n",
    "    {\"$match\": {\"imdb.rating\": {\"$exists\": \"1\", \"$gte\": 0, \"$lte\": 10}}},\n",
    "    {\"$project\": {'rating': '$imdb.rating'}},\n",
    "    {\"$group\": {\"_id\": \"$rating\", \"count\": {\"$sum\": 1}}},\n",
    "    {\"$sort\": {\"_id\": 1}}\n",
    "]))"
   ]
  },
  {
   "cell_type": "code",
   "execution_count": null,
   "metadata": {},
   "outputs": [],
   "source": [
    "df = pd.DataFrame(data)\n",
    "df = df.rename(columns={\"_id\": \"rating\"})"
   ]
  },
  {
   "cell_type": "code",
   "execution_count": null,
   "metadata": {},
   "outputs": [],
   "source": [
    "df"
   ]
  },
  {
   "cell_type": "code",
   "execution_count": null,
   "metadata": {},
   "outputs": [],
   "source": [
    "sns.relplot(x=\"rating\", y=\"count\", data=df,  kind=\"line\");"
   ]
  },
  {
   "cell_type": "markdown",
   "metadata": {},
   "source": [
    "#avarage user rating, runtime"
   ]
  },
  {
   "cell_type": "code",
   "execution_count": null,
   "metadata": {},
   "outputs": [],
   "source": [
    "data = list(db.movies.aggregate([\n",
    "    {\n",
    "        \"$match\": \n",
    "         {\n",
    "            \"imdb.rating\": {\"$exists\": \"1\", \"$gte\": 0, \"$lte\": 10},\n",
    "            \"runtime\": {\"$exists\": \"1\"}\n",
    "        },\n",
    "    },\n",
    "    {\"$project\": {'rating': '$imdb.rating', \"runtime\": \"$runtime\"}},\n",
    "    {\"$sort\": {\"_id\": 1}}\n",
    "]))\n",
    "\n",
    "df = pd.DataFrame(data)\n",
    "\n"
   ]
  },
  {
   "cell_type": "code",
   "execution_count": null,
   "metadata": {},
   "outputs": [],
   "source": [
    "sns.relplot(x=\"rating\", y=\"runtime\", data=df);"
   ]
  },
  {
   "cell_type": "markdown",
   "metadata": {},
   "source": [
    "Avg rating to votes count"
   ]
  },
  {
   "cell_type": "code",
   "execution_count": null,
   "metadata": {},
   "outputs": [],
   "source": [
    "data = list(db.movies.aggregate([\n",
    "    {\"$match\": {\n",
    "        \"imdb.rating\": {\"$exists\": \"1\", \"$gte\": 0, \"$lte\": 10},\n",
    "        \"year\": {\"$gte\": 2000}\n",
    "    }},\n",
    "    {\"$project\": {'rating': '$imdb.rating', \"year\": \"$year\"}},\n",
    "    {\"$group\": {\n",
    "        \"_id\": {\n",
    "            \"year\": \"$year\",\n",
    "            \"rating\": \"$rating\"\n",
    "        },\n",
    "        \"count\": {\"$sum\": 1}}\n",
    "    },\n",
    "    {\"$project\": {\n",
    "        \"rating\": \"$_id.rating\",\n",
    "        \"year\": \"$_id.year\",\n",
    "        \"count\": \"$count\"\n",
    "    }},\n",
    "    {\"$sort\": {\"rating\": -1}}\n",
    "]))"
   ]
  },
  {
   "cell_type": "code",
   "execution_count": null,
   "metadata": {},
   "outputs": [],
   "source": [
    "pp(list(data))"
   ]
  },
  {
   "cell_type": "code",
   "execution_count": null,
   "metadata": {},
   "outputs": [],
   "source": [
    "df = pd.DataFrame(data)\n",
    "df = df[['count', 'rating', 'year']]"
   ]
  },
  {
   "cell_type": "code",
   "execution_count": null,
   "metadata": {},
   "outputs": [],
   "source": [
    "df['year'] = df['year'].apply(int)\n",
    "counts = df.pivot('rating', 'year', 'count')"
   ]
  },
  {
   "cell_type": "code",
   "execution_count": null,
   "metadata": {},
   "outputs": [],
   "source": [
    "counts"
   ]
  },
  {
   "cell_type": "code",
   "execution_count": null,
   "metadata": {},
   "outputs": [],
   "source": [
    "f, ax = plt.subplots(figsize=(9, 9))\n",
    "sns.heatmap(counts, linewidths=0.5, ax=ax, cmap=\"YlGnBu\")"
   ]
  },
  {
   "cell_type": "code",
   "execution_count": null,
   "metadata": {},
   "outputs": [],
   "source": [
    "data = list(db.movies.aggregate([\n",
    "    {\"$match\": {\n",
    "        \"imdb.rating\": {\"$exists\": \"1\", \"$gte\": 0, \"$lte\": 10},\n",
    "        \"year\": {\"$exists\": \"1\"},\n",
    "        \"awards.wins\": {\"$exists\": \"1\"},\n",
    "        \"awards.nominations\": {\"$exists\": \"1\"},\n",
    "        \"actors\": {\"$exists\": \"1\"},\n",
    "    }},\n",
    "    {\"$project\": {\n",
    "        'rating': '$imdb.rating',\n",
    "        \"year\": \"$year\",\n",
    "        \"wins\": \"$awards.wins\",\n",
    "        \"nominations\": \"$awards.nominations\",\n",
    "        \"actors_count\": {\"$size\": \"$actors\"},\n",
    "        \"genre\": {\"$arrayElemAt\": [\"$genres\", 0]}\n",
    "    }}\n",
    "]))"
   ]
  },
  {
   "cell_type": "code",
   "execution_count": null,
   "metadata": {},
   "outputs": [],
   "source": [
    "df = pd.DataFrame(data)"
   ]
  },
  {
   "cell_type": "code",
   "execution_count": null,
   "metadata": {},
   "outputs": [],
   "source": [
    "df"
   ]
  },
  {
   "cell_type": "code",
   "execution_count": null,
   "metadata": {},
   "outputs": [],
   "source": [
    "df = df[['actors_count','nominations', 'rating', 'wins', 'year', \"genre\"]]"
   ]
  },
  {
   "cell_type": "code",
   "execution_count": null,
   "metadata": {},
   "outputs": [],
   "source": [
    "df"
   ]
  },
  {
   "cell_type": "code",
   "execution_count": null,
   "metadata": {},
   "outputs": [],
   "source": [
    "sns.set(style=\"ticks\")\n",
    "g = sns.pairplot(df)"
   ]
  },
  {
   "cell_type": "code",
   "execution_count": null,
   "metadata": {},
   "outputs": [],
   "source": []
  }
 ],
 "metadata": {
  "kernelspec": {
   "display_name": "Python 3 (ipykernel)",
   "language": "python",
   "name": "python3"
  },
  "language_info": {
   "codemirror_mode": {
    "name": "ipython",
    "version": 3
   },
   "file_extension": ".py",
   "mimetype": "text/x-python",
   "name": "python",
   "nbconvert_exporter": "python",
   "pygments_lexer": "ipython3",
   "version": "3.9.8"
  }
 },
 "nbformat": 4,
 "nbformat_minor": 2
}
