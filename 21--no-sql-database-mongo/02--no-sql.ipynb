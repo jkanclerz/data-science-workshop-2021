{
 "cells": [
  {
   "cell_type": "markdown",
   "metadata": {},
   "source": [
    "SQL vs noSql databases\n",
    "\n",
    "![](../images/sqlvsmongo.png)\n",
    "\n",
    "| field   |      1974      |  2014 |\n",
    "|----------|:-------------:|------:|\n",
    "| Business Data Goals |  daily transactions, nightly raports | continues, realtime |\n",
    "| Release Schedule |    Semi-Annually   |   continues |\n",
    "\n",
    "    \n",
    "    \n",
    "\n",
    "Document databases\n",
    "------------------\n",
    "\n",
    "* What is document\n",
    "    * What is not\n",
    "        Not pdf, or .doc or docx or excel\n",
    "    * More like\n",
    "        * associative array\n",
    "        * Document == Json Object\n",
    "        * Document == Python Dict\n",
    "        * Document == Java Map\n",
    "        * Document == Ruby Hash\n",
    "\n",
    "props\n",
    "------\n",
    "* TIME TO MARKET\n",
    "* Flexible SCHAMA\n",
    "* No Schema manipulation when data changes\n",
    "* Oriented toward programmers\n",
    "* Flexible deployment\n",
    "    * Laptop\n",
    "    * server\n",
    "    * multiple servers\n",
    "    * SAAS\n",
    "* Aggregation framework\n",
    "\n",
    "\n"
   ]
  },
  {
   "cell_type": "code",
   "execution_count": null,
   "metadata": {},
   "outputs": [],
   "source": []
  }
 ],
 "metadata": {
  "kernelspec": {
   "display_name": "Python 3 (ipykernel)",
   "language": "python",
   "name": "python3"
  },
  "language_info": {
   "codemirror_mode": {
    "name": "ipython",
    "version": 3
   },
   "file_extension": ".py",
   "mimetype": "text/x-python",
   "name": "python",
   "nbconvert_exporter": "python",
   "pygments_lexer": "ipython3",
   "version": "3.9.8"
  }
 },
 "nbformat": 4,
 "nbformat_minor": 4
}
