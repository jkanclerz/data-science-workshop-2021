{
 "cells": [
  {
   "cell_type": "markdown",
   "metadata": {},
   "source": [
    "[![Open In Colab](https://colab.research.google.com/assets/colab-badge.svg)](https://githubtocolab.com/jkanclerz/data-science-workshop-2021/blob/main/21--no-sql-database-mongo/05--document-database_mongodb--movies.ipynb)"
   ]
  },
  {
   "cell_type": "code",
   "execution_count": null,
   "metadata": {},
   "outputs": [],
   "source": [
    "!sudo apt install mongodb\n",
    "!sudo service mongodb start"
   ]
  },
  {
   "cell_type": "markdown",
   "metadata": {},
   "source": [
    "## datasample"
   ]
  },
  {
   "cell_type": "code",
   "execution_count": null,
   "metadata": {},
   "outputs": [],
   "source": [
    "!mkdir -p var\n",
    "!wget https://github.com/SouthbankSoftware/dbkoda-data/raw/master/SampleCollections/dump/SampleCollections/video_movies.bson -O var/video_movies.bson\n",
    "!wget https://github.com/SouthbankSoftware/dbkoda-data/raw/master/SampleCollections/dump/SampleCollections/video_movieDetails.bson -O var/video_movieDetails.bson\n",
    "!mongorestore --db datascience --drop --collection movies var/video_movieDetails.bson\n",
    "!mongorestore --db datascience --drop --collection films var/video_movies.bson"
   ]
  },
  {
   "cell_type": "markdown",
   "metadata": {},
   "source": [
    "Queries"
   ]
  },
  {
   "cell_type": "markdown",
   "metadata": {},
   "source": [
    "```json\n",
    "{\n",
    "     \"_id\" : ObjectId(\"5b107bec1d2952d0da904dd7\"),\n",
    "     \"title\" : \"Titan A.E.\",\n",
    "     \"year\" : 2000,\n",
    "     \"rated\" : \"PG\",\n",
    "     \"runtime\" : 94,\n",
    "     \"countries\" : [\n",
    "             \"USA\"\n",
    "     ],\n",
    "     \"genres\" : [\n",
    "             \"Animation\",\n",
    "             \"Action\",\n",
    "             \"Adventure\"\n",
    "     ],\n",
    "     \"director\" : \"Don Bluth, Gary Goldman, Art Vitello\",\n",
    "     \"writers\" : [\n",
    "             \"Hans Bauer\",\n",
    "             \"Randall McCormick\",\n",
    "             \"Ben Edlund\",\n",
    "             \"John August\",\n",
    "             \"Joss Whedon\"\n",
    "     ],\n",
    "     \"actors\" : [\n",
    "             \"Matt Damon\",\n",
    "             \"Bill Pullman\",\n",
    "             \"John Leguizamo\",\n",
    "             \"Nathan Lane\"\n",
    "     ],\n",
    "     \"plot\" : \"A young man learns that he has to find a hidden Earth ship before an enemy alien species does in order to secure the survival of humanity.\",\n",
    "     \"poster\" : \"http://ia.media-imdb.com/images/M/MV5BMjE0NTU0ODg4NV5BMl5BanBnXkFtZTcwNzY3MTQyMQ@@._V1_SX300.jpg\",\n",
    "     \"imdb\" : {\n",
    "             \"id\" : \"tt0120913\",\n",
    "             \"rating\" : 6.6,\n",
    "             \"votes\" : 50875\n",
    "     },\n",
    "     \"tomato\" : {\n",
    "             \"meter\" : 52,\n",
    "             \"image\" : \"rotten\",\n",
    "             \"rating\" : 5.7,\n",
    "             \"reviews\" : 99,\n",
    "             \"fresh\" : 51,\n",
    "             \"consensus\" : \"Great visuals, but the story feels like a cut-and-paste job of other sci-fi movies.\",\n",
    "             \"userMeter\" : 60,\n",
    "             \"userRating\" : 3.2,\n",
    "             \"userReviews\" : 69055\n",
    "     },\n",
    "     \"metacritic\" : 48,\n",
    "     \"awards\" : {\n",
    "             \"wins\" : 1,\n",
    "             \"nominations\" : 7,\n",
    "             \"text\" : \"1 win & 7 nominations.\"\n",
    "     },\n",
    "     \"type\" : \"movie\"\n",
    "}\n",
    "```"
   ]
  },
  {
   "cell_type": "code",
   "execution_count": null,
   "metadata": {},
   "outputs": [],
   "source": [
    "#Connect to database\n",
    "!pip install pymongo"
   ]
  },
  {
   "cell_type": "code",
   "execution_count": null,
   "metadata": {},
   "outputs": [],
   "source": [
    "from pymongo import MongoClient\n",
    "from pprint import pprint as pp\n",
    "client = MongoClient('mongodb://localhost:27017')"
   ]
  },
  {
   "cell_type": "code",
   "execution_count": null,
   "metadata": {},
   "outputs": [],
   "source": [
    "db = client.datascience"
   ]
  },
  {
   "cell_type": "markdown",
   "metadata": {},
   "source": [
    "Movie titles with rating over 8.5"
   ]
  },
  {
   "cell_type": "code",
   "execution_count": null,
   "metadata": {},
   "outputs": [],
   "source": [
    "pp(next(db.movies.find(\n",
    "    {},\n",
    "    {\"title\": 1, \"imdb.rating\": 1}\n",
    ")))"
   ]
  },
  {
   "cell_type": "markdown",
   "metadata": {},
   "source": [
    "Operators\n",
    "---------\n",
    "distinguished with $\n",
    "\n",
    "* Inequality\n",
    "    - \\$gt\n",
    "    - \\$lt\n",
    "    - \\$gte\n",
    "    - \\$lte\n",
    "    - \\$ne\n"
   ]
  },
  {
   "cell_type": "code",
   "execution_count": null,
   "metadata": {},
   "outputs": [],
   "source": [
    "pp(next(db.movies.find(\n",
    "    {\"imdb.rating\": {\"$gt\": 8.9}},\n",
    "    {\"title\": 1, \"imdb.rating\": 1}\n",
    ")))"
   ]
  },
  {
   "cell_type": "code",
   "execution_count": null,
   "metadata": {},
   "outputs": [],
   "source": [
    "pp(next(db.movies.find(\n",
    "    {\"imdb.rating\": {\"$gt\": 8.9, \"$lt\": 9.5}},\n",
    "    {\"title\": 1, \"imdb.rating\": 1}\n",
    ")))"
   ]
  },
  {
   "cell_type": "markdown",
   "metadata": {},
   "source": [
    "how many movies are over 9 in our collection"
   ]
  },
  {
   "cell_type": "code",
   "execution_count": null,
   "metadata": {},
   "outputs": [],
   "source": [
    "movies_count = 0\n",
    "\n",
    "for movie in db.movies.find(\n",
    "    {\"imdb.rating\": {\"$gt\": 8.9, \"$lt\": 9.5}},\n",
    "    {\"title\": 1, \"imdb.rating\": 1}\n",
    "):\n",
    "    movies_count += 1\n",
    "\n",
    "print(\"There is {} movies rated over 9.0\".format(movies_count))"
   ]
  },
  {
   "cell_type": "markdown",
   "metadata": {},
   "source": [
    "exists field"
   ]
  },
  {
   "cell_type": "code",
   "execution_count": null,
   "metadata": {},
   "outputs": [],
   "source": [
    "def count_results(cursor):\n",
    "    count = 0\n",
    "    for item in cursor:\n",
    "        count += 1\n",
    "    return count"
   ]
  },
  {
   "cell_type": "code",
   "execution_count": null,
   "metadata": {},
   "outputs": [],
   "source": [
    "count_results(db.movies.find(\n",
    "    {\"tomato\": {\"$exists\": 1}},\n",
    "    {\"title\": 1, \"imdb.rating\": 1}\n",
    "))"
   ]
  },
  {
   "cell_type": "code",
   "execution_count": null,
   "metadata": {},
   "outputs": [],
   "source": [
    "count_results(db.movies.find(\n",
    "    {\"tomato\": {\"$exists\": 0}},\n",
    "    {\"title\": 1, \"imdb.rating\": 1}\n",
    "))"
   ]
  },
  {
   "cell_type": "markdown",
   "metadata": {},
   "source": [
    "regex Operator\n",
    "--------------\n"
   ]
  },
  {
   "cell_type": "code",
   "execution_count": null,
   "metadata": {},
   "outputs": [],
   "source": [
    "count_results(db.movies.find(\n",
    "    {\"title\": {\"$regex\": \"super\"}},\n",
    "    {\"title\": 1, \"imdb.rating\": 1}\n",
    "))"
   ]
  },
  {
   "cell_type": "code",
   "execution_count": null,
   "metadata": {},
   "outputs": [],
   "source": [
    "count_results(db.movies.find(\n",
    "    {\"title\": {\"$regex\": \"[Ss]uper\"}},\n",
    "    {\"title\": 1, \"imdb.rating\": 1}\n",
    "))"
   ]
  },
  {
   "cell_type": "code",
   "execution_count": null,
   "metadata": {},
   "outputs": [],
   "source": [
    "count_results(db.movies.find(\n",
    "    {\"title\": {\"$regex\": \"super\", \"$options\": 'i'}},\n",
    "    {\"title\": 1, \"imdb.rating\": 1}\n",
    "))"
   ]
  },
  {
   "cell_type": "code",
   "execution_count": null,
   "metadata": {},
   "outputs": [],
   "source": [
    "pp(list(map(lambda x: x['title'],db.movieDetails.find(\n",
    "    {\"title\": {\"$regex\": \"super|hero\", \"$options\": 'i'}},\n",
    "    {\"title\": 1, \"imdb.rating\": 1}\n",
    "))))"
   ]
  },
  {
   "cell_type": "code",
   "execution_count": null,
   "metadata": {},
   "outputs": [],
   "source": [
    "count_results(db.movies.find(\n",
    "    {\"imdb.rating\": {\"$gt\": 9}, \"year\": {\"$in\": list(range(2008, 2019, 1))}},\n",
    "    {\"title\": 1, \"imdb.rating\": 1}\n",
    "))"
   ]
  },
  {
   "cell_type": "markdown",
   "metadata": {},
   "source": [
    "Sadly there is no movies rated over 9 after 2009"
   ]
  },
  {
   "cell_type": "code",
   "execution_count": null,
   "metadata": {},
   "outputs": [],
   "source": [
    "db.movies.count_documents(\n",
    "    {\"title\": {\"$regex\": \"super|hero\", \"$options\": 'i'}}\n",
    ")"
   ]
  },
  {
   "cell_type": "code",
   "execution_count": null,
   "metadata": {},
   "outputs": [],
   "source": []
  }
 ],
 "metadata": {
  "kernelspec": {
   "display_name": "Python 3 (ipykernel)",
   "language": "python",
   "name": "python3"
  },
  "language_info": {
   "codemirror_mode": {
    "name": "ipython",
    "version": 3
   },
   "file_extension": ".py",
   "mimetype": "text/x-python",
   "name": "python",
   "nbconvert_exporter": "python",
   "pygments_lexer": "ipython3",
   "version": "3.9.8"
  }
 },
 "nbformat": 4,
 "nbformat_minor": 2
}
