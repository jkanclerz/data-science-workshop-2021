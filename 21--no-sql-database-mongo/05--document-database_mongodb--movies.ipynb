{
 "cells": [
  {
   "cell_type": "markdown",
   "metadata": {},
   "source": [
    "[![Open In Colab](https://colab.research.google.com/assets/colab-badge.svg)](https://githubtocolab.com/jkanclerz/data-science-workshop-2021/blob/main/21--no-sql-database-mongo/05--document-database_mongodb--movies.ipynb)"
   ]
  },
  {
   "cell_type": "code",
   "execution_count": 1,
   "metadata": {},
   "outputs": [
    {
     "name": "stdout",
     "output_type": "stream",
     "text": [
      "Unable to locate an executable at \"/Library/Java/JavaVirtualMachines/adoptopenjdk-11.jdk/Contents/Home/bin/apt\" (-1)\n",
      "sudo: service: command not found\n"
     ]
    }
   ],
   "source": [
    "!sudo apt install mongodb\n",
    "!sudo service mongodb start"
   ]
  },
  {
   "cell_type": "markdown",
   "metadata": {},
   "source": [
    "## datasample"
   ]
  },
  {
   "cell_type": "code",
   "execution_count": 2,
   "metadata": {},
   "outputs": [
    {
     "name": "stdout",
     "output_type": "stream",
     "text": [
      "--2021-11-20 11:23:39--  https://github.com/SouthbankSoftware/dbkoda-data/raw/master/SampleCollections/dump/SampleCollections/video_movies.bson\n",
      "Resolving github.com (github.com)... 140.82.121.3\n",
      "Connecting to github.com (github.com)|140.82.121.3|:443... connected.\n",
      "HTTP request sent, awaiting response... 302 Found\n",
      "Location: https://raw.githubusercontent.com/SouthbankSoftware/dbkoda-data/master/SampleCollections/dump/SampleCollections/video_movies.bson [following]\n",
      "--2021-11-20 11:23:39--  https://raw.githubusercontent.com/SouthbankSoftware/dbkoda-data/master/SampleCollections/dump/SampleCollections/video_movies.bson\n",
      "Resolving raw.githubusercontent.com (raw.githubusercontent.com)... 185.199.109.133, 185.199.110.133, 185.199.111.133, ...\n",
      "Connecting to raw.githubusercontent.com (raw.githubusercontent.com)|185.199.109.133|:443... connected.\n",
      "HTTP request sent, awaiting response... 200 OK\n",
      "Length: 343355 (335K) [application/octet-stream]\n",
      "Saving to: ‘var/video_movies.bson’\n",
      "\n",
      "var/video_movies.bs 100%[===================>] 335.31K  --.-KB/s    in 0.09s   \n",
      "\n",
      "2021-11-20 11:23:39 (3.71 MB/s) - ‘var/video_movies.bson’ saved [343355/343355]\n",
      "\n",
      "--2021-11-20 11:23:40--  https://github.com/SouthbankSoftware/dbkoda-data/raw/master/SampleCollections/dump/SampleCollections/video_movieDetails.bson\n",
      "Resolving github.com (github.com)... 140.82.121.3\n",
      "Connecting to github.com (github.com)|140.82.121.3|:443... connected.\n",
      "HTTP request sent, awaiting response... 302 Found\n",
      "Location: https://raw.githubusercontent.com/SouthbankSoftware/dbkoda-data/master/SampleCollections/dump/SampleCollections/video_movieDetails.bson [following]\n",
      "--2021-11-20 11:23:40--  https://raw.githubusercontent.com/SouthbankSoftware/dbkoda-data/master/SampleCollections/dump/SampleCollections/video_movieDetails.bson\n",
      "Resolving raw.githubusercontent.com (raw.githubusercontent.com)... 185.199.110.133, 185.199.111.133, 185.199.108.133, ...\n",
      "Connecting to raw.githubusercontent.com (raw.githubusercontent.com)|185.199.110.133|:443... connected.\n",
      "HTTP request sent, awaiting response... 200 OK\n",
      "Length: 1564249 (1.5M) [application/octet-stream]\n",
      "Saving to: ‘var/video_movieDetails’\n",
      "\n",
      "var/video_movieDeta 100%[===================>]   1.49M  7.18MB/s    in 0.2s    \n",
      "\n",
      "2021-11-20 11:23:41 (7.18 MB/s) - ‘var/video_movieDetails’ saved [1564249/1564249]\n",
      "\n"
     ]
    }
   ],
   "source": [
    "!mkdir -p var\n",
    "!wget https://github.com/SouthbankSoftware/dbkoda-data/raw/master/SampleCollections/dump/SampleCollections/video_movies.bson -O var/video_movies.bson\n",
    "!wget https://github.com/SouthbankSoftware/dbkoda-data/raw/master/SampleCollections/dump/SampleCollections/video_movieDetails.bson -O var/video_movieDetails\n",
    "!mongorestore --db datascience --drop --collection movies  \n",
    "!mongorestore --db datascience --drop --collection films video.bson\"    "
   ]
  },
  {
   "cell_type": "markdown",
   "metadata": {},
   "source": [
    "Queries"
   ]
  },
  {
   "cell_type": "markdown",
   "metadata": {},
   "source": [
    "```json\n",
    "{\n",
    "     \"_id\" : ObjectId(\"5b107bec1d2952d0da904dd7\"),\n",
    "     \"title\" : \"Titan A.E.\",\n",
    "     \"year\" : 2000,\n",
    "     \"rated\" : \"PG\",\n",
    "     \"runtime\" : 94,\n",
    "     \"countries\" : [\n",
    "             \"USA\"\n",
    "     ],\n",
    "     \"genres\" : [\n",
    "             \"Animation\",\n",
    "             \"Action\",\n",
    "             \"Adventure\"\n",
    "     ],\n",
    "     \"director\" : \"Don Bluth, Gary Goldman, Art Vitello\",\n",
    "     \"writers\" : [\n",
    "             \"Hans Bauer\",\n",
    "             \"Randall McCormick\",\n",
    "             \"Ben Edlund\",\n",
    "             \"John August\",\n",
    "             \"Joss Whedon\"\n",
    "     ],\n",
    "     \"actors\" : [\n",
    "             \"Matt Damon\",\n",
    "             \"Bill Pullman\",\n",
    "             \"John Leguizamo\",\n",
    "             \"Nathan Lane\"\n",
    "     ],\n",
    "     \"plot\" : \"A young man learns that he has to find a hidden Earth ship before an enemy alien species does in order to secure the survival of humanity.\",\n",
    "     \"poster\" : \"http://ia.media-imdb.com/images/M/MV5BMjE0NTU0ODg4NV5BMl5BanBnXkFtZTcwNzY3MTQyMQ@@._V1_SX300.jpg\",\n",
    "     \"imdb\" : {\n",
    "             \"id\" : \"tt0120913\",\n",
    "             \"rating\" : 6.6,\n",
    "             \"votes\" : 50875\n",
    "     },\n",
    "     \"tomato\" : {\n",
    "             \"meter\" : 52,\n",
    "             \"image\" : \"rotten\",\n",
    "             \"rating\" : 5.7,\n",
    "             \"reviews\" : 99,\n",
    "             \"fresh\" : 51,\n",
    "             \"consensus\" : \"Great visuals, but the story feels like a cut-and-paste job of other sci-fi movies.\",\n",
    "             \"userMeter\" : 60,\n",
    "             \"userRating\" : 3.2,\n",
    "             \"userReviews\" : 69055\n",
    "     },\n",
    "     \"metacritic\" : 48,\n",
    "     \"awards\" : {\n",
    "             \"wins\" : 1,\n",
    "             \"nominations\" : 7,\n",
    "             \"text\" : \"1 win & 7 nominations.\"\n",
    "     },\n",
    "     \"type\" : \"movie\"\n",
    "}\n",
    "```"
   ]
  },
  {
   "cell_type": "code",
   "execution_count": 29,
   "metadata": {},
   "outputs": [
    {
     "name": "stdout",
     "output_type": "stream",
     "text": [
      "Requirement already satisfied: pymongo in /root/workspace/.venv/lib/python3.7/site-packages (3.10.1)\n",
      "\u001b[33mWARNING: You are using pip version 19.3.1; however, version 20.0.2 is available.\n",
      "You should consider upgrading via the 'pip install --upgrade pip' command.\u001b[0m\n"
     ]
    }
   ],
   "source": [
    "#Connect to database\n",
    "!pip install pymongo"
   ]
  },
  {
   "cell_type": "code",
   "execution_count": 30,
   "metadata": {},
   "outputs": [],
   "source": [
    "from pymongo import MongoClient\n",
    "from pprint import pprint as pp\n",
    "client = MongoClient('mongodb://localhost:27017')"
   ]
  },
  {
   "cell_type": "code",
   "execution_count": 31,
   "metadata": {},
   "outputs": [],
   "source": [
    "db = client.datascience"
   ]
  },
  {
   "cell_type": "markdown",
   "metadata": {},
   "source": [
    "Movie titles with rating over 8.5"
   ]
  },
  {
   "cell_type": "code",
   "execution_count": 32,
   "metadata": {},
   "outputs": [
    {
     "name": "stdout",
     "output_type": "stream",
     "text": [
      "{'_id': ObjectId('5692a13b24de1e0ce2dfcea8'),\n",
      " 'imdb': {'rating': 7.2},\n",
      " 'title': 'Planet Terror'}\n"
     ]
    }
   ],
   "source": [
    "pp(next(db.movies.find(\n",
    "    {},\n",
    "    {\"title\": 1, \"imdb.rating\": 1}\n",
    ")))"
   ]
  },
  {
   "cell_type": "markdown",
   "metadata": {},
   "source": [
    "Operators\n",
    "---------\n",
    "distinguished with $\n",
    "\n",
    "* Inequality\n",
    "    - \\$gt\n",
    "    - \\$lt\n",
    "    - \\$gte\n",
    "    - \\$lte\n",
    "    - \\$ne\n"
   ]
  },
  {
   "cell_type": "code",
   "execution_count": 33,
   "metadata": {},
   "outputs": [
    {
     "name": "stdout",
     "output_type": "stream",
     "text": [
      "{'_id': ObjectId('5692a27f24de1e0ce2dfd712'),\n",
      " 'imdb': {'rating': 9},\n",
      " 'title': 'Gamechangers Ep. 3: A Legend in the Booth'}\n"
     ]
    }
   ],
   "source": [
    "pp(next(db.movies.find(\n",
    "    {\"imdb.rating\": {\"$gt\": 8.9}},\n",
    "    {\"title\": 1, \"imdb.rating\": 1}\n",
    ")))"
   ]
  },
  {
   "cell_type": "code",
   "execution_count": 34,
   "metadata": {},
   "outputs": [
    {
     "name": "stdout",
     "output_type": "stream",
     "text": [
      "{'_id': ObjectId('5692a27f24de1e0ce2dfd712'),\n",
      " 'imdb': {'rating': 9},\n",
      " 'title': 'Gamechangers Ep. 3: A Legend in the Booth'}\n"
     ]
    }
   ],
   "source": [
    "pp(next(db.movies.find(\n",
    "    {\"imdb.rating\": {\"$gt\": 8.9, \"$lt\": 9.5}},\n",
    "    {\"title\": 1, \"imdb.rating\": 1}\n",
    ")))"
   ]
  },
  {
   "cell_type": "markdown",
   "metadata": {},
   "source": [
    "how many movies are over 9 in our collection"
   ]
  },
  {
   "cell_type": "code",
   "execution_count": 35,
   "metadata": {},
   "outputs": [
    {
     "name": "stdout",
     "output_type": "stream",
     "text": [
      "There is 8 movies rated over 9.0\n"
     ]
    }
   ],
   "source": [
    "movies_count = 0\n",
    "\n",
    "for movie in db.movies.find(\n",
    "    {\"imdb.rating\": {\"$gt\": 8.9, \"$lt\": 9.5}},\n",
    "    {\"title\": 1, \"imdb.rating\": 1}\n",
    "):\n",
    "    movies_count += 1\n",
    "\n",
    "print(\"There is {} movies rated over 9.0\".format(movies_count))"
   ]
  },
  {
   "cell_type": "markdown",
   "metadata": {},
   "source": [
    "exists field"
   ]
  },
  {
   "cell_type": "code",
   "execution_count": 36,
   "metadata": {},
   "outputs": [],
   "source": [
    "def count_results(cursor):\n",
    "    count = 0\n",
    "    for item in cursor:\n",
    "        count += 1\n",
    "    return count"
   ]
  },
  {
   "cell_type": "code",
   "execution_count": 37,
   "metadata": {},
   "outputs": [
    {
     "data": {
      "text/plain": [
       "376"
      ]
     },
     "execution_count": 37,
     "metadata": {},
     "output_type": "execute_result"
    }
   ],
   "source": [
    "count_results(db.movies.find(\n",
    "    {\"tomato\": {\"$exists\": 1}},\n",
    "    {\"title\": 1, \"imdb.rating\": 1}\n",
    "))"
   ]
  },
  {
   "cell_type": "code",
   "execution_count": 38,
   "metadata": {},
   "outputs": [
    {
     "data": {
      "text/plain": [
       "1919"
      ]
     },
     "execution_count": 38,
     "metadata": {},
     "output_type": "execute_result"
    }
   ],
   "source": [
    "count_results(db.movies.find(\n",
    "    {\"tomato\": {\"$exists\": 0}},\n",
    "    {\"title\": 1, \"imdb.rating\": 1}\n",
    "))"
   ]
  },
  {
   "cell_type": "markdown",
   "metadata": {},
   "source": [
    "regex Operator\n",
    "--------------\n"
   ]
  },
  {
   "cell_type": "code",
   "execution_count": 39,
   "metadata": {},
   "outputs": [
    {
     "data": {
      "text/plain": [
       "0"
      ]
     },
     "execution_count": 39,
     "metadata": {},
     "output_type": "execute_result"
    }
   ],
   "source": [
    "count_results(db.movies.find(\n",
    "    {\"title\": {\"$regex\": \"super\"}},\n",
    "    {\"title\": 1, \"imdb.rating\": 1}\n",
    "))"
   ]
  },
  {
   "cell_type": "code",
   "execution_count": 40,
   "metadata": {},
   "outputs": [
    {
     "data": {
      "text/plain": [
       "6"
      ]
     },
     "execution_count": 40,
     "metadata": {},
     "output_type": "execute_result"
    }
   ],
   "source": [
    "count_results(db.movies.find(\n",
    "    {\"title\": {\"$regex\": \"[Ss]uper\"}},\n",
    "    {\"title\": 1, \"imdb.rating\": 1}\n",
    "))"
   ]
  },
  {
   "cell_type": "code",
   "execution_count": 41,
   "metadata": {},
   "outputs": [
    {
     "data": {
      "text/plain": [
       "6"
      ]
     },
     "execution_count": 41,
     "metadata": {},
     "output_type": "execute_result"
    }
   ],
   "source": [
    "count_results(db.movies.find(\n",
    "    {\"title\": {\"$regex\": \"super\", \"$options\": 'i'}},\n",
    "    {\"title\": 1, \"imdb.rating\": 1}\n",
    "))"
   ]
  },
  {
   "cell_type": "code",
   "execution_count": 42,
   "metadata": {},
   "outputs": [
    {
     "name": "stdout",
     "output_type": "stream",
     "text": [
      "[]\n"
     ]
    }
   ],
   "source": [
    "pp(list(map(lambda x: x['title'],db.movieDetails.find(\n",
    "    {\"title\": {\"$regex\": \"super|hero\", \"$options\": 'i'}},\n",
    "    {\"title\": 1, \"imdb.rating\": 1}\n",
    "))))"
   ]
  },
  {
   "cell_type": "code",
   "execution_count": 43,
   "metadata": {},
   "outputs": [
    {
     "data": {
      "text/plain": [
       "0"
      ]
     },
     "execution_count": 43,
     "metadata": {},
     "output_type": "execute_result"
    }
   ],
   "source": [
    "count_results(db.movies.find(\n",
    "    {\"imdb.rating\": {\"$gt\": 9}, \"year\": {\"$in\": list(range(2008, 2019, 1))}},\n",
    "    {\"title\": 1, \"imdb.rating\": 1}\n",
    "))"
   ]
  },
  {
   "cell_type": "markdown",
   "metadata": {},
   "source": [
    "Sadly there is no movies rated over 9 after 2009"
   ]
  },
  {
   "cell_type": "code",
   "execution_count": 44,
   "metadata": {},
   "outputs": [
    {
     "name": "stderr",
     "output_type": "stream",
     "text": [
      "/root/workspace/.venv/lib/python3.7/site-packages/ipykernel_launcher.py:3: DeprecationWarning: count is deprecated. Use Collection.count_documents instead.\n",
      "  This is separate from the ipykernel package so we can avoid doing imports until\n"
     ]
    },
    {
     "data": {
      "text/plain": [
       "9"
      ]
     },
     "execution_count": 44,
     "metadata": {},
     "output_type": "execute_result"
    }
   ],
   "source": [
    "db.movies.find(\n",
    "    {\"title\": {\"$regex\": \"super|hero\", \"$options\": 'i'}},\n",
    "    {\"title\": 1, \"imdb.rating\": 1}\n",
    ").count()"
   ]
  },
  {
   "cell_type": "code",
   "execution_count": null,
   "metadata": {},
   "outputs": [],
   "source": []
  }
 ],
 "metadata": {
  "kernelspec": {
   "display_name": "Python 3 (ipykernel)",
   "language": "python",
   "name": "python3"
  },
  "language_info": {
   "codemirror_mode": {
    "name": "ipython",
    "version": 3
   },
   "file_extension": ".py",
   "mimetype": "text/x-python",
   "name": "python",
   "nbconvert_exporter": "python",
   "pygments_lexer": "ipython3",
   "version": "3.9.8"
  }
 },
 "nbformat": 4,
 "nbformat_minor": 2
}
