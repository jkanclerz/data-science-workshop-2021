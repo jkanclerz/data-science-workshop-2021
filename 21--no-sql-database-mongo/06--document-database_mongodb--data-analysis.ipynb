{
 "cells": [
  {
   "cell_type": "markdown",
   "metadata": {},
   "source": [
    "[![Open In Colab](https://colab.research.google.com/assets/colab-badge.svg)](https://githubtocolab.com/jkanclerz/data-science-workshop-2021/blob/main/21--no-sql-database-mongo/06--document-database_mongodb--data-analysis.ipynb)"
   ]
  },
  {
   "cell_type": "code",
   "execution_count": null,
   "metadata": {},
   "outputs": [],
   "source": [
    "!sudo apt install mongodb\n",
    "!sudo service mongodb start"
   ]
  },
  {
   "cell_type": "code",
   "execution_count": null,
   "metadata": {},
   "outputs": [],
   "source": [
    "!mkdir -p var\n",
    "!wget https://github.com/SouthbankSoftware/dbkoda-data/raw/master/SampleCollections/dump/SampleCollections/video_movies.bson -O var/video_movies.bson\n",
    "!wget https://github.com/SouthbankSoftware/dbkoda-data/raw/master/SampleCollections/dump/SampleCollections/video_movieDetails.bson -O var/video_movieDetails.bson\n",
    "!mongorestore --db datascience --drop --collection movies var/video_movieDetails.bson\n",
    "!mongorestore --db datascience --drop --collection films var/video_movies.bson"
   ]
  },
  {
   "cell_type": "markdown",
   "metadata": {},
   "source": [
    "Aggregation framework"
   ]
  },
  {
   "cell_type": "markdown",
   "metadata": {},
   "source": [
    "```json\n",
    "{\n",
    "     \"_id\" : ObjectId(\"5b107bec1d2952d0da904dd7\"),\n",
    "     \"title\" : \"Titan A.E.\",\n",
    "     \"year\" : 2000,\n",
    "     \"rated\" : \"PG\",\n",
    "     \"runtime\" : 94,\n",
    "     \"countries\" : [\n",
    "             \"USA\"\n",
    "     ],\n",
    "     \"genres\" : [\n",
    "             \"Animation\",\n",
    "             \"Action\",\n",
    "             \"Adventure\"\n",
    "     ],\n",
    "     \"director\" : \"Don Bluth, Gary Goldman, Art Vitello\",\n",
    "     \"writers\" : [\n",
    "             \"Hans Bauer\",\n",
    "             \"Randall McCormick\",\n",
    "             \"Ben Edlund\",\n",
    "             \"John August\",\n",
    "             \"Joss Whedon\"\n",
    "     ],\n",
    "     \"actors\" : [\n",
    "             \"Matt Damon\",\n",
    "             \"Bill Pullman\",\n",
    "             \"John Leguizamo\",\n",
    "             \"Nathan Lane\"\n",
    "     ],\n",
    "     \"plot\" : \"A young man learns that he has to find a hidden Earth ship before an enemy alien species does in order to secure the survival of humanity.\",\n",
    "     \"poster\" : \"http://ia.media-imdb.com/images/M/MV5BMjE0NTU0ODg4NV5BMl5BanBnXkFtZTcwNzY3MTQyMQ@@._V1_SX300.jpg\",\n",
    "     \"imdb\" : {\n",
    "             \"id\" : \"tt0120913\",\n",
    "             \"rating\" : 6.6,\n",
    "             \"votes\" : 50875\n",
    "     },\n",
    "     \"tomato\" : {\n",
    "             \"meter\" : 52,\n",
    "             \"image\" : \"rotten\",\n",
    "             \"rating\" : 5.7,\n",
    "             \"reviews\" : 99,\n",
    "             \"fresh\" : 51,\n",
    "             \"consensus\" : \"Great visuals, but the story feels like a cut-and-paste job of other sci-fi movies.\",\n",
    "             \"userMeter\" : 60,\n",
    "             \"userRating\" : 3.2,\n",
    "             \"userReviews\" : 69055\n",
    "     },\n",
    "     \"metacritic\" : 48,\n",
    "     \"awards\" : {\n",
    "             \"wins\" : 1,\n",
    "             \"nominations\" : 7,\n",
    "             \"text\" : \"1 win & 7 nominations.\"\n",
    "     },\n",
    "     \"type\" : \"movie\"\n",
    "}\n",
    "```"
   ]
  },
  {
   "cell_type": "code",
   "execution_count": null,
   "metadata": {},
   "outputs": [],
   "source": [
    "#Connect to database\n",
    "!pip install pymongo"
   ]
  },
  {
   "cell_type": "code",
   "execution_count": null,
   "metadata": {},
   "outputs": [],
   "source": [
    "from pymongo import MongoClient\n",
    "from pprint import pprint as pp\n",
    "client = MongoClient('mongodb://localhost:27017')"
   ]
  },
  {
   "cell_type": "code",
   "execution_count": null,
   "metadata": {},
   "outputs": [],
   "source": [
    "db = client.datascience"
   ]
  },
  {
   "cell_type": "markdown",
   "metadata": {},
   "source": [
    "agregation operators\n",
    "----------------------\n",
    "\n",
    "* \\$project -> schape\n",
    "\n",
    "\n",
    "```json\n",
    "{\n",
    " \"title\" : \"Titan A.E.\",\n",
    " \"year\" : 2000,\n",
    " \"imdb\" : {\n",
    "             \"id\" : \"tt0120913\",\n",
    "             \"rating\" : 6.6,\n",
    "             \"votes\" : 50875\n",
    "     }\n",
    "}\n",
    "```\n",
    "\n",
    "```json\n",
    "{\n",
    " \"title\" : \"Titan A.E.\",\n",
    " \"year\" : 2000,\n",
    " \"rating\" : 6.6\n",
    "}\n",
    "```\n",
    "\n",
    "* \\$match -> filtering\n",
    "* \\$group\n",
    "* \\$sort\n",
    "* \\$skip\n",
    "* \\$limit\n",
    "* \\$unwind\n",
    "\n",
    "```json\n",
    "{\n",
    " \"title\" : \"Titan A.E.\",\n",
    " \"year\" : 2000,\n",
    " \"actors\" : [\n",
    "     \"Matt Damon\",\n",
    "     \"Bill Pullman\",\n",
    "     \"John Leguizamo\"\n",
    " ],\n",
    "}\n",
    "```\n",
    "unwind result in\n",
    "```json\n",
    "{\n",
    " \"title\" : \"Titan A.E.\",\n",
    " \"year\" : 2000,\n",
    " \"actors\" : \"Matt Damon\"\n",
    "},\n",
    "{\n",
    " \"title\" : \"Titan A.E.\",\n",
    " \"year\" : 2000,\n",
    " \"actors\" : \"Bill Pullman\"\n",
    "},\n",
    "{\n",
    " \"title\" : \"Titan A.E.\",\n",
    " \"year\" : 2000,\n",
    " \"actors\" : \"John Leguizamo\"\n",
    "}\n",
    "```"
   ]
  },
  {
   "cell_type": "markdown",
   "metadata": {},
   "source": [
    "\n",
    "Which movie has the highest nomination to winning ratio?\n",
    "----------------------------------------------------"
   ]
  },
  {
   "cell_type": "code",
   "execution_count": null,
   "metadata": {},
   "outputs": [],
   "source": [
    "pp(db.movies.find().next())"
   ]
  },
  {
   "cell_type": "code",
   "execution_count": null,
   "metadata": {},
   "outputs": [],
   "source": [
    "pp(list(db.movies.aggregate([\n",
    "    {\"$match\": {\"awards\": {\"$exists\": \"1\"}}},\n",
    "    {\"$match\": {\"awards.wins\": {\"$gt\": 0}, \"awards.nominations\": {\"$gt\": 0}}},\n",
    "    {\n",
    "        \"$project\": {\n",
    "            \"title\": 1,\n",
    "            \"awards\": 1,\n",
    "            'rating': '$imdb.rating',\n",
    "            \"ratio\": {\n",
    "                \"$divide\": ['$awards.wins', '$awards.nominations']\n",
    "            }\n",
    "        }\n",
    "    },\n",
    "    {\"$sort\": {\"ratio\": -1}},\n",
    "    {\"$limit\": 2}\n",
    "])))"
   ]
  },
  {
   "cell_type": "markdown",
   "metadata": {},
   "source": [
    "Which actor has participated in the highest amount of movies?\n",
    "-------------------------------------------------------------\n"
   ]
  },
  {
   "cell_type": "code",
   "execution_count": null,
   "metadata": {},
   "outputs": [],
   "source": [
    "#single movie\n",
    "pp(list(db.movies.aggregate([\n",
    "    {\"$match\": {\"actors\": {\"$exists\": \"1\"}}},\n",
    "    {\"$unwind\": \"$actors\"},\n",
    "    {\"$project\": {\"actor\": \"$actors\"}},\n",
    "    {\"$sort\": {\"rating\": -1}},\n",
    "    {\"$limit\": 5}\n",
    "])))"
   ]
  },
  {
   "cell_type": "code",
   "execution_count": null,
   "metadata": {},
   "outputs": [],
   "source": [
    "pp(list(db.movies.aggregate([\n",
    "    {\"$match\": {\"actors\": {\"$exists\": \"1\"}}},\n",
    "    {\"$unwind\": \"$actors\"},\n",
    "    {\"$project\": {\"actor\": \"$actors\"}},\n",
    "    {\"$group\": {\"_id\": \"$actor\", \"count\": {\"$sum\": 1}}},\n",
    "    {\"$sort\": {\"count\": -1}},\n",
    "    {\"$limit\": 5}\n",
    "])))"
   ]
  },
  {
   "cell_type": "markdown",
   "metadata": {},
   "source": [
    "Whoo hoo Tom hanks and Natalie Portman taking the lead"
   ]
  },
  {
   "cell_type": "markdown",
   "metadata": {},
   "source": [
    "Which actor had highest average movie rating value?\n",
    "----------------------------------------------------"
   ]
  },
  {
   "cell_type": "code",
   "execution_count": null,
   "metadata": {},
   "outputs": [],
   "source": [
    "pp(list(db.movies.aggregate([\n",
    "    {\"$match\": {\"actors\": {\"$exists\": \"1\"}}},\n",
    "    {\"$unwind\": \"$actors\"},\n",
    "    {\"$project\": {\"actor\": \"$actors\", \"rating\": \"$imdb.rating\"}},\n",
    "    {\"$group\": {\"_id\": \"$actor\", \"avg_rating\": {\"$avg\": \"$rating\"}}},\n",
    "    {\"$sort\": {\"avg_rating\": -1}},\n",
    "    {\"$limit\": 5}\n",
    "])))"
   ]
  },
  {
   "cell_type": "markdown",
   "metadata": {},
   "source": [
    "hmm, are they one movie star?!"
   ]
  },
  {
   "cell_type": "code",
   "execution_count": null,
   "metadata": {},
   "outputs": [],
   "source": [
    "pp(list(db.movies.aggregate([\n",
    "    {\"$match\": {\"actors\": {\"$exists\": \"1\"}}},\n",
    "    {\"$unwind\": \"$actors\"},\n",
    "    {\"$project\": {\"actor\": \"$actors\", \"rating\": \"$imdb.rating\"}},\n",
    "    {\"$group\": {\"_id\": \"$actor\", \"avg_rating\": {\"$avg\": \"$rating\"}, \"count\": {\"$sum\": 1}}},\n",
    "    {\"$sort\": {\"avg_rating\": -1}},\n",
    "    {\"$limit\": 5}\n",
    "])))"
   ]
  },
  {
   "cell_type": "markdown",
   "metadata": {},
   "source": [
    "indeed, avg trap, lets check with at least 2 movies"
   ]
  },
  {
   "cell_type": "code",
   "execution_count": null,
   "metadata": {},
   "outputs": [],
   "source": [
    "pp(list(db.movies.aggregate([\n",
    "    {\"$match\": {\"actors\": {\"$exists\": \"1\"}}},\n",
    "    {\"$unwind\": \"$actors\"},\n",
    "    {\"$project\": {\"actor\": \"$actors\", \"rating\": \"$imdb.rating\"}},\n",
    "    {\"$group\": {\n",
    "        \"_id\": \"$actor\",\n",
    "        \"avg_rating\": {\n",
    "            \"$avg\": \"$rating\"\n",
    "        },\n",
    "        \"count\": {\n",
    "            \"$sum\": 1\n",
    "        },\n",
    "        \"max_score\": {\n",
    "            \"$max\": \"$rating\"\n",
    "        }\n",
    "    }},\n",
    "    {\"$match\": {\"count\": {\"$gt\": 2}}},\n",
    "    {\"$sort\": {\"avg_rating\": -1}},\n",
    "    {\"$limit\": 5}\n",
    "])))"
   ]
  },
  {
   "cell_type": "markdown",
   "metadata": {},
   "source": [
    "Hmm Harrison Ford !!! \n",
    "\n",
    "![](../images/ford.jpg)"
   ]
  },
  {
   "cell_type": "markdown",
   "metadata": {},
   "source": [
    "Grouping operators\n",
    "------------------\n",
    "* \\$first\n",
    "* \\$last\n",
    "* \\$max\n",
    "* \\$min\n",
    "* \\$avg"
   ]
  },
  {
   "cell_type": "code",
   "execution_count": null,
   "metadata": {},
   "outputs": [],
   "source": []
  }
 ],
 "metadata": {
  "kernelspec": {
   "display_name": "Python 3 (ipykernel)",
   "language": "python",
   "name": "python3"
  },
  "language_info": {
   "codemirror_mode": {
    "name": "ipython",
    "version": 3
   },
   "file_extension": ".py",
   "mimetype": "text/x-python",
   "name": "python",
   "nbconvert_exporter": "python",
   "pygments_lexer": "ipython3",
   "version": "3.9.8"
  }
 },
 "nbformat": 4,
 "nbformat_minor": 2
}
