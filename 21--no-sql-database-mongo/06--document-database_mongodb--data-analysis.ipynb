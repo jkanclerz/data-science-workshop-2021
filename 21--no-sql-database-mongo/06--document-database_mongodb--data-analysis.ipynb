{
 "cells": [
  {
   "cell_type": "markdown",
   "metadata": {},
   "source": [
    "[![Open In Colab](https://colab.research.google.com/assets/colab-badge.svg)](https://githubtocolab.com/jkanclerz/data-science-workshop-2021/blob/main/21--no-sql-database-mongo/06--document-database_mongodb--data-analysis.ipynb)"
   ]
  },
  {
   "cell_type": "code",
   "execution_count": 2,
   "metadata": {},
   "outputs": [
    {
     "name": "stdout",
     "output_type": "stream",
     "text": [
      "Unable to locate an executable at \"/Library/Java/JavaVirtualMachines/adoptopenjdk-11.jdk/Contents/Home/bin/apt\" (-1)\n",
      "sudo: service: command not found\n"
     ]
    }
   ],
   "source": [
    "!sudo apt install mongodb\n",
    "!sudo service mongodb start"
   ]
  },
  {
   "cell_type": "code",
   "execution_count": 3,
   "metadata": {},
   "outputs": [
    {
     "name": "stdout",
     "output_type": "stream",
     "text": [
      "--2021-11-20 11:36:22--  https://github.com/SouthbankSoftware/dbkoda-data/raw/master/SampleCollections/dump/SampleCollections/video_movies.bson\n",
      "Resolving github.com (github.com)... 140.82.121.4\n",
      "Connecting to github.com (github.com)|140.82.121.4|:443... connected.\n",
      "HTTP request sent, awaiting response... 302 Found\n",
      "Location: https://raw.githubusercontent.com/SouthbankSoftware/dbkoda-data/master/SampleCollections/dump/SampleCollections/video_movies.bson [following]\n",
      "--2021-11-20 11:36:22--  https://raw.githubusercontent.com/SouthbankSoftware/dbkoda-data/master/SampleCollections/dump/SampleCollections/video_movies.bson\n",
      "Resolving raw.githubusercontent.com (raw.githubusercontent.com)... 185.199.109.133, 185.199.110.133, 185.199.111.133, ...\n",
      "Connecting to raw.githubusercontent.com (raw.githubusercontent.com)|185.199.109.133|:443... connected.\n",
      "HTTP request sent, awaiting response... 200 OK\n",
      "Length: 343355 (335K) [application/octet-stream]\n",
      "Saving to: ‘var/video_movies.bson’\n",
      "\n",
      "var/video_movies.bs 100%[===================>] 335.31K  --.-KB/s    in 0.1s    \n",
      "\n",
      "2021-11-20 11:36:23 (2.23 MB/s) - ‘var/video_movies.bson’ saved [343355/343355]\n",
      "\n",
      "--2021-11-20 11:36:23--  https://github.com/SouthbankSoftware/dbkoda-data/raw/master/SampleCollections/dump/SampleCollections/video_movieDetails.bson\n",
      "Resolving github.com (github.com)... 140.82.121.4\n",
      "Connecting to github.com (github.com)|140.82.121.4|:443... connected.\n",
      "HTTP request sent, awaiting response... 302 Found\n",
      "Location: https://raw.githubusercontent.com/SouthbankSoftware/dbkoda-data/master/SampleCollections/dump/SampleCollections/video_movieDetails.bson [following]\n",
      "--2021-11-20 11:36:23--  https://raw.githubusercontent.com/SouthbankSoftware/dbkoda-data/master/SampleCollections/dump/SampleCollections/video_movieDetails.bson\n",
      "Resolving raw.githubusercontent.com (raw.githubusercontent.com)... 185.199.110.133, 185.199.111.133, 185.199.108.133, ...\n",
      "Connecting to raw.githubusercontent.com (raw.githubusercontent.com)|185.199.110.133|:443... connected.\n",
      "HTTP request sent, awaiting response... 200 OK\n",
      "Length: 1564249 (1.5M) [application/octet-stream]\n",
      "Saving to: ‘var/video_movieDetails.bson’\n",
      "\n",
      "var/video_movieDeta 100%[===================>]   1.49M  7.18MB/s    in 0.2s    \n",
      "\n",
      "2021-11-20 11:36:24 (7.18 MB/s) - ‘var/video_movieDetails.bson’ saved [1564249/1564249]\n",
      "\n",
      "/usr/local/bin/bash: line 1: mongorestore: command not found\n",
      "/usr/local/bin/bash: line 1: mongorestore: command not found\n"
     ]
    }
   ],
   "source": [
    "!mkdir -p var\n",
    "!wget https://github.com/SouthbankSoftware/dbkoda-data/raw/master/SampleCollections/dump/SampleCollections/video_movies.bson -O var/video_movies.bson\n",
    "!wget https://github.com/SouthbankSoftware/dbkoda-data/raw/master/SampleCollections/dump/SampleCollections/video_movieDetails.bson -O var/video_movieDetails.bson\n",
    "!mongorestore --db datascience --drop --collection movies var/video_movieDetails.bson\n",
    "!mongorestore --db datascience --drop --collection films var/video_movies.bson"
   ]
  },
  {
   "cell_type": "markdown",
   "metadata": {},
   "source": [
    "Aggregation framework"
   ]
  },
  {
   "cell_type": "markdown",
   "metadata": {},
   "source": [
    "```json\n",
    "{\n",
    "     \"_id\" : ObjectId(\"5b107bec1d2952d0da904dd7\"),\n",
    "     \"title\" : \"Titan A.E.\",\n",
    "     \"year\" : 2000,\n",
    "     \"rated\" : \"PG\",\n",
    "     \"runtime\" : 94,\n",
    "     \"countries\" : [\n",
    "             \"USA\"\n",
    "     ],\n",
    "     \"genres\" : [\n",
    "             \"Animation\",\n",
    "             \"Action\",\n",
    "             \"Adventure\"\n",
    "     ],\n",
    "     \"director\" : \"Don Bluth, Gary Goldman, Art Vitello\",\n",
    "     \"writers\" : [\n",
    "             \"Hans Bauer\",\n",
    "             \"Randall McCormick\",\n",
    "             \"Ben Edlund\",\n",
    "             \"John August\",\n",
    "             \"Joss Whedon\"\n",
    "     ],\n",
    "     \"actors\" : [\n",
    "             \"Matt Damon\",\n",
    "             \"Bill Pullman\",\n",
    "             \"John Leguizamo\",\n",
    "             \"Nathan Lane\"\n",
    "     ],\n",
    "     \"plot\" : \"A young man learns that he has to find a hidden Earth ship before an enemy alien species does in order to secure the survival of humanity.\",\n",
    "     \"poster\" : \"http://ia.media-imdb.com/images/M/MV5BMjE0NTU0ODg4NV5BMl5BanBnXkFtZTcwNzY3MTQyMQ@@._V1_SX300.jpg\",\n",
    "     \"imdb\" : {\n",
    "             \"id\" : \"tt0120913\",\n",
    "             \"rating\" : 6.6,\n",
    "             \"votes\" : 50875\n",
    "     },\n",
    "     \"tomato\" : {\n",
    "             \"meter\" : 52,\n",
    "             \"image\" : \"rotten\",\n",
    "             \"rating\" : 5.7,\n",
    "             \"reviews\" : 99,\n",
    "             \"fresh\" : 51,\n",
    "             \"consensus\" : \"Great visuals, but the story feels like a cut-and-paste job of other sci-fi movies.\",\n",
    "             \"userMeter\" : 60,\n",
    "             \"userRating\" : 3.2,\n",
    "             \"userReviews\" : 69055\n",
    "     },\n",
    "     \"metacritic\" : 48,\n",
    "     \"awards\" : {\n",
    "             \"wins\" : 1,\n",
    "             \"nominations\" : 7,\n",
    "             \"text\" : \"1 win & 7 nominations.\"\n",
    "     },\n",
    "     \"type\" : \"movie\"\n",
    "}\n",
    "```"
   ]
  },
  {
   "cell_type": "code",
   "execution_count": 1,
   "metadata": {},
   "outputs": [
    {
     "name": "stdout",
     "output_type": "stream",
     "text": [
      "Requirement already satisfied: pymongo in /Users/jkanclerz/myplace/dydaktyka/przetwarzanie-dokumnetow/data-science-workshops-2021/.venv/lib/python3.8/site-packages (3.11.1)\n",
      "\u001b[33mWARNING: You are using pip version 20.1.1; however, version 20.2.4 is available.\n",
      "You should consider upgrading via the '/Users/jkanclerz/myplace/dydaktyka/przetwarzanie-dokumnetow/data-science-workshops-2021/.venv/bin/python3 -m pip install --upgrade pip' command.\u001b[0m\n"
     ]
    }
   ],
   "source": [
    "#Connect to database\n",
    "!pip install pymongo"
   ]
  },
  {
   "cell_type": "code",
   "execution_count": 2,
   "metadata": {},
   "outputs": [],
   "source": [
    "from pymongo import MongoClient\n",
    "from pprint import pprint as pp\n",
    "client = MongoClient('mongodb://192.168.56.4:27017')"
   ]
  },
  {
   "cell_type": "code",
   "execution_count": 3,
   "metadata": {},
   "outputs": [],
   "source": [
    "db = client.datascience"
   ]
  },
  {
   "cell_type": "markdown",
   "metadata": {},
   "source": [
    "agregation operators\n",
    "----------------------\n",
    "\n",
    "* \\$project -> schape\n",
    "\n",
    "\n",
    "```json\n",
    "{\n",
    " \"title\" : \"Titan A.E.\",\n",
    " \"year\" : 2000,\n",
    " \"imdb\" : {\n",
    "             \"id\" : \"tt0120913\",\n",
    "             \"rating\" : 6.6,\n",
    "             \"votes\" : 50875\n",
    "     }\n",
    "}\n",
    "```\n",
    "\n",
    "```json\n",
    "{\n",
    " \"title\" : \"Titan A.E.\",\n",
    " \"year\" : 2000,\n",
    " \"rating\" : 6.6\n",
    "}\n",
    "```\n",
    "\n",
    "* \\$match -> filtering\n",
    "* \\$group\n",
    "* \\$sort\n",
    "* \\$skip\n",
    "* \\$limit\n",
    "* \\$unwind\n",
    "\n",
    "```json\n",
    "{\n",
    " \"title\" : \"Titan A.E.\",\n",
    " \"year\" : 2000,\n",
    " \"actors\" : [\n",
    "     \"Matt Damon\",\n",
    "     \"Bill Pullman\",\n",
    "     \"John Leguizamo\"\n",
    " ],\n",
    "}\n",
    "```\n",
    "unwind result in\n",
    "```json\n",
    "{\n",
    " \"title\" : \"Titan A.E.\",\n",
    " \"year\" : 2000,\n",
    " \"actors\" : \"Matt Damon\"\n",
    "},\n",
    "{\n",
    " \"title\" : \"Titan A.E.\",\n",
    " \"year\" : 2000,\n",
    " \"actors\" : \"Bill Pullman\"\n",
    "},\n",
    "{\n",
    " \"title\" : \"Titan A.E.\",\n",
    " \"year\" : 2000,\n",
    " \"actors\" : \"John Leguizamo\"\n",
    "}\n",
    "```"
   ]
  },
  {
   "cell_type": "markdown",
   "metadata": {},
   "source": [
    "\n",
    "Which movie has the highest nomination to winning ratio?\n",
    "----------------------------------------------------"
   ]
  },
  {
   "cell_type": "code",
   "execution_count": 4,
   "metadata": {},
   "outputs": [
    {
     "name": "stdout",
     "output_type": "stream",
     "text": [
      "{'_id': ObjectId('569190cf24de1e0ce2dfcd74'),\n",
      " 'actors': ['Cüneyt Arkin', 'Haldun Boysan', 'Berda Ceyhan', 'Veysel Diker'],\n",
      " 'awards': {'nominations': 0, 'text': '', 'wins': 0},\n",
      " 'countries': ['Turkey'],\n",
      " 'director': 'Kartal Tibet',\n",
      " 'genres': ['Action', 'Comedy', 'Sci-Fi'],\n",
      " 'imdb': {'id': 'tt0808240', 'rating': 1.9, 'votes': 12638},\n",
      " 'plot': 'A family of Turks try to adapt to life in a new solar system.',\n",
      " 'poster': 'http://ia.media-imdb.com/images/M/MV5BMTYwOTMwODIxNF5BMl5BanBnXkFtZTcwMjc0NzA0MQ@@._V1_SX300.jpg',\n",
      " 'rated': None,\n",
      " 'released': datetime.datetime(2006, 12, 15, 5, 0),\n",
      " 'runtime': 110,\n",
      " 'title': 'Turks in Space',\n",
      " 'type': 'movie',\n",
      " 'writers': ['Murat Boyacioglu'],\n",
      " 'year': 2006}\n"
     ]
    }
   ],
   "source": [
    "pp(db.movies.find().next())"
   ]
  },
  {
   "cell_type": "code",
   "execution_count": 4,
   "metadata": {},
   "outputs": [
    {
     "name": "stdout",
     "output_type": "stream",
     "text": [
      "[{'_id': ObjectId('5692a53024de1e0ce2dfdca5'),\n",
      "  'awards': {'nominations': 1, 'text': '22 wins & 1 nomination.', 'wins': 22},\n",
      "  'rating': 7.6,\n",
      "  'ratio': 22.0,\n",
      "  'title': 'Au bout du monde'},\n",
      " {'_id': ObjectId('5692a47c24de1e0ce2dfdb63'),\n",
      "  'awards': {'nominations': 1, 'text': '22 wins & 1 nomination.', 'wins': 22},\n",
      "  'rating': 8.1,\n",
      "  'ratio': 22.0,\n",
      "  'title': 'Everything Will Be Ok'}]\n"
     ]
    }
   ],
   "source": [
    "pp(list(db.movies.aggregate([\n",
    "    {\"$match\": {\"awards\": {\"$exists\": \"1\"}}},\n",
    "    {\"$match\": {\"awards.wins\": {\"$gt\": 0}, \"awards.nominations\": {\"$gt\": 0}}},\n",
    "    {\n",
    "        \"$project\": {\n",
    "            \"title\": 1,\n",
    "            \"awards\": 1,\n",
    "            'rating': '$imdb.rating',\n",
    "            \"ratio\": {\n",
    "                \"$divide\": ['$awards.wins', '$awards.nominations']\n",
    "            }\n",
    "        }\n",
    "    },\n",
    "    {\"$sort\": {\"ratio\": -1}},\n",
    "    {\"$limit\": 2}\n",
    "])))"
   ]
  },
  {
   "cell_type": "markdown",
   "metadata": {},
   "source": [
    "Which actor has participated in the highest amount of movies?\n",
    "-------------------------------------------------------------\n"
   ]
  },
  {
   "cell_type": "code",
   "execution_count": 7,
   "metadata": {},
   "outputs": [
    {
     "name": "stdout",
     "output_type": "stream",
     "text": [
      "[{'_id': ObjectId('5692a13b24de1e0ce2dfcea8'), 'actor': 'Marley Shelton'},\n",
      " {'_id': ObjectId('5692a13b24de1e0ce2dfcea9'), 'actor': 'Charlton Heston'},\n",
      " {'_id': ObjectId('5692a13b24de1e0ce2dfcea8'), 'actor': 'Freddy Rodríguez'},\n",
      " {'_id': ObjectId('5692a13b24de1e0ce2dfcea8'), 'actor': 'Rose McGowan'},\n",
      " {'_id': ObjectId('5692a13b24de1e0ce2dfcea8'), 'actor': 'Josh Brolin'}]\n"
     ]
    }
   ],
   "source": [
    "#single movie\n",
    "pp(list(db.movies.aggregate([\n",
    "    {\"$match\": {\"actors\": {\"$exists\": \"1\"}}},\n",
    "    {\"$unwind\": \"$actors\"},\n",
    "    {\"$project\": {\"actor\": \"$actors\"}},\n",
    "    {\"$sort\": {\"rating\": -1}},\n",
    "    {\"$limit\": 5}\n",
    "])))"
   ]
  },
  {
   "cell_type": "code",
   "execution_count": 9,
   "metadata": {},
   "outputs": [
    {
     "name": "stdout",
     "output_type": "stream",
     "text": [
      "[{'_id': 'Tom Hanks', 'count': 8},\n",
      " {'_id': 'Natalie Portman', 'count': 8},\n",
      " {'_id': 'Louis C.K.', 'count': 8},\n",
      " {'_id': 'Scarlett Johansson', 'count': 7},\n",
      " {'_id': 'B.B. King', 'count': 7}]\n"
     ]
    }
   ],
   "source": [
    "pp(list(db.movies.aggregate([\n",
    "    {\"$match\": {\"actors\": {\"$exists\": \"1\"}}},\n",
    "    {\"$unwind\": \"$actors\"},\n",
    "    {\"$project\": {\"actor\": \"$actors\"}},\n",
    "    {\"$group\": {\"_id\": \"$actor\", \"count\": {\"$sum\": 1}}},\n",
    "    {\"$sort\": {\"count\": -1}},\n",
    "    {\"$limit\": 5}\n",
    "])))"
   ]
  },
  {
   "cell_type": "markdown",
   "metadata": {},
   "source": [
    "Whoo hoo Tom hanks and Natalie Portman taking the lead"
   ]
  },
  {
   "cell_type": "markdown",
   "metadata": {},
   "source": [
    "Which actor had highest average movie rating value?\n",
    "----------------------------------------------------"
   ]
  },
  {
   "cell_type": "code",
   "execution_count": 10,
   "metadata": {},
   "outputs": [
    {
     "name": "stdout",
     "output_type": "stream",
     "text": [
      "[{'_id': 'Nikita Devine', 'avg_rating': 9.6},\n",
      " {'_id': 'Tony DeSergio', 'avg_rating': 9.6},\n",
      " {'_id': 'Nichola Holt', 'avg_rating': 9.6},\n",
      " {'_id': 'Michelle Banks', 'avg_rating': 9.6},\n",
      " {'_id': 'Milan Baros', 'avg_rating': 9.5}]\n"
     ]
    }
   ],
   "source": [
    "pp(list(db.movies.aggregate([\n",
    "    {\"$match\": {\"actors\": {\"$exists\": \"1\"}}},\n",
    "    {\"$unwind\": \"$actors\"},\n",
    "    {\"$project\": {\"actor\": \"$actors\", \"rating\": \"$imdb.rating\"}},\n",
    "    {\"$group\": {\"_id\": \"$actor\", \"avg_rating\": {\"$avg\": \"$rating\"}}},\n",
    "    {\"$sort\": {\"avg_rating\": -1}},\n",
    "    {\"$limit\": 5}\n",
    "])))"
   ]
  },
  {
   "cell_type": "markdown",
   "metadata": {},
   "source": [
    "hmm, are they one movie star?!"
   ]
  },
  {
   "cell_type": "code",
   "execution_count": 11,
   "metadata": {},
   "outputs": [
    {
     "name": "stdout",
     "output_type": "stream",
     "text": [
      "[{'_id': 'Nikita Devine', 'avg_rating': 9.6, 'count': 1},\n",
      " {'_id': 'Tony DeSergio', 'avg_rating': 9.6, 'count': 1},\n",
      " {'_id': 'Nichola Holt', 'avg_rating': 9.6, 'count': 1},\n",
      " {'_id': 'Michelle Banks', 'avg_rating': 9.6, 'count': 1},\n",
      " {'_id': 'Milan Baros', 'avg_rating': 9.5, 'count': 1}]\n"
     ]
    }
   ],
   "source": [
    "pp(list(db.movies.aggregate([\n",
    "    {\"$match\": {\"actors\": {\"$exists\": \"1\"}}},\n",
    "    {\"$unwind\": \"$actors\"},\n",
    "    {\"$project\": {\"actor\": \"$actors\", \"rating\": \"$imdb.rating\"}},\n",
    "    {\"$group\": {\"_id\": \"$actor\", \"avg_rating\": {\"$avg\": \"$rating\"}, \"count\": {\"$sum\": 1}}},\n",
    "    {\"$sort\": {\"avg_rating\": -1}},\n",
    "    {\"$limit\": 5}\n",
    "])))"
   ]
  },
  {
   "cell_type": "markdown",
   "metadata": {},
   "source": [
    "indeed, avg trap, lets check with at least 2 movies"
   ]
  },
  {
   "cell_type": "code",
   "execution_count": 18,
   "metadata": {},
   "outputs": [
    {
     "name": "stdout",
     "output_type": "stream",
     "text": [
      "[{'_id': 'Mark Hamill',\n",
      "  'avg_rating': 8.633333333333333,\n",
      "  'count': 3,\n",
      "  'max_score': 8.8},\n",
      " {'_id': 'Carrie Fisher',\n",
      "  'avg_rating': 8.633333333333333,\n",
      "  'count': 3,\n",
      "  'max_score': 8.8},\n",
      " {'_id': 'Harrison Ford', 'avg_rating': 8.6, 'count': 4, 'max_score': 8.8},\n",
      " {'_id': 'Brian Johnson', 'avg_rating': 8.5, 'count': 6, 'max_score': 8.6},\n",
      " {'_id': 'AC/DC', 'avg_rating': 8.5, 'count': 3, 'max_score': 8.6}]\n"
     ]
    }
   ],
   "source": [
    "pp(list(db.movies.aggregate([\n",
    "    {\"$match\": {\"actors\": {\"$exists\": \"1\"}}},\n",
    "    {\"$unwind\": \"$actors\"},\n",
    "    {\"$project\": {\"actor\": \"$actors\", \"rating\": \"$imdb.rating\"}},\n",
    "    {\"$group\": {\n",
    "        \"_id\": \"$actor\",\n",
    "        \"avg_rating\": {\n",
    "            \"$avg\": \"$rating\"\n",
    "        },\n",
    "        \"count\": {\n",
    "            \"$sum\": 1\n",
    "        },\n",
    "        \"max_score\": {\n",
    "            \"$max\": \"$rating\"\n",
    "        }\n",
    "    }},\n",
    "    {\"$match\": {\"count\": {\"$gt\": 2}}},\n",
    "    {\"$sort\": {\"avg_rating\": -1}},\n",
    "    {\"$limit\": 5}\n",
    "])))"
   ]
  },
  {
   "cell_type": "markdown",
   "metadata": {},
   "source": [
    "Hmm Harrison Ford !!! \n",
    "\n",
    "![](../images/ford.jpg)"
   ]
  },
  {
   "cell_type": "markdown",
   "metadata": {},
   "source": [
    "Grouping operators\n",
    "------------------\n",
    "* \\$first\n",
    "* \\$last\n",
    "* \\$max\n",
    "* \\$min\n",
    "* \\$avg"
   ]
  },
  {
   "cell_type": "code",
   "execution_count": null,
   "metadata": {},
   "outputs": [],
   "source": []
  }
 ],
 "metadata": {
  "kernelspec": {
   "display_name": "Python 3 (ipykernel)",
   "language": "python",
   "name": "python3"
  },
  "language_info": {
   "codemirror_mode": {
    "name": "ipython",
    "version": 3
   },
   "file_extension": ".py",
   "mimetype": "text/x-python",
   "name": "python",
   "nbconvert_exporter": "python",
   "pygments_lexer": "ipython3",
   "version": "3.9.8"
  }
 },
 "nbformat": 4,
 "nbformat_minor": 2
}
