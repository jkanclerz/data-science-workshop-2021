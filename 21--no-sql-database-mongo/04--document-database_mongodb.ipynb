{
 "cells": [
  {
   "cell_type": "markdown",
   "metadata": {},
   "source": [
    "[![Open In Colab](https://colab.research.google.com/assets/colab-badge.svg)](https://githubtocolab.com/jkanclerz/data-science-workshop-2021/blob/main/21--no-sql-database-mongo/04--document-database_mongodb.ipynb)"
   ]
  },
  {
   "cell_type": "markdown",
   "metadata": {},
   "source": [
    "Document Database"
   ]
  },
  {
   "cell_type": "code",
   "execution_count": 1,
   "metadata": {},
   "outputs": [
    {
     "name": "stdout",
     "output_type": "stream",
     "text": [
      "Unable to locate an executable at \"/Library/Java/JavaVirtualMachines/adoptopenjdk-11.jdk/Contents/Home/bin/apt\" (-1)\n",
      "sudo: service: command not found\n"
     ]
    }
   ],
   "source": [
    "!sudo apt install mongodb\n",
    "!sudo service mongodb start"
   ]
  },
  {
   "cell_type": "code",
   "execution_count": 2,
   "metadata": {},
   "outputs": [
    {
     "name": "stdout",
     "output_type": "stream",
     "text": [
      "Requirement already satisfied: pymongo in /Users/jkanclerz/myplace/dydaktyka/przetwarzanie-dokumnetow/data-science-workshop-2021/.venv/lib/python3.9/site-packages (3.12.1)\n",
      "Note: you may need to restart the kernel to use updated packages.\n"
     ]
    }
   ],
   "source": [
    "pip install pymongo"
   ]
  },
  {
   "cell_type": "code",
   "execution_count": 3,
   "metadata": {},
   "outputs": [],
   "source": [
    "from pymongo import MongoClient\n",
    "from pprint import pprint as pp\n",
    "client = MongoClient('mongodb://localhost:27017')"
   ]
  },
  {
   "cell_type": "code",
   "execution_count": 4,
   "metadata": {},
   "outputs": [],
   "source": [
    "tesla_s = {\n",
    "    \"identiffier\": \"tesla-s\",\n",
    "    \"manufacturer\": \"Tesla Motors NEW\"\n",
    "}"
   ]
  },
  {
   "cell_type": "code",
   "execution_count": 5,
   "metadata": {},
   "outputs": [
    {
     "name": "stdout",
     "output_type": "stream",
     "text": [
      "{'identiffier': 'tesla-s', 'manufacturer': 'Tesla Motors NEW'}\n"
     ]
    }
   ],
   "source": [
    "pp(tesla_s)"
   ]
  },
  {
   "cell_type": "markdown",
   "metadata": {},
   "source": [
    "S vs NS store and load\n",
    "------------------------"
   ]
  },
  {
   "cell_type": "code",
   "execution_count": 6,
   "metadata": {},
   "outputs": [
    {
     "data": {
      "text/plain": [
       "<pymongo.results.DeleteResult at 0x106274f40>"
      ]
     },
     "execution_count": 6,
     "metadata": {},
     "output_type": "execute_result"
    }
   ],
   "source": [
    "db = client.jkanclerz\n",
    "db.autos.delete_many({})"
   ]
  },
  {
   "cell_type": "code",
   "execution_count": 7,
   "metadata": {},
   "outputs": [
    {
     "data": {
      "text/plain": [
       "<pymongo.results.InsertOneResult at 0x1063864c0>"
      ]
     },
     "execution_count": 7,
     "metadata": {},
     "output_type": "execute_result"
    }
   ],
   "source": [
    "db.autos.insert_one(tesla_s)"
   ]
  },
  {
   "cell_type": "code",
   "execution_count": 8,
   "metadata": {},
   "outputs": [],
   "source": [
    "cars = db.autos.find()"
   ]
  },
  {
   "cell_type": "code",
   "execution_count": 9,
   "metadata": {},
   "outputs": [
    {
     "name": "stdout",
     "output_type": "stream",
     "text": [
      "[{'_id': ObjectId('6198cc0fde37b22c584f6ba8'),\n",
      "  'identiffier': 'tesla-s',\n",
      "  'manufacturer': 'Tesla Motors NEW'}]\n"
     ]
    }
   ],
   "source": [
    "pp(list(cars))"
   ]
  },
  {
   "cell_type": "code",
   "execution_count": 10,
   "metadata": {},
   "outputs": [],
   "source": [
    "car = db.autos.find_one({\"identiffier\": \"tesla-s\"})"
   ]
  },
  {
   "cell_type": "code",
   "execution_count": 11,
   "metadata": {},
   "outputs": [
    {
     "name": "stdout",
     "output_type": "stream",
     "text": [
      "{'_id': ObjectId('6198cc0fde37b22c584f6ba8'),\n",
      " 'identiffier': 'tesla-s',\n",
      " 'manufacturer': 'Tesla Motors NEW'}\n"
     ]
    }
   ],
   "source": [
    "pp(car)"
   ]
  },
  {
   "cell_type": "markdown",
   "metadata": {},
   "source": [
    "S vs NS add simple field\n",
    "-----------------"
   ]
  },
  {
   "cell_type": "code",
   "execution_count": 12,
   "metadata": {},
   "outputs": [
    {
     "data": {
      "text/plain": [
       "<pymongo.results.InsertOneResult at 0x10629c3c0>"
      ]
     },
     "execution_count": 12,
     "metadata": {},
     "output_type": "execute_result"
    }
   ],
   "source": [
    "volvo_xc_60 = {\n",
    "    \"identiffier\": \"volvo-xc60\",\n",
    "    \"manufacturer\": \"Volvo Cars\",\n",
    "    \"class\": \"SUV\",\n",
    "    \"body style\": \"5-door CUV\",\n",
    "    \"production\": 2008\n",
    "}\n",
    "\n",
    "db.autos.insert_one(volvo_xc_60)"
   ]
  },
  {
   "cell_type": "code",
   "execution_count": 13,
   "metadata": {},
   "outputs": [
    {
     "name": "stdout",
     "output_type": "stream",
     "text": [
      "[{'_id': ObjectId('6198cc0fde37b22c584f6ba8'),\n",
      "  'identiffier': 'tesla-s',\n",
      "  'manufacturer': 'Tesla Motors NEW'},\n",
      " {'_id': ObjectId('6198cc11de37b22c584f6ba9'),\n",
      "  'body style': '5-door CUV',\n",
      "  'class': 'SUV',\n",
      "  'identiffier': 'volvo-xc60',\n",
      "  'manufacturer': 'Volvo Cars',\n",
      "  'production': 2008}]\n"
     ]
    }
   ],
   "source": [
    "pp(list(db.autos.find()))"
   ]
  },
  {
   "cell_type": "markdown",
   "metadata": {},
   "source": [
    "S vs NS add nested field\n",
    "-----------------"
   ]
  },
  {
   "cell_type": "code",
   "execution_count": 14,
   "metadata": {},
   "outputs": [],
   "source": [
    "subaru = {\n",
    "    \"identiffier\": \"subaru-forester\",\n",
    "    \"manufacturer\": \"Subaru Corporation\",\n",
    "    \"class\": \"SUV\",\n",
    "    \"body style\": \"5-door Small SUV\",\n",
    "    \"production\": [2008, 2009, 2010, 2011, 2012],\n",
    "    \"assembley\": [\n",
    "        {\n",
    "            \"country\": \"Japan\",\n",
    "            \"city\": \"Gunma\"\n",
    "        },\n",
    "        {\n",
    "            \"country\": \"Malaysia\",\n",
    "            \"city\": \"Kuala Lumpur\",\n",
    "        }\n",
    "    ],\n",
    "    \"related\": [\n",
    "        {\n",
    "            \"identiffier\": \"subaru-impreza\"\n",
    "        }\n",
    "    ]\n",
    "}"
   ]
  },
  {
   "cell_type": "code",
   "execution_count": 15,
   "metadata": {},
   "outputs": [
    {
     "data": {
      "text/plain": [
       "<pymongo.results.InsertOneResult at 0x106314900>"
      ]
     },
     "execution_count": 15,
     "metadata": {},
     "output_type": "execute_result"
    }
   ],
   "source": [
    "db.autos.insert_one(subaru)"
   ]
  },
  {
   "cell_type": "code",
   "execution_count": 16,
   "metadata": {},
   "outputs": [
    {
     "name": "stdout",
     "output_type": "stream",
     "text": [
      "[{'_id': ObjectId('6198cc0fde37b22c584f6ba8'),\n",
      "  'identiffier': 'tesla-s',\n",
      "  'manufacturer': 'Tesla Motors NEW'},\n",
      " {'_id': ObjectId('6198cc11de37b22c584f6ba9'),\n",
      "  'body style': '5-door CUV',\n",
      "  'class': 'SUV',\n",
      "  'identiffier': 'volvo-xc60',\n",
      "  'manufacturer': 'Volvo Cars',\n",
      "  'production': 2008},\n",
      " {'_id': ObjectId('6198cc13de37b22c584f6baa'),\n",
      "  'assembley': [{'city': 'Gunma', 'country': 'Japan'},\n",
      "                {'city': 'Kuala Lumpur', 'country': 'Malaysia'}],\n",
      "  'body style': '5-door Small SUV',\n",
      "  'class': 'SUV',\n",
      "  'identiffier': 'subaru-forester',\n",
      "  'manufacturer': 'Subaru Corporation',\n",
      "  'production': [2008, 2009, 2010, 2011, 2012],\n",
      "  'related': [{'identiffier': 'subaru-impreza'}]}]\n"
     ]
    }
   ],
   "source": [
    "pp(list(db.autos.find()))"
   ]
  },
  {
   "cell_type": "code",
   "execution_count": 17,
   "metadata": {},
   "outputs": [
    {
     "name": "stdout",
     "output_type": "stream",
     "text": [
      "{'_id': ObjectId('6198cc11de37b22c584f6ba9'),\n",
      " 'body style': '5-door CUV',\n",
      " 'class': 'SUV',\n",
      " 'identiffier': 'volvo-xc60',\n",
      " 'manufacturer': 'Volvo Cars',\n",
      " 'production': 2008}\n",
      "{'_id': ObjectId('6198cc13de37b22c584f6baa'),\n",
      " 'assembley': [{'city': 'Gunma', 'country': 'Japan'},\n",
      "               {'city': 'Kuala Lumpur', 'country': 'Malaysia'}],\n",
      " 'body style': '5-door Small SUV',\n",
      " 'class': 'SUV',\n",
      " 'identiffier': 'subaru-forester',\n",
      " 'manufacturer': 'Subaru Corporation',\n",
      " 'production': [2008, 2009, 2010, 2011, 2012],\n",
      " 'related': [{'identiffier': 'subaru-impreza'}]}\n"
     ]
    }
   ],
   "source": [
    "for b in db.autos.find({\"production\": 2008}):\n",
    "    pp(b)"
   ]
  },
  {
   "cell_type": "markdown",
   "metadata": {},
   "source": [
    "projection\n",
    "-------------\n",
    "only identiffier and manufacturer"
   ]
  },
  {
   "cell_type": "code",
   "execution_count": 18,
   "metadata": {},
   "outputs": [
    {
     "name": "stdout",
     "output_type": "stream",
     "text": [
      "{'identiffier': 'volvo-xc60', 'manufacturer': 'Volvo Cars'}\n",
      "{'identiffier': 'subaru-forester', 'manufacturer': 'Subaru Corporation'}\n"
     ]
    }
   ],
   "source": [
    "for b in db.autos.find({\"production\": 2008}, {\"_id\": 0, \"identiffier\": 1, \"manufacturer\": 1}):\n",
    "    pp(b)"
   ]
  },
  {
   "cell_type": "markdown",
   "metadata": {},
   "source": [
    "multiple fields\n",
    "---------------"
   ]
  },
  {
   "cell_type": "code",
   "execution_count": 19,
   "metadata": {},
   "outputs": [
    {
     "name": "stdout",
     "output_type": "stream",
     "text": [
      "{'identiffier': 'volvo-xc60', 'manufacturer': 'Volvo Cars'}\n"
     ]
    }
   ],
   "source": [
    "for b in db.autos.find(\n",
    "    {\"production\": 2008, \"manufacturer\": \"Volvo Cars\"},\n",
    "    {\"_id\": 0, \"identiffier\": 1, \"manufacturer\": 1}\n",
    "):\n",
    "    pp(b)"
   ]
  },
  {
   "cell_type": "code",
   "execution_count": 20,
   "metadata": {},
   "outputs": [
    {
     "name": "stdout",
     "output_type": "stream",
     "text": [
      "{'_id': ObjectId('6198cc13de37b22c584f6baa'),\n",
      " 'assembley': [{'city': 'Gunma', 'country': 'Japan'},\n",
      "               {'city': 'Kuala Lumpur', 'country': 'Malaysia'}],\n",
      " 'body style': '5-door Small SUV',\n",
      " 'class': 'SUV',\n",
      " 'identiffier': 'subaru-forester',\n",
      " 'manufacturer': 'Subaru Corporation',\n",
      " 'production': [2008, 2009, 2010, 2011, 2012],\n",
      " 'related': [{'identiffier': 'subaru-impreza'}]}\n"
     ]
    }
   ],
   "source": [
    "for b in db.autos.find({\"assembley.city\": \"Kuala Lumpur\"}):\n",
    "    pp(b)"
   ]
  },
  {
   "cell_type": "markdown",
   "metadata": {},
   "source": [
    "noSql \n",
    "-----\n",
    "\n",
    "no changes at all"
   ]
  },
  {
   "cell_type": "markdown",
   "metadata": {},
   "source": [
    "# Zadanie\n",
    "\n",
    "Odtwórz cwiczenie z wykorzystaniem bazy sql"
   ]
  },
  {
   "cell_type": "code",
   "execution_count": null,
   "metadata": {},
   "outputs": [],
   "source": []
  }
 ],
 "metadata": {
  "kernelspec": {
   "display_name": "Python 3 (ipykernel)",
   "language": "python",
   "name": "python3"
  },
  "language_info": {
   "codemirror_mode": {
    "name": "ipython",
    "version": 3
   },
   "file_extension": ".py",
   "mimetype": "text/x-python",
   "name": "python",
   "nbconvert_exporter": "python",
   "pygments_lexer": "ipython3",
   "version": "3.9.8"
  }
 },
 "nbformat": 4,
 "nbformat_minor": 2
}
