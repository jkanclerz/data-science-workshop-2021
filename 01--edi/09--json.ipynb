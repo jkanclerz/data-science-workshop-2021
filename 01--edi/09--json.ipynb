{
 "cells": [
  {
   "cell_type": "markdown",
   "metadata": {},
   "source": [
    "[![Open In Colab](https://colab.research.google.com/assets/colab-badge.svg)](https://githubtocolab.com/jkanclerz/data-science-workshop-2021/blob/main/01--edi/09--json.ipynb)"
   ]
  },
  {
   "cell_type": "markdown",
   "metadata": {},
   "source": [
    "### Archiwum github\n",
    "[http://www.gharchive.org/](http://www.gharchive.org/)"
   ]
  },
  {
   "cell_type": "code",
   "execution_count": 2,
   "metadata": {},
   "outputs": [],
   "source": [
    "!mkdir -p var/github"
   ]
  },
  {
   "cell_type": "code",
   "execution_count": 4,
   "metadata": {},
   "outputs": [
    {
     "name": "stdout",
     "output_type": "stream",
     "text": [
      "--2021-11-19 12:23:33--  https://data.gharchive.org/2021-01-15-12.json.gz\n",
      "Resolving data.gharchive.org (data.gharchive.org)... 172.67.168.206, 104.21.46.175\n",
      "Connecting to data.gharchive.org (data.gharchive.org)|172.67.168.206|:443... connected.\n",
      "HTTP request sent, awaiting response... 200 OK\n",
      "Length: 61805367 (59M) [application/gzip]\n",
      "Saving to: ‘var/github/2021-01-15-12.json.gz’\n",
      "\n",
      "2021-01-15-12.json. 100%[===================>]  58.94M  9.85MB/s    in 6.1s    \n",
      "\n",
      "2021-11-19 12:23:40 (9.69 MB/s) - ‘var/github/2021-01-15-12.json.gz’ saved [61805367/61805367]\n",
      "\n"
     ]
    }
   ],
   "source": [
    "!wget https://data.gharchive.org/2021-01-15-12.json.gz -P var/github"
   ]
  },
  {
   "cell_type": "code",
   "execution_count": 8,
   "metadata": {},
   "outputs": [
    {
     "name": "stdout",
     "output_type": "stream",
     "text": [
      " 60M\tvar/github/2021-01-15-12.json.gz\r\n"
     ]
    }
   ],
   "source": [
    "!du -h var/github/2021-01-15-12.json.gz"
   ]
  },
  {
   "cell_type": "code",
   "execution_count": 12,
   "metadata": {},
   "outputs": [],
   "source": [
    "!gunzip var/github/2021-01-15-12.json.gz"
   ]
  },
  {
   "cell_type": "code",
   "execution_count": 13,
   "metadata": {},
   "outputs": [
    {
     "name": "stdout",
     "output_type": "stream",
     "text": [
      "2021-01-15-12.json\r\n"
     ]
    }
   ],
   "source": [
    "ls var/github"
   ]
  },
  {
   "cell_type": "code",
   "execution_count": 14,
   "metadata": {},
   "outputs": [
    {
     "name": "stdout",
     "output_type": "stream",
     "text": [
      "472M\tvar/github/2021-01-15-12.json\r\n"
     ]
    }
   ],
   "source": [
    "!du -h var/github/2021-01-15-12.json"
   ]
  },
  {
   "cell_type": "markdown",
   "metadata": {},
   "source": [
    "## Zadanie\n",
    "\n",
    "Znajdz najpopularniejszy język programowania w serwisie github dla wybranego przedziału czasowego:\n",
    "* większego niż 1 godzina\n",
    "* większego niż 1 dzień\n",
    "* większego niż 1 tydzień\n",
    "* większego niż 1 miesiąc ?!"
   ]
  },
  {
   "cell_type": "code",
   "execution_count": 15,
   "metadata": {},
   "outputs": [],
   "source": [
    "urls = [\n",
    "    'http://data.githubarchive.org/2020-06-{:02d}-{}.json.gz'.format(day, hour)\n",
    "    for day in range(1, 30)\n",
    "    for hour in range(0, 24)\n",
    "]"
   ]
  },
  {
   "cell_type": "code",
   "execution_count": 16,
   "metadata": {},
   "outputs": [
    {
     "data": {
      "text/plain": [
       "'http://data.githubarchive.org/2020-06-01-0.json.gz'"
      ]
     },
     "execution_count": 16,
     "metadata": {},
     "output_type": "execute_result"
    }
   ],
   "source": [
    "urls[0]"
   ]
  },
  {
   "cell_type": "code",
   "execution_count": 17,
   "metadata": {},
   "outputs": [],
   "source": [
    "import requests\n",
    "import gzip\n",
    "import json\n",
    "import itertools\n",
    "\n",
    "data = (requests.get(url) for url in urls)\n",
    "decompressed = (gzip.decompress(r.content).decode('utf-8') for r in data)"
   ]
  },
  {
   "cell_type": "code",
   "execution_count": 20,
   "metadata": {},
   "outputs": [],
   "source": [
    "with open('var/example_github.json', 'w+') as f:\n",
    "    f.write(next(decompressed))"
   ]
  },
  {
   "cell_type": "code",
   "execution_count": 21,
   "metadata": {},
   "outputs": [
    {
     "name": "stdout",
     "output_type": "stream",
     "text": [
      "244M\tvar/example_github.json\r\n"
     ]
    }
   ],
   "source": [
    "!du -h var/example_github.json"
   ]
  },
  {
   "cell_type": "code",
   "execution_count": 22,
   "metadata": {},
   "outputs": [],
   "source": [
    "import requests\n",
    "import gzip\n",
    "import json\n",
    "import itertools\n",
    "\n",
    "data = (requests.get(url) for url in urls)\n",
    "decompressed = (gzip.decompress(r.content).decode('utf-8') for r in data)\n",
    "objects = (content.split(\"\\n\") for content in decompressed)\n",
    "objects = itertools.chain.from_iterable(objects)"
   ]
  },
  {
   "cell_type": "code",
   "execution_count": 23,
   "metadata": {},
   "outputs": [],
   "source": [
    "sample_cotnent = next(objects)\n",
    "sample_object = json.loads(sample_cotnent)"
   ]
  },
  {
   "cell_type": "code",
   "execution_count": 24,
   "metadata": {},
   "outputs": [
    {
     "name": "stdout",
     "output_type": "stream",
     "text": [
      "{'actor': {'avatar_url': 'https://avatars.githubusercontent.com/u/9448901?',\n",
      "           'display_login': 'brunocouty',\n",
      "           'gravatar_id': '',\n",
      "           'id': 9448901,\n",
      "           'login': 'brunocouty',\n",
      "           'url': 'https://api.github.com/users/brunocouty'},\n",
      " 'created_at': '2020-06-01T00:00:00Z',\n",
      " 'id': '12490422678',\n",
      " 'payload': {'before': 'ae99f3abbf767b8883fec2906a93740610722891',\n",
      "             'commits': [{'author': {'email': '8bff11821a844e2968a00dd7e023fc826966fffd@gmail.com',\n",
      "                                     'name': 'Bruno'},\n",
      "                          'distinct': True,\n",
      "                          'message': 'chore: changung phpunit description',\n",
      "                          'sha': '03a64ffeca520e867783da0a1818895b9c63aac8',\n",
      "                          'url': 'https://api.github.com/repos/brunocouty/studies-ms/commits/03a64ffeca520e867783da0a1818895b9c63aac8'}],\n",
      "             'distinct_size': 1,\n",
      "             'head': '03a64ffeca520e867783da0a1818895b9c63aac8',\n",
      "             'push_id': 5155945795,\n",
      "             'ref': 'refs/heads/develop',\n",
      "             'size': 1},\n",
      " 'public': True,\n",
      " 'repo': {'id': 268354436,\n",
      "          'name': 'brunocouty/studies-ms',\n",
      "          'url': 'https://api.github.com/repos/brunocouty/studies-ms'},\n",
      " 'type': 'PushEvent'}\n"
     ]
    }
   ],
   "source": [
    "from pprint import pprint as pp\n",
    "pp(sample_object)"
   ]
  },
  {
   "cell_type": "markdown",
   "metadata": {},
   "source": [
    "# Pytania\n",
    "1. Jakiego rodzaju zdarzenia występowały najczęściej\n",
    "2. Najczęściej wydawane projekty\n",
    "3. Najaktywniejsze repozytorium"
   ]
  },
  {
   "cell_type": "code",
   "execution_count": 25,
   "metadata": {},
   "outputs": [],
   "source": [
    "import requests\n",
    "import gzip\n",
    "import json\n",
    "import itertools\n",
    "\n",
    "data = (requests.get(url) for url in urls)\n",
    "decompressed = (gzip.decompress(r.content).decode('utf-8') for r in data)\n",
    "json_str_batches = (content.split(\"\\n\") for content in decompressed)\n",
    "json_str = itertools.chain.from_iterable(json_str_batches)\n",
    "dicts = (json.loads(content) for content in json_str)"
   ]
  },
  {
   "cell_type": "code",
   "execution_count": 26,
   "metadata": {},
   "outputs": [],
   "source": [
    "limited_amount = (next(dicts) for x in range(1, 1000))"
   ]
  },
  {
   "cell_type": "code",
   "execution_count": 27,
   "metadata": {},
   "outputs": [],
   "source": [
    "lited_amount = list(limited_amount)"
   ]
  },
  {
   "cell_type": "code",
   "execution_count": 28,
   "metadata": {},
   "outputs": [],
   "source": [
    "events = [item['type'] for item in lited_amount]"
   ]
  },
  {
   "cell_type": "code",
   "execution_count": 29,
   "metadata": {},
   "outputs": [],
   "source": [
    "import collections"
   ]
  },
  {
   "cell_type": "code",
   "execution_count": 30,
   "metadata": {},
   "outputs": [],
   "source": [
    "cnt = collections.Counter(events)"
   ]
  },
  {
   "cell_type": "code",
   "execution_count": 31,
   "metadata": {},
   "outputs": [
    {
     "data": {
      "text/plain": [
       "Counter({'PushEvent': 673,\n",
       "         'IssueCommentEvent': 34,\n",
       "         'WatchEvent': 42,\n",
       "         'CreateEvent': 97,\n",
       "         'PullRequestEvent': 67,\n",
       "         'ForkEvent': 20,\n",
       "         'DeleteEvent': 23,\n",
       "         'IssuesEvent': 24,\n",
       "         'ReleaseEvent': 8,\n",
       "         'PullRequestReviewCommentEvent': 6,\n",
       "         'GollumEvent': 1,\n",
       "         'PublicEvent': 1,\n",
       "         'MemberEvent': 1,\n",
       "         'CommitCommentEvent': 2})"
      ]
     },
     "execution_count": 31,
     "metadata": {},
     "output_type": "execute_result"
    }
   ],
   "source": [
    "cnt"
   ]
  },
  {
   "cell_type": "code",
   "execution_count": 32,
   "metadata": {},
   "outputs": [],
   "source": [
    "import functools"
   ]
  },
  {
   "cell_type": "code",
   "execution_count": 33,
   "metadata": {},
   "outputs": [],
   "source": [
    "just_push = filter(lambda x: x['type'] == 'PushEvent', lited_amount) "
   ]
  },
  {
   "cell_type": "code",
   "execution_count": 34,
   "metadata": {},
   "outputs": [],
   "source": [
    "names = [item['repo']['url'] for item in just_push]"
   ]
  },
  {
   "cell_type": "code",
   "execution_count": 35,
   "metadata": {},
   "outputs": [],
   "source": [
    "most_active_repos = collections.Counter(names)"
   ]
  },
  {
   "cell_type": "code",
   "execution_count": 36,
   "metadata": {},
   "outputs": [
    {
     "data": {
      "text/plain": [
       "[('https://api.github.com/repos/brand22/d3', 25),\n",
       " ('https://api.github.com/repos/himobi/hotspot', 14),\n",
       " ('https://api.github.com/repos/pequet/public-logs', 14),\n",
       " ('https://api.github.com/repos/supermobiteam2/Tizi', 13),\n",
       " ('https://api.github.com/repos/supershell2019/conf', 12),\n",
       " ('https://api.github.com/repos/vpnsuperapp/fast', 6),\n",
       " ('https://api.github.com/repos/multicharts/scanner-check', 6),\n",
       " ('https://api.github.com/repos/lovell/sharp-libvips', 6),\n",
       " ('https://api.github.com/repos/polyglottraveler/dsc-enterprise-deloitte-dl-strings-lab-hbs-ds-060120',\n",
       "  5),\n",
       " ('https://api.github.com/repos/vnfightcovid/covid19_pro', 5)]"
      ]
     },
     "execution_count": 36,
     "metadata": {},
     "output_type": "execute_result"
    }
   ],
   "source": [
    "most_active_repos.most_common(10)"
   ]
  },
  {
   "cell_type": "markdown",
   "metadata": {},
   "source": [
    "## Jakie są najpopularniejsze języki programowania w github?\n",
    "\n",
    "```\n",
    "\"{}/languages\".format(repoUrl)\n",
    "```"
   ]
  },
  {
   "cell_type": "code",
   "execution_count": null,
   "metadata": {},
   "outputs": [],
   "source": []
  }
 ],
 "metadata": {
  "kernelspec": {
   "display_name": "Python 3 (ipykernel)",
   "language": "python",
   "name": "python3"
  },
  "language_info": {
   "codemirror_mode": {
    "name": "ipython",
    "version": 3
   },
   "file_extension": ".py",
   "mimetype": "text/x-python",
   "name": "python",
   "nbconvert_exporter": "python",
   "pygments_lexer": "ipython3",
   "version": "3.9.8"
  }
 },
 "nbformat": 4,
 "nbformat_minor": 2
}
