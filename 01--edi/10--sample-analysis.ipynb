{
 "cells": [
  {
   "cell_type": "markdown",
   "metadata": {},
   "source": [
    "[![Open In Colab](https://colab.research.google.com/assets/colab-badge.svg)](https://githubtocolab.com/jkanclerz/data-science-workshop-2021/blob/main/01--edi/10--sample-analysis.ipynb)"
   ]
  },
  {
   "cell_type": "code",
   "execution_count": 2,
   "metadata": {},
   "outputs": [
    {
     "name": "stdout",
     "output_type": "stream",
     "text": [
      "--2021-11-19 12:31:01--  https://s3.eu-central-1.amazonaws.com/jkan.pl/data-science/uek/otomoto.csv\n",
      "Resolving s3.eu-central-1.amazonaws.com (s3.eu-central-1.amazonaws.com)... 52.219.171.113\n",
      "Connecting to s3.eu-central-1.amazonaws.com (s3.eu-central-1.amazonaws.com)|52.219.171.113|:443... connected.\n",
      "HTTP request sent, awaiting response... 200 OK\n",
      "Length: 20920699 (20M) [text/csv]\n",
      "Saving to: ‘var/otomoto.csv’\n",
      "\n",
      "var/otomoto.csv     100%[===================>]  19.95M  4.17MB/s    in 6.6s    \n",
      "\n",
      "2021-11-19 12:31:08 (3.01 MB/s) - ‘var/otomoto.csv’ saved [20920699/20920699]\n",
      "\n"
     ]
    }
   ],
   "source": [
    "!wget https://s3.eu-central-1.amazonaws.com/jkan.pl/data-science/uek/otomoto.csv -O var/otomoto.csv"
   ]
  },
  {
   "cell_type": "code",
   "execution_count": 3,
   "metadata": {},
   "outputs": [
    {
     "name": "stdout",
     "output_type": "stream",
     "text": [
      "Collecting seaborn\n",
      "  Downloading seaborn-0.11.2-py3-none-any.whl (292 kB)\n",
      "     |████████████████████████████████| 292 kB 2.4 MB/s            \n",
      "\u001b[?25hRequirement already satisfied: matplotlib in /Users/jkanclerz/myplace/dydaktyka/przetwarzanie-dokumnetow/data-science-workshop-2021/.venv/lib/python3.9/site-packages (3.5.0)\n",
      "Requirement already satisfied: pandas in /Users/jkanclerz/myplace/dydaktyka/przetwarzanie-dokumnetow/data-science-workshop-2021/.venv/lib/python3.9/site-packages (1.3.4)\n",
      "Requirement already satisfied: numpy in /Users/jkanclerz/myplace/dydaktyka/przetwarzanie-dokumnetow/data-science-workshop-2021/.venv/lib/python3.9/site-packages (1.21.4)\n",
      "Collecting sns\n",
      "  Downloading sns-0.1.tar.gz (2.1 kB)\n",
      "  Preparing metadata (setup.py) ... \u001b[?25ldone\n",
      "\u001b[?25hCollecting scipy>=1.0\n",
      "  Downloading scipy-1.7.2-cp39-cp39-macosx_10_9_x86_64.whl (33.2 MB)\n",
      "     |████████████████████████████████| 33.2 MB 10.4 MB/s            \n",
      "\u001b[?25hRequirement already satisfied: cycler>=0.10 in /Users/jkanclerz/myplace/dydaktyka/przetwarzanie-dokumnetow/data-science-workshop-2021/.venv/lib/python3.9/site-packages (from matplotlib) (0.11.0)\n",
      "Requirement already satisfied: setuptools-scm>=4 in /Users/jkanclerz/myplace/dydaktyka/przetwarzanie-dokumnetow/data-science-workshop-2021/.venv/lib/python3.9/site-packages (from matplotlib) (6.3.2)\n",
      "Requirement already satisfied: kiwisolver>=1.0.1 in /Users/jkanclerz/myplace/dydaktyka/przetwarzanie-dokumnetow/data-science-workshop-2021/.venv/lib/python3.9/site-packages (from matplotlib) (1.3.2)\n",
      "Requirement already satisfied: python-dateutil>=2.7 in /Users/jkanclerz/myplace/dydaktyka/przetwarzanie-dokumnetow/data-science-workshop-2021/.venv/lib/python3.9/site-packages (from matplotlib) (2.8.2)\n",
      "Requirement already satisfied: fonttools>=4.22.0 in /Users/jkanclerz/myplace/dydaktyka/przetwarzanie-dokumnetow/data-science-workshop-2021/.venv/lib/python3.9/site-packages (from matplotlib) (4.28.1)\n",
      "Requirement already satisfied: packaging>=20.0 in /Users/jkanclerz/myplace/dydaktyka/przetwarzanie-dokumnetow/data-science-workshop-2021/.venv/lib/python3.9/site-packages (from matplotlib) (21.3)\n",
      "Requirement already satisfied: pillow>=6.2.0 in /Users/jkanclerz/myplace/dydaktyka/przetwarzanie-dokumnetow/data-science-workshop-2021/.venv/lib/python3.9/site-packages (from matplotlib) (8.4.0)\n",
      "Requirement already satisfied: pyparsing>=2.2.1 in /Users/jkanclerz/myplace/dydaktyka/przetwarzanie-dokumnetow/data-science-workshop-2021/.venv/lib/python3.9/site-packages (from matplotlib) (3.0.6)\n",
      "Requirement already satisfied: pytz>=2017.3 in /Users/jkanclerz/myplace/dydaktyka/przetwarzanie-dokumnetow/data-science-workshop-2021/.venv/lib/python3.9/site-packages (from pandas) (2021.3)\n",
      "Requirement already satisfied: six>=1.5 in /Users/jkanclerz/myplace/dydaktyka/przetwarzanie-dokumnetow/data-science-workshop-2021/.venv/lib/python3.9/site-packages (from python-dateutil>=2.7->matplotlib) (1.16.0)\n",
      "Requirement already satisfied: setuptools in /Users/jkanclerz/myplace/dydaktyka/przetwarzanie-dokumnetow/data-science-workshop-2021/.venv/lib/python3.9/site-packages (from setuptools-scm>=4->matplotlib) (58.5.3)\n",
      "Requirement already satisfied: tomli>=1.0.0 in /Users/jkanclerz/myplace/dydaktyka/przetwarzanie-dokumnetow/data-science-workshop-2021/.venv/lib/python3.9/site-packages (from setuptools-scm>=4->matplotlib) (1.2.2)\n",
      "Using legacy 'setup.py install' for sns, since package 'wheel' is not installed.\n",
      "Installing collected packages: scipy, sns, seaborn\n",
      "    Running setup.py install for sns ... \u001b[?25ldone\n",
      "\u001b[?25hSuccessfully installed scipy-1.7.2 seaborn-0.11.2 sns-0.1\n",
      "Note: you may need to restart the kernel to use updated packages.\n"
     ]
    }
   ],
   "source": [
    "pip install seaborn matplotlib pandas numpy sns matplotlib"
   ]
  },
  {
   "cell_type": "code",
   "execution_count": 11,
   "metadata": {},
   "outputs": [],
   "source": [
    "import pandas as pd\n",
    "import numpy as np\n",
    "import seaborn as sns                       #visualisation\n",
    "import matplotlib.pyplot as plt             #visualisation\n",
    "%matplotlib inline     \n",
    "sns.set(color_codes=True)\n"
   ]
  },
  {
   "cell_type": "markdown",
   "metadata": {},
   "source": [
    "## ładowanie danych"
   ]
  },
  {
   "cell_type": "code",
   "execution_count": 22,
   "metadata": {},
   "outputs": [
    {
     "data": {
      "text/html": [
       "<div>\n",
       "<style scoped>\n",
       "    .dataframe tbody tr th:only-of-type {\n",
       "        vertical-align: middle;\n",
       "    }\n",
       "\n",
       "    .dataframe tbody tr th {\n",
       "        vertical-align: top;\n",
       "    }\n",
       "\n",
       "    .dataframe thead th {\n",
       "        text-align: right;\n",
       "    }\n",
       "</style>\n",
       "<table border=\"1\" class=\"dataframe\">\n",
       "  <thead>\n",
       "    <tr style=\"text-align: right;\">\n",
       "      <th></th>\n",
       "      <th>id</th>\n",
       "      <th>url</th>\n",
       "      <th>Faktura VAT</th>\n",
       "      <th>Marka pojazdu</th>\n",
       "      <th>Model pojazdu</th>\n",
       "      <th>Kategoria</th>\n",
       "      <th>Pojemność skokowa</th>\n",
       "      <th>Liczba miejsc</th>\n",
       "      <th>Zarejestrowany w Polsce</th>\n",
       "      <th>Wersja</th>\n",
       "      <th>...</th>\n",
       "      <th>Metalik</th>\n",
       "      <th>Przebieg</th>\n",
       "      <th>Akryl (niemetalizowany)</th>\n",
       "      <th>Możliwość finansowania</th>\n",
       "      <th>Uszkodzony</th>\n",
       "      <th>Oferta od</th>\n",
       "      <th>Kod Silnika</th>\n",
       "      <th>Kolor</th>\n",
       "      <th>Napęd</th>\n",
       "      <th>Moc</th>\n",
       "    </tr>\n",
       "  </thead>\n",
       "  <tbody>\n",
       "    <tr>\n",
       "      <th>0</th>\n",
       "      <td>6039269187</td>\n",
       "      <td>https://www.otomoto.pl/oferta/renault-fluence-...</td>\n",
       "      <td>NaN</td>\n",
       "      <td>Renault</td>\n",
       "      <td>Fluence</td>\n",
       "      <td>Osobowe</td>\n",
       "      <td>1 600 cm3</td>\n",
       "      <td>5.0</td>\n",
       "      <td>NaN</td>\n",
       "      <td>NaN</td>\n",
       "      <td>...</td>\n",
       "      <td>NaN</td>\n",
       "      <td>172 000 km</td>\n",
       "      <td>Tak</td>\n",
       "      <td>NaN</td>\n",
       "      <td>NaN</td>\n",
       "      <td>Osoby prywatnej</td>\n",
       "      <td>NaN</td>\n",
       "      <td>Biały</td>\n",
       "      <td>Na przednie koła</td>\n",
       "      <td>110 KM</td>\n",
       "    </tr>\n",
       "    <tr>\n",
       "      <th>1</th>\n",
       "      <td>6034090022</td>\n",
       "      <td>https://www.otomoto.pl/oferta/mercedes-benz-kl...</td>\n",
       "      <td>Tak</td>\n",
       "      <td>Mercedes-Benz</td>\n",
       "      <td>Klasa G</td>\n",
       "      <td>Osobowe</td>\n",
       "      <td>2 987 cm3</td>\n",
       "      <td>5.0</td>\n",
       "      <td>Tak</td>\n",
       "      <td>W463 (1992-)</td>\n",
       "      <td>...</td>\n",
       "      <td>Tak</td>\n",
       "      <td>52 904 km</td>\n",
       "      <td>NaN</td>\n",
       "      <td>Tak</td>\n",
       "      <td>NaN</td>\n",
       "      <td>Firmy</td>\n",
       "      <td>G 350</td>\n",
       "      <td>Szary</td>\n",
       "      <td>4x4 (stały)</td>\n",
       "      <td>245 KM</td>\n",
       "    </tr>\n",
       "    <tr>\n",
       "      <th>2</th>\n",
       "      <td>6039268812</td>\n",
       "      <td>https://www.otomoto.pl/oferta/audi-a5-salon-po...</td>\n",
       "      <td>NaN</td>\n",
       "      <td>Audi</td>\n",
       "      <td>A5</td>\n",
       "      <td>Osobowe</td>\n",
       "      <td>2 000 cm3</td>\n",
       "      <td>4.0</td>\n",
       "      <td>Tak</td>\n",
       "      <td>8T (2007-2016)</td>\n",
       "      <td>...</td>\n",
       "      <td>NaN</td>\n",
       "      <td>56 000 km</td>\n",
       "      <td>NaN</td>\n",
       "      <td>NaN</td>\n",
       "      <td>Tak</td>\n",
       "      <td>Osoby prywatnej</td>\n",
       "      <td>NaN</td>\n",
       "      <td>Czarny</td>\n",
       "      <td>Na przednie koła</td>\n",
       "      <td>190 KM</td>\n",
       "    </tr>\n",
       "    <tr>\n",
       "      <th>3</th>\n",
       "      <td>6039269107</td>\n",
       "      <td>https://www.otomoto.pl/oferta/volkswagen-polo-...</td>\n",
       "      <td>NaN</td>\n",
       "      <td>Volkswagen</td>\n",
       "      <td>Polo</td>\n",
       "      <td>Osobowe</td>\n",
       "      <td>1 198 cm3</td>\n",
       "      <td>5.0</td>\n",
       "      <td>NaN</td>\n",
       "      <td>IV (2001-2009)</td>\n",
       "      <td>...</td>\n",
       "      <td>Tak</td>\n",
       "      <td>88 000 km</td>\n",
       "      <td>NaN</td>\n",
       "      <td>NaN</td>\n",
       "      <td>NaN</td>\n",
       "      <td>Osoby prywatnej</td>\n",
       "      <td>NaN</td>\n",
       "      <td>Srebrny</td>\n",
       "      <td>Na przednie koła</td>\n",
       "      <td>70 KM</td>\n",
       "    </tr>\n",
       "    <tr>\n",
       "      <th>4</th>\n",
       "      <td>6038674457</td>\n",
       "      <td>https://www.otomoto.pl/oferta/peugeot-206-cc-w...</td>\n",
       "      <td>NaN</td>\n",
       "      <td>Peugeot</td>\n",
       "      <td>206 CC</td>\n",
       "      <td>Osobowe</td>\n",
       "      <td>1 997 cm3</td>\n",
       "      <td>4.0</td>\n",
       "      <td>NaN</td>\n",
       "      <td>NaN</td>\n",
       "      <td>...</td>\n",
       "      <td>Tak</td>\n",
       "      <td>176 000 km</td>\n",
       "      <td>NaN</td>\n",
       "      <td>NaN</td>\n",
       "      <td>NaN</td>\n",
       "      <td>Osoby prywatnej</td>\n",
       "      <td>NaN</td>\n",
       "      <td>Srebrny</td>\n",
       "      <td>Na przednie koła</td>\n",
       "      <td>136 KM</td>\n",
       "    </tr>\n",
       "  </tbody>\n",
       "</table>\n",
       "<p>5 rows × 42 columns</p>\n",
       "</div>"
      ],
      "text/plain": [
       "           id                                                url Faktura VAT  \\\n",
       "0  6039269187  https://www.otomoto.pl/oferta/renault-fluence-...         NaN   \n",
       "1  6034090022  https://www.otomoto.pl/oferta/mercedes-benz-kl...         Tak   \n",
       "2  6039268812  https://www.otomoto.pl/oferta/audi-a5-salon-po...         NaN   \n",
       "3  6039269107  https://www.otomoto.pl/oferta/volkswagen-polo-...         NaN   \n",
       "4  6038674457  https://www.otomoto.pl/oferta/peugeot-206-cc-w...         NaN   \n",
       "\n",
       "   Marka pojazdu Model pojazdu Kategoria Pojemność skokowa  Liczba miejsc  \\\n",
       "0        Renault       Fluence   Osobowe         1 600 cm3            5.0   \n",
       "1  Mercedes-Benz       Klasa G   Osobowe         2 987 cm3            5.0   \n",
       "2           Audi            A5   Osobowe         2 000 cm3            4.0   \n",
       "3     Volkswagen          Polo   Osobowe         1 198 cm3            5.0   \n",
       "4        Peugeot        206 CC   Osobowe         1 997 cm3            4.0   \n",
       "\n",
       "  Zarejestrowany w Polsce          Wersja  ... Metalik    Przebieg  \\\n",
       "0                     NaN             NaN  ...     NaN  172 000 km   \n",
       "1                     Tak    W463 (1992-)  ...     Tak   52 904 km   \n",
       "2                     Tak  8T (2007-2016)  ...     NaN   56 000 km   \n",
       "3                     NaN  IV (2001-2009)  ...     Tak   88 000 km   \n",
       "4                     NaN             NaN  ...     Tak  176 000 km   \n",
       "\n",
       "  Akryl (niemetalizowany) Możliwość finansowania Uszkodzony        Oferta od  \\\n",
       "0                     Tak                    NaN        NaN  Osoby prywatnej   \n",
       "1                     NaN                    Tak        NaN            Firmy   \n",
       "2                     NaN                    NaN        Tak  Osoby prywatnej   \n",
       "3                     NaN                    NaN        NaN  Osoby prywatnej   \n",
       "4                     NaN                    NaN        NaN  Osoby prywatnej   \n",
       "\n",
       "  Kod Silnika    Kolor             Napęd     Moc  \n",
       "0         NaN    Biały  Na przednie koła  110 KM  \n",
       "1       G 350    Szary       4x4 (stały)  245 KM  \n",
       "2         NaN   Czarny  Na przednie koła  190 KM  \n",
       "3         NaN  Srebrny  Na przednie koła   70 KM  \n",
       "4         NaN  Srebrny  Na przednie koła  136 KM  \n",
       "\n",
       "[5 rows x 42 columns]"
      ]
     },
     "execution_count": 22,
     "metadata": {},
     "output_type": "execute_result"
    }
   ],
   "source": [
    "df = pd.read_csv(\"var/otomoto.csv\", sep=\";\")\n",
    "df.head(5)"
   ]
  },
  {
   "cell_type": "code",
   "execution_count": 23,
   "metadata": {},
   "outputs": [
    {
     "data": {
      "text/plain": [
       "id                                 int64\n",
       "url                               object\n",
       "Faktura VAT                       object\n",
       "Marka pojazdu                     object\n",
       "Model pojazdu                     object\n",
       "Kategoria                         object\n",
       "Pojemność skokowa                 object\n",
       "Liczba miejsc                    float64\n",
       "Zarejestrowany w Polsce           object\n",
       "Wersja                            object\n",
       "Typ                               object\n",
       "Rok produkcji                    float64\n",
       "Serwisowany w ASO                 object\n",
       "Leasing                           object\n",
       "VIN                               object\n",
       "Homologacja ciężarowa             object\n",
       "VAT marża                         object\n",
       "Pierwszy właściciel               object\n",
       "Filtr cząstek stałych             object\n",
       "Rodzaj paliwa                     object\n",
       "Emisja CO2                        object\n",
       "Kraj pochodzenia                  object\n",
       "Numer rejestracyjny pojazdu       object\n",
       "Bezwypadkowy                      object\n",
       "Stan                              object\n",
       "Pierwsza rejestracja              object\n",
       "title                             object\n",
       "price                            float64\n",
       "Skrzynia biegów                   object\n",
       "Perłowy                           object\n",
       "Kierownica po prawej (Anglik)     object\n",
       "Liczba drzwi                     float64\n",
       "Metalik                           object\n",
       "Przebieg                          object\n",
       "Akryl (niemetalizowany)           object\n",
       "Możliwość finansowania            object\n",
       "Uszkodzony                        object\n",
       "Oferta od                         object\n",
       "Kod Silnika                       object\n",
       "Kolor                             object\n",
       "Napęd                             object\n",
       "Moc                               object\n",
       "dtype: object"
      ]
     },
     "execution_count": 23,
     "metadata": {},
     "output_type": "execute_result"
    }
   ],
   "source": [
    "df.dtypes"
   ]
  },
  {
   "cell_type": "code",
   "execution_count": 24,
   "metadata": {},
   "outputs": [
    {
     "data": {
      "text/html": [
       "<div>\n",
       "<style scoped>\n",
       "    .dataframe tbody tr th:only-of-type {\n",
       "        vertical-align: middle;\n",
       "    }\n",
       "\n",
       "    .dataframe tbody tr th {\n",
       "        vertical-align: top;\n",
       "    }\n",
       "\n",
       "    .dataframe thead th {\n",
       "        text-align: right;\n",
       "    }\n",
       "</style>\n",
       "<table border=\"1\" class=\"dataframe\">\n",
       "  <thead>\n",
       "    <tr style=\"text-align: right;\">\n",
       "      <th></th>\n",
       "      <th>id</th>\n",
       "      <th>url</th>\n",
       "      <th>Marka pojazdu</th>\n",
       "      <th>Model pojazdu</th>\n",
       "      <th>Kategoria</th>\n",
       "      <th>Pojemność skokowa</th>\n",
       "      <th>Liczba miejsc</th>\n",
       "      <th>Zarejestrowany w Polsce</th>\n",
       "      <th>Wersja</th>\n",
       "      <th>Typ</th>\n",
       "      <th>...</th>\n",
       "      <th>Liczba drzwi</th>\n",
       "      <th>Metalik</th>\n",
       "      <th>Przebieg</th>\n",
       "      <th>Akryl (niemetalizowany)</th>\n",
       "      <th>Możliwość finansowania</th>\n",
       "      <th>Uszkodzony</th>\n",
       "      <th>Oferta od</th>\n",
       "      <th>Kod Silnika</th>\n",
       "      <th>Kolor</th>\n",
       "      <th>Napęd</th>\n",
       "    </tr>\n",
       "  </thead>\n",
       "  <tbody>\n",
       "    <tr>\n",
       "      <th>0</th>\n",
       "      <td>6039269187</td>\n",
       "      <td>https://www.otomoto.pl/oferta/renault-fluence-...</td>\n",
       "      <td>Renault</td>\n",
       "      <td>Fluence</td>\n",
       "      <td>Osobowe</td>\n",
       "      <td>1 600 cm3</td>\n",
       "      <td>5.0</td>\n",
       "      <td>NaN</td>\n",
       "      <td>NaN</td>\n",
       "      <td>Sedan</td>\n",
       "      <td>...</td>\n",
       "      <td>4.0</td>\n",
       "      <td>NaN</td>\n",
       "      <td>172 000 km</td>\n",
       "      <td>Tak</td>\n",
       "      <td>NaN</td>\n",
       "      <td>NaN</td>\n",
       "      <td>Osoby prywatnej</td>\n",
       "      <td>NaN</td>\n",
       "      <td>Biały</td>\n",
       "      <td>Na przednie koła</td>\n",
       "    </tr>\n",
       "    <tr>\n",
       "      <th>1</th>\n",
       "      <td>6034090022</td>\n",
       "      <td>https://www.otomoto.pl/oferta/mercedes-benz-kl...</td>\n",
       "      <td>Mercedes-Benz</td>\n",
       "      <td>Klasa G</td>\n",
       "      <td>Osobowe</td>\n",
       "      <td>2 987 cm3</td>\n",
       "      <td>5.0</td>\n",
       "      <td>Tak</td>\n",
       "      <td>W463 (1992-)</td>\n",
       "      <td>SUV</td>\n",
       "      <td>...</td>\n",
       "      <td>5.0</td>\n",
       "      <td>Tak</td>\n",
       "      <td>52 904 km</td>\n",
       "      <td>NaN</td>\n",
       "      <td>Tak</td>\n",
       "      <td>NaN</td>\n",
       "      <td>Firmy</td>\n",
       "      <td>G 350</td>\n",
       "      <td>Szary</td>\n",
       "      <td>4x4 (stały)</td>\n",
       "    </tr>\n",
       "    <tr>\n",
       "      <th>2</th>\n",
       "      <td>6039268812</td>\n",
       "      <td>https://www.otomoto.pl/oferta/audi-a5-salon-po...</td>\n",
       "      <td>Audi</td>\n",
       "      <td>A5</td>\n",
       "      <td>Osobowe</td>\n",
       "      <td>2 000 cm3</td>\n",
       "      <td>4.0</td>\n",
       "      <td>Tak</td>\n",
       "      <td>8T (2007-2016)</td>\n",
       "      <td>Sedan</td>\n",
       "      <td>...</td>\n",
       "      <td>5.0</td>\n",
       "      <td>NaN</td>\n",
       "      <td>56 000 km</td>\n",
       "      <td>NaN</td>\n",
       "      <td>NaN</td>\n",
       "      <td>Tak</td>\n",
       "      <td>Osoby prywatnej</td>\n",
       "      <td>NaN</td>\n",
       "      <td>Czarny</td>\n",
       "      <td>Na przednie koła</td>\n",
       "    </tr>\n",
       "    <tr>\n",
       "      <th>3</th>\n",
       "      <td>6039269107</td>\n",
       "      <td>https://www.otomoto.pl/oferta/volkswagen-polo-...</td>\n",
       "      <td>Volkswagen</td>\n",
       "      <td>Polo</td>\n",
       "      <td>Osobowe</td>\n",
       "      <td>1 198 cm3</td>\n",
       "      <td>5.0</td>\n",
       "      <td>NaN</td>\n",
       "      <td>IV (2001-2009)</td>\n",
       "      <td>Auta miejskie</td>\n",
       "      <td>...</td>\n",
       "      <td>5.0</td>\n",
       "      <td>Tak</td>\n",
       "      <td>88 000 km</td>\n",
       "      <td>NaN</td>\n",
       "      <td>NaN</td>\n",
       "      <td>NaN</td>\n",
       "      <td>Osoby prywatnej</td>\n",
       "      <td>NaN</td>\n",
       "      <td>Srebrny</td>\n",
       "      <td>Na przednie koła</td>\n",
       "    </tr>\n",
       "    <tr>\n",
       "      <th>4</th>\n",
       "      <td>6038674457</td>\n",
       "      <td>https://www.otomoto.pl/oferta/peugeot-206-cc-w...</td>\n",
       "      <td>Peugeot</td>\n",
       "      <td>206 CC</td>\n",
       "      <td>Osobowe</td>\n",
       "      <td>1 997 cm3</td>\n",
       "      <td>4.0</td>\n",
       "      <td>NaN</td>\n",
       "      <td>NaN</td>\n",
       "      <td>Kabriolet</td>\n",
       "      <td>...</td>\n",
       "      <td>2.0</td>\n",
       "      <td>Tak</td>\n",
       "      <td>176 000 km</td>\n",
       "      <td>NaN</td>\n",
       "      <td>NaN</td>\n",
       "      <td>NaN</td>\n",
       "      <td>Osoby prywatnej</td>\n",
       "      <td>NaN</td>\n",
       "      <td>Srebrny</td>\n",
       "      <td>Na przednie koła</td>\n",
       "    </tr>\n",
       "  </tbody>\n",
       "</table>\n",
       "<p>5 rows × 39 columns</p>\n",
       "</div>"
      ],
      "text/plain": [
       "           id                                                url  \\\n",
       "0  6039269187  https://www.otomoto.pl/oferta/renault-fluence-...   \n",
       "1  6034090022  https://www.otomoto.pl/oferta/mercedes-benz-kl...   \n",
       "2  6039268812  https://www.otomoto.pl/oferta/audi-a5-salon-po...   \n",
       "3  6039269107  https://www.otomoto.pl/oferta/volkswagen-polo-...   \n",
       "4  6038674457  https://www.otomoto.pl/oferta/peugeot-206-cc-w...   \n",
       "\n",
       "   Marka pojazdu Model pojazdu Kategoria Pojemność skokowa  Liczba miejsc  \\\n",
       "0        Renault       Fluence   Osobowe         1 600 cm3            5.0   \n",
       "1  Mercedes-Benz       Klasa G   Osobowe         2 987 cm3            5.0   \n",
       "2           Audi            A5   Osobowe         2 000 cm3            4.0   \n",
       "3     Volkswagen          Polo   Osobowe         1 198 cm3            5.0   \n",
       "4        Peugeot        206 CC   Osobowe         1 997 cm3            4.0   \n",
       "\n",
       "  Zarejestrowany w Polsce          Wersja            Typ  ...  Liczba drzwi  \\\n",
       "0                     NaN             NaN          Sedan  ...           4.0   \n",
       "1                     Tak    W463 (1992-)            SUV  ...           5.0   \n",
       "2                     Tak  8T (2007-2016)          Sedan  ...           5.0   \n",
       "3                     NaN  IV (2001-2009)  Auta miejskie  ...           5.0   \n",
       "4                     NaN             NaN      Kabriolet  ...           2.0   \n",
       "\n",
       "  Metalik    Przebieg Akryl (niemetalizowany) Możliwość finansowania  \\\n",
       "0     NaN  172 000 km                     Tak                    NaN   \n",
       "1     Tak   52 904 km                     NaN                    Tak   \n",
       "2     NaN   56 000 km                     NaN                    NaN   \n",
       "3     Tak   88 000 km                     NaN                    NaN   \n",
       "4     Tak  176 000 km                     NaN                    NaN   \n",
       "\n",
       "  Uszkodzony        Oferta od Kod Silnika    Kolor             Napęd  \n",
       "0        NaN  Osoby prywatnej         NaN    Biały  Na przednie koła  \n",
       "1        NaN            Firmy       G 350    Szary       4x4 (stały)  \n",
       "2        Tak  Osoby prywatnej         NaN   Czarny  Na przednie koła  \n",
       "3        NaN  Osoby prywatnej         NaN  Srebrny  Na przednie koła  \n",
       "4        NaN  Osoby prywatnej         NaN  Srebrny  Na przednie koła  \n",
       "\n",
       "[5 rows x 39 columns]"
      ]
     },
     "execution_count": 24,
     "metadata": {},
     "output_type": "execute_result"
    }
   ],
   "source": [
    "df = df.drop(['Skrzynia biegów', 'Moc', 'Faktura VAT'], axis=1)\n",
    "df.head(5)"
   ]
  },
  {
   "cell_type": "code",
   "execution_count": 25,
   "metadata": {},
   "outputs": [],
   "source": [
    "df = df.rename(columns={\"Marka pojazdu\": \"marka\"})"
   ]
  },
  {
   "cell_type": "code",
   "execution_count": 26,
   "metadata": {},
   "outputs": [
    {
     "data": {
      "text/html": [
       "<div>\n",
       "<style scoped>\n",
       "    .dataframe tbody tr th:only-of-type {\n",
       "        vertical-align: middle;\n",
       "    }\n",
       "\n",
       "    .dataframe tbody tr th {\n",
       "        vertical-align: top;\n",
       "    }\n",
       "\n",
       "    .dataframe thead th {\n",
       "        text-align: right;\n",
       "    }\n",
       "</style>\n",
       "<table border=\"1\" class=\"dataframe\">\n",
       "  <thead>\n",
       "    <tr style=\"text-align: right;\">\n",
       "      <th></th>\n",
       "      <th>id</th>\n",
       "      <th>url</th>\n",
       "      <th>marka</th>\n",
       "      <th>Model pojazdu</th>\n",
       "      <th>Kategoria</th>\n",
       "      <th>Pojemność skokowa</th>\n",
       "      <th>Liczba miejsc</th>\n",
       "      <th>Zarejestrowany w Polsce</th>\n",
       "      <th>Wersja</th>\n",
       "      <th>Typ</th>\n",
       "      <th>...</th>\n",
       "      <th>Liczba drzwi</th>\n",
       "      <th>Metalik</th>\n",
       "      <th>Przebieg</th>\n",
       "      <th>Akryl (niemetalizowany)</th>\n",
       "      <th>Możliwość finansowania</th>\n",
       "      <th>Uszkodzony</th>\n",
       "      <th>Oferta od</th>\n",
       "      <th>Kod Silnika</th>\n",
       "      <th>Kolor</th>\n",
       "      <th>Napęd</th>\n",
       "    </tr>\n",
       "  </thead>\n",
       "  <tbody>\n",
       "    <tr>\n",
       "      <th>0</th>\n",
       "      <td>6039269187</td>\n",
       "      <td>https://www.otomoto.pl/oferta/renault-fluence-...</td>\n",
       "      <td>Renault</td>\n",
       "      <td>Fluence</td>\n",
       "      <td>Osobowe</td>\n",
       "      <td>1 600 cm3</td>\n",
       "      <td>5.0</td>\n",
       "      <td>NaN</td>\n",
       "      <td>NaN</td>\n",
       "      <td>Sedan</td>\n",
       "      <td>...</td>\n",
       "      <td>4.0</td>\n",
       "      <td>NaN</td>\n",
       "      <td>172 000 km</td>\n",
       "      <td>Tak</td>\n",
       "      <td>NaN</td>\n",
       "      <td>NaN</td>\n",
       "      <td>Osoby prywatnej</td>\n",
       "      <td>NaN</td>\n",
       "      <td>Biały</td>\n",
       "      <td>Na przednie koła</td>\n",
       "    </tr>\n",
       "    <tr>\n",
       "      <th>1</th>\n",
       "      <td>6034090022</td>\n",
       "      <td>https://www.otomoto.pl/oferta/mercedes-benz-kl...</td>\n",
       "      <td>Mercedes-Benz</td>\n",
       "      <td>Klasa G</td>\n",
       "      <td>Osobowe</td>\n",
       "      <td>2 987 cm3</td>\n",
       "      <td>5.0</td>\n",
       "      <td>Tak</td>\n",
       "      <td>W463 (1992-)</td>\n",
       "      <td>SUV</td>\n",
       "      <td>...</td>\n",
       "      <td>5.0</td>\n",
       "      <td>Tak</td>\n",
       "      <td>52 904 km</td>\n",
       "      <td>NaN</td>\n",
       "      <td>Tak</td>\n",
       "      <td>NaN</td>\n",
       "      <td>Firmy</td>\n",
       "      <td>G 350</td>\n",
       "      <td>Szary</td>\n",
       "      <td>4x4 (stały)</td>\n",
       "    </tr>\n",
       "    <tr>\n",
       "      <th>2</th>\n",
       "      <td>6039268812</td>\n",
       "      <td>https://www.otomoto.pl/oferta/audi-a5-salon-po...</td>\n",
       "      <td>Audi</td>\n",
       "      <td>A5</td>\n",
       "      <td>Osobowe</td>\n",
       "      <td>2 000 cm3</td>\n",
       "      <td>4.0</td>\n",
       "      <td>Tak</td>\n",
       "      <td>8T (2007-2016)</td>\n",
       "      <td>Sedan</td>\n",
       "      <td>...</td>\n",
       "      <td>5.0</td>\n",
       "      <td>NaN</td>\n",
       "      <td>56 000 km</td>\n",
       "      <td>NaN</td>\n",
       "      <td>NaN</td>\n",
       "      <td>Tak</td>\n",
       "      <td>Osoby prywatnej</td>\n",
       "      <td>NaN</td>\n",
       "      <td>Czarny</td>\n",
       "      <td>Na przednie koła</td>\n",
       "    </tr>\n",
       "    <tr>\n",
       "      <th>3</th>\n",
       "      <td>6039269107</td>\n",
       "      <td>https://www.otomoto.pl/oferta/volkswagen-polo-...</td>\n",
       "      <td>Volkswagen</td>\n",
       "      <td>Polo</td>\n",
       "      <td>Osobowe</td>\n",
       "      <td>1 198 cm3</td>\n",
       "      <td>5.0</td>\n",
       "      <td>NaN</td>\n",
       "      <td>IV (2001-2009)</td>\n",
       "      <td>Auta miejskie</td>\n",
       "      <td>...</td>\n",
       "      <td>5.0</td>\n",
       "      <td>Tak</td>\n",
       "      <td>88 000 km</td>\n",
       "      <td>NaN</td>\n",
       "      <td>NaN</td>\n",
       "      <td>NaN</td>\n",
       "      <td>Osoby prywatnej</td>\n",
       "      <td>NaN</td>\n",
       "      <td>Srebrny</td>\n",
       "      <td>Na przednie koła</td>\n",
       "    </tr>\n",
       "    <tr>\n",
       "      <th>4</th>\n",
       "      <td>6038674457</td>\n",
       "      <td>https://www.otomoto.pl/oferta/peugeot-206-cc-w...</td>\n",
       "      <td>Peugeot</td>\n",
       "      <td>206 CC</td>\n",
       "      <td>Osobowe</td>\n",
       "      <td>1 997 cm3</td>\n",
       "      <td>4.0</td>\n",
       "      <td>NaN</td>\n",
       "      <td>NaN</td>\n",
       "      <td>Kabriolet</td>\n",
       "      <td>...</td>\n",
       "      <td>2.0</td>\n",
       "      <td>Tak</td>\n",
       "      <td>176 000 km</td>\n",
       "      <td>NaN</td>\n",
       "      <td>NaN</td>\n",
       "      <td>NaN</td>\n",
       "      <td>Osoby prywatnej</td>\n",
       "      <td>NaN</td>\n",
       "      <td>Srebrny</td>\n",
       "      <td>Na przednie koła</td>\n",
       "    </tr>\n",
       "  </tbody>\n",
       "</table>\n",
       "<p>5 rows × 39 columns</p>\n",
       "</div>"
      ],
      "text/plain": [
       "           id                                                url  \\\n",
       "0  6039269187  https://www.otomoto.pl/oferta/renault-fluence-...   \n",
       "1  6034090022  https://www.otomoto.pl/oferta/mercedes-benz-kl...   \n",
       "2  6039268812  https://www.otomoto.pl/oferta/audi-a5-salon-po...   \n",
       "3  6039269107  https://www.otomoto.pl/oferta/volkswagen-polo-...   \n",
       "4  6038674457  https://www.otomoto.pl/oferta/peugeot-206-cc-w...   \n",
       "\n",
       "           marka Model pojazdu Kategoria Pojemność skokowa  Liczba miejsc  \\\n",
       "0        Renault       Fluence   Osobowe         1 600 cm3            5.0   \n",
       "1  Mercedes-Benz       Klasa G   Osobowe         2 987 cm3            5.0   \n",
       "2           Audi            A5   Osobowe         2 000 cm3            4.0   \n",
       "3     Volkswagen          Polo   Osobowe         1 198 cm3            5.0   \n",
       "4        Peugeot        206 CC   Osobowe         1 997 cm3            4.0   \n",
       "\n",
       "  Zarejestrowany w Polsce          Wersja            Typ  ...  Liczba drzwi  \\\n",
       "0                     NaN             NaN          Sedan  ...           4.0   \n",
       "1                     Tak    W463 (1992-)            SUV  ...           5.0   \n",
       "2                     Tak  8T (2007-2016)          Sedan  ...           5.0   \n",
       "3                     NaN  IV (2001-2009)  Auta miejskie  ...           5.0   \n",
       "4                     NaN             NaN      Kabriolet  ...           2.0   \n",
       "\n",
       "  Metalik    Przebieg Akryl (niemetalizowany) Możliwość finansowania  \\\n",
       "0     NaN  172 000 km                     Tak                    NaN   \n",
       "1     Tak   52 904 km                     NaN                    Tak   \n",
       "2     NaN   56 000 km                     NaN                    NaN   \n",
       "3     Tak   88 000 km                     NaN                    NaN   \n",
       "4     Tak  176 000 km                     NaN                    NaN   \n",
       "\n",
       "  Uszkodzony        Oferta od Kod Silnika    Kolor             Napęd  \n",
       "0        NaN  Osoby prywatnej         NaN    Biały  Na przednie koła  \n",
       "1        NaN            Firmy       G 350    Szary       4x4 (stały)  \n",
       "2        Tak  Osoby prywatnej         NaN   Czarny  Na przednie koła  \n",
       "3        NaN  Osoby prywatnej         NaN  Srebrny  Na przednie koła  \n",
       "4        NaN  Osoby prywatnej         NaN  Srebrny  Na przednie koła  \n",
       "\n",
       "[5 rows x 39 columns]"
      ]
     },
     "execution_count": 26,
     "metadata": {},
     "output_type": "execute_result"
    }
   ],
   "source": [
    "df.head(5)"
   ]
  },
  {
   "cell_type": "code",
   "execution_count": 27,
   "metadata": {},
   "outputs": [
    {
     "data": {
      "text/plain": [
       "(51186, 39)"
      ]
     },
     "execution_count": 27,
     "metadata": {},
     "output_type": "execute_result"
    }
   ],
   "source": [
    "df.shape"
   ]
  },
  {
   "cell_type": "markdown",
   "metadata": {},
   "source": [
    "df.count()   "
   ]
  },
  {
   "cell_type": "code",
   "execution_count": 29,
   "metadata": {},
   "outputs": [],
   "source": [
    "df = df[['marka', 'price', 'Rok produkcji', 'Przebieg']]"
   ]
  },
  {
   "cell_type": "code",
   "execution_count": 30,
   "metadata": {},
   "outputs": [
    {
     "data": {
      "text/html": [
       "<div>\n",
       "<style scoped>\n",
       "    .dataframe tbody tr th:only-of-type {\n",
       "        vertical-align: middle;\n",
       "    }\n",
       "\n",
       "    .dataframe tbody tr th {\n",
       "        vertical-align: top;\n",
       "    }\n",
       "\n",
       "    .dataframe thead th {\n",
       "        text-align: right;\n",
       "    }\n",
       "</style>\n",
       "<table border=\"1\" class=\"dataframe\">\n",
       "  <thead>\n",
       "    <tr style=\"text-align: right;\">\n",
       "      <th></th>\n",
       "      <th>marka</th>\n",
       "      <th>price</th>\n",
       "      <th>Rok produkcji</th>\n",
       "      <th>Przebieg</th>\n",
       "    </tr>\n",
       "  </thead>\n",
       "  <tbody>\n",
       "    <tr>\n",
       "      <th>0</th>\n",
       "      <td>Renault</td>\n",
       "      <td>25900.0</td>\n",
       "      <td>2013.0</td>\n",
       "      <td>172 000 km</td>\n",
       "    </tr>\n",
       "    <tr>\n",
       "      <th>1</th>\n",
       "      <td>Mercedes-Benz</td>\n",
       "      <td>434900.0</td>\n",
       "      <td>2016.0</td>\n",
       "      <td>52 904 km</td>\n",
       "    </tr>\n",
       "    <tr>\n",
       "      <th>2</th>\n",
       "      <td>Audi</td>\n",
       "      <td>41900.0</td>\n",
       "      <td>2011.0</td>\n",
       "      <td>56 000 km</td>\n",
       "    </tr>\n",
       "    <tr>\n",
       "      <th>3</th>\n",
       "      <td>Volkswagen</td>\n",
       "      <td>14900.0</td>\n",
       "      <td>2007.0</td>\n",
       "      <td>88 000 km</td>\n",
       "    </tr>\n",
       "    <tr>\n",
       "      <th>4</th>\n",
       "      <td>Peugeot</td>\n",
       "      <td>5900.0</td>\n",
       "      <td>2001.0</td>\n",
       "      <td>176 000 km</td>\n",
       "    </tr>\n",
       "    <tr>\n",
       "      <th>5</th>\n",
       "      <td>Volkswagen</td>\n",
       "      <td>7900.0</td>\n",
       "      <td>2003.0</td>\n",
       "      <td>300 000 km</td>\n",
       "    </tr>\n",
       "    <tr>\n",
       "      <th>6</th>\n",
       "      <td>BMW</td>\n",
       "      <td>9800.0</td>\n",
       "      <td>2002.0</td>\n",
       "      <td>301 000 km</td>\n",
       "    </tr>\n",
       "    <tr>\n",
       "      <th>7</th>\n",
       "      <td>Audi</td>\n",
       "      <td>98900.0</td>\n",
       "      <td>2013.0</td>\n",
       "      <td>155 400 km</td>\n",
       "    </tr>\n",
       "    <tr>\n",
       "      <th>8</th>\n",
       "      <td>Hyundai</td>\n",
       "      <td>14480.0</td>\n",
       "      <td>2004.0</td>\n",
       "      <td>124 500 km</td>\n",
       "    </tr>\n",
       "    <tr>\n",
       "      <th>9</th>\n",
       "      <td>Volkswagen</td>\n",
       "      <td>64900.0</td>\n",
       "      <td>2014.0</td>\n",
       "      <td>95 100 km</td>\n",
       "    </tr>\n",
       "  </tbody>\n",
       "</table>\n",
       "</div>"
      ],
      "text/plain": [
       "           marka     price  Rok produkcji    Przebieg\n",
       "0        Renault   25900.0         2013.0  172 000 km\n",
       "1  Mercedes-Benz  434900.0         2016.0   52 904 km\n",
       "2           Audi   41900.0         2011.0   56 000 km\n",
       "3     Volkswagen   14900.0         2007.0   88 000 km\n",
       "4        Peugeot    5900.0         2001.0  176 000 km\n",
       "5     Volkswagen    7900.0         2003.0  300 000 km\n",
       "6            BMW    9800.0         2002.0  301 000 km\n",
       "7           Audi   98900.0         2013.0  155 400 km\n",
       "8        Hyundai   14480.0         2004.0  124 500 km\n",
       "9     Volkswagen   64900.0         2014.0   95 100 km"
      ]
     },
     "execution_count": 30,
     "metadata": {},
     "output_type": "execute_result"
    }
   ],
   "source": [
    "df.head(10)"
   ]
  },
  {
   "cell_type": "markdown",
   "metadata": {},
   "source": [
    "## Oczyszczanie"
   ]
  },
  {
   "cell_type": "code",
   "execution_count": 39,
   "metadata": {},
   "outputs": [
    {
     "data": {
      "text/plain": [
       "marka            470\n",
       "price              1\n",
       "Rok produkcji    470\n",
       "Przebieg         576\n",
       "dtype: int64"
      ]
     },
     "execution_count": 39,
     "metadata": {},
     "output_type": "execute_result"
    }
   ],
   "source": [
    "df.isna().sum()"
   ]
  },
  {
   "cell_type": "code",
   "execution_count": 40,
   "metadata": {},
   "outputs": [],
   "source": [
    "df = df.dropna()"
   ]
  },
  {
   "cell_type": "code",
   "execution_count": 41,
   "metadata": {},
   "outputs": [
    {
     "data": {
      "text/plain": [
       "marka             object\n",
       "price            float64\n",
       "Rok produkcji    float64\n",
       "Przebieg          object\n",
       "dtype: object"
      ]
     },
     "execution_count": 41,
     "metadata": {},
     "output_type": "execute_result"
    }
   ],
   "source": [
    "df.dtypes"
   ]
  },
  {
   "cell_type": "code",
   "execution_count": 42,
   "metadata": {},
   "outputs": [],
   "source": [
    "def clear_millage(millage_as_str):\n",
    "    \n",
    "    return int(str(millage_as_str)\n",
    "               .replace('km', '')\n",
    "               .replace(' ', '')\n",
    "           )\n",
    "\n",
    "assert clear_millage('172 000 km') == 172000"
   ]
  },
  {
   "cell_type": "code",
   "execution_count": 43,
   "metadata": {},
   "outputs": [],
   "source": [
    "df['Przebieg_as_int'] = df.Przebieg.apply(clear_millage) "
   ]
  },
  {
   "cell_type": "code",
   "execution_count": 44,
   "metadata": {},
   "outputs": [
    {
     "data": {
      "text/plain": [
       "marka              50610\n",
       "price              50610\n",
       "Rok produkcji      50610\n",
       "Przebieg           50610\n",
       "Przebieg_as_int    50610\n",
       "dtype: int64"
      ]
     },
     "execution_count": 44,
     "metadata": {},
     "output_type": "execute_result"
    }
   ],
   "source": [
    "df.count()"
   ]
  },
  {
   "cell_type": "code",
   "execution_count": 45,
   "metadata": {},
   "outputs": [
    {
     "data": {
      "text/plain": [
       "199000.0"
      ]
     },
     "execution_count": 45,
     "metadata": {},
     "output_type": "execute_result"
    }
   ],
   "source": [
    "df['price'].quantile(q=0.95)"
   ]
  },
  {
   "cell_type": "code",
   "execution_count": 46,
   "metadata": {},
   "outputs": [
    {
     "data": {
      "text/plain": [
       "500.0"
      ]
     },
     "execution_count": 46,
     "metadata": {},
     "output_type": "execute_result"
    }
   ],
   "source": [
    "df['price'].quantile(q=0.00)"
   ]
  },
  {
   "cell_type": "code",
   "execution_count": 47,
   "metadata": {},
   "outputs": [],
   "source": [
    "df.count()\n",
    "df = df[df['price'] < df['price'].quantile(q=0.95)]"
   ]
  },
  {
   "cell_type": "code",
   "execution_count": 48,
   "metadata": {},
   "outputs": [
    {
     "data": {
      "text/plain": [
       "<AxesSubplot:xlabel='price'>"
      ]
     },
     "execution_count": 48,
     "metadata": {},
     "output_type": "execute_result"
    },
    {
     "data": {
      "image/png": "[encoded data removed]",
      "text/plain": [
       "<Figure size 432x288 with 1 Axes>"
      ]
     },
     "metadata": {},
     "output_type": "display_data"
    }
   ],
   "source": [
    "sns.boxplot(x=df['price'])"
   ]
  },
  {
   "cell_type": "code",
   "execution_count": 49,
   "metadata": {},
   "outputs": [
    {
     "data": {
      "image/png": "[encoded data removed]",
      "text/plain": [
       "<Figure size 720x360 with 1 Axes>"
      ]
     },
     "metadata": {},
     "output_type": "display_data"
    }
   ],
   "source": [
    "df.marka.value_counts().nlargest(40).plot(kind='bar', figsize=(10,5))\n",
    "plt.title(\"Number of cars by make\")\n",
    "plt.ylabel('Number of cars')\n",
    "plt.xlabel('Make');"
   ]
  },
  {
   "cell_type": "code",
   "execution_count": 50,
   "metadata": {},
   "outputs": [
    {
     "data": {
      "image/png": "[encoded data removed]",
      "text/plain": [
       "<Figure size 720x432 with 1 Axes>"
      ]
     },
     "metadata": {},
     "output_type": "display_data"
    }
   ],
   "source": [
    "fig, ax = plt.subplots(figsize=(10,6))\n",
    "ax.scatter(df['Rok produkcji'], df['price'])\n",
    "ax.set_xlabel('Rok produkcju')\n",
    "ax.set_ylabel('cena')\n",
    "plt.show()"
   ]
  },
  {
   "cell_type": "code",
   "execution_count": 52,
   "metadata": {},
   "outputs": [
    {
     "name": "stdout",
     "output_type": "stream",
     "text": [
      "Collecting sklearn\n",
      "  Using cached sklearn-0.0.tar.gz (1.1 kB)\n",
      "  Preparing metadata (setup.py) ... \u001b[?25ldone\n",
      "\u001b[?25hCollecting scikit-learn\n",
      "  Downloading scikit_learn-1.0.1-cp39-cp39-macosx_10_13_x86_64.whl (8.0 MB)\n",
      "     |████████████████████████████████| 8.0 MB 2.4 MB/s            \n",
      "\u001b[?25hCollecting joblib>=0.11\n",
      "  Downloading joblib-1.1.0-py2.py3-none-any.whl (306 kB)\n",
      "     |████████████████████████████████| 306 kB 11.6 MB/s            \n",
      "\u001b[?25hRequirement already satisfied: scipy>=1.1.0 in /Users/jkanclerz/myplace/dydaktyka/przetwarzanie-dokumnetow/data-science-workshop-2021/.venv/lib/python3.9/site-packages (from scikit-learn->sklearn) (1.7.2)\n",
      "Collecting threadpoolctl>=2.0.0\n",
      "  Downloading threadpoolctl-3.0.0-py3-none-any.whl (14 kB)\n",
      "Requirement already satisfied: numpy>=1.14.6 in /Users/jkanclerz/myplace/dydaktyka/przetwarzanie-dokumnetow/data-science-workshop-2021/.venv/lib/python3.9/site-packages (from scikit-learn->sklearn) (1.21.4)\n",
      "Using legacy 'setup.py install' for sklearn, since package 'wheel' is not installed.\n",
      "Installing collected packages: threadpoolctl, joblib, scikit-learn, sklearn\n",
      "    Running setup.py install for sklearn ... \u001b[?25ldone\n",
      "\u001b[?25hSuccessfully installed joblib-1.1.0 scikit-learn-1.0.1 sklearn-0.0 threadpoolctl-3.0.0\n",
      "Note: you may need to restart the kernel to use updated packages.\n"
     ]
    }
   ],
   "source": [
    "pip install sklearn"
   ]
  },
  {
   "cell_type": "code",
   "execution_count": 53,
   "metadata": {},
   "outputs": [],
   "source": [
    "from sklearn.model_selection import train_test_split"
   ]
  },
  {
   "cell_type": "code",
   "execution_count": 54,
   "metadata": {},
   "outputs": [
    {
     "data": {
      "text/plain": [
       "Index(['marka', 'price', 'Rok produkcji', 'Przebieg', 'Przebieg_as_int'], dtype='object')"
      ]
     },
     "execution_count": 54,
     "metadata": {},
     "output_type": "execute_result"
    }
   ],
   "source": [
    "df.columns"
   ]
  },
  {
   "cell_type": "code",
   "execution_count": 62,
   "metadata": {},
   "outputs": [],
   "source": [
    "df = df.drop(columns=['marka', 'Przebieg'])"
   ]
  },
  {
   "cell_type": "code",
   "execution_count": 63,
   "metadata": {},
   "outputs": [
    {
     "data": {
      "text/html": [
       "<div>\n",
       "<style scoped>\n",
       "    .dataframe tbody tr th:only-of-type {\n",
       "        vertical-align: middle;\n",
       "    }\n",
       "\n",
       "    .dataframe tbody tr th {\n",
       "        vertical-align: top;\n",
       "    }\n",
       "\n",
       "    .dataframe thead th {\n",
       "        text-align: right;\n",
       "    }\n",
       "</style>\n",
       "<table border=\"1\" class=\"dataframe\">\n",
       "  <thead>\n",
       "    <tr style=\"text-align: right;\">\n",
       "      <th></th>\n",
       "      <th>price</th>\n",
       "      <th>Rok produkcji</th>\n",
       "      <th>Przebieg_as_int</th>\n",
       "    </tr>\n",
       "  </thead>\n",
       "  <tbody>\n",
       "    <tr>\n",
       "      <th>0</th>\n",
       "      <td>25900.0</td>\n",
       "      <td>2013.0</td>\n",
       "      <td>172000</td>\n",
       "    </tr>\n",
       "    <tr>\n",
       "      <th>2</th>\n",
       "      <td>41900.0</td>\n",
       "      <td>2011.0</td>\n",
       "      <td>56000</td>\n",
       "    </tr>\n",
       "    <tr>\n",
       "      <th>3</th>\n",
       "      <td>14900.0</td>\n",
       "      <td>2007.0</td>\n",
       "      <td>88000</td>\n",
       "    </tr>\n",
       "    <tr>\n",
       "      <th>4</th>\n",
       "      <td>5900.0</td>\n",
       "      <td>2001.0</td>\n",
       "      <td>176000</td>\n",
       "    </tr>\n",
       "    <tr>\n",
       "      <th>5</th>\n",
       "      <td>7900.0</td>\n",
       "      <td>2003.0</td>\n",
       "      <td>300000</td>\n",
       "    </tr>\n",
       "    <tr>\n",
       "      <th>...</th>\n",
       "      <td>...</td>\n",
       "      <td>...</td>\n",
       "      <td>...</td>\n",
       "    </tr>\n",
       "    <tr>\n",
       "      <th>51180</th>\n",
       "      <td>10900.0</td>\n",
       "      <td>2001.0</td>\n",
       "      <td>230000</td>\n",
       "    </tr>\n",
       "    <tr>\n",
       "      <th>51181</th>\n",
       "      <td>13555.0</td>\n",
       "      <td>2005.0</td>\n",
       "      <td>160700</td>\n",
       "    </tr>\n",
       "    <tr>\n",
       "      <th>51182</th>\n",
       "      <td>136000.0</td>\n",
       "      <td>2013.0</td>\n",
       "      <td>128486</td>\n",
       "    </tr>\n",
       "    <tr>\n",
       "      <th>51183</th>\n",
       "      <td>54900.0</td>\n",
       "      <td>2018.0</td>\n",
       "      <td>5</td>\n",
       "    </tr>\n",
       "    <tr>\n",
       "      <th>51184</th>\n",
       "      <td>15900.0</td>\n",
       "      <td>2009.0</td>\n",
       "      <td>139000</td>\n",
       "    </tr>\n",
       "  </tbody>\n",
       "</table>\n",
       "<p>48057 rows × 3 columns</p>\n",
       "</div>"
      ],
      "text/plain": [
       "          price  Rok produkcji  Przebieg_as_int\n",
       "0       25900.0         2013.0           172000\n",
       "2       41900.0         2011.0            56000\n",
       "3       14900.0         2007.0            88000\n",
       "4        5900.0         2001.0           176000\n",
       "5        7900.0         2003.0           300000\n",
       "...         ...            ...              ...\n",
       "51180   10900.0         2001.0           230000\n",
       "51181   13555.0         2005.0           160700\n",
       "51182  136000.0         2013.0           128486\n",
       "51183   54900.0         2018.0                5\n",
       "51184   15900.0         2009.0           139000\n",
       "\n",
       "[48057 rows x 3 columns]"
      ]
     },
     "execution_count": 63,
     "metadata": {},
     "output_type": "execute_result"
    }
   ],
   "source": [
    "df"
   ]
  },
  {
   "cell_type": "code",
   "execution_count": 64,
   "metadata": {},
   "outputs": [],
   "source": [
    "train_df, test_df = train_test_split(\n",
    "    df, \n",
    "    test_size=0.1\n",
    ")"
   ]
  },
  {
   "cell_type": "code",
   "execution_count": 65,
   "metadata": {},
   "outputs": [],
   "source": [
    "X_train = train_df[['Rok produkcji', 'Przebieg_as_int']]"
   ]
  },
  {
   "cell_type": "code",
   "execution_count": 66,
   "metadata": {},
   "outputs": [],
   "source": [
    "y_train = train_df['price']"
   ]
  },
  {
   "cell_type": "code",
   "execution_count": 67,
   "metadata": {},
   "outputs": [],
   "source": [
    "X_test = test_df[['Rok produkcji', 'Przebieg_as_int']]"
   ]
  },
  {
   "cell_type": "code",
   "execution_count": 73,
   "metadata": {},
   "outputs": [],
   "source": [
    "y_test = test_df['price']"
   ]
  },
  {
   "cell_type": "code",
   "execution_count": 57,
   "metadata": {},
   "outputs": [],
   "source": [
    "from sklearn.linear_model import LinearRegression"
   ]
  },
  {
   "cell_type": "code",
   "execution_count": 68,
   "metadata": {},
   "outputs": [],
   "source": [
    "model = LinearRegression()"
   ]
  },
  {
   "cell_type": "code",
   "execution_count": 69,
   "metadata": {},
   "outputs": [
    {
     "data": {
      "text/plain": [
       "LinearRegression()"
      ]
     },
     "execution_count": 69,
     "metadata": {},
     "output_type": "execute_result"
    }
   ],
   "source": [
    "model.fit(X_train, y_train)"
   ]
  },
  {
   "cell_type": "code",
   "execution_count": 70,
   "metadata": {},
   "outputs": [
    {
     "data": {
      "text/plain": [
       "0.43778357103649956"
      ]
     },
     "execution_count": 70,
     "metadata": {},
     "output_type": "execute_result"
    }
   ],
   "source": [
    "model.score(X_train, y_train)"
   ]
  },
  {
   "cell_type": "code",
   "execution_count": 71,
   "metadata": {},
   "outputs": [
    {
     "data": {
      "text/plain": [
       "array([ 3.44810792e+03, -6.68204441e-02])"
      ]
     },
     "execution_count": 71,
     "metadata": {},
     "output_type": "execute_result"
    }
   ],
   "source": [
    "model.coef_"
   ]
  },
  {
   "cell_type": "code",
   "execution_count": 74,
   "metadata": {},
   "outputs": [
    {
     "data": {
      "text/plain": [
       "0.43732466656882163"
      ]
     },
     "execution_count": 74,
     "metadata": {},
     "output_type": "execute_result"
    }
   ],
   "source": [
    "model.score(X_test, y_test)"
   ]
  },
  {
   "cell_type": "code",
   "execution_count": 76,
   "metadata": {},
   "outputs": [
    {
     "data": {
      "text/html": [
       "<div>\n",
       "<style scoped>\n",
       "    .dataframe tbody tr th:only-of-type {\n",
       "        vertical-align: middle;\n",
       "    }\n",
       "\n",
       "    .dataframe tbody tr th {\n",
       "        vertical-align: top;\n",
       "    }\n",
       "\n",
       "    .dataframe thead th {\n",
       "        text-align: right;\n",
       "    }\n",
       "</style>\n",
       "<table border=\"1\" class=\"dataframe\">\n",
       "  <thead>\n",
       "    <tr style=\"text-align: right;\">\n",
       "      <th></th>\n",
       "      <th>Rok produkcji</th>\n",
       "      <th>Przebieg_as_int</th>\n",
       "    </tr>\n",
       "  </thead>\n",
       "  <tbody>\n",
       "    <tr>\n",
       "      <th>16770</th>\n",
       "      <td>2004.0</td>\n",
       "      <td>156000</td>\n",
       "    </tr>\n",
       "    <tr>\n",
       "      <th>4872</th>\n",
       "      <td>2018.0</td>\n",
       "      <td>7</td>\n",
       "    </tr>\n",
       "    <tr>\n",
       "      <th>48293</th>\n",
       "      <td>2004.0</td>\n",
       "      <td>4444</td>\n",
       "    </tr>\n",
       "    <tr>\n",
       "      <th>5422</th>\n",
       "      <td>2017.0</td>\n",
       "      <td>4999</td>\n",
       "    </tr>\n",
       "    <tr>\n",
       "      <th>29352</th>\n",
       "      <td>1999.0</td>\n",
       "      <td>360000</td>\n",
       "    </tr>\n",
       "  </tbody>\n",
       "</table>\n",
       "</div>"
      ],
      "text/plain": [
       "       Rok produkcji  Przebieg_as_int\n",
       "16770         2004.0           156000\n",
       "4872          2018.0                7\n",
       "48293         2004.0             4444\n",
       "5422          2017.0             4999\n",
       "29352         1999.0           360000"
      ]
     },
     "execution_count": 76,
     "metadata": {},
     "output_type": "execute_result"
    }
   ],
   "source": [
    "X_test.head()"
   ]
  },
  {
   "cell_type": "code",
   "execution_count": 78,
   "metadata": {},
   "outputs": [
    {
     "ename": "AttributeError",
     "evalue": "module 'pandas' has no attribute 'df'",
     "output_type": "error",
     "traceback": [
      "\u001b[0;31m---------------------------------------------------------------------------\u001b[0m",
      "\u001b[0;31mAttributeError\u001b[0m                            Traceback (most recent call last)",
      "\u001b[0;32m/var/folders/j0/p37k07nj23b114ppnwfsj45m0000gn/T/ipykernel_3326/811237217.py\u001b[0m in \u001b[0;36m<module>\u001b[0;34m\u001b[0m\n\u001b[0;32m----> 1\u001b[0;31m \u001b[0mmodel\u001b[0m\u001b[0;34m.\u001b[0m\u001b[0mpredict\u001b[0m\u001b[0;34m(\u001b[0m\u001b[0mpd\u001b[0m\u001b[0;34m.\u001b[0m\u001b[0mdf\u001b[0m\u001b[0;34m(\u001b[0m\u001b[0;34m[\u001b[0m\u001b[0;34m(\u001b[0m\u001b[0;36m2000\u001b[0m\u001b[0;34m,\u001b[0m \u001b[0;36m182000\u001b[0m\u001b[0;34m)\u001b[0m\u001b[0;34m]\u001b[0m\u001b[0;34m,\u001b[0m \u001b[0mcolumns\u001b[0m\u001b[0;34m=\u001b[0m\u001b[0;34m[\u001b[0m\u001b[0;34m'Rok produkcji'\u001b[0m\u001b[0;34m,\u001b[0m \u001b[0;34m'Przebieg_as_int'\u001b[0m\u001b[0;34m]\u001b[0m\u001b[0;34m)\u001b[0m\u001b[0;34m)\u001b[0m\u001b[0;34m\u001b[0m\u001b[0;34m\u001b[0m\u001b[0m\n\u001b[0m",
      "\u001b[0;32m~/myplace/dydaktyka/przetwarzanie-dokumnetow/data-science-workshop-2021/.venv/lib/python3.9/site-packages/pandas/__init__.py\u001b[0m in \u001b[0;36m__getattr__\u001b[0;34m(name)\u001b[0m\n\u001b[1;32m    242\u001b[0m         \u001b[0;32mreturn\u001b[0m \u001b[0m_SparseArray\u001b[0m\u001b[0;34m\u001b[0m\u001b[0;34m\u001b[0m\u001b[0m\n\u001b[1;32m    243\u001b[0m \u001b[0;34m\u001b[0m\u001b[0m\n\u001b[0;32m--> 244\u001b[0;31m     \u001b[0;32mraise\u001b[0m \u001b[0mAttributeError\u001b[0m\u001b[0;34m(\u001b[0m\u001b[0;34mf\"module 'pandas' has no attribute '{name}'\"\u001b[0m\u001b[0;34m)\u001b[0m\u001b[0;34m\u001b[0m\u001b[0;34m\u001b[0m\u001b[0m\n\u001b[0m\u001b[1;32m    245\u001b[0m \u001b[0;34m\u001b[0m\u001b[0m\n\u001b[1;32m    246\u001b[0m \u001b[0;34m\u001b[0m\u001b[0m\n",
      "\u001b[0;31mAttributeError\u001b[0m: module 'pandas' has no attribute 'df'"
     ]
    }
   ],
   "source": [
    "model.predict(pd.df([(2000, 182000)], columns=['Rok produkcji', 'Przebieg_as_int']))"
   ]
  },
  {
   "cell_type": "code",
   "execution_count": null,
   "metadata": {},
   "outputs": [],
   "source": []
  }
 ],
 "metadata": {
  "kernelspec": {
   "display_name": "Python 3 (ipykernel)",
   "language": "python",
   "name": "python3"
  },
  "language_info": {
   "codemirror_mode": {
    "name": "ipython",
    "version": 3
   },
   "file_extension": ".py",
   "mimetype": "text/x-python",
   "name": "python",
   "nbconvert_exporter": "python",
   "pygments_lexer": "ipython3",
   "version": "3.9.8"
  }
 },
 "nbformat": 4,
 "nbformat_minor": 2
}
