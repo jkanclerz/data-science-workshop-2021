{
 "cells": [
  {
   "cell_type": "markdown",
   "metadata": {},
   "source": [
    "[![Open In Colab](https://colab.research.google.com/assets/colab-badge.svg)](https://githubtocolab.com/jkanclerz/data-science-workshop-2021/blob/main/01--edi/01--datatypes.ipynb)"
   ]
  },
  {
   "cell_type": "markdown",
   "metadata": {
    "collapsed": true
   },
   "source": [
    "## Dane\n",
    "\n",
    "### Structured data\n",
    "* Dane ustrukturyzowane\n",
    "* Usystematyzowane zgodnie z zadanym schematem\n",
    "* Dobrze zorganizowane\n",
    "* Restrykcyjne reguły walidacji\n",
    "* Łatwa manipulacja, syszukiwanie, porównywanie modyfikacja\n",
    "\n",
    "### Semi structured data\n",
    "* Zorganizowane w grupy / kategorie \n",
    "* Elementy kolekcji mogą się wewnetrznie różnić\n",
    "* Posiadają wspólne cechy\n",
    "* Email (nadawca, odbiorca, lista załączników?, tekst?)\n",
    "\n",
    "### Unstructured data\n",
    "* Zawierają dane, tj liczby, fakty.\n",
    "* Trudne do usystematyzowania\n",
    "* Posty, korespondencja, dane cyfrowe, nagrania audio / video\n",
    "* Potrzeba ustrukturyzowania do dalszej analizy\n",
    "\n",
    "## Typy danych\n",
    "### primitywne\n",
    "\n",
    "    * Nulls\n",
    "    * Boolean (true / false) (0,1)\n",
    "    * Numbers\n",
    "        * Integer -> 13 != [0.5, sqrt(2), math.pi, math.e]\n",
    "\t\t* python\n",
    "\t\t\t* int (no separations)\n",
    "\t\t* Java\n",
    "\t\t\t* byte(8 bit), short, int, long(64 bit)\n",
    "        * Decimal -> 13.00\n",
    "\t\t* python \n",
    "\t\t\tfloat\n",
    "\t\t* Java\n",
    "\t\t\t* float(32), double (64)\n",
    "    * Character\n",
    "    * Strings\n",
    "\t- \"ala ma kota\"\n",
    "    * Binnary\n",
    "    * Large Objects (LOB)\n",
    "    * Datetime\n",
    " "
   ]
  },
  {
   "cell_type": "markdown",
   "metadata": {},
   "source": [
    "### Typy danych python\n",
    "[https://docs.python.org/3/library/stdtypes.html](https://docs.python.org/3/library/stdtypes.html)\n",
    "\n",
    "    * Nulls\n",
    "    * Numbers\n",
    "        * Integer -> 13 [0.5, sqrt(2), math.pi, math.e]\n",
    "        * Decimal -> 13.00\n",
    "    * Strings\n",
    "    * Binnary\n",
    "    * Large Objects (LOB)\n",
    "    * Datetime\n",
    "    "
   ]
  },
  {
   "cell_type": "markdown",
   "metadata": {},
   "source": [
    "### Python typy - test"
   ]
  },
  {
   "cell_type": "code",
   "execution_count": 11,
   "metadata": {},
   "outputs": [
    {
     "name": "stdout",
     "output_type": "stream",
     "text": [
      "value: 1 -> type: int\n",
      "value: 1.0 -> type: float\n",
      "value: 3.141592653589793 -> type: float\n",
      "value: 1.4142135623730951 -> type: float\n",
      "value: 2.5 -> type: float\n",
      "value: (1+2j) -> type: complex\n",
      "value: (2+4j) -> type: complex\n",
      "value: 5.522557130248187e+43 -> type: float\n",
      "value: 5.5e+43 -> type: float\n"
     ]
    }
   ],
   "source": [
    "import math\n",
    "\n",
    "types = [\n",
    "    1,\n",
    "    1.0,\n",
    "    math.pi,\n",
    "    math.sqrt(2),\n",
    "    float('2.5'),\n",
    "    1 + 2j,\n",
    "    complex(2, 4),\n",
    "    math.exp(100.72),\n",
    "    5.5e+43\n",
    "]\n",
    "\n",
    "for data_type in types:\n",
    "    print(\"value: {} -> type: {}\".format(data_type, type(data_type).__name__))"
   ]
  },
  {
   "cell_type": "code",
   "execution_count": 12,
   "metadata": {},
   "outputs": [
    {
     "data": {
      "text/plain": [
       "'u'"
      ]
     },
     "execution_count": 12,
     "metadata": {},
     "output_type": "execute_result"
    }
   ],
   "source": [
    "1 + 2\n",
    "\"2\" + \"2\"\n",
    "\"Jakub\"[3]"
   ]
  },
  {
   "cell_type": "markdown",
   "metadata": {},
   "source": [
    "### Operacje na niezgodnych typach"
   ]
  },
  {
   "cell_type": "code",
   "execution_count": 14,
   "metadata": {},
   "outputs": [
    {
     "ename": "TypeError",
     "evalue": "unsupported operand type(s) for +: 'int' and 'str'",
     "output_type": "error",
     "traceback": [
      "\u001b[0;31m---------------------------------------------------------------------------\u001b[0m",
      "\u001b[0;31mTypeError\u001b[0m                                 Traceback (most recent call last)",
      "\u001b[0;32m/var/folders/j0/p37k07nj23b114ppnwfsj45m0000gn/T/ipykernel_334/97446544.py\u001b[0m in \u001b[0;36m<module>\u001b[0;34m\u001b[0m\n\u001b[0;32m----> 1\u001b[0;31m \u001b[0;36m2\u001b[0m \u001b[0;34m+\u001b[0m \u001b[0;34m\"2\"\u001b[0m\u001b[0;34m\u001b[0m\u001b[0;34m\u001b[0m\u001b[0m\n\u001b[0m",
      "\u001b[0;31mTypeError\u001b[0m: unsupported operand type(s) for +: 'int' and 'str'"
     ]
    }
   ],
   "source": [
    "2 + \"2\"\n"
   ]
  },
  {
   "cell_type": "markdown",
   "metadata": {},
   "source": [
    "### Złożone struktury danych"
   ]
  },
  {
   "cell_type": "markdown",
   "metadata": {},
   "source": [
    "(non primitive datastructure)\n",
    "\n",
    "Kolekcja?! -> Collection \n",
    "\t* JAVA\n",
    "\t\tadd, clear, contains, isEmpty, iterate, size\n",
    "\tQueue, List, Set, \n",
    "\thttps://docs.oracle.com/javase/8/docs/api/java/util/HashSet.html\n",
    "* Linear\n",
    "  * Array\n",
    "  * Lists\n",
    "  * Tuple\n",
    "  * Dictionary\n",
    "  * Set\n",
    "  * Stack\n",
    "  * Queue\n",
    "* non linear\n",
    "  * Tree\n",
    "  * Graphs\n",
    "\n",
    "* File"
   ]
  },
  {
   "cell_type": "code",
   "execution_count": 16,
   "metadata": {},
   "outputs": [
    {
     "name": "stdout",
     "output_type": "stream",
     "text": [
      "value: (1, 2, '4') -> type: tuple\n",
      "value: [1, 2, 3, 2, 2] -> type: list\n",
      "value: {1, 2} -> type: set\n",
      "value: {1, 2} -> type: set\n",
      "value: {'cat': 'kot', 'dog': 'pies'} -> type: dict\n",
      "value: {'A': {'B': 'C'}, 'D': ['123', '456']} -> type: dict\n"
     ]
    }
   ],
   "source": [
    "types = [\n",
    "    (1, 2, \"4\"), #single, double, triple, quadr-uple, quintuple, ... n-tuple\n",
    "    [1, 2, 3, 2, 2],\n",
    "    {1, 2, 2, 2},\n",
    "    set([1, 2, 2, 2]),\n",
    "    {\"cat\": \"kot\", \"dog\": \"pies\"},\n",
    "    {'A': {\"B\": \"C\"}, \"D\": ['123', '456']}\n",
    "]\n",
    "\n",
    "for data_type in types:\n",
    "    print(\"value: {} -> type: {}\".format(data_type, type(data_type).__name__))"
   ]
  }
 ],
 "metadata": {
  "kernelspec": {
   "display_name": "Python 3 (ipykernel)",
   "language": "python",
   "name": "python3"
  },
  "language_info": {
   "codemirror_mode": {
    "name": "ipython",
    "version": 3
   },
   "file_extension": ".py",
   "mimetype": "text/x-python",
   "name": "python",
   "nbconvert_exporter": "python",
   "pygments_lexer": "ipython3",
   "version": "3.9.8"
  }
 },
 "nbformat": 4,
 "nbformat_minor": 1
}
