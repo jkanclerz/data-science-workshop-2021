{
 "cells": [
  {
   "cell_type": "markdown",
   "metadata": {},
   "source": [
    "[![Open In Colab](https://colab.research.google.com/assets/colab-badge.svg)](https://githubtocolab.com/jkanclerz/data-science-workshop-2021/blob/main/01--edi/05--xlsx.ipynb)"
   ]
  },
  {
   "cell_type": "markdown",
   "metadata": {},
   "source": [
    "EXCEL\n",
    "======\n",
    "\n",
    "- https://dane.gov.pl/dataset/1076\n",
    "\n",
    "Excel jaki jest kazdy widzi\n",
    "\n",
    "- https://dane.gov.pl/dataset/1076/resource/21226\n",
    "- https://uek-krakow.s3-eu-west-1.amazonaws.com/data-science/datasets/covid-rogalski.xlsx"
   ]
  },
  {
   "cell_type": "code",
   "execution_count": 9,
   "metadata": {},
   "outputs": [
    {
     "name": "stdout",
     "output_type": "stream",
     "text": [
      "--2021-11-19 10:46:57--  https://uek-krakow.s3-eu-west-1.amazonaws.com/data-science/datasets/covid-rogalski.xlsx\n",
      "Resolving uek-krakow.s3-eu-west-1.amazonaws.com (uek-krakow.s3-eu-west-1.amazonaws.com)... 52.218.120.178\n",
      "Connecting to uek-krakow.s3-eu-west-1.amazonaws.com (uek-krakow.s3-eu-west-1.amazonaws.com)|52.218.120.178|:443... connected.\n",
      "HTTP request sent, awaiting response... 200 OK\n",
      "Length: 1006452 (983K) [application/vnd.openxmlformats-officedocument.spreadsheetml.sheet]\n",
      "Saving to: ‘covid-rogalski.xlsx.2’\n",
      "\n",
      "covid-rogalski.xlsx 100%[===================>] 982.86K   495KB/s    in 2.0s    \n",
      "\n",
      "2021-11-19 10:47:00 (495 KB/s) - ‘covid-rogalski.xlsx.2’ saved [1006452/1006452]\n",
      "\n"
     ]
    }
   ],
   "source": [
    "!wget https://uek-krakow.s3-eu-west-1.amazonaws.com/data-science/datasets/covid-rogalski.xlsx"
   ]
  },
  {
   "cell_type": "code",
   "execution_count": 5,
   "metadata": {},
   "outputs": [
    {
     "name": "stdout",
     "output_type": "stream",
     "text": [
      "Collecting openpyxl\n",
      "  Downloading openpyxl-3.0.9-py2.py3-none-any.whl (242 kB)\n",
      "     |████████████████████████████████| 242 kB 2.0 MB/s            \n",
      "\u001b[?25hCollecting et-xmlfile\n",
      "  Downloading et_xmlfile-1.1.0-py3-none-any.whl (4.7 kB)\n",
      "Installing collected packages: et-xmlfile, openpyxl\n",
      "Successfully installed et-xmlfile-1.1.0 openpyxl-3.0.9\n",
      "Note: you may need to restart the kernel to use updated packages.\n"
     ]
    }
   ],
   "source": [
    "pip install openpyxl"
   ]
  },
  {
   "cell_type": "code",
   "execution_count": 42,
   "metadata": {},
   "outputs": [],
   "source": [
    "from openpyxl import load_workbook\n",
    "from pprint import pprint as pp\n",
    "\n",
    "filepath = 'covid-rogalski.xlsx'\n",
    "\n",
    "def parse_file(datafile):\n",
    "    workbook = load_workbook(datafile, data_only=True)\n",
    "    return workbook\n",
    "\n",
    "excel = parse_file(filepath)"
   ]
  },
  {
   "cell_type": "code",
   "execution_count": 43,
   "metadata": {},
   "outputs": [
    {
     "data": {
      "text/plain": [
       "['Informacje o arkuszu (0)',\n",
       " 'Wzrost',\n",
       " 'Aktualna sytuacja w Polsce',\n",
       " 'Testy',\n",
       " ' Testy w województwach',\n",
       " 'Wzrost w województwach',\n",
       " 'Wzrost w powiatach',\n",
       " 'Województwa - wykresy',\n",
       " 'Sytuacja epidemiczna',\n",
       " 'Sytuacja epidemiczna w wojewódz',\n",
       " 'Informacje o zgonach do 09.10',\n",
       " 'Inne']"
      ]
     },
     "execution_count": 43,
     "metadata": {},
     "output_type": "execute_result"
    }
   ],
   "source": [
    "excel.sheetnames"
   ]
  },
  {
   "cell_type": "code",
   "execution_count": 44,
   "metadata": {},
   "outputs": [
    {
     "name": "stdout",
     "output_type": "stream",
     "text": [
      "Columns count 23\n",
      "Row count 108\n"
     ]
    }
   ],
   "source": [
    "sheet = excel['Aktualna sytuacja w Polsce']\n",
    "\n",
    "print(\"Columns count {}\".format(sheet.max_column))\n",
    "print(\"Row count {}\".format(sheet.max_row))"
   ]
  },
  {
   "cell_type": "code",
   "execution_count": 45,
   "metadata": {},
   "outputs": [
    {
     "name": "stdout",
     "output_type": "stream",
     "text": [
      "'Polska Lubuskie'\n"
     ]
    }
   ],
   "source": [
    "pp(\"Polska {}\".format(sheet.cell(18, 2).value))"
   ]
  },
  {
   "cell_type": "code",
   "execution_count": 57,
   "metadata": {},
   "outputs": [],
   "source": [
    "districts = [sheet.cell(i, 2).value for i in range(3,18)]"
   ]
  },
  {
   "cell_type": "code",
   "execution_count": 76,
   "metadata": {},
   "outputs": [],
   "source": [
    "confirmed = [sheet.cell(i, 3).value for i in range(3,18)]\n",
    "active = [sheet.cell(i, 7).value for i in range(3,18)]\n",
    "deaths = [sheet.cell(i, 4).value for i in range(3,18)]"
   ]
  },
  {
   "cell_type": "code",
   "execution_count": 77,
   "metadata": {},
   "outputs": [],
   "source": [
    "data = zip(districts, confirmed, active, deaths)"
   ]
  },
  {
   "cell_type": "code",
   "execution_count": 78,
   "metadata": {},
   "outputs": [
    {
     "data": {
      "text/plain": [
       "[('Śląskie', 114028, 60253, 1709),\n",
       " ('Mazowieckie', 99835, 39212, 1551),\n",
       " ('Małopolskie', 86282, 29362, 1420),\n",
       " ('Wielkopolskie', 82345, 59650, 1155),\n",
       " ('Dolnośląskie', 59434, 30027, 832),\n",
       " ('Łódzkie', 55806, 31962, 666),\n",
       " ('Kujawsko-Pomorskie', 46487, 32098, 457),\n",
       " ('Podkarpackie', 45492, 20641, 895),\n",
       " ('Pomorskie', 45870, 25439, 620),\n",
       " ('Lubelskie', 41586, 16962, 705),\n",
       " ('Zachodniopomorskie', 29318, 18950, 270),\n",
       " ('Świętokrzyskie', 26037, 16729, 442),\n",
       " ('Opolskie', 24177, 13025, 481),\n",
       " ('Podlaskie', 21359, 13666, 336),\n",
       " ('Warmińsko-Mazurskie', 23722, 13808, 305)]"
      ]
     },
     "execution_count": 78,
     "metadata": {},
     "output_type": "execute_result"
    }
   ],
   "source": [
    "list(data)"
   ]
  },
  {
   "cell_type": "code",
   "execution_count": null,
   "metadata": {},
   "outputs": [],
   "source": []
  }
 ],
 "metadata": {
  "kernelspec": {
   "display_name": "Python 3 (ipykernel)",
   "language": "python",
   "name": "python3"
  },
  "language_info": {
   "codemirror_mode": {
    "name": "ipython",
    "version": 3
   },
   "file_extension": ".py",
   "mimetype": "text/x-python",
   "name": "python",
   "nbconvert_exporter": "python",
   "pygments_lexer": "ipython3",
   "version": "3.9.8"
  }
 },
 "nbformat": 4,
 "nbformat_minor": 2
}
