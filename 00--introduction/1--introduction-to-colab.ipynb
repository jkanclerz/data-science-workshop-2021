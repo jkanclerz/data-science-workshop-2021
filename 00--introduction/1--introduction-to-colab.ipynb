{
 "cells": [
  {
   "cell_type": "markdown",
   "id": "da2c13b3",
   "metadata": {},
   "source": [
    "[![Open In Colab](https://colab.research.google.com/assets/colab-badge.svg)](https://githubtocolab.com/jkanclerz/data-science-workshop-2021/blob/main/00--introduction/1--introduction-to-colab.ipynb)"
   ]
  },
  {
   "cell_type": "markdown",
   "id": "9e36e60c",
   "metadata": {},
   "source": [
    "## Nawigacja\n",
    "\n",
    "* ``ESC`` tryb wydawania poleceń\n",
    "* ``a`` *above* dodaj komórkę na górze \n",
    "* ``b`` *below* dodaj komórkę na dole\n",
    "* ``Shift + ENTER`` uruchom\n",
    "* ``⬆️`` w trybie poleceń przejdź do góry\n",
    "* ``⬇️`` w trybie poleceń przejdź do dołu"
   ]
  },
  {
   "cell_type": "markdown",
   "id": "30679c9c",
   "metadata": {},
   "source": [
    "## Definicja tekstu\n",
    "\n",
    "Język znaczników. Został stworzony w celu jak najbardziej uproszczonego tworzenia i formatowania tekstu\n",
    "\n",
    "[https://www.markdownguide.org/cheat-sheet/](https://www.markdownguide.org/cheat-sheet/)"
   ]
  },
  {
   "cell_type": "markdown",
   "id": "14aaf127",
   "metadata": {},
   "source": [
    "```markdown\n",
    "### Notatka 1, nagłówek 3 stopnia\n",
    "\n",
    "tresć notatki paragraf\n",
    "\n",
    "[https://uek.krakow.pl](https://uek.krakow.pl)\n",
    "\n",
    "[Uek piekna uczelnia](https://uek.krakow.pl)\n",
    "\n",
    "![obrazek ueku](https://sg-cdn.uek.krakow.pl/thumbnail/original/pages/9cbf57d5-e0eb-4902-90ea-5d1a2ec2d27d/20210520_135536.jpg, \"Uek budynek główny\")\n",
    "\n",
    "Lista:\n",
    "* a\n",
    "    * aa\n",
    "* b\n",
    "    * bb\n",
    "        * bbb\n",
    "```"
   ]
  },
  {
   "cell_type": "markdown",
   "id": "dd97d4f9",
   "metadata": {},
   "source": [
    "## Kod python"
   ]
  },
  {
   "cell_type": "code",
   "execution_count": null,
   "id": "9b3e452b",
   "metadata": {},
   "outputs": [],
   "source": [
    "print(\"Hello world\")"
   ]
  },
  {
   "cell_type": "code",
   "execution_count": null,
   "id": "9ff31040",
   "metadata": {},
   "outputs": [],
   "source": [
    "x = \"abc\""
   ]
  },
  {
   "cell_type": "code",
   "execution_count": null,
   "id": "5c550c87",
   "metadata": {},
   "outputs": [],
   "source": [
    "a,b,c = (1,2,3)"
   ]
  },
  {
   "cell_type": "code",
   "execution_count": null,
   "id": "b83e29b0",
   "metadata": {},
   "outputs": [],
   "source": [
    "a+b"
   ]
  },
  {
   "cell_type": "code",
   "execution_count": null,
   "id": "a4121e10",
   "metadata": {},
   "outputs": [],
   "source": [
    "assert a == 1"
   ]
  },
  {
   "cell_type": "code",
   "execution_count": null,
   "id": "7c87dd92",
   "metadata": {},
   "outputs": [],
   "source": [
    "assert b == 1"
   ]
  },
  {
   "cell_type": "code",
   "execution_count": null,
   "id": "51d182ea",
   "metadata": {},
   "outputs": [],
   "source": [
    "def sum_them(digit_1, digit_2):\n",
    "    return digit_1 + digit_2"
   ]
  },
  {
   "cell_type": "code",
   "execution_count": null,
   "id": "f061cb7f",
   "metadata": {},
   "outputs": [],
   "source": [
    "sum_them(a, b)"
   ]
  },
  {
   "cell_type": "code",
   "execution_count": null,
   "id": "49279903",
   "metadata": {},
   "outputs": [],
   "source": [
    "assert sum_them(a,b) == c"
   ]
  },
  {
   "cell_type": "code",
   "execution_count": null,
   "id": "629b053b",
   "metadata": {},
   "outputs": [],
   "source": [
    "import math"
   ]
  },
  {
   "cell_type": "code",
   "execution_count": null,
   "id": "24711650",
   "metadata": {},
   "outputs": [],
   "source": [
    "math.pi"
   ]
  },
  {
   "cell_type": "markdown",
   "id": "b1738568",
   "metadata": {},
   "source": [
    "## Polecenia powłoki bash (CLI)\n",
    "\n",
    "* lista plików ``ls`` *list*\n",
    "* zmiana nazwy / scieżki ``mv`` *move*\n",
    "* stworzenie katalogu  ``mkdir`` *make directory*\n",
    "* nawigacja po katalogach ``cd`` *change directory*\n",
    "* usunięcie pliku / katalogu ``rm`` *remove*\n",
    "* wyświetl zawartość pliku ``cat`` *concatenate*\n",
    "\n",
    "```bash\n",
    "!mkdir -p foo/moo/boo/zoo\n",
    "!echo \"Hello world\" > foo/moo/boo/zoo/hello.txt\n",
    "!echo \"Hello world 2\" > foo/moo/boo/zoo/hello_2.txt\n",
    "!ls -l foo/moo/boo/zoo\n",
    "!cat foo/moo/boo/zoo/hello.txt\n",
    "!cat foo/moo/boo/zoo/hello.txt foo/moo/boo/zoo/hello_2.txt\n",
    "!rm -rf foo\n",
    "```"
   ]
  },
  {
   "cell_type": "code",
   "execution_count": null,
   "id": "9f8c8e04",
   "metadata": {},
   "outputs": [],
   "source": []
  }
 ],
 "metadata": {
  "kernelspec": {
   "display_name": "Python 3 (ipykernel)",
   "language": "python",
   "name": "python3"
  },
  "language_info": {
   "codemirror_mode": {
    "name": "ipython",
    "version": 3
   },
   "file_extension": ".py",
   "mimetype": "text/x-python",
   "name": "python",
   "nbconvert_exporter": "python",
   "pygments_lexer": "ipython3",
   "version": "3.9.8"
  }
 },
 "nbformat": 4,
 "nbformat_minor": 5
}
