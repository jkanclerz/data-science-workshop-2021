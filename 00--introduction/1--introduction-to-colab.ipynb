{
 "cells": [
  {
   "cell_type": "markdown",
   "id": "59ecfbba",
   "metadata": {},
   "source": [
    "[![Open In Colab](https://colab.research.google.com/assets/colab-badge.svg)](https://githubtocolab.com/jkanclerz/data-science-workshop-2021/00--introduction/1--introduction-to-colab.ipynb)"
   ]
  },
  {
   "cell_type": "markdown",
   "id": "304ef078",
   "metadata": {},
   "source": [
    "## Definicja tekstu\n",
    "\n",
    "Język znaczników. Został stworzony w celu jak najbardziej uproszczonego tworzenia i formatowania tekstu\n",
    "\n",
    "[https://www.markdownguide.org/cheat-sheet/](https://www.markdownguide.org/cheat-sheet/)"
   ]
  },
  {
   "cell_type": "markdown",
   "id": "f0a09805",
   "metadata": {},
   "source": [
    "```markdown\n",
    "### Notatka 1, nagłówek 3 stopnia\n",
    "\n",
    "tresć notatki paragraf\n",
    "\n",
    "[https://uek.krakow.pl](https://uek.krakow.pl)\n",
    "\n",
    "[Uek piekna uczelnia](https://uek.krakow.pl)\n",
    "\n",
    "![obrazek ueku](https://sg-cdn.uek.krakow.pl/thumbnail/original/pages/9cbf57d5-e0eb-4902-90ea-5d1a2ec2d27d/20210520_135536.jpg, \"Uek budynek główny\")\n",
    "\n",
    "Lista:\n",
    "* a\n",
    "    * aa\n",
    "* b\n",
    "    * bb\n",
    "        * bbb\n",
    "```"
   ]
  },
  {
   "cell_type": "markdown",
   "id": "f1e97a4a",
   "metadata": {},
   "source": [
    "## Kod python"
   ]
  },
  {
   "cell_type": "code",
   "execution_count": null,
   "id": "93515884",
   "metadata": {},
   "outputs": [],
   "source": [
    "print(\"Hello world\")"
   ]
  },
  {
   "cell_type": "code",
   "execution_count": null,
   "id": "09714254",
   "metadata": {},
   "outputs": [],
   "source": [
    "x = \"abc\""
   ]
  },
  {
   "cell_type": "code",
   "execution_count": null,
   "id": "275e8808",
   "metadata": {},
   "outputs": [],
   "source": [
    "a,b,c = (1,2,3)"
   ]
  },
  {
   "cell_type": "code",
   "execution_count": null,
   "id": "59914ab6",
   "metadata": {},
   "outputs": [],
   "source": [
    "a+b"
   ]
  },
  {
   "cell_type": "code",
   "execution_count": null,
   "id": "e1562e1f",
   "metadata": {},
   "outputs": [],
   "source": [
    "assert a == 1"
   ]
  },
  {
   "cell_type": "code",
   "execution_count": null,
   "id": "2a1f4a9a",
   "metadata": {},
   "outputs": [],
   "source": [
    "assert b == 1"
   ]
  },
  {
   "cell_type": "code",
   "execution_count": null,
   "id": "e4371fa8",
   "metadata": {},
   "outputs": [],
   "source": [
    "def sum_them(digit_1, digit_2):\n",
    "    return digit_1 + digit_2"
   ]
  },
  {
   "cell_type": "code",
   "execution_count": null,
   "id": "f4c99987",
   "metadata": {},
   "outputs": [],
   "source": [
    "sum_them(a, b)"
   ]
  },
  {
   "cell_type": "code",
   "execution_count": null,
   "id": "0935495b",
   "metadata": {},
   "outputs": [],
   "source": [
    "assert sum_them(a,b) == c"
   ]
  },
  {
   "cell_type": "code",
   "execution_count": null,
   "id": "72563006",
   "metadata": {},
   "outputs": [],
   "source": [
    "import math"
   ]
  },
  {
   "cell_type": "code",
   "execution_count": null,
   "id": "295534e4",
   "metadata": {},
   "outputs": [],
   "source": [
    "math.pi"
   ]
  },
  {
   "cell_type": "markdown",
   "id": "43637911",
   "metadata": {},
   "source": [
    "## Polecenia powłoki bash (CLI)\n",
    "\n",
    "* lista plików ``ls`` *list*\n",
    "* zmiana nazwy / scieżki ``mv`` *move*\n",
    "* stworzenie katalogu  ``mkdir`` *make directory*\n",
    "* nawigacja po katalogach ``cd`` *change directory*\n",
    "* usunięcie pliku / katalogu ``rm`` *remove*\n",
    "* wyświetl zawartość pliku ``cat`` *concatenate*\n",
    "\n",
    "```bash\n",
    "!mkdir -p foo/moo/boo/zoo\n",
    "!echo \"Hello world\" > foo/moo/boo/zoo/hello.txt\n",
    "!echo \"Hello world 2\" > foo/moo/boo/zoo/hello_2.txt\n",
    "!ls -l foo/moo/boo/zoo\n",
    "!cat foo/moo/boo/zoo/hello.txt\n",
    "!cat foo/moo/boo/zoo/hello.txt foo/moo/boo/zoo/hello_2.txt\n",
    "!rm -rf foo\n",
    "```"
   ]
  },
  {
   "cell_type": "code",
   "execution_count": null,
   "id": "02daed21",
   "metadata": {},
   "outputs": [],
   "source": []
  }
 ],
 "metadata": {
  "kernelspec": {
   "display_name": "Python 3 (ipykernel)",
   "language": "python",
   "name": "python3"
  },
  "language_info": {
   "codemirror_mode": {
    "name": "ipython",
    "version": 3
   },
   "file_extension": ".py",
   "mimetype": "text/x-python",
   "name": "python",
   "nbconvert_exporter": "python",
   "pygments_lexer": "ipython3",
   "version": "3.9.8"
  }
 },
 "nbformat": 4,
 "nbformat_minor": 5
}
